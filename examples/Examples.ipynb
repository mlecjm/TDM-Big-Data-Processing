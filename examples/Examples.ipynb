{
 "cells": [
  {
   "cell_type": "markdown",
   "id": "7745c2f2",
   "metadata": {},
   "source": [
    "# Examples\n",
    "\n",
    "* Complex numbers\n",
    "  * Absolute value\n",
    "* Evenly spaced numbers\n",
    "* Mean\n",
    "  * Arithmetic mean\n",
    "  * Geometric mean\n",
    "  * Harmonic mean\n",
    "* Classification"
   ]
  },
  {
   "cell_type": "markdown",
   "id": "72e9c185",
   "metadata": {},
   "source": [
    "## Complex Numbers\n",
    "\n",
    "A complex number $z$ is represented by $z = x + j* y$, where $x$ and $y$ are real numbers."
   ]
  },
  {
   "cell_type": "code",
   "execution_count": 1,
   "id": "a2c075ff",
   "metadata": {},
   "outputs": [
    {
     "name": "stdout",
     "output_type": "stream",
     "text": [
      "0j\n"
     ]
    }
   ],
   "source": [
    "c1 = complex(0, 0)\n",
    "\n",
    "print(c1)"
   ]
  },
  {
   "cell_type": "code",
   "execution_count": 2,
   "id": "3c22d052",
   "metadata": {},
   "outputs": [
    {
     "name": "stdout",
     "output_type": "stream",
     "text": [
      "(2+3j)\n"
     ]
    }
   ],
   "source": [
    "x = 2\n",
    "y = 3\n",
    "c2 = complex(x, y)\n",
    "\n",
    "print(c2)"
   ]
  },
  {
   "cell_type": "markdown",
   "id": "f4721a68",
   "metadata": {},
   "source": [
    "### Absolute value\n",
    "\n",
    "Absolute value of a complex number $z  = x + j* y$ is obtained by the formula $\\sqrt {(x^2 + y^2)}$"
   ]
  },
  {
   "cell_type": "code",
   "execution_count": 3,
   "id": "55361d5a",
   "metadata": {},
   "outputs": [
    {
     "name": "stdout",
     "output_type": "stream",
     "text": [
      "3.605551275463989\n"
     ]
    }
   ],
   "source": [
    "from math import sqrt\n",
    "\n",
    "absc2 = sqrt(x**2 + y**2)\n",
    "print(absc2)"
   ]
  },
  {
   "cell_type": "markdown",
   "id": "a55d7e4f",
   "metadata": {},
   "source": [
    "Another way is to use the function $abs()$."
   ]
  },
  {
   "cell_type": "code",
   "execution_count": 4,
   "id": "fd80f3e3",
   "metadata": {},
   "outputs": [
    {
     "name": "stdout",
     "output_type": "stream",
     "text": [
      "3.605551275463989\n"
     ]
    }
   ],
   "source": [
    "absc2 = abs(c2)\n",
    "print(absc2)"
   ]
  },
  {
   "cell_type": "code",
   "execution_count": 5,
   "id": "a21c65b7",
   "metadata": {},
   "outputs": [
    {
     "name": "stdout",
     "output_type": "stream",
     "text": [
      "0.0\n"
     ]
    }
   ],
   "source": [
    "absc1 = abs(c1)\n",
    "print(absc1)"
   ]
  },
  {
   "cell_type": "markdown",
   "id": "79020cdd",
   "metadata": {},
   "source": [
    "## Evenly spaced numbers"
   ]
  },
  {
   "cell_type": "code",
   "execution_count": 6,
   "id": "a5a3fbff",
   "metadata": {},
   "outputs": [
    {
     "data": {
      "text/plain": [
       "array([1., 2., 3., 4., 5.])"
      ]
     },
     "execution_count": 6,
     "metadata": {},
     "output_type": "execute_result"
    }
   ],
   "source": [
    "import numpy as np\n",
    "\n",
    "np.linspace(1.0, 5.0, num=5)"
   ]
  },
  {
   "cell_type": "code",
   "execution_count": 7,
   "id": "237c0856",
   "metadata": {},
   "outputs": [
    {
     "data": {
      "text/plain": [
       "array([1.        , 1.44444444, 1.88888889, 2.33333333, 2.77777778,\n",
       "       3.22222222, 3.66666667, 4.11111111, 4.55555556, 5.        ])"
      ]
     },
     "execution_count": 7,
     "metadata": {},
     "output_type": "execute_result"
    }
   ],
   "source": [
    "import numpy as np\n",
    "\n",
    "np.linspace(1.0, 5.0, num=10)"
   ]
  },
  {
   "cell_type": "markdown",
   "id": "d8afff45",
   "metadata": {},
   "source": [
    "# Mean"
   ]
  },
  {
   "cell_type": "markdown",
   "id": "cad1e7ed",
   "metadata": {},
   "source": [
    "## Arithmetic mean"
   ]
  },
  {
   "cell_type": "markdown",
   "id": "e176c2e9",
   "metadata": {},
   "source": [
    "If  $a_1, a_2, \\ldots, a_n$ are numbers, then the arithmetic mean is obtained by: \n",
    "\n",
    "$$A=\\frac{1}{n}\\sum_{i=1}^n a_i=\\frac{a_1+a_2+\\cdots+a_n}{n}$$"
   ]
  },
  {
   "cell_type": "code",
   "execution_count": 8,
   "id": "85b81b4e",
   "metadata": {},
   "outputs": [
    {
     "name": "stdout",
     "output_type": "stream",
     "text": [
      "50.5\n"
     ]
    }
   ],
   "source": [
    "num = np.linspace(1.0, 100.0, num=100)\n",
    "\n",
    "a = np.mean(num)\n",
    "print(a)"
   ]
  },
  {
   "cell_type": "markdown",
   "id": "a1e9048f",
   "metadata": {},
   "source": [
    "## Geometric Mean"
   ]
  },
  {
   "cell_type": "markdown",
   "id": "b98dcd67",
   "metadata": {},
   "source": [
    "If  $a_1, a_2, \\ldots, a_n$ are numbers, then the arithmetic mean is obtained by: \n",
    "\n",
    "$$\\left(\\prod_{i=1}^n a_i\\right)^\\frac{1}{n} = \\sqrt[n]{a_1 a_2 \\cdots a_n}$$"
   ]
  },
  {
   "cell_type": "code",
   "execution_count": 9,
   "id": "4d6f19fa",
   "metadata": {},
   "outputs": [
    {
     "name": "stdout",
     "output_type": "stream",
     "text": [
      "37.992689344834304\n"
     ]
    }
   ],
   "source": [
    "from scipy.stats import gmean\n",
    "\n",
    "g = gmean(num)\n",
    "print(g)"
   ]
  },
  {
   "cell_type": "markdown",
   "id": "d6e6f3de",
   "metadata": {},
   "source": [
    "## Harmonic Mean"
   ]
  },
  {
   "cell_type": "markdown",
   "id": "e37c4706",
   "metadata": {},
   "source": [
    "If  $a_1, a_2, \\ldots, a_n$ are numbers, then the harmonic mean is obtained by: \n",
    "\n",
    "$$H = \\frac{n}{\\frac1{a_1} + \\frac1{a_2} + \\cdots + \\frac1{a_n}} = \\frac{n}{\\sum\\limits_{i=1}^n \\frac1{a_i}} = \\left(\\frac{\\sum\\limits_{i=1}^n a_i^{-1}}{n}\\right)^{-1}.$$"
   ]
  },
  {
   "cell_type": "code",
   "execution_count": 10,
   "id": "2ba017ce",
   "metadata": {},
   "outputs": [
    {
     "name": "stdout",
     "output_type": "stream",
     "text": [
      "19.277563597396004\n"
     ]
    }
   ],
   "source": [
    "from scipy.stats import hmean\n",
    "\n",
    "h = hmean(num)\n",
    "print(h)"
   ]
  },
  {
   "cell_type": "markdown",
   "id": "79b5fa9f",
   "metadata": {},
   "source": [
    "# Classification"
   ]
  },
  {
   "cell_type": "markdown",
   "id": "1016d431",
   "metadata": {},
   "source": [
    "## Understanding IRIS dataset"
   ]
  },
  {
   "cell_type": "code",
   "execution_count": 11,
   "id": "6a6ded12",
   "metadata": {},
   "outputs": [
    {
     "name": "stdout",
     "output_type": "stream",
     "text": [
      "0 setosa\n",
      "1 versicolor\n",
      "2 virginica\n"
     ]
    }
   ],
   "source": [
    "from sklearn.datasets import load_iris\n",
    "\n",
    "data = load_iris()\n",
    "\n",
    "# Target Classes and Names\n",
    "for target, name in enumerate(data.target_names):\n",
    "    print(target, name)"
   ]
  },
  {
   "cell_type": "code",
   "execution_count": 12,
   "id": "fd47b004",
   "metadata": {},
   "outputs": [
    {
     "name": "stdout",
     "output_type": "stream",
     "text": [
      "sepal length (cm)\n",
      "sepal width (cm)\n",
      "petal length (cm)\n",
      "petal width (cm)\n"
     ]
    }
   ],
   "source": [
    "# Features\n",
    "for feature in data.feature_names:\n",
    "    print(feature)"
   ]
  },
  {
   "cell_type": "code",
   "execution_count": 13,
   "id": "261d9491",
   "metadata": {},
   "outputs": [
    {
     "name": "stdout",
     "output_type": "stream",
     "text": [
      "Data size: 150\n"
     ]
    }
   ],
   "source": [
    "X = data.data\n",
    "Y = data.target\n",
    "\n",
    "print(f\"Data size: {len(X)}\")"
   ]
  },
  {
   "cell_type": "code",
   "execution_count": 14,
   "id": "0615e7e4",
   "metadata": {},
   "outputs": [
    {
     "name": "stdout",
     "output_type": "stream",
     "text": [
      " [5.1 3.5 1.4 0.2]: 0 (setosa)\n",
      " [4.9 3.  1.4 0.2]: 0 (setosa)\n",
      " [4.7 3.2 1.3 0.2]: 0 (setosa)\n",
      " [4.6 3.1 1.5 0.2]: 0 (setosa)\n",
      " [5.  3.6 1.4 0.2]: 0 (setosa)\n",
      " [5.4 3.9 1.7 0.4]: 0 (setosa)\n",
      " [4.6 3.4 1.4 0.3]: 0 (setosa)\n",
      " [5.  3.4 1.5 0.2]: 0 (setosa)\n",
      " [4.4 2.9 1.4 0.2]: 0 (setosa)\n",
      " [4.9 3.1 1.5 0.1]: 0 (setosa)\n",
      " [5.4 3.7 1.5 0.2]: 0 (setosa)\n",
      " [4.8 3.4 1.6 0.2]: 0 (setosa)\n",
      " [4.8 3.  1.4 0.1]: 0 (setosa)\n",
      " [4.3 3.  1.1 0.1]: 0 (setosa)\n",
      " [5.8 4.  1.2 0.2]: 0 (setosa)\n",
      " [5.7 4.4 1.5 0.4]: 0 (setosa)\n",
      " [5.4 3.9 1.3 0.4]: 0 (setosa)\n",
      " [5.1 3.5 1.4 0.3]: 0 (setosa)\n",
      " [5.7 3.8 1.7 0.3]: 0 (setosa)\n",
      " [5.1 3.8 1.5 0.3]: 0 (setosa)\n",
      " [5.4 3.4 1.7 0.2]: 0 (setosa)\n",
      " [5.1 3.7 1.5 0.4]: 0 (setosa)\n",
      " [4.6 3.6 1.  0.2]: 0 (setosa)\n",
      " [5.1 3.3 1.7 0.5]: 0 (setosa)\n",
      " [4.8 3.4 1.9 0.2]: 0 (setosa)\n",
      " [5.  3.  1.6 0.2]: 0 (setosa)\n",
      " [5.  3.4 1.6 0.4]: 0 (setosa)\n",
      " [5.2 3.5 1.5 0.2]: 0 (setosa)\n",
      " [5.2 3.4 1.4 0.2]: 0 (setosa)\n",
      " [4.7 3.2 1.6 0.2]: 0 (setosa)\n",
      " [4.8 3.1 1.6 0.2]: 0 (setosa)\n",
      " [5.4 3.4 1.5 0.4]: 0 (setosa)\n",
      " [5.2 4.1 1.5 0.1]: 0 (setosa)\n",
      " [5.5 4.2 1.4 0.2]: 0 (setosa)\n",
      " [4.9 3.1 1.5 0.2]: 0 (setosa)\n",
      " [5.  3.2 1.2 0.2]: 0 (setosa)\n",
      " [5.5 3.5 1.3 0.2]: 0 (setosa)\n",
      " [4.9 3.6 1.4 0.1]: 0 (setosa)\n",
      " [4.4 3.  1.3 0.2]: 0 (setosa)\n",
      " [5.1 3.4 1.5 0.2]: 0 (setosa)\n",
      " [5.  3.5 1.3 0.3]: 0 (setosa)\n",
      " [4.5 2.3 1.3 0.3]: 0 (setosa)\n",
      " [4.4 3.2 1.3 0.2]: 0 (setosa)\n",
      " [5.  3.5 1.6 0.6]: 0 (setosa)\n",
      " [5.1 3.8 1.9 0.4]: 0 (setosa)\n",
      " [4.8 3.  1.4 0.3]: 0 (setosa)\n",
      " [5.1 3.8 1.6 0.2]: 0 (setosa)\n",
      " [4.6 3.2 1.4 0.2]: 0 (setosa)\n",
      " [5.3 3.7 1.5 0.2]: 0 (setosa)\n",
      " [5.  3.3 1.4 0.2]: 0 (setosa)\n",
      " [7.  3.2 4.7 1.4]: 1 (versicolor)\n",
      " [6.4 3.2 4.5 1.5]: 1 (versicolor)\n",
      " [6.9 3.1 4.9 1.5]: 1 (versicolor)\n",
      " [5.5 2.3 4.  1.3]: 1 (versicolor)\n",
      " [6.5 2.8 4.6 1.5]: 1 (versicolor)\n",
      " [5.7 2.8 4.5 1.3]: 1 (versicolor)\n",
      " [6.3 3.3 4.7 1.6]: 1 (versicolor)\n",
      " [4.9 2.4 3.3 1. ]: 1 (versicolor)\n",
      " [6.6 2.9 4.6 1.3]: 1 (versicolor)\n",
      " [5.2 2.7 3.9 1.4]: 1 (versicolor)\n",
      " [5.  2.  3.5 1. ]: 1 (versicolor)\n",
      " [5.9 3.  4.2 1.5]: 1 (versicolor)\n",
      " [6.  2.2 4.  1. ]: 1 (versicolor)\n",
      " [6.1 2.9 4.7 1.4]: 1 (versicolor)\n",
      " [5.6 2.9 3.6 1.3]: 1 (versicolor)\n",
      " [6.7 3.1 4.4 1.4]: 1 (versicolor)\n",
      " [5.6 3.  4.5 1.5]: 1 (versicolor)\n",
      " [5.8 2.7 4.1 1. ]: 1 (versicolor)\n",
      " [6.2 2.2 4.5 1.5]: 1 (versicolor)\n",
      " [5.6 2.5 3.9 1.1]: 1 (versicolor)\n",
      " [5.9 3.2 4.8 1.8]: 1 (versicolor)\n",
      " [6.1 2.8 4.  1.3]: 1 (versicolor)\n",
      " [6.3 2.5 4.9 1.5]: 1 (versicolor)\n",
      " [6.1 2.8 4.7 1.2]: 1 (versicolor)\n",
      " [6.4 2.9 4.3 1.3]: 1 (versicolor)\n",
      " [6.6 3.  4.4 1.4]: 1 (versicolor)\n",
      " [6.8 2.8 4.8 1.4]: 1 (versicolor)\n",
      " [6.7 3.  5.  1.7]: 1 (versicolor)\n",
      " [6.  2.9 4.5 1.5]: 1 (versicolor)\n",
      " [5.7 2.6 3.5 1. ]: 1 (versicolor)\n",
      " [5.5 2.4 3.8 1.1]: 1 (versicolor)\n",
      " [5.5 2.4 3.7 1. ]: 1 (versicolor)\n",
      " [5.8 2.7 3.9 1.2]: 1 (versicolor)\n",
      " [6.  2.7 5.1 1.6]: 1 (versicolor)\n",
      " [5.4 3.  4.5 1.5]: 1 (versicolor)\n",
      " [6.  3.4 4.5 1.6]: 1 (versicolor)\n",
      " [6.7 3.1 4.7 1.5]: 1 (versicolor)\n",
      " [6.3 2.3 4.4 1.3]: 1 (versicolor)\n",
      " [5.6 3.  4.1 1.3]: 1 (versicolor)\n",
      " [5.5 2.5 4.  1.3]: 1 (versicolor)\n",
      " [5.5 2.6 4.4 1.2]: 1 (versicolor)\n",
      " [6.1 3.  4.6 1.4]: 1 (versicolor)\n",
      " [5.8 2.6 4.  1.2]: 1 (versicolor)\n",
      " [5.  2.3 3.3 1. ]: 1 (versicolor)\n",
      " [5.6 2.7 4.2 1.3]: 1 (versicolor)\n",
      " [5.7 3.  4.2 1.2]: 1 (versicolor)\n",
      " [5.7 2.9 4.2 1.3]: 1 (versicolor)\n",
      " [6.2 2.9 4.3 1.3]: 1 (versicolor)\n",
      " [5.1 2.5 3.  1.1]: 1 (versicolor)\n",
      " [5.7 2.8 4.1 1.3]: 1 (versicolor)\n",
      " [6.3 3.3 6.  2.5]: 2 (virginica)\n",
      " [5.8 2.7 5.1 1.9]: 2 (virginica)\n",
      " [7.1 3.  5.9 2.1]: 2 (virginica)\n",
      " [6.3 2.9 5.6 1.8]: 2 (virginica)\n",
      " [6.5 3.  5.8 2.2]: 2 (virginica)\n",
      " [7.6 3.  6.6 2.1]: 2 (virginica)\n",
      " [4.9 2.5 4.5 1.7]: 2 (virginica)\n",
      " [7.3 2.9 6.3 1.8]: 2 (virginica)\n",
      " [6.7 2.5 5.8 1.8]: 2 (virginica)\n",
      " [7.2 3.6 6.1 2.5]: 2 (virginica)\n",
      " [6.5 3.2 5.1 2. ]: 2 (virginica)\n",
      " [6.4 2.7 5.3 1.9]: 2 (virginica)\n",
      " [6.8 3.  5.5 2.1]: 2 (virginica)\n",
      " [5.7 2.5 5.  2. ]: 2 (virginica)\n",
      " [5.8 2.8 5.1 2.4]: 2 (virginica)\n",
      " [6.4 3.2 5.3 2.3]: 2 (virginica)\n",
      " [6.5 3.  5.5 1.8]: 2 (virginica)\n",
      " [7.7 3.8 6.7 2.2]: 2 (virginica)\n",
      " [7.7 2.6 6.9 2.3]: 2 (virginica)\n",
      " [6.  2.2 5.  1.5]: 2 (virginica)\n",
      " [6.9 3.2 5.7 2.3]: 2 (virginica)\n",
      " [5.6 2.8 4.9 2. ]: 2 (virginica)\n",
      " [7.7 2.8 6.7 2. ]: 2 (virginica)\n",
      " [6.3 2.7 4.9 1.8]: 2 (virginica)\n",
      " [6.7 3.3 5.7 2.1]: 2 (virginica)\n",
      " [7.2 3.2 6.  1.8]: 2 (virginica)\n",
      " [6.2 2.8 4.8 1.8]: 2 (virginica)\n",
      " [6.1 3.  4.9 1.8]: 2 (virginica)\n",
      " [6.4 2.8 5.6 2.1]: 2 (virginica)\n",
      " [7.2 3.  5.8 1.6]: 2 (virginica)\n",
      " [7.4 2.8 6.1 1.9]: 2 (virginica)\n",
      " [7.9 3.8 6.4 2. ]: 2 (virginica)\n",
      " [6.4 2.8 5.6 2.2]: 2 (virginica)\n",
      " [6.3 2.8 5.1 1.5]: 2 (virginica)\n",
      " [6.1 2.6 5.6 1.4]: 2 (virginica)\n",
      " [7.7 3.  6.1 2.3]: 2 (virginica)\n",
      " [6.3 3.4 5.6 2.4]: 2 (virginica)\n",
      " [6.4 3.1 5.5 1.8]: 2 (virginica)\n",
      " [6.  3.  4.8 1.8]: 2 (virginica)\n",
      " [6.9 3.1 5.4 2.1]: 2 (virginica)\n",
      " [6.7 3.1 5.6 2.4]: 2 (virginica)\n",
      " [6.9 3.1 5.1 2.3]: 2 (virginica)\n",
      " [5.8 2.7 5.1 1.9]: 2 (virginica)\n",
      " [6.8 3.2 5.9 2.3]: 2 (virginica)\n",
      " [6.7 3.3 5.7 2.5]: 2 (virginica)\n",
      " [6.7 3.  5.2 2.3]: 2 (virginica)\n",
      " [6.3 2.5 5.  1.9]: 2 (virginica)\n",
      " [6.5 3.  5.2 2. ]: 2 (virginica)\n",
      " [6.2 3.4 5.4 2.3]: 2 (virginica)\n",
      " [5.9 3.  5.1 1.8]: 2 (virginica)\n"
     ]
    }
   ],
   "source": [
    "# Printing the data\n",
    "\n",
    "for x, y in zip(X, Y):\n",
    "    print(f\" {x}: {y} ({data.target_names[y]})\")"
   ]
  },
  {
   "cell_type": "code",
   "execution_count": 15,
   "id": "51f95e2c",
   "metadata": {},
   "outputs": [
    {
     "name": "stdout",
     "output_type": "stream",
     "text": [
      "Training data size: 100\n",
      "Test data size: 50\n"
     ]
    }
   ],
   "source": [
    "from sklearn.model_selection import train_test_split\n",
    "\n",
    "# Random state ensures reproducibility\n",
    "X_train, X_test, Y_train, Y_test = train_test_split(\n",
    "    X, Y, test_size=0.33, random_state=42\n",
    ")\n",
    "\n",
    "print(f\"Training data size: {len(X_train)}\")\n",
    "print(f\"Test data size: {len(X_test)}\")"
   ]
  },
  {
   "cell_type": "code",
   "execution_count": 16,
   "id": "4e1cdd72",
   "metadata": {},
   "outputs": [],
   "source": [
    "from sklearn.metrics import ConfusionMatrixDisplay\n",
    "import matplotlib.pyplot as plot\n",
    "\n",
    "\n",
    "def display_confusion_matrix(classifier, title):\n",
    "    disp = ConfusionMatrixDisplay.from_estimator(\n",
    "        classifier,\n",
    "        X_test,\n",
    "        Y_test,\n",
    "        display_labels=data.target_names,\n",
    "        cmap=plot.cm.Blues,\n",
    "        normalize=\"true\",\n",
    "    )\n",
    "    disp.ax_.set_title(title)\n",
    "    plot.show()"
   ]
  },
  {
   "cell_type": "code",
   "execution_count": 17,
   "id": "d0f4768e",
   "metadata": {},
   "outputs": [
    {
     "name": "stdout",
     "output_type": "stream",
     "text": [
      "\n",
      "              precision    recall  f1-score   support\n",
      "\n",
      "           0       1.00      1.00      1.00        19\n",
      "           1       1.00      1.00      1.00        15\n",
      "           2       1.00      1.00      1.00        16\n",
      "\n",
      "    accuracy                           1.00        50\n",
      "   macro avg       1.00      1.00      1.00        50\n",
      "weighted avg       1.00      1.00      1.00        50\n",
      "\n"
     ]
    },
    {
     "data": {
      "image/png": "[encoded data removed]",
      "text/plain": [
       "<Figure size 640x480 with 2 Axes>"
      ]
     },
     "metadata": {},
     "output_type": "display_data"
    },
    {
     "name": "stdout",
     "output_type": "stream",
     "text": [
      "\n",
      "              precision    recall  f1-score   support\n",
      "\n",
      "           0       1.00      0.95      0.97        19\n",
      "           1       0.94      1.00      0.97        15\n",
      "           2       0.94      0.94      0.94        16\n",
      "\n",
      "    accuracy                           0.96        50\n",
      "   macro avg       0.96      0.96      0.96        50\n",
      "weighted avg       0.96      0.96      0.96        50\n",
      "\n"
     ]
    },
    {
     "data": {
      "image/png": "[encoded data removed]",
      "text/plain": [
       "<Figure size 640x480 with 2 Axes>"
      ]
     },
     "metadata": {},
     "output_type": "display_data"
    },
    {
     "name": "stdout",
     "output_type": "stream",
     "text": [
      "\n",
      "              precision    recall  f1-score   support\n",
      "\n",
      "           0       1.00      1.00      1.00        19\n",
      "           1       0.94      1.00      0.97        15\n",
      "           2       1.00      0.94      0.97        16\n",
      "\n",
      "    accuracy                           0.98        50\n",
      "   macro avg       0.98      0.98      0.98        50\n",
      "weighted avg       0.98      0.98      0.98        50\n",
      "\n"
     ]
    },
    {
     "data": {
      "image/png": "[encoded data removed]",
      "text/plain": [
       "<Figure size 640x480 with 2 Axes>"
      ]
     },
     "metadata": {},
     "output_type": "display_data"
    }
   ],
   "source": [
    "## Classifier\n",
    "from sklearn import svm, metrics\n",
    "\n",
    "for kernel in [\"linear\", \"rbf\", \"poly\"]:\n",
    "    print(\"\")\n",
    "    classifier = svm.SVC(kernel=kernel, gamma=10)\n",
    "    classifier.fit(X_train, Y_train)\n",
    "\n",
    "    predicted_values = classifier.predict(X_test.reshape((X_test.shape[0], -1)))\n",
    "\n",
    "    # classification report\n",
    "    title = \"SVM classifier with\" + kernel + \" kernel\"\n",
    "    print(metrics.classification_report(Y_test, predicted_values))\n",
    "    display_confusion_matrix(classifier, title)"
   ]
  },
  {
   "cell_type": "markdown",
   "id": "3bbb7c56",
   "metadata": {},
   "source": [
    "## References\n",
    "\n",
    "* [Animate Your Own Fractals in Python with Matplotlib](https://matplotlib.org/matplotblog/posts/animated-fractals/)\n",
    "* [Arithmetic mean](https://en.wikipedia.org/wiki/Arithmetic_mean)\n",
    "* [Geometric mean](https://en.wikipedia.org/wiki/Geometric_mean)\n",
    "* [Harmonic mean](https://en.wikipedia.org/wiki/Harmonic_mean)\n",
    "* [Predicting sample size required for classification performance](https://bmcmedinformdecismak.biomedcentral.com/articles/10.1186/1472-6947-12-8)\n",
    "* [Cross entropy](https://en.wikipedia.org/wiki/Cross_entropy)\n",
    "* [A Gentle Introduction to Cross-Entropy for Machine Learning](https://machinelearningmastery.com/cross-entropy-for-machine-learning/)\n",
    "* [Gradient Descent, the Learning Rate, and the importance of Feature Scaling](https://towardsdatascience.com/gradient-descent-the-learning-rate-and-the-importance-of-feature-scaling-6c0b416596e1)\n",
    "* [Why is mean normalization useful in gradient descent?](https://stats.stackexchange.com/questions/315027/why-is-mean-normalization-useful-in-gradient-descent)\n",
    "* [Feature scaling](https://en.wikipedia.org/wiki/Feature_scaling)\n",
    "* [Normalizing your data (specifically, input and batch normalization)](https://www.jeremyjordan.me/batch-normalization/)"
   ]
  },
  {
   "cell_type": "code",
   "execution_count": null,
   "id": "e01815cb",
   "metadata": {},
   "outputs": [],
   "source": []
  }
 ],
 "metadata": {
  "kernelspec": {
   "display_name": "Python 3",
   "language": "python",
   "name": "python3"
  },
  "language_info": {
   "codemirror_mode": {
    "name": "ipython",
    "version": 3
   },
   "file_extension": ".py",
   "mimetype": "text/x-python",
   "name": "python",
   "nbconvert_exporter": "python",
   "pygments_lexer": "ipython3",
   "version": "3.11.9"
  }
 },
 "nbformat": 4,
 "nbformat_minor": 5
}
