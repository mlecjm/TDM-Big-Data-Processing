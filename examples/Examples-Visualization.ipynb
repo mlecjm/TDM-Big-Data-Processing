{
 "cells": [
  {
   "cell_type": "code",
   "execution_count": 1,
   "id": "eb959427",
   "metadata": {},
   "outputs": [],
   "source": [
    "import urllib.request\n",
    "import json\n",
    "import pandas as pd\n",
    "\n",
    "propertyid = \"Property:P856\"\n",
    "url = (\n",
    "    \"https://www.wikidata.org/w/api.php?action=query&prop=revisions&titles=\"\n",
    "    + propertyid\n",
    "    + \"&rvprop=timestamp|comment|ids&rvlimit=500&format=json\"\n",
    ")\n",
    "response = urllib.request.urlopen(url)\n",
    "responsedata = json.loads(response.read().decode(\"utf-8\"))"
   ]
  },
  {
   "cell_type": "code",
   "execution_count": 2,
   "id": "448ded27",
   "metadata": {},
   "outputs": [
    {
     "name": "stdout",
     "output_type": "stream",
     "text": [
      "dict_keys(['revid', 'parentid', 'timestamp', 'comment'])\n"
     ]
    }
   ],
   "source": [
    "array = []\n",
    "\n",
    "for data in responsedata[\"query\"][\"pages\"]:\n",
    "    for revision in responsedata[\"query\"][\"pages\"][data][\"revisions\"]:\n",
    "        print(revision.keys())\n",
    "        break"
   ]
  },
  {
   "cell_type": "code",
   "execution_count": 3,
   "id": "c3b5ad42-bc2f-488d-9c83-f576a437155b",
   "metadata": {},
   "outputs": [
    {
     "data": {
      "text/plain": [
       "dict_keys(['revid', 'parentid', 'timestamp', 'comment'])"
      ]
     },
     "execution_count": 3,
     "metadata": {},
     "output_type": "execute_result"
    }
   ],
   "source": [
    "result = list(responsedata[\"query\"][\"pages\"].values())[0]\n",
    "revisions = result[\"revisions\"]\n",
    "revision = result[\"revisions\"][0].keys()\n",
    "revision"
   ]
  },
  {
   "cell_type": "code",
   "execution_count": 4,
   "id": "04087b61",
   "metadata": {},
   "outputs": [],
   "source": [
    "array = []\n",
    "\n",
    "for revision in revisions:\n",
    "    array.append([revision[\"timestamp\"], revision[\"comment\"]])"
   ]
  },
  {
   "cell_type": "code",
   "execution_count": 5,
   "id": "d30e6fa3",
   "metadata": {},
   "outputs": [
    {
     "data": {
      "text/plain": [
       "[['2025-05-10T11:51:46Z',\n",
       "  '/* wbsetclaim-update:2||1|2 */ [[Property:P2302]]: [[Q21502404]]']]"
      ]
     },
     "execution_count": 5,
     "metadata": {},
     "output_type": "execute_result"
    }
   ],
   "source": [
    "array[:1]"
   ]
  },
  {
   "cell_type": "code",
   "execution_count": 6,
   "id": "f4aafcfa",
   "metadata": {},
   "outputs": [
    {
     "data": {
      "application/vnd.microsoft.datawrangler.viewer.v0+json": {
       "columns": [
        {
         "name": "index",
         "rawType": "int64",
         "type": "integer"
        },
        {
         "name": "timestamp",
         "rawType": "datetime64[ns]",
         "type": "datetime"
        },
        {
         "name": "modification",
         "rawType": "object",
         "type": "string"
        }
       ],
       "conversionMethod": "pd.DataFrame",
       "ref": "0785c2a9-f07a-4153-b3bd-6d8cc08f4aee",
       "rows": [
        [
         "0",
         "2025-05-10 00:00:00",
         "/* wbsetclaim-update:2||1|2 */ [[Property:P2302]]: [[Q21502404]]"
        ],
        [
         "1",
         "2025-05-10 00:00:00",
         "/* wbsetclaim-update:2||1|2 */ [[Property:P2302]]: [[Q21502404]]"
        ],
        [
         "2",
         "2025-05-07 00:00:00",
         "/* wbsetclaim-update:2||1|2 */ [[Property:P2302]]: [[Q21502404]]"
        ],
        [
         "3",
         "2025-05-07 00:00:00",
         "/* wbsetclaim-update:2||1|5 */ [[Property:P2302]]: [[Q21502404]]"
        ],
        [
         "4",
         "2025-05-07 00:00:00",
         "/* wbsetclaim-update:2||1|3 */ [[Property:P2302]]: [[Q21502404]]"
        ],
        [
         "5",
         "2025-05-07 00:00:00",
         "/* wbsetclaim-update:2||1|3 */ [[Property:P2302]]: [[Q21502404]]"
        ],
        [
         "6",
         "2025-05-07 00:00:00",
         "/* wbsetclaim-update:2||1|9 */ [[Property:P2302]]: [[Q21502404]]"
        ],
        [
         "7",
         "2025-05-07 00:00:00",
         "/* wbsetclaim-update:2||1|6 */ [[Property:P2302]]: [[Q21502404]]"
        ],
        [
         "8",
         "2025-05-07 00:00:00",
         "/* wbsetclaim-update:2||1|9 */ [[Property:P2302]]: [[Q52060874]]"
        ],
        [
         "9",
         "2025-05-07 00:00:00",
         "/* undo:0||2345687272|Gymnicus */"
        ],
        [
         "10",
         "2025-05-07 00:00:00",
         "/* wbsetclaim-update:2||1|227 */ [[Property:P2302]]: [[Q21502410]]"
        ],
        [
         "11",
         "2025-05-07 00:00:00",
         "/* restore:0||2344805336|Этот месяц */"
        ],
        [
         "12",
         "2025-05-07 00:00:00",
         "/* wbsetaliases-update:15|de */ Webseite, Internetauftritt, URL, Webadresse, Internetadresse, Webpräsenz, offizielle Webseite, Website, Homepage, offizielle Homepage, Website (offiziell), Webseite (offiziell), Site (offiziell), Seite (offiziell), offizielle Website"
        ],
        [
         "13",
         "2025-05-07 00:00:00",
         "/* wbsetlabel-set:1|de */ Internetseite"
        ],
        [
         "14",
         "2025-05-05 00:00:00",
         "/* wbremoveclaims-remove:1| */ [[Property:P1629]]: [[Q11439]]"
        ],
        [
         "15",
         "2025-05-05 00:00:00",
         "/* wbremoveclaims-remove:1| */ [[Property:P1552]]: [[Q29509043]]"
        ],
        [
         "16",
         "2025-05-04 00:00:00",
         "/* wbsetlabel-set:1|tly */ rəsmi sajt"
        ],
        [
         "17",
         "2025-04-20 00:00:00",
         "/* wbsetclaim-update:2||1|9 */ [[Property:P2302]]: [[Q21502410]]"
        ],
        [
         "18",
         "2025-04-20 00:00:00",
         "/* wbsetclaim-update:2||1|9 */ [[Property:P2302]]: [[Q21502410]]"
        ],
        [
         "19",
         "2025-04-20 00:00:00",
         "/* wbsetlabel-add:1|ami */ no kapolongan a calay"
        ],
        [
         "20",
         "2025-04-17 00:00:00",
         "/* wbsetdescription-set:1|tok */ lipu li tan ijo ni li toki e ona"
        ],
        [
         "21",
         "2025-03-22 00:00:00",
         "/* wbsetclaim-update:2||1|10 */ [[Property:P2302]]: [[Q21502410]]"
        ],
        [
         "22",
         "2025-03-22 00:00:00",
         "/* wbsetclaim-update:2||1|10 */ [[Property:P2302]]: [[Q21502410]]"
        ],
        [
         "23",
         "2025-03-21 00:00:00",
         "/* wbsetclaim-update:2||1|10 */ [[Property:P2302]]: [[Q21502410]]"
        ],
        [
         "24",
         "2025-03-21 00:00:00",
         "/* wbsetclaim-update:2||1|10 */ [[Property:P2302]]: [[Q21502410]]"
        ],
        [
         "25",
         "2025-03-18 00:00:00",
         "/* wbsetaliases-add:1|mk */ мрежно место"
        ],
        [
         "26",
         "2025-03-16 00:00:00",
         "/* wbsetclaim-update:2||1|10 */ [[Property:P2302]]: [[Q21502410]]"
        ],
        [
         "27",
         "2025-03-16 00:00:00",
         "/* wbsetclaim-update:2||1|10 */ [[Property:P2302]]: [[Q21502410]]"
        ],
        [
         "28",
         "2025-03-16 00:00:00",
         "/* wbsetclaim-update:2||1|10 */ [[Property:P2302]]: [[Q21502410]]"
        ],
        [
         "29",
         "2025-03-13 00:00:00",
         "/* wbsetclaim-create:2||1 */ [[Property:P1855]]: [[Q383541]]"
        ],
        [
         "30",
         "2025-03-02 00:00:00",
         "/* wbsetdescription-set:1|hu */ az elem hivatalos weboldalának URL-je (jelenlegi vagy korábbi); ha változik a hivatalos weboldal, add hozzá az újat is preferált ranggal"
        ],
        [
         "31",
         "2025-02-19 00:00:00",
         "/* wbsetclaim-update:2||1|10 */ [[Property:P2302]]: [[Q21502410]]"
        ],
        [
         "32",
         "2025-02-11 00:00:00",
         "/* wbsetaliases-remove:1|en-gb */ official homepage"
        ],
        [
         "33",
         "2025-02-11 00:00:00",
         "/* wbsetaliases-remove:9|en-ca */ website, home page, web site, official web site, official url, url, homepage, official page, web address"
        ],
        [
         "34",
         "2025-02-11 00:00:00",
         "/* wbsetdescription-remove:1|en-gb */ URL of the official homepage of an item (current or former) [if the homepage changes, add an additional statement with preferred rank. Do not remove the former URL]"
        ],
        [
         "35",
         "2025-02-11 00:00:00",
         "/* wbsetdescription-remove:1|en-ca */ URL of the official homepage of the item"
        ],
        [
         "36",
         "2025-02-11 00:00:00",
         "/* wbsetlabel-remove:1|en-ca */ official website"
        ],
        [
         "37",
         "2025-02-11 00:00:00",
         "/* wbsetlabel-remove:1|en-gb */ official website"
        ],
        [
         "38",
         "2025-01-31 00:00:00",
         "/* wbsetclaim-update:2||1|10 */ [[Property:P2302]]: [[Q21502410]]"
        ],
        [
         "39",
         "2025-01-02 00:00:00",
         "/* wbsetaliases-add:1|mk */ официјално мрежно место"
        ],
        [
         "40",
         "2024-12-30 00:00:00",
         "/* wbsetclaim-create:2||1 */ [[Property:P2559]]: Para sitios WMF activos, utiliza P4174."
        ],
        [
         "41",
         "2024-12-30 00:00:00",
         "/* wbsetclaim-update:2||1 */ [[Property:P2559]]: Si una página oficial cambia, agrega una declaración adicional con la clasificación \"preferida\". No elimines la URL anterior."
        ],
        [
         "42",
         "2024-12-30 00:00:00",
         "/* wbsetclaim-update:2||1 */ [[Property:P2559]]: Si cambia una página de inicio oficial, agrega una declaración adicional con la clasificación \"preferida\". No elimines la URL anterior."
        ],
        [
         "43",
         "2024-12-30 00:00:00",
         "/* wbsetaliases-add:2|tok */ lipu ona pi ma ilo, lipu linluwi"
        ],
        [
         "44",
         "2024-12-30 00:00:00",
         "/* wbsetdescription-set:1|tok */ lipu li tan ijo ni li toki taso ala e ona"
        ],
        [
         "45",
         "2024-12-30 00:00:00",
         "/* wbsetlabel-set:1|tok */ lipu pi ma ilo"
        ],
        [
         "46",
         "2024-12-24 00:00:00",
         "/* wbsetclaim-create:2||1 */ [[Property:P1659]]: [[Property:P8934]]"
        ],
        [
         "47",
         "2024-12-24 00:00:00",
         "/* wbsetclaim-create:2||1 */ [[Property:P1659]]: [[Property:P4290]]"
        ],
        [
         "48",
         "2024-12-24 00:00:00",
         "/* wbsetclaim-create:2||1 */ [[Property:P1659]]: [[Property:P9549]]"
        ],
        [
         "49",
         "2024-12-24 00:00:00",
         "/* wbsetclaim-create:2||1 */ [[Property:P1659]]: [[Property:P2078]]"
        ]
       ],
       "shape": {
        "columns": 2,
        "rows": 500
       }
      },
      "text/html": [
       "<div>\n",
       "<style scoped>\n",
       "    .dataframe tbody tr th:only-of-type {\n",
       "        vertical-align: middle;\n",
       "    }\n",
       "\n",
       "    .dataframe tbody tr th {\n",
       "        vertical-align: top;\n",
       "    }\n",
       "\n",
       "    .dataframe thead th {\n",
       "        text-align: right;\n",
       "    }\n",
       "</style>\n",
       "<table border=\"1\" class=\"dataframe\">\n",
       "  <thead>\n",
       "    <tr style=\"text-align: right;\">\n",
       "      <th></th>\n",
       "      <th>timestamp</th>\n",
       "      <th>modification</th>\n",
       "    </tr>\n",
       "  </thead>\n",
       "  <tbody>\n",
       "    <tr>\n",
       "      <th>0</th>\n",
       "      <td>2025-05-10</td>\n",
       "      <td>/* wbsetclaim-update:2||1|2 */ [[Property:P230...</td>\n",
       "    </tr>\n",
       "    <tr>\n",
       "      <th>1</th>\n",
       "      <td>2025-05-10</td>\n",
       "      <td>/* wbsetclaim-update:2||1|2 */ [[Property:P230...</td>\n",
       "    </tr>\n",
       "    <tr>\n",
       "      <th>2</th>\n",
       "      <td>2025-05-07</td>\n",
       "      <td>/* wbsetclaim-update:2||1|2 */ [[Property:P230...</td>\n",
       "    </tr>\n",
       "    <tr>\n",
       "      <th>3</th>\n",
       "      <td>2025-05-07</td>\n",
       "      <td>/* wbsetclaim-update:2||1|5 */ [[Property:P230...</td>\n",
       "    </tr>\n",
       "    <tr>\n",
       "      <th>4</th>\n",
       "      <td>2025-05-07</td>\n",
       "      <td>/* wbsetclaim-update:2||1|3 */ [[Property:P230...</td>\n",
       "    </tr>\n",
       "    <tr>\n",
       "      <th>...</th>\n",
       "      <td>...</td>\n",
       "      <td>...</td>\n",
       "    </tr>\n",
       "    <tr>\n",
       "      <th>495</th>\n",
       "      <td>2021-03-26</td>\n",
       "      <td>/* wbsetaliases-add:3|bs */ službeni sajt, zva...</td>\n",
       "    </tr>\n",
       "    <tr>\n",
       "      <th>496</th>\n",
       "      <td>2021-03-26</td>\n",
       "      <td>/* wbsetdescription-add:1|bs */ URL zvanične p...</td>\n",
       "    </tr>\n",
       "    <tr>\n",
       "      <th>497</th>\n",
       "      <td>2021-03-26</td>\n",
       "      <td>/* wbsetlabel-set:1|bs */ zvanični sajt</td>\n",
       "    </tr>\n",
       "    <tr>\n",
       "      <th>498</th>\n",
       "      <td>2021-03-10</td>\n",
       "      <td>/* wbsetclaim-update:2||1|2 */ [[Property:P230...</td>\n",
       "    </tr>\n",
       "    <tr>\n",
       "      <th>499</th>\n",
       "      <td>2021-03-10</td>\n",
       "      <td>/* wbsetclaim-update:2||1|2 */ [[Property:P230...</td>\n",
       "    </tr>\n",
       "  </tbody>\n",
       "</table>\n",
       "<p>500 rows × 2 columns</p>\n",
       "</div>"
      ],
      "text/plain": [
       "     timestamp                                       modification\n",
       "0   2025-05-10  /* wbsetclaim-update:2||1|2 */ [[Property:P230...\n",
       "1   2025-05-10  /* wbsetclaim-update:2||1|2 */ [[Property:P230...\n",
       "2   2025-05-07  /* wbsetclaim-update:2||1|2 */ [[Property:P230...\n",
       "3   2025-05-07  /* wbsetclaim-update:2||1|5 */ [[Property:P230...\n",
       "4   2025-05-07  /* wbsetclaim-update:2||1|3 */ [[Property:P230...\n",
       "..         ...                                                ...\n",
       "495 2021-03-26  /* wbsetaliases-add:3|bs */ službeni sajt, zva...\n",
       "496 2021-03-26  /* wbsetdescription-add:1|bs */ URL zvanične p...\n",
       "497 2021-03-26            /* wbsetlabel-set:1|bs */ zvanični sajt\n",
       "498 2021-03-10  /* wbsetclaim-update:2||1|2 */ [[Property:P230...\n",
       "499 2021-03-10  /* wbsetclaim-update:2||1|2 */ [[Property:P230...\n",
       "\n",
       "[500 rows x 2 columns]"
      ]
     },
     "execution_count": 6,
     "metadata": {},
     "output_type": "execute_result"
    }
   ],
   "source": [
    "dataframe = pd.DataFrame(array, columns=[\"timestamp\", \"modification\"])\n",
    "dataframe['timestamp'] = pd.to_datetime(dataframe['timestamp'], format='%Y-%m-%dT%H:%M:%SZ')\n",
    "dataframe = dataframe.astype(\n",
    "    dtype={\"modification\": \"<U1000\"}\n",
    ")\n",
    "\n",
    "dataframe[\"timestamp\"] = pd.to_datetime(\n",
    "    dataframe[\"timestamp\"],\n",
    "    format=\"%d/%m/%Y\",\n",
    "    unit=\"D\",\n",
    "    errors=\"raise\",\n",
    ").dt.normalize()\n",
    "dataframe"
   ]
  },
  {
   "cell_type": "code",
   "execution_count": 7,
   "id": "023886eb",
   "metadata": {},
   "outputs": [
    {
     "data": {
      "application/vnd.microsoft.datawrangler.viewer.v0+json": {
       "columns": [
        {
         "name": "index",
         "rawType": "int64",
         "type": "integer"
        },
        {
         "name": "timestamp",
         "rawType": "datetime64[ns]",
         "type": "datetime"
        },
        {
         "name": "modification",
         "rawType": "int64",
         "type": "integer"
        }
       ],
       "conversionMethod": "pd.DataFrame",
       "ref": "7af407bc-1956-4cf3-b999-f3974d3d566c",
       "rows": [
        [
         "0",
         "2021-03-10 00:00:00",
         "2"
        ],
        [
         "1",
         "2021-03-26 00:00:00",
         "3"
        ],
        [
         "2",
         "2021-03-30 00:00:00",
         "1"
        ],
        [
         "3",
         "2021-04-03 00:00:00",
         "2"
        ],
        [
         "4",
         "2021-04-08 00:00:00",
         "1"
        ],
        [
         "5",
         "2021-04-09 00:00:00",
         "2"
        ],
        [
         "6",
         "2021-04-13 00:00:00",
         "1"
        ],
        [
         "7",
         "2021-04-27 00:00:00",
         "1"
        ],
        [
         "8",
         "2021-05-01 00:00:00",
         "1"
        ],
        [
         "9",
         "2021-05-10 00:00:00",
         "1"
        ],
        [
         "10",
         "2021-05-14 00:00:00",
         "1"
        ],
        [
         "11",
         "2021-05-16 00:00:00",
         "3"
        ],
        [
         "12",
         "2021-05-23 00:00:00",
         "2"
        ],
        [
         "13",
         "2021-05-24 00:00:00",
         "1"
        ],
        [
         "14",
         "2021-06-22 00:00:00",
         "1"
        ],
        [
         "15",
         "2021-07-08 00:00:00",
         "3"
        ],
        [
         "16",
         "2021-07-10 00:00:00",
         "3"
        ],
        [
         "17",
         "2021-07-16 00:00:00",
         "4"
        ],
        [
         "18",
         "2021-07-20 00:00:00",
         "8"
        ],
        [
         "19",
         "2021-07-29 00:00:00",
         "1"
        ],
        [
         "20",
         "2021-07-31 00:00:00",
         "1"
        ],
        [
         "21",
         "2021-08-09 00:00:00",
         "2"
        ],
        [
         "22",
         "2021-08-11 00:00:00",
         "4"
        ],
        [
         "23",
         "2021-08-16 00:00:00",
         "22"
        ],
        [
         "24",
         "2021-08-18 00:00:00",
         "1"
        ],
        [
         "25",
         "2021-08-22 00:00:00",
         "1"
        ],
        [
         "26",
         "2021-08-28 00:00:00",
         "1"
        ],
        [
         "27",
         "2021-09-27 00:00:00",
         "1"
        ],
        [
         "28",
         "2021-10-11 00:00:00",
         "1"
        ],
        [
         "29",
         "2021-10-12 00:00:00",
         "1"
        ],
        [
         "30",
         "2021-10-28 00:00:00",
         "2"
        ],
        [
         "31",
         "2021-10-31 00:00:00",
         "1"
        ],
        [
         "32",
         "2021-11-10 00:00:00",
         "1"
        ],
        [
         "33",
         "2021-11-16 00:00:00",
         "1"
        ],
        [
         "34",
         "2021-11-19 00:00:00",
         "1"
        ],
        [
         "35",
         "2021-11-25 00:00:00",
         "1"
        ],
        [
         "36",
         "2021-12-15 00:00:00",
         "13"
        ],
        [
         "37",
         "2021-12-16 00:00:00",
         "2"
        ],
        [
         "38",
         "2021-12-22 00:00:00",
         "3"
        ],
        [
         "39",
         "2021-12-24 00:00:00",
         "1"
        ],
        [
         "40",
         "2021-12-30 00:00:00",
         "2"
        ],
        [
         "41",
         "2022-01-01 00:00:00",
         "1"
        ],
        [
         "42",
         "2022-01-10 00:00:00",
         "2"
        ],
        [
         "43",
         "2022-01-24 00:00:00",
         "2"
        ],
        [
         "44",
         "2022-01-31 00:00:00",
         "1"
        ],
        [
         "45",
         "2022-02-01 00:00:00",
         "2"
        ],
        [
         "46",
         "2022-02-08 00:00:00",
         "1"
        ],
        [
         "47",
         "2022-02-10 00:00:00",
         "1"
        ],
        [
         "48",
         "2022-02-16 00:00:00",
         "1"
        ],
        [
         "49",
         "2022-02-27 00:00:00",
         "1"
        ]
       ],
       "shape": {
        "columns": 2,
        "rows": 230
       }
      },
      "text/html": [
       "<div>\n",
       "<style scoped>\n",
       "    .dataframe tbody tr th:only-of-type {\n",
       "        vertical-align: middle;\n",
       "    }\n",
       "\n",
       "    .dataframe tbody tr th {\n",
       "        vertical-align: top;\n",
       "    }\n",
       "\n",
       "    .dataframe thead th {\n",
       "        text-align: right;\n",
       "    }\n",
       "</style>\n",
       "<table border=\"1\" class=\"dataframe\">\n",
       "  <thead>\n",
       "    <tr style=\"text-align: right;\">\n",
       "      <th></th>\n",
       "      <th>timestamp</th>\n",
       "      <th>modification</th>\n",
       "    </tr>\n",
       "  </thead>\n",
       "  <tbody>\n",
       "    <tr>\n",
       "      <th>0</th>\n",
       "      <td>2021-03-10</td>\n",
       "      <td>2</td>\n",
       "    </tr>\n",
       "    <tr>\n",
       "      <th>1</th>\n",
       "      <td>2021-03-26</td>\n",
       "      <td>3</td>\n",
       "    </tr>\n",
       "    <tr>\n",
       "      <th>2</th>\n",
       "      <td>2021-03-30</td>\n",
       "      <td>1</td>\n",
       "    </tr>\n",
       "    <tr>\n",
       "      <th>3</th>\n",
       "      <td>2021-04-03</td>\n",
       "      <td>2</td>\n",
       "    </tr>\n",
       "    <tr>\n",
       "      <th>4</th>\n",
       "      <td>2021-04-08</td>\n",
       "      <td>1</td>\n",
       "    </tr>\n",
       "    <tr>\n",
       "      <th>...</th>\n",
       "      <td>...</td>\n",
       "      <td>...</td>\n",
       "    </tr>\n",
       "    <tr>\n",
       "      <th>225</th>\n",
       "      <td>2025-04-20</td>\n",
       "      <td>3</td>\n",
       "    </tr>\n",
       "    <tr>\n",
       "      <th>226</th>\n",
       "      <td>2025-05-04</td>\n",
       "      <td>1</td>\n",
       "    </tr>\n",
       "    <tr>\n",
       "      <th>227</th>\n",
       "      <td>2025-05-05</td>\n",
       "      <td>2</td>\n",
       "    </tr>\n",
       "    <tr>\n",
       "      <th>228</th>\n",
       "      <td>2025-05-07</td>\n",
       "      <td>12</td>\n",
       "    </tr>\n",
       "    <tr>\n",
       "      <th>229</th>\n",
       "      <td>2025-05-10</td>\n",
       "      <td>2</td>\n",
       "    </tr>\n",
       "  </tbody>\n",
       "</table>\n",
       "<p>230 rows × 2 columns</p>\n",
       "</div>"
      ],
      "text/plain": [
       "     timestamp  modification\n",
       "0   2021-03-10             2\n",
       "1   2021-03-26             3\n",
       "2   2021-03-30             1\n",
       "3   2021-04-03             2\n",
       "4   2021-04-08             1\n",
       "..         ...           ...\n",
       "225 2025-04-20             3\n",
       "226 2025-05-04             1\n",
       "227 2025-05-05             2\n",
       "228 2025-05-07            12\n",
       "229 2025-05-10             2\n",
       "\n",
       "[230 rows x 2 columns]"
      ]
     },
     "execution_count": 7,
     "metadata": {},
     "output_type": "execute_result"
    }
   ],
   "source": [
    "group = dataframe.groupby(\"timestamp\").agg(\"count\").reset_index()\n",
    "group"
   ]
  },
  {
   "cell_type": "code",
   "execution_count": 8,
   "id": "bf0219c3",
   "metadata": {},
   "outputs": [
    {
     "data": {
      "application/vnd.microsoft.datawrangler.viewer.v0+json": {
       "columns": [
        {
         "name": "index",
         "rawType": "object",
         "type": "string"
        },
        {
         "name": "timestamp",
         "rawType": "object",
         "type": "unknown"
        },
        {
         "name": "modification",
         "rawType": "float64",
         "type": "float"
        }
       ],
       "conversionMethod": "pd.DataFrame",
       "ref": "078ad1fd-56b1-4ded-8554-06cb50df0a08",
       "rows": [
        [
         "count",
         "230",
         "230.0"
        ],
        [
         "mean",
         "2023-04-13 10:51:07.826086912",
         "2.1739130434782608"
        ],
        [
         "min",
         "2021-03-10 00:00:00",
         "1.0"
        ],
        [
         "25%",
         "2022-06-04 12:00:00",
         "1.0"
        ],
        [
         "50%",
         "2023-03-02 12:00:00",
         "1.0"
        ],
        [
         "75%",
         "2024-03-16 18:00:00",
         "2.0"
        ],
        [
         "max",
         "2025-05-10 00:00:00",
         "64.0"
        ],
        [
         "std",
         null,
         "4.586406475577341"
        ]
       ],
       "shape": {
        "columns": 2,
        "rows": 8
       }
      },
      "text/html": [
       "<div>\n",
       "<style scoped>\n",
       "    .dataframe tbody tr th:only-of-type {\n",
       "        vertical-align: middle;\n",
       "    }\n",
       "\n",
       "    .dataframe tbody tr th {\n",
       "        vertical-align: top;\n",
       "    }\n",
       "\n",
       "    .dataframe thead th {\n",
       "        text-align: right;\n",
       "    }\n",
       "</style>\n",
       "<table border=\"1\" class=\"dataframe\">\n",
       "  <thead>\n",
       "    <tr style=\"text-align: right;\">\n",
       "      <th></th>\n",
       "      <th>timestamp</th>\n",
       "      <th>modification</th>\n",
       "    </tr>\n",
       "  </thead>\n",
       "  <tbody>\n",
       "    <tr>\n",
       "      <th>count</th>\n",
       "      <td>230</td>\n",
       "      <td>230.000000</td>\n",
       "    </tr>\n",
       "    <tr>\n",
       "      <th>mean</th>\n",
       "      <td>2023-04-13 10:51:07.826086912</td>\n",
       "      <td>2.173913</td>\n",
       "    </tr>\n",
       "    <tr>\n",
       "      <th>min</th>\n",
       "      <td>2021-03-10 00:00:00</td>\n",
       "      <td>1.000000</td>\n",
       "    </tr>\n",
       "    <tr>\n",
       "      <th>25%</th>\n",
       "      <td>2022-06-04 12:00:00</td>\n",
       "      <td>1.000000</td>\n",
       "    </tr>\n",
       "    <tr>\n",
       "      <th>50%</th>\n",
       "      <td>2023-03-02 12:00:00</td>\n",
       "      <td>1.000000</td>\n",
       "    </tr>\n",
       "    <tr>\n",
       "      <th>75%</th>\n",
       "      <td>2024-03-16 18:00:00</td>\n",
       "      <td>2.000000</td>\n",
       "    </tr>\n",
       "    <tr>\n",
       "      <th>max</th>\n",
       "      <td>2025-05-10 00:00:00</td>\n",
       "      <td>64.000000</td>\n",
       "    </tr>\n",
       "    <tr>\n",
       "      <th>std</th>\n",
       "      <td>NaN</td>\n",
       "      <td>4.586406</td>\n",
       "    </tr>\n",
       "  </tbody>\n",
       "</table>\n",
       "</div>"
      ],
      "text/plain": [
       "                           timestamp  modification\n",
       "count                            230    230.000000\n",
       "mean   2023-04-13 10:51:07.826086912      2.173913\n",
       "min              2021-03-10 00:00:00      1.000000\n",
       "25%              2022-06-04 12:00:00      1.000000\n",
       "50%              2023-03-02 12:00:00      1.000000\n",
       "75%              2024-03-16 18:00:00      2.000000\n",
       "max              2025-05-10 00:00:00     64.000000\n",
       "std                              NaN      4.586406"
      ]
     },
     "execution_count": 8,
     "metadata": {},
     "output_type": "execute_result"
    }
   ],
   "source": [
    "group.describe()"
   ]
  },
  {
   "cell_type": "code",
   "execution_count": 9,
   "id": "2ac71c5d",
   "metadata": {},
   "outputs": [
    {
     "data": {
      "text/plain": [
       "timestamp       datetime64[ns]\n",
       "modification             int64\n",
       "dtype: object"
      ]
     },
     "execution_count": 9,
     "metadata": {},
     "output_type": "execute_result"
    }
   ],
   "source": [
    "group.dtypes"
   ]
  },
  {
   "cell_type": "code",
   "execution_count": 10,
   "id": "1a3b9b00",
   "metadata": {},
   "outputs": [
    {
     "data": {
      "text/plain": [
       "np.int64(64)"
      ]
     },
     "execution_count": 10,
     "metadata": {},
     "output_type": "execute_result"
    }
   ],
   "source": [
    "group.modification.max()"
   ]
  },
  {
   "cell_type": "code",
   "execution_count": 11,
   "id": "c3aa6857",
   "metadata": {},
   "outputs": [
    {
     "data": {
      "text/plain": [
       "np.int64(1)"
      ]
     },
     "execution_count": 11,
     "metadata": {},
     "output_type": "execute_result"
    }
   ],
   "source": [
    "group.modification.min()"
   ]
  },
  {
   "cell_type": "code",
   "execution_count": 12,
   "id": "46afd8e8",
   "metadata": {},
   "outputs": [],
   "source": [
    "#%pip install calplot"
   ]
  },
  {
   "cell_type": "code",
   "execution_count": 13,
   "id": "54ea33ad-ec86-4509-a055-832d184e0aed",
   "metadata": {},
   "outputs": [
    {
     "name": "stderr",
     "output_type": "stream",
     "text": [
      "findfont: Font family 'Helvetica' not found.\n",
      "findfont: Font family 'Helvetica' not found.\n",
      "findfont: Font family 'Helvetica' not found.\n",
      "findfont: Font family 'Helvetica' not found.\n",
      "findfont: Font family 'Helvetica' not found.\n",
      "findfont: Font family 'Helvetica' not found.\n"
     ]
    },
    {
     "data": {
      "text/plain": [
       "(<Figure size 1250x850 with 6 Axes>,\n",
       " array([<Axes: ylabel='2021'>, <Axes: ylabel='2022'>,\n",
       "        <Axes: ylabel='2023'>, <Axes: ylabel='2024'>,\n",
       "        <Axes: ylabel='2025'>], dtype=object))"
      ]
     },
     "execution_count": 13,
     "metadata": {},
     "output_type": "execute_result"
    },
    {
     "name": "stderr",
     "output_type": "stream",
     "text": [
      "findfont: Font family 'Helvetica' not found.\n",
      "findfont: Font family 'Helvetica' not found.\n",
      "findfont: Font family 'Helvetica' not found.\n",
      "findfont: Font family 'Helvetica' not found.\n",
      "findfont: Font family 'Helvetica' not found.\n",
      "findfont: Font family 'Helvetica' not found.\n",
      "findfont: Font family 'Helvetica' not found.\n",
      "findfont: Font family 'Helvetica' not found.\n",
      "findfont: Font family 'Helvetica' not found.\n",
      "findfont: Font family 'Helvetica' not found.\n",
      "findfont: Font family 'Helvetica' not found.\n",
      "findfont: Font family 'Helvetica' not found.\n",
      "findfont: Font family 'Helvetica' not found.\n",
      "findfont: Font family 'Helvetica' not found.\n",
      "findfont: Font family 'Helvetica' not found.\n",
      "findfont: Font family 'Helvetica' not found.\n"
     ]
    },
    {
     "data": {
      "image/png": "[encoded data removed]",
      "text/plain": [
       "<Figure size 1250x850 with 6 Axes>"
      ]
     },
     "metadata": {},
     "output_type": "display_data"
    }
   ],
   "source": [
    "import calplot\n",
    "\n",
    "days = group[\"timestamp\"]\n",
    "\n",
    "events = pd.Series(list(group[\"modification\"]), index=days)\n",
    "calplot.calplot(\n",
    "    events,\n",
    "    cmap=\"YlGn\",\n",
    "    yearlabel_kws={\"color\": \"black\"},\n",
    "    linewidth=0,\n",
    "    suptitle=\"Number of modifications per day (last 500)\",\n",
    ")"
   ]
  },
  {
   "cell_type": "code",
   "execution_count": 14,
   "id": "1af2be56",
   "metadata": {},
   "outputs": [],
   "source": [
    "#%pip install plotly"
   ]
  },
  {
   "cell_type": "code",
   "execution_count": 15,
   "id": "2351215e",
   "metadata": {},
   "outputs": [],
   "source": [
    "#%pip install nbformat>=4.2.0\n",
    "#%pip install nbformat\n"
   ]
  },
  {
   "cell_type": "code",
   "execution_count": 16,
   "id": "3dd673a8",
   "metadata": {},
   "outputs": [
    {
     "data": {
      "application/vnd.plotly.v1+json": {
       "config": {
        "plotlyServerURL": "https://plot.ly"
       },
       "data": [
        {
         "bingroup": "x",
         "histfunc": "sum",
         "hovertemplate": "timestamp=%{x}<br>sum of modification=%{y}<extra></extra>",
         "legendgroup": "",
         "marker": {
          "color": "#636efa",
          "pattern": {
           "shape": ""
          }
         },
         "name": "",
         "nbinsx": 20,
         "orientation": "v",
         "showlegend": false,
         "type": "histogram",
         "x": [
          "2021-03-10T00:00:00.000000000",
          "2021-03-26T00:00:00.000000000",
          "2021-03-30T00:00:00.000000000",
          "2021-04-03T00:00:00.000000000",
          "2021-04-08T00:00:00.000000000",
          "2021-04-09T00:00:00.000000000",
          "2021-04-13T00:00:00.000000000",
          "2021-04-27T00:00:00.000000000",
          "2021-05-01T00:00:00.000000000",
          "2021-05-10T00:00:00.000000000",
          "2021-05-14T00:00:00.000000000",
          "2021-05-16T00:00:00.000000000",
          "2021-05-23T00:00:00.000000000",
          "2021-05-24T00:00:00.000000000",
          "2021-06-22T00:00:00.000000000",
          "2021-07-08T00:00:00.000000000",
          "2021-07-10T00:00:00.000000000",
          "2021-07-16T00:00:00.000000000",
          "2021-07-20T00:00:00.000000000",
          "2021-07-29T00:00:00.000000000",
          "2021-07-31T00:00:00.000000000",
          "2021-08-09T00:00:00.000000000",
          "2021-08-11T00:00:00.000000000",
          "2021-08-16T00:00:00.000000000",
          "2021-08-18T00:00:00.000000000",
          "2021-08-22T00:00:00.000000000",
          "2021-08-28T00:00:00.000000000",
          "2021-09-27T00:00:00.000000000",
          "2021-10-11T00:00:00.000000000",
          "2021-10-12T00:00:00.000000000",
          "2021-10-28T00:00:00.000000000",
          "2021-10-31T00:00:00.000000000",
          "2021-11-10T00:00:00.000000000",
          "2021-11-16T00:00:00.000000000",
          "2021-11-19T00:00:00.000000000",
          "2021-11-25T00:00:00.000000000",
          "2021-12-15T00:00:00.000000000",
          "2021-12-16T00:00:00.000000000",
          "2021-12-22T00:00:00.000000000",
          "2021-12-24T00:00:00.000000000",
          "2021-12-30T00:00:00.000000000",
          "2022-01-01T00:00:00.000000000",
          "2022-01-10T00:00:00.000000000",
          "2022-01-24T00:00:00.000000000",
          "2022-01-31T00:00:00.000000000",
          "2022-02-01T00:00:00.000000000",
          "2022-02-08T00:00:00.000000000",
          "2022-02-10T00:00:00.000000000",
          "2022-02-16T00:00:00.000000000",
          "2022-02-27T00:00:00.000000000",
          "2022-03-14T00:00:00.000000000",
          "2022-04-04T00:00:00.000000000",
          "2022-05-02T00:00:00.000000000",
          "2022-05-11T00:00:00.000000000",
          "2022-05-26T00:00:00.000000000",
          "2022-05-27T00:00:00.000000000",
          "2022-06-01T00:00:00.000000000",
          "2022-06-03T00:00:00.000000000",
          "2022-06-09T00:00:00.000000000",
          "2022-06-20T00:00:00.000000000",
          "2022-06-21T00:00:00.000000000",
          "2022-06-23T00:00:00.000000000",
          "2022-07-03T00:00:00.000000000",
          "2022-07-04T00:00:00.000000000",
          "2022-07-06T00:00:00.000000000",
          "2022-07-07T00:00:00.000000000",
          "2022-07-08T00:00:00.000000000",
          "2022-07-12T00:00:00.000000000",
          "2022-07-16T00:00:00.000000000",
          "2022-07-18T00:00:00.000000000",
          "2022-07-19T00:00:00.000000000",
          "2022-07-24T00:00:00.000000000",
          "2022-07-27T00:00:00.000000000",
          "2022-08-02T00:00:00.000000000",
          "2022-08-03T00:00:00.000000000",
          "2022-08-04T00:00:00.000000000",
          "2022-08-14T00:00:00.000000000",
          "2022-08-19T00:00:00.000000000",
          "2022-08-27T00:00:00.000000000",
          "2022-08-28T00:00:00.000000000",
          "2022-09-03T00:00:00.000000000",
          "2022-09-10T00:00:00.000000000",
          "2022-09-11T00:00:00.000000000",
          "2022-09-12T00:00:00.000000000",
          "2022-09-14T00:00:00.000000000",
          "2022-09-16T00:00:00.000000000",
          "2022-09-29T00:00:00.000000000",
          "2022-10-01T00:00:00.000000000",
          "2022-10-05T00:00:00.000000000",
          "2022-10-13T00:00:00.000000000",
          "2022-10-18T00:00:00.000000000",
          "2022-10-19T00:00:00.000000000",
          "2022-10-25T00:00:00.000000000",
          "2022-10-28T00:00:00.000000000",
          "2022-10-29T00:00:00.000000000",
          "2022-11-06T00:00:00.000000000",
          "2022-11-14T00:00:00.000000000",
          "2022-11-17T00:00:00.000000000",
          "2022-11-22T00:00:00.000000000",
          "2022-11-23T00:00:00.000000000",
          "2022-11-26T00:00:00.000000000",
          "2022-11-27T00:00:00.000000000",
          "2022-12-05T00:00:00.000000000",
          "2022-12-10T00:00:00.000000000",
          "2022-12-13T00:00:00.000000000",
          "2022-12-21T00:00:00.000000000",
          "2023-01-13T00:00:00.000000000",
          "2023-01-27T00:00:00.000000000",
          "2023-01-29T00:00:00.000000000",
          "2023-02-14T00:00:00.000000000",
          "2023-02-18T00:00:00.000000000",
          "2023-02-20T00:00:00.000000000",
          "2023-02-23T00:00:00.000000000",
          "2023-02-24T00:00:00.000000000",
          "2023-03-01T00:00:00.000000000",
          "2023-03-04T00:00:00.000000000",
          "2023-03-16T00:00:00.000000000",
          "2023-03-19T00:00:00.000000000",
          "2023-03-22T00:00:00.000000000",
          "2023-03-24T00:00:00.000000000",
          "2023-04-14T00:00:00.000000000",
          "2023-04-26T00:00:00.000000000",
          "2023-05-10T00:00:00.000000000",
          "2023-05-13T00:00:00.000000000",
          "2023-05-26T00:00:00.000000000",
          "2023-05-29T00:00:00.000000000",
          "2023-06-20T00:00:00.000000000",
          "2023-06-28T00:00:00.000000000",
          "2023-06-30T00:00:00.000000000",
          "2023-07-02T00:00:00.000000000",
          "2023-07-18T00:00:00.000000000",
          "2023-07-22T00:00:00.000000000",
          "2023-07-23T00:00:00.000000000",
          "2023-07-25T00:00:00.000000000",
          "2023-08-06T00:00:00.000000000",
          "2023-08-25T00:00:00.000000000",
          "2023-08-26T00:00:00.000000000",
          "2023-09-01T00:00:00.000000000",
          "2023-09-12T00:00:00.000000000",
          "2023-09-19T00:00:00.000000000",
          "2023-09-20T00:00:00.000000000",
          "2023-10-20T00:00:00.000000000",
          "2023-10-29T00:00:00.000000000",
          "2023-11-05T00:00:00.000000000",
          "2023-11-17T00:00:00.000000000",
          "2023-11-25T00:00:00.000000000",
          "2023-12-02T00:00:00.000000000",
          "2023-12-04T00:00:00.000000000",
          "2023-12-06T00:00:00.000000000",
          "2023-12-09T00:00:00.000000000",
          "2023-12-12T00:00:00.000000000",
          "2023-12-17T00:00:00.000000000",
          "2023-12-19T00:00:00.000000000",
          "2023-12-30T00:00:00.000000000",
          "2023-12-31T00:00:00.000000000",
          "2024-01-03T00:00:00.000000000",
          "2024-01-13T00:00:00.000000000",
          "2024-01-19T00:00:00.000000000",
          "2024-01-23T00:00:00.000000000",
          "2024-01-24T00:00:00.000000000",
          "2024-01-27T00:00:00.000000000",
          "2024-01-28T00:00:00.000000000",
          "2024-01-31T00:00:00.000000000",
          "2024-02-08T00:00:00.000000000",
          "2024-02-12T00:00:00.000000000",
          "2024-02-24T00:00:00.000000000",
          "2024-02-26T00:00:00.000000000",
          "2024-03-01T00:00:00.000000000",
          "2024-03-02T00:00:00.000000000",
          "2024-03-07T00:00:00.000000000",
          "2024-03-08T00:00:00.000000000",
          "2024-03-16T00:00:00.000000000",
          "2024-03-17T00:00:00.000000000",
          "2024-03-25T00:00:00.000000000",
          "2024-04-19T00:00:00.000000000",
          "2024-05-02T00:00:00.000000000",
          "2024-05-09T00:00:00.000000000",
          "2024-05-21T00:00:00.000000000",
          "2024-05-27T00:00:00.000000000",
          "2024-05-28T00:00:00.000000000",
          "2024-06-04T00:00:00.000000000",
          "2024-06-19T00:00:00.000000000",
          "2024-07-03T00:00:00.000000000",
          "2024-07-11T00:00:00.000000000",
          "2024-07-18T00:00:00.000000000",
          "2024-07-19T00:00:00.000000000",
          "2024-07-28T00:00:00.000000000",
          "2024-07-29T00:00:00.000000000",
          "2024-08-12T00:00:00.000000000",
          "2024-08-20T00:00:00.000000000",
          "2024-08-24T00:00:00.000000000",
          "2024-08-27T00:00:00.000000000",
          "2024-08-28T00:00:00.000000000",
          "2024-09-11T00:00:00.000000000",
          "2024-10-06T00:00:00.000000000",
          "2024-10-16T00:00:00.000000000",
          "2024-10-18T00:00:00.000000000",
          "2024-10-25T00:00:00.000000000",
          "2024-10-29T00:00:00.000000000",
          "2024-10-31T00:00:00.000000000",
          "2024-11-09T00:00:00.000000000",
          "2024-11-18T00:00:00.000000000",
          "2024-11-22T00:00:00.000000000",
          "2024-11-25T00:00:00.000000000",
          "2024-12-03T00:00:00.000000000",
          "2024-12-04T00:00:00.000000000",
          "2024-12-07T00:00:00.000000000",
          "2024-12-08T00:00:00.000000000",
          "2024-12-13T00:00:00.000000000",
          "2024-12-15T00:00:00.000000000",
          "2024-12-16T00:00:00.000000000",
          "2024-12-21T00:00:00.000000000",
          "2024-12-24T00:00:00.000000000",
          "2024-12-30T00:00:00.000000000",
          "2025-01-02T00:00:00.000000000",
          "2025-01-31T00:00:00.000000000",
          "2025-02-11T00:00:00.000000000",
          "2025-02-19T00:00:00.000000000",
          "2025-03-02T00:00:00.000000000",
          "2025-03-13T00:00:00.000000000",
          "2025-03-16T00:00:00.000000000",
          "2025-03-18T00:00:00.000000000",
          "2025-03-21T00:00:00.000000000",
          "2025-03-22T00:00:00.000000000",
          "2025-04-17T00:00:00.000000000",
          "2025-04-20T00:00:00.000000000",
          "2025-05-04T00:00:00.000000000",
          "2025-05-05T00:00:00.000000000",
          "2025-05-07T00:00:00.000000000",
          "2025-05-10T00:00:00.000000000"
         ],
         "xaxis": "x",
         "y": {
          "bdata": "AgMBAgECAQEBAQEDAgEBAwMECAEBAgQWAQEBAQEBAgEBAQEBDQIDAQIBAgIBAgEBAQEBAgECAQMBAQECAQECAQEBAQIBAQICAQEBAgIBAQIBAQEBAQUFAQEBAQEDAQEBAQMBAgECAQEBAQECAgNAAQMBAQMEAwEBAgEBAQECAQEBAgEBAQEBAQIBAQECAgMDAQEBBAEBBQEBAgIBAwIBAQEBAQEGAQMBBAEBAgEBAwMBAwMBAgICAQEBAQEBAgECCAMBAgEDAQQBAQEBAgECAgEBAQMHBgEBBgEBAQMBAgIBAwECDAI=",
          "dtype": "i1"
         },
         "yaxis": "y"
        }
       ],
       "layout": {
        "bargap": 0.2,
        "barmode": "relative",
        "legend": {
         "tracegroupgap": 0
        },
        "margin": {
         "t": 60
        },
        "template": {
         "data": {
          "bar": [
           {
            "error_x": {
             "color": "#2a3f5f"
            },
            "error_y": {
             "color": "#2a3f5f"
            },
            "marker": {
             "line": {
              "color": "#E5ECF6",
              "width": 0.5
             },
             "pattern": {
              "fillmode": "overlay",
              "size": 10,
              "solidity": 0.2
             }
            },
            "type": "bar"
           }
          ],
          "barpolar": [
           {
            "marker": {
             "line": {
              "color": "#E5ECF6",
              "width": 0.5
             },
             "pattern": {
              "fillmode": "overlay",
              "size": 10,
              "solidity": 0.2
             }
            },
            "type": "barpolar"
           }
          ],
          "carpet": [
           {
            "aaxis": {
             "endlinecolor": "#2a3f5f",
             "gridcolor": "white",
             "linecolor": "white",
             "minorgridcolor": "white",
             "startlinecolor": "#2a3f5f"
            },
            "baxis": {
             "endlinecolor": "#2a3f5f",
             "gridcolor": "white",
             "linecolor": "white",
             "minorgridcolor": "white",
             "startlinecolor": "#2a3f5f"
            },
            "type": "carpet"
           }
          ],
          "choropleth": [
           {
            "colorbar": {
             "outlinewidth": 0,
             "ticks": ""
            },
            "type": "choropleth"
           }
          ],
          "contour": [
           {
            "colorbar": {
             "outlinewidth": 0,
             "ticks": ""
            },
            "colorscale": [
             [
              0,
              "#0d0887"
             ],
             [
              0.1111111111111111,
              "#46039f"
             ],
             [
              0.2222222222222222,
              "#7201a8"
             ],
             [
              0.3333333333333333,
              "#9c179e"
             ],
             [
              0.4444444444444444,
              "#bd3786"
             ],
             [
              0.5555555555555556,
              "#d8576b"
             ],
             [
              0.6666666666666666,
              "#ed7953"
             ],
             [
              0.7777777777777778,
              "#fb9f3a"
             ],
             [
              0.8888888888888888,
              "#fdca26"
             ],
             [
              1,
              "#f0f921"
             ]
            ],
            "type": "contour"
           }
          ],
          "contourcarpet": [
           {
            "colorbar": {
             "outlinewidth": 0,
             "ticks": ""
            },
            "type": "contourcarpet"
           }
          ],
          "heatmap": [
           {
            "colorbar": {
             "outlinewidth": 0,
             "ticks": ""
            },
            "colorscale": [
             [
              0,
              "#0d0887"
             ],
             [
              0.1111111111111111,
              "#46039f"
             ],
             [
              0.2222222222222222,
              "#7201a8"
             ],
             [
              0.3333333333333333,
              "#9c179e"
             ],
             [
              0.4444444444444444,
              "#bd3786"
             ],
             [
              0.5555555555555556,
              "#d8576b"
             ],
             [
              0.6666666666666666,
              "#ed7953"
             ],
             [
              0.7777777777777778,
              "#fb9f3a"
             ],
             [
              0.8888888888888888,
              "#fdca26"
             ],
             [
              1,
              "#f0f921"
             ]
            ],
            "type": "heatmap"
           }
          ],
          "histogram": [
           {
            "marker": {
             "pattern": {
              "fillmode": "overlay",
              "size": 10,
              "solidity": 0.2
             }
            },
            "type": "histogram"
           }
          ],
          "histogram2d": [
           {
            "colorbar": {
             "outlinewidth": 0,
             "ticks": ""
            },
            "colorscale": [
             [
              0,
              "#0d0887"
             ],
             [
              0.1111111111111111,
              "#46039f"
             ],
             [
              0.2222222222222222,
              "#7201a8"
             ],
             [
              0.3333333333333333,
              "#9c179e"
             ],
             [
              0.4444444444444444,
              "#bd3786"
             ],
             [
              0.5555555555555556,
              "#d8576b"
             ],
             [
              0.6666666666666666,
              "#ed7953"
             ],
             [
              0.7777777777777778,
              "#fb9f3a"
             ],
             [
              0.8888888888888888,
              "#fdca26"
             ],
             [
              1,
              "#f0f921"
             ]
            ],
            "type": "histogram2d"
           }
          ],
          "histogram2dcontour": [
           {
            "colorbar": {
             "outlinewidth": 0,
             "ticks": ""
            },
            "colorscale": [
             [
              0,
              "#0d0887"
             ],
             [
              0.1111111111111111,
              "#46039f"
             ],
             [
              0.2222222222222222,
              "#7201a8"
             ],
             [
              0.3333333333333333,
              "#9c179e"
             ],
             [
              0.4444444444444444,
              "#bd3786"
             ],
             [
              0.5555555555555556,
              "#d8576b"
             ],
             [
              0.6666666666666666,
              "#ed7953"
             ],
             [
              0.7777777777777778,
              "#fb9f3a"
             ],
             [
              0.8888888888888888,
              "#fdca26"
             ],
             [
              1,
              "#f0f921"
             ]
            ],
            "type": "histogram2dcontour"
           }
          ],
          "mesh3d": [
           {
            "colorbar": {
             "outlinewidth": 0,
             "ticks": ""
            },
            "type": "mesh3d"
           }
          ],
          "parcoords": [
           {
            "line": {
             "colorbar": {
              "outlinewidth": 0,
              "ticks": ""
             }
            },
            "type": "parcoords"
           }
          ],
          "pie": [
           {
            "automargin": true,
            "type": "pie"
           }
          ],
          "scatter": [
           {
            "fillpattern": {
             "fillmode": "overlay",
             "size": 10,
             "solidity": 0.2
            },
            "type": "scatter"
           }
          ],
          "scatter3d": [
           {
            "line": {
             "colorbar": {
              "outlinewidth": 0,
              "ticks": ""
             }
            },
            "marker": {
             "colorbar": {
              "outlinewidth": 0,
              "ticks": ""
             }
            },
            "type": "scatter3d"
           }
          ],
          "scattercarpet": [
           {
            "marker": {
             "colorbar": {
              "outlinewidth": 0,
              "ticks": ""
             }
            },
            "type": "scattercarpet"
           }
          ],
          "scattergeo": [
           {
            "marker": {
             "colorbar": {
              "outlinewidth": 0,
              "ticks": ""
             }
            },
            "type": "scattergeo"
           }
          ],
          "scattergl": [
           {
            "marker": {
             "colorbar": {
              "outlinewidth": 0,
              "ticks": ""
             }
            },
            "type": "scattergl"
           }
          ],
          "scattermap": [
           {
            "marker": {
             "colorbar": {
              "outlinewidth": 0,
              "ticks": ""
             }
            },
            "type": "scattermap"
           }
          ],
          "scattermapbox": [
           {
            "marker": {
             "colorbar": {
              "outlinewidth": 0,
              "ticks": ""
             }
            },
            "type": "scattermapbox"
           }
          ],
          "scatterpolar": [
           {
            "marker": {
             "colorbar": {
              "outlinewidth": 0,
              "ticks": ""
             }
            },
            "type": "scatterpolar"
           }
          ],
          "scatterpolargl": [
           {
            "marker": {
             "colorbar": {
              "outlinewidth": 0,
              "ticks": ""
             }
            },
            "type": "scatterpolargl"
           }
          ],
          "scatterternary": [
           {
            "marker": {
             "colorbar": {
              "outlinewidth": 0,
              "ticks": ""
             }
            },
            "type": "scatterternary"
           }
          ],
          "surface": [
           {
            "colorbar": {
             "outlinewidth": 0,
             "ticks": ""
            },
            "colorscale": [
             [
              0,
              "#0d0887"
             ],
             [
              0.1111111111111111,
              "#46039f"
             ],
             [
              0.2222222222222222,
              "#7201a8"
             ],
             [
              0.3333333333333333,
              "#9c179e"
             ],
             [
              0.4444444444444444,
              "#bd3786"
             ],
             [
              0.5555555555555556,
              "#d8576b"
             ],
             [
              0.6666666666666666,
              "#ed7953"
             ],
             [
              0.7777777777777778,
              "#fb9f3a"
             ],
             [
              0.8888888888888888,
              "#fdca26"
             ],
             [
              1,
              "#f0f921"
             ]
            ],
            "type": "surface"
           }
          ],
          "table": [
           {
            "cells": {
             "fill": {
              "color": "#EBF0F8"
             },
             "line": {
              "color": "white"
             }
            },
            "header": {
             "fill": {
              "color": "#C8D4E3"
             },
             "line": {
              "color": "white"
             }
            },
            "type": "table"
           }
          ]
         },
         "layout": {
          "annotationdefaults": {
           "arrowcolor": "#2a3f5f",
           "arrowhead": 0,
           "arrowwidth": 1
          },
          "autotypenumbers": "strict",
          "coloraxis": {
           "colorbar": {
            "outlinewidth": 0,
            "ticks": ""
           }
          },
          "colorscale": {
           "diverging": [
            [
             0,
             "#8e0152"
            ],
            [
             0.1,
             "#c51b7d"
            ],
            [
             0.2,
             "#de77ae"
            ],
            [
             0.3,
             "#f1b6da"
            ],
            [
             0.4,
             "#fde0ef"
            ],
            [
             0.5,
             "#f7f7f7"
            ],
            [
             0.6,
             "#e6f5d0"
            ],
            [
             0.7,
             "#b8e186"
            ],
            [
             0.8,
             "#7fbc41"
            ],
            [
             0.9,
             "#4d9221"
            ],
            [
             1,
             "#276419"
            ]
           ],
           "sequential": [
            [
             0,
             "#0d0887"
            ],
            [
             0.1111111111111111,
             "#46039f"
            ],
            [
             0.2222222222222222,
             "#7201a8"
            ],
            [
             0.3333333333333333,
             "#9c179e"
            ],
            [
             0.4444444444444444,
             "#bd3786"
            ],
            [
             0.5555555555555556,
             "#d8576b"
            ],
            [
             0.6666666666666666,
             "#ed7953"
            ],
            [
             0.7777777777777778,
             "#fb9f3a"
            ],
            [
             0.8888888888888888,
             "#fdca26"
            ],
            [
             1,
             "#f0f921"
            ]
           ],
           "sequentialminus": [
            [
             0,
             "#0d0887"
            ],
            [
             0.1111111111111111,
             "#46039f"
            ],
            [
             0.2222222222222222,
             "#7201a8"
            ],
            [
             0.3333333333333333,
             "#9c179e"
            ],
            [
             0.4444444444444444,
             "#bd3786"
            ],
            [
             0.5555555555555556,
             "#d8576b"
            ],
            [
             0.6666666666666666,
             "#ed7953"
            ],
            [
             0.7777777777777778,
             "#fb9f3a"
            ],
            [
             0.8888888888888888,
             "#fdca26"
            ],
            [
             1,
             "#f0f921"
            ]
           ]
          },
          "colorway": [
           "#636efa",
           "#EF553B",
           "#00cc96",
           "#ab63fa",
           "#FFA15A",
           "#19d3f3",
           "#FF6692",
           "#B6E880",
           "#FF97FF",
           "#FECB52"
          ],
          "font": {
           "color": "#2a3f5f"
          },
          "geo": {
           "bgcolor": "white",
           "lakecolor": "white",
           "landcolor": "#E5ECF6",
           "showlakes": true,
           "showland": true,
           "subunitcolor": "white"
          },
          "hoverlabel": {
           "align": "left"
          },
          "hovermode": "closest",
          "mapbox": {
           "style": "light"
          },
          "paper_bgcolor": "white",
          "plot_bgcolor": "#E5ECF6",
          "polar": {
           "angularaxis": {
            "gridcolor": "white",
            "linecolor": "white",
            "ticks": ""
           },
           "bgcolor": "#E5ECF6",
           "radialaxis": {
            "gridcolor": "white",
            "linecolor": "white",
            "ticks": ""
           }
          },
          "scene": {
           "xaxis": {
            "backgroundcolor": "#E5ECF6",
            "gridcolor": "white",
            "gridwidth": 2,
            "linecolor": "white",
            "showbackground": true,
            "ticks": "",
            "zerolinecolor": "white"
           },
           "yaxis": {
            "backgroundcolor": "#E5ECF6",
            "gridcolor": "white",
            "gridwidth": 2,
            "linecolor": "white",
            "showbackground": true,
            "ticks": "",
            "zerolinecolor": "white"
           },
           "zaxis": {
            "backgroundcolor": "#E5ECF6",
            "gridcolor": "white",
            "gridwidth": 2,
            "linecolor": "white",
            "showbackground": true,
            "ticks": "",
            "zerolinecolor": "white"
           }
          },
          "shapedefaults": {
           "line": {
            "color": "#2a3f5f"
           }
          },
          "ternary": {
           "aaxis": {
            "gridcolor": "white",
            "linecolor": "white",
            "ticks": ""
           },
           "baxis": {
            "gridcolor": "white",
            "linecolor": "white",
            "ticks": ""
           },
           "bgcolor": "#E5ECF6",
           "caxis": {
            "gridcolor": "white",
            "linecolor": "white",
            "ticks": ""
           }
          },
          "title": {
           "x": 0.05
          },
          "xaxis": {
           "automargin": true,
           "gridcolor": "white",
           "linecolor": "white",
           "ticks": "",
           "title": {
            "standoff": 15
           },
           "zerolinecolor": "white",
           "zerolinewidth": 2
          },
          "yaxis": {
           "automargin": true,
           "gridcolor": "white",
           "linecolor": "white",
           "ticks": "",
           "title": {
            "standoff": 15
           },
           "zerolinecolor": "white",
           "zerolinewidth": 2
          }
         }
        },
        "xaxis": {
         "anchor": "y",
         "domain": [
          0,
          1
         ],
         "title": {
          "text": "timestamp"
         }
        },
        "yaxis": {
         "anchor": "x",
         "domain": [
          0,
          1
         ],
         "title": {
          "text": "sum of modification"
         }
        }
       }
      }
     },
     "metadata": {},
     "output_type": "display_data"
    }
   ],
   "source": [
    "import nbformat\n",
    "\n",
    "import plotly.express as px\n",
    "\n",
    "fig = px.histogram(\n",
    "    group,\n",
    "    x=\"timestamp\",\n",
    "    y=\"modification\",\n",
    "    nbins=20,\n",
    "    labels={\"x\": \"month\", \"y\": \"count\"},\n",
    ")\n",
    "fig.update_layout(bargap=0.2)\n",
    "fig.show()"
   ]
  },
  {
   "cell_type": "code",
   "execution_count": 17,
   "id": "18cd109a",
   "metadata": {},
   "outputs": [
    {
     "data": {
      "application/vnd.plotly.v1+json": {
       "config": {
        "plotlyServerURL": "https://plot.ly"
       },
       "data": [
        {
         "hovertemplate": "timestamp=%{x}<br>modification=%{y}<extra></extra>",
         "legendgroup": "",
         "marker": {
          "color": "#636efa",
          "symbol": "circle"
         },
         "mode": "markers",
         "name": "",
         "orientation": "v",
         "showlegend": false,
         "type": "scatter",
         "x": [
          "2021-03-10T00:00:00.000000000",
          "2021-03-26T00:00:00.000000000",
          "2021-03-30T00:00:00.000000000",
          "2021-04-03T00:00:00.000000000",
          "2021-04-08T00:00:00.000000000",
          "2021-04-09T00:00:00.000000000",
          "2021-04-13T00:00:00.000000000",
          "2021-04-27T00:00:00.000000000",
          "2021-05-01T00:00:00.000000000",
          "2021-05-10T00:00:00.000000000",
          "2021-05-14T00:00:00.000000000",
          "2021-05-16T00:00:00.000000000",
          "2021-05-23T00:00:00.000000000",
          "2021-05-24T00:00:00.000000000",
          "2021-06-22T00:00:00.000000000",
          "2021-07-08T00:00:00.000000000",
          "2021-07-10T00:00:00.000000000",
          "2021-07-16T00:00:00.000000000",
          "2021-07-20T00:00:00.000000000",
          "2021-07-29T00:00:00.000000000",
          "2021-07-31T00:00:00.000000000",
          "2021-08-09T00:00:00.000000000",
          "2021-08-11T00:00:00.000000000",
          "2021-08-16T00:00:00.000000000",
          "2021-08-18T00:00:00.000000000",
          "2021-08-22T00:00:00.000000000",
          "2021-08-28T00:00:00.000000000",
          "2021-09-27T00:00:00.000000000",
          "2021-10-11T00:00:00.000000000",
          "2021-10-12T00:00:00.000000000",
          "2021-10-28T00:00:00.000000000",
          "2021-10-31T00:00:00.000000000",
          "2021-11-10T00:00:00.000000000",
          "2021-11-16T00:00:00.000000000",
          "2021-11-19T00:00:00.000000000",
          "2021-11-25T00:00:00.000000000",
          "2021-12-15T00:00:00.000000000",
          "2021-12-16T00:00:00.000000000",
          "2021-12-22T00:00:00.000000000",
          "2021-12-24T00:00:00.000000000",
          "2021-12-30T00:00:00.000000000",
          "2022-01-01T00:00:00.000000000",
          "2022-01-10T00:00:00.000000000",
          "2022-01-24T00:00:00.000000000",
          "2022-01-31T00:00:00.000000000",
          "2022-02-01T00:00:00.000000000",
          "2022-02-08T00:00:00.000000000",
          "2022-02-10T00:00:00.000000000",
          "2022-02-16T00:00:00.000000000",
          "2022-02-27T00:00:00.000000000",
          "2022-03-14T00:00:00.000000000",
          "2022-04-04T00:00:00.000000000",
          "2022-05-02T00:00:00.000000000",
          "2022-05-11T00:00:00.000000000",
          "2022-05-26T00:00:00.000000000",
          "2022-05-27T00:00:00.000000000",
          "2022-06-01T00:00:00.000000000",
          "2022-06-03T00:00:00.000000000",
          "2022-06-09T00:00:00.000000000",
          "2022-06-20T00:00:00.000000000",
          "2022-06-21T00:00:00.000000000",
          "2022-06-23T00:00:00.000000000",
          "2022-07-03T00:00:00.000000000",
          "2022-07-04T00:00:00.000000000",
          "2022-07-06T00:00:00.000000000",
          "2022-07-07T00:00:00.000000000",
          "2022-07-08T00:00:00.000000000",
          "2022-07-12T00:00:00.000000000",
          "2022-07-16T00:00:00.000000000",
          "2022-07-18T00:00:00.000000000",
          "2022-07-19T00:00:00.000000000",
          "2022-07-24T00:00:00.000000000",
          "2022-07-27T00:00:00.000000000",
          "2022-08-02T00:00:00.000000000",
          "2022-08-03T00:00:00.000000000",
          "2022-08-04T00:00:00.000000000",
          "2022-08-14T00:00:00.000000000",
          "2022-08-19T00:00:00.000000000",
          "2022-08-27T00:00:00.000000000",
          "2022-08-28T00:00:00.000000000",
          "2022-09-03T00:00:00.000000000",
          "2022-09-10T00:00:00.000000000",
          "2022-09-11T00:00:00.000000000",
          "2022-09-12T00:00:00.000000000",
          "2022-09-14T00:00:00.000000000",
          "2022-09-16T00:00:00.000000000",
          "2022-09-29T00:00:00.000000000",
          "2022-10-01T00:00:00.000000000",
          "2022-10-05T00:00:00.000000000",
          "2022-10-13T00:00:00.000000000",
          "2022-10-18T00:00:00.000000000",
          "2022-10-19T00:00:00.000000000",
          "2022-10-25T00:00:00.000000000",
          "2022-10-28T00:00:00.000000000",
          "2022-10-29T00:00:00.000000000",
          "2022-11-06T00:00:00.000000000",
          "2022-11-14T00:00:00.000000000",
          "2022-11-17T00:00:00.000000000",
          "2022-11-22T00:00:00.000000000",
          "2022-11-23T00:00:00.000000000",
          "2022-11-26T00:00:00.000000000",
          "2022-11-27T00:00:00.000000000",
          "2022-12-05T00:00:00.000000000",
          "2022-12-10T00:00:00.000000000",
          "2022-12-13T00:00:00.000000000",
          "2022-12-21T00:00:00.000000000",
          "2023-01-13T00:00:00.000000000",
          "2023-01-27T00:00:00.000000000",
          "2023-01-29T00:00:00.000000000",
          "2023-02-14T00:00:00.000000000",
          "2023-02-18T00:00:00.000000000",
          "2023-02-20T00:00:00.000000000",
          "2023-02-23T00:00:00.000000000",
          "2023-02-24T00:00:00.000000000",
          "2023-03-01T00:00:00.000000000",
          "2023-03-04T00:00:00.000000000",
          "2023-03-16T00:00:00.000000000",
          "2023-03-19T00:00:00.000000000",
          "2023-03-22T00:00:00.000000000",
          "2023-03-24T00:00:00.000000000",
          "2023-04-14T00:00:00.000000000",
          "2023-04-26T00:00:00.000000000",
          "2023-05-10T00:00:00.000000000",
          "2023-05-13T00:00:00.000000000",
          "2023-05-26T00:00:00.000000000",
          "2023-05-29T00:00:00.000000000",
          "2023-06-20T00:00:00.000000000",
          "2023-06-28T00:00:00.000000000",
          "2023-06-30T00:00:00.000000000",
          "2023-07-02T00:00:00.000000000",
          "2023-07-18T00:00:00.000000000",
          "2023-07-22T00:00:00.000000000",
          "2023-07-23T00:00:00.000000000",
          "2023-07-25T00:00:00.000000000",
          "2023-08-06T00:00:00.000000000",
          "2023-08-25T00:00:00.000000000",
          "2023-08-26T00:00:00.000000000",
          "2023-09-01T00:00:00.000000000",
          "2023-09-12T00:00:00.000000000",
          "2023-09-19T00:00:00.000000000",
          "2023-09-20T00:00:00.000000000",
          "2023-10-20T00:00:00.000000000",
          "2023-10-29T00:00:00.000000000",
          "2023-11-05T00:00:00.000000000",
          "2023-11-17T00:00:00.000000000",
          "2023-11-25T00:00:00.000000000",
          "2023-12-02T00:00:00.000000000",
          "2023-12-04T00:00:00.000000000",
          "2023-12-06T00:00:00.000000000",
          "2023-12-09T00:00:00.000000000",
          "2023-12-12T00:00:00.000000000",
          "2023-12-17T00:00:00.000000000",
          "2023-12-19T00:00:00.000000000",
          "2023-12-30T00:00:00.000000000",
          "2023-12-31T00:00:00.000000000",
          "2024-01-03T00:00:00.000000000",
          "2024-01-13T00:00:00.000000000",
          "2024-01-19T00:00:00.000000000",
          "2024-01-23T00:00:00.000000000",
          "2024-01-24T00:00:00.000000000",
          "2024-01-27T00:00:00.000000000",
          "2024-01-28T00:00:00.000000000",
          "2024-01-31T00:00:00.000000000",
          "2024-02-08T00:00:00.000000000",
          "2024-02-12T00:00:00.000000000",
          "2024-02-24T00:00:00.000000000",
          "2024-02-26T00:00:00.000000000",
          "2024-03-01T00:00:00.000000000",
          "2024-03-02T00:00:00.000000000",
          "2024-03-07T00:00:00.000000000",
          "2024-03-08T00:00:00.000000000",
          "2024-03-16T00:00:00.000000000",
          "2024-03-17T00:00:00.000000000",
          "2024-03-25T00:00:00.000000000",
          "2024-04-19T00:00:00.000000000",
          "2024-05-02T00:00:00.000000000",
          "2024-05-09T00:00:00.000000000",
          "2024-05-21T00:00:00.000000000",
          "2024-05-27T00:00:00.000000000",
          "2024-05-28T00:00:00.000000000",
          "2024-06-04T00:00:00.000000000",
          "2024-06-19T00:00:00.000000000",
          "2024-07-03T00:00:00.000000000",
          "2024-07-11T00:00:00.000000000",
          "2024-07-18T00:00:00.000000000",
          "2024-07-19T00:00:00.000000000",
          "2024-07-28T00:00:00.000000000",
          "2024-07-29T00:00:00.000000000",
          "2024-08-12T00:00:00.000000000",
          "2024-08-20T00:00:00.000000000",
          "2024-08-24T00:00:00.000000000",
          "2024-08-27T00:00:00.000000000",
          "2024-08-28T00:00:00.000000000",
          "2024-09-11T00:00:00.000000000",
          "2024-10-06T00:00:00.000000000",
          "2024-10-16T00:00:00.000000000",
          "2024-10-18T00:00:00.000000000",
          "2024-10-25T00:00:00.000000000",
          "2024-10-29T00:00:00.000000000",
          "2024-10-31T00:00:00.000000000",
          "2024-11-09T00:00:00.000000000",
          "2024-11-18T00:00:00.000000000",
          "2024-11-22T00:00:00.000000000",
          "2024-11-25T00:00:00.000000000",
          "2024-12-03T00:00:00.000000000",
          "2024-12-04T00:00:00.000000000",
          "2024-12-07T00:00:00.000000000",
          "2024-12-08T00:00:00.000000000",
          "2024-12-13T00:00:00.000000000",
          "2024-12-15T00:00:00.000000000",
          "2024-12-16T00:00:00.000000000",
          "2024-12-21T00:00:00.000000000",
          "2024-12-24T00:00:00.000000000",
          "2024-12-30T00:00:00.000000000",
          "2025-01-02T00:00:00.000000000",
          "2025-01-31T00:00:00.000000000",
          "2025-02-11T00:00:00.000000000",
          "2025-02-19T00:00:00.000000000",
          "2025-03-02T00:00:00.000000000",
          "2025-03-13T00:00:00.000000000",
          "2025-03-16T00:00:00.000000000",
          "2025-03-18T00:00:00.000000000",
          "2025-03-21T00:00:00.000000000",
          "2025-03-22T00:00:00.000000000",
          "2025-04-17T00:00:00.000000000",
          "2025-04-20T00:00:00.000000000",
          "2025-05-04T00:00:00.000000000",
          "2025-05-05T00:00:00.000000000",
          "2025-05-07T00:00:00.000000000",
          "2025-05-10T00:00:00.000000000"
         ],
         "xaxis": "x",
         "y": {
          "bdata": "AgMBAgECAQEBAQEDAgEBAwMECAEBAgQWAQEBAQEBAgEBAQEBDQIDAQIBAgIBAgEBAQEBAgECAQMBAQECAQECAQEBAQIBAQICAQEBAgIBAQIBAQEBAQUFAQEBAQEDAQEBAQMBAgECAQEBAQECAgNAAQMBAQMEAwEBAgEBAQECAQEBAgEBAQEBAQIBAQECAgMDAQEBBAEBBQEBAgIBAwIBAQEBAQEGAQMBBAEBAgEBAwMBAwMBAgICAQEBAQEBAgECCAMBAgEDAQQBAQEBAgECAgEBAQMHBgEBBgEBAQMBAgIBAwECDAI=",
          "dtype": "i1"
         },
         "yaxis": "y"
        }
       ],
       "layout": {
        "bargap": 0.2,
        "legend": {
         "tracegroupgap": 0
        },
        "margin": {
         "t": 60
        },
        "template": {
         "data": {
          "bar": [
           {
            "error_x": {
             "color": "#2a3f5f"
            },
            "error_y": {
             "color": "#2a3f5f"
            },
            "marker": {
             "line": {
              "color": "#E5ECF6",
              "width": 0.5
             },
             "pattern": {
              "fillmode": "overlay",
              "size": 10,
              "solidity": 0.2
             }
            },
            "type": "bar"
           }
          ],
          "barpolar": [
           {
            "marker": {
             "line": {
              "color": "#E5ECF6",
              "width": 0.5
             },
             "pattern": {
              "fillmode": "overlay",
              "size": 10,
              "solidity": 0.2
             }
            },
            "type": "barpolar"
           }
          ],
          "carpet": [
           {
            "aaxis": {
             "endlinecolor": "#2a3f5f",
             "gridcolor": "white",
             "linecolor": "white",
             "minorgridcolor": "white",
             "startlinecolor": "#2a3f5f"
            },
            "baxis": {
             "endlinecolor": "#2a3f5f",
             "gridcolor": "white",
             "linecolor": "white",
             "minorgridcolor": "white",
             "startlinecolor": "#2a3f5f"
            },
            "type": "carpet"
           }
          ],
          "choropleth": [
           {
            "colorbar": {
             "outlinewidth": 0,
             "ticks": ""
            },
            "type": "choropleth"
           }
          ],
          "contour": [
           {
            "colorbar": {
             "outlinewidth": 0,
             "ticks": ""
            },
            "colorscale": [
             [
              0,
              "#0d0887"
             ],
             [
              0.1111111111111111,
              "#46039f"
             ],
             [
              0.2222222222222222,
              "#7201a8"
             ],
             [
              0.3333333333333333,
              "#9c179e"
             ],
             [
              0.4444444444444444,
              "#bd3786"
             ],
             [
              0.5555555555555556,
              "#d8576b"
             ],
             [
              0.6666666666666666,
              "#ed7953"
             ],
             [
              0.7777777777777778,
              "#fb9f3a"
             ],
             [
              0.8888888888888888,
              "#fdca26"
             ],
             [
              1,
              "#f0f921"
             ]
            ],
            "type": "contour"
           }
          ],
          "contourcarpet": [
           {
            "colorbar": {
             "outlinewidth": 0,
             "ticks": ""
            },
            "type": "contourcarpet"
           }
          ],
          "heatmap": [
           {
            "colorbar": {
             "outlinewidth": 0,
             "ticks": ""
            },
            "colorscale": [
             [
              0,
              "#0d0887"
             ],
             [
              0.1111111111111111,
              "#46039f"
             ],
             [
              0.2222222222222222,
              "#7201a8"
             ],
             [
              0.3333333333333333,
              "#9c179e"
             ],
             [
              0.4444444444444444,
              "#bd3786"
             ],
             [
              0.5555555555555556,
              "#d8576b"
             ],
             [
              0.6666666666666666,
              "#ed7953"
             ],
             [
              0.7777777777777778,
              "#fb9f3a"
             ],
             [
              0.8888888888888888,
              "#fdca26"
             ],
             [
              1,
              "#f0f921"
             ]
            ],
            "type": "heatmap"
           }
          ],
          "histogram": [
           {
            "marker": {
             "pattern": {
              "fillmode": "overlay",
              "size": 10,
              "solidity": 0.2
             }
            },
            "type": "histogram"
           }
          ],
          "histogram2d": [
           {
            "colorbar": {
             "outlinewidth": 0,
             "ticks": ""
            },
            "colorscale": [
             [
              0,
              "#0d0887"
             ],
             [
              0.1111111111111111,
              "#46039f"
             ],
             [
              0.2222222222222222,
              "#7201a8"
             ],
             [
              0.3333333333333333,
              "#9c179e"
             ],
             [
              0.4444444444444444,
              "#bd3786"
             ],
             [
              0.5555555555555556,
              "#d8576b"
             ],
             [
              0.6666666666666666,
              "#ed7953"
             ],
             [
              0.7777777777777778,
              "#fb9f3a"
             ],
             [
              0.8888888888888888,
              "#fdca26"
             ],
             [
              1,
              "#f0f921"
             ]
            ],
            "type": "histogram2d"
           }
          ],
          "histogram2dcontour": [
           {
            "colorbar": {
             "outlinewidth": 0,
             "ticks": ""
            },
            "colorscale": [
             [
              0,
              "#0d0887"
             ],
             [
              0.1111111111111111,
              "#46039f"
             ],
             [
              0.2222222222222222,
              "#7201a8"
             ],
             [
              0.3333333333333333,
              "#9c179e"
             ],
             [
              0.4444444444444444,
              "#bd3786"
             ],
             [
              0.5555555555555556,
              "#d8576b"
             ],
             [
              0.6666666666666666,
              "#ed7953"
             ],
             [
              0.7777777777777778,
              "#fb9f3a"
             ],
             [
              0.8888888888888888,
              "#fdca26"
             ],
             [
              1,
              "#f0f921"
             ]
            ],
            "type": "histogram2dcontour"
           }
          ],
          "mesh3d": [
           {
            "colorbar": {
             "outlinewidth": 0,
             "ticks": ""
            },
            "type": "mesh3d"
           }
          ],
          "parcoords": [
           {
            "line": {
             "colorbar": {
              "outlinewidth": 0,
              "ticks": ""
             }
            },
            "type": "parcoords"
           }
          ],
          "pie": [
           {
            "automargin": true,
            "type": "pie"
           }
          ],
          "scatter": [
           {
            "fillpattern": {
             "fillmode": "overlay",
             "size": 10,
             "solidity": 0.2
            },
            "type": "scatter"
           }
          ],
          "scatter3d": [
           {
            "line": {
             "colorbar": {
              "outlinewidth": 0,
              "ticks": ""
             }
            },
            "marker": {
             "colorbar": {
              "outlinewidth": 0,
              "ticks": ""
             }
            },
            "type": "scatter3d"
           }
          ],
          "scattercarpet": [
           {
            "marker": {
             "colorbar": {
              "outlinewidth": 0,
              "ticks": ""
             }
            },
            "type": "scattercarpet"
           }
          ],
          "scattergeo": [
           {
            "marker": {
             "colorbar": {
              "outlinewidth": 0,
              "ticks": ""
             }
            },
            "type": "scattergeo"
           }
          ],
          "scattergl": [
           {
            "marker": {
             "colorbar": {
              "outlinewidth": 0,
              "ticks": ""
             }
            },
            "type": "scattergl"
           }
          ],
          "scattermap": [
           {
            "marker": {
             "colorbar": {
              "outlinewidth": 0,
              "ticks": ""
             }
            },
            "type": "scattermap"
           }
          ],
          "scattermapbox": [
           {
            "marker": {
             "colorbar": {
              "outlinewidth": 0,
              "ticks": ""
             }
            },
            "type": "scattermapbox"
           }
          ],
          "scatterpolar": [
           {
            "marker": {
             "colorbar": {
              "outlinewidth": 0,
              "ticks": ""
             }
            },
            "type": "scatterpolar"
           }
          ],
          "scatterpolargl": [
           {
            "marker": {
             "colorbar": {
              "outlinewidth": 0,
              "ticks": ""
             }
            },
            "type": "scatterpolargl"
           }
          ],
          "scatterternary": [
           {
            "marker": {
             "colorbar": {
              "outlinewidth": 0,
              "ticks": ""
             }
            },
            "type": "scatterternary"
           }
          ],
          "surface": [
           {
            "colorbar": {
             "outlinewidth": 0,
             "ticks": ""
            },
            "colorscale": [
             [
              0,
              "#0d0887"
             ],
             [
              0.1111111111111111,
              "#46039f"
             ],
             [
              0.2222222222222222,
              "#7201a8"
             ],
             [
              0.3333333333333333,
              "#9c179e"
             ],
             [
              0.4444444444444444,
              "#bd3786"
             ],
             [
              0.5555555555555556,
              "#d8576b"
             ],
             [
              0.6666666666666666,
              "#ed7953"
             ],
             [
              0.7777777777777778,
              "#fb9f3a"
             ],
             [
              0.8888888888888888,
              "#fdca26"
             ],
             [
              1,
              "#f0f921"
             ]
            ],
            "type": "surface"
           }
          ],
          "table": [
           {
            "cells": {
             "fill": {
              "color": "#EBF0F8"
             },
             "line": {
              "color": "white"
             }
            },
            "header": {
             "fill": {
              "color": "#C8D4E3"
             },
             "line": {
              "color": "white"
             }
            },
            "type": "table"
           }
          ]
         },
         "layout": {
          "annotationdefaults": {
           "arrowcolor": "#2a3f5f",
           "arrowhead": 0,
           "arrowwidth": 1
          },
          "autotypenumbers": "strict",
          "coloraxis": {
           "colorbar": {
            "outlinewidth": 0,
            "ticks": ""
           }
          },
          "colorscale": {
           "diverging": [
            [
             0,
             "#8e0152"
            ],
            [
             0.1,
             "#c51b7d"
            ],
            [
             0.2,
             "#de77ae"
            ],
            [
             0.3,
             "#f1b6da"
            ],
            [
             0.4,
             "#fde0ef"
            ],
            [
             0.5,
             "#f7f7f7"
            ],
            [
             0.6,
             "#e6f5d0"
            ],
            [
             0.7,
             "#b8e186"
            ],
            [
             0.8,
             "#7fbc41"
            ],
            [
             0.9,
             "#4d9221"
            ],
            [
             1,
             "#276419"
            ]
           ],
           "sequential": [
            [
             0,
             "#0d0887"
            ],
            [
             0.1111111111111111,
             "#46039f"
            ],
            [
             0.2222222222222222,
             "#7201a8"
            ],
            [
             0.3333333333333333,
             "#9c179e"
            ],
            [
             0.4444444444444444,
             "#bd3786"
            ],
            [
             0.5555555555555556,
             "#d8576b"
            ],
            [
             0.6666666666666666,
             "#ed7953"
            ],
            [
             0.7777777777777778,
             "#fb9f3a"
            ],
            [
             0.8888888888888888,
             "#fdca26"
            ],
            [
             1,
             "#f0f921"
            ]
           ],
           "sequentialminus": [
            [
             0,
             "#0d0887"
            ],
            [
             0.1111111111111111,
             "#46039f"
            ],
            [
             0.2222222222222222,
             "#7201a8"
            ],
            [
             0.3333333333333333,
             "#9c179e"
            ],
            [
             0.4444444444444444,
             "#bd3786"
            ],
            [
             0.5555555555555556,
             "#d8576b"
            ],
            [
             0.6666666666666666,
             "#ed7953"
            ],
            [
             0.7777777777777778,
             "#fb9f3a"
            ],
            [
             0.8888888888888888,
             "#fdca26"
            ],
            [
             1,
             "#f0f921"
            ]
           ]
          },
          "colorway": [
           "#636efa",
           "#EF553B",
           "#00cc96",
           "#ab63fa",
           "#FFA15A",
           "#19d3f3",
           "#FF6692",
           "#B6E880",
           "#FF97FF",
           "#FECB52"
          ],
          "font": {
           "color": "#2a3f5f"
          },
          "geo": {
           "bgcolor": "white",
           "lakecolor": "white",
           "landcolor": "#E5ECF6",
           "showlakes": true,
           "showland": true,
           "subunitcolor": "white"
          },
          "hoverlabel": {
           "align": "left"
          },
          "hovermode": "closest",
          "mapbox": {
           "style": "light"
          },
          "paper_bgcolor": "white",
          "plot_bgcolor": "#E5ECF6",
          "polar": {
           "angularaxis": {
            "gridcolor": "white",
            "linecolor": "white",
            "ticks": ""
           },
           "bgcolor": "#E5ECF6",
           "radialaxis": {
            "gridcolor": "white",
            "linecolor": "white",
            "ticks": ""
           }
          },
          "scene": {
           "xaxis": {
            "backgroundcolor": "#E5ECF6",
            "gridcolor": "white",
            "gridwidth": 2,
            "linecolor": "white",
            "showbackground": true,
            "ticks": "",
            "zerolinecolor": "white"
           },
           "yaxis": {
            "backgroundcolor": "#E5ECF6",
            "gridcolor": "white",
            "gridwidth": 2,
            "linecolor": "white",
            "showbackground": true,
            "ticks": "",
            "zerolinecolor": "white"
           },
           "zaxis": {
            "backgroundcolor": "#E5ECF6",
            "gridcolor": "white",
            "gridwidth": 2,
            "linecolor": "white",
            "showbackground": true,
            "ticks": "",
            "zerolinecolor": "white"
           }
          },
          "shapedefaults": {
           "line": {
            "color": "#2a3f5f"
           }
          },
          "ternary": {
           "aaxis": {
            "gridcolor": "white",
            "linecolor": "white",
            "ticks": ""
           },
           "baxis": {
            "gridcolor": "white",
            "linecolor": "white",
            "ticks": ""
           },
           "bgcolor": "#E5ECF6",
           "caxis": {
            "gridcolor": "white",
            "linecolor": "white",
            "ticks": ""
           }
          },
          "title": {
           "x": 0.05
          },
          "xaxis": {
           "automargin": true,
           "gridcolor": "white",
           "linecolor": "white",
           "ticks": "",
           "title": {
            "standoff": 15
           },
           "zerolinecolor": "white",
           "zerolinewidth": 2
          },
          "yaxis": {
           "automargin": true,
           "gridcolor": "white",
           "linecolor": "white",
           "ticks": "",
           "title": {
            "standoff": 15
           },
           "zerolinecolor": "white",
           "zerolinewidth": 2
          }
         }
        },
        "xaxis": {
         "anchor": "y",
         "domain": [
          0,
          1
         ],
         "title": {
          "text": "timestamp"
         }
        },
        "yaxis": {
         "anchor": "x",
         "domain": [
          0,
          1
         ],
         "title": {
          "text": "modification"
         }
        }
       }
      }
     },
     "metadata": {},
     "output_type": "display_data"
    }
   ],
   "source": [
    "import plotly.express as px\n",
    "\n",
    "fig = px.scatter(\n",
    "    group, x=\"timestamp\", y=\"modification\", labels={\"x\": \"month\", \"y\": \"count\"}\n",
    ")\n",
    "fig.update_layout(bargap=0.2)\n",
    "fig.show()"
   ]
  },
  {
   "cell_type": "code",
   "execution_count": 18,
   "id": "ea2b12df",
   "metadata": {},
   "outputs": [
    {
     "data": {
      "application/vnd.plotly.v1+json": {
       "config": {
        "plotlyServerURL": "https://plot.ly"
       },
       "data": [
        {
         "bingroup": "x",
         "histnorm": "probability density",
         "hovertemplate": "modification=%{x}<br>probability density=%{y}<extra></extra>",
         "legendgroup": "",
         "marker": {
          "color": "#636efa",
          "pattern": {
           "shape": ""
          }
         },
         "name": "",
         "nbinsx": 20,
         "orientation": "v",
         "showlegend": false,
         "type": "histogram",
         "x": {
          "bdata": "AgMBAgECAQEBAQEDAgEBAwMECAEBAgQWAQEBAQEBAgEBAQEBDQIDAQIBAgIBAgEBAQEBAgECAQMBAQECAQECAQEBAQIBAQICAQEBAgIBAQIBAQEBAQUFAQEBAQEDAQEBAQMBAgECAQEBAQECAgNAAQMBAQMEAwEBAgEBAQECAQEBAgEBAQEBAQIBAQECAgMDAQEBBAEBBQEBAgIBAwIBAQEBAQEGAQMBBAEBAgEBAwMBAwMBAgICAQEBAQEBAgECCAMBAgEDAQQBAQEBAgECAgEBAQMHBgEBBgEBAQMBAgIBAwECDAI=",
          "dtype": "i1"
         },
         "xaxis": "x",
         "yaxis": "y"
        }
       ],
       "layout": {
        "bargap": 0.2,
        "barmode": "relative",
        "legend": {
         "tracegroupgap": 0
        },
        "margin": {
         "t": 60
        },
        "template": {
         "data": {
          "bar": [
           {
            "error_x": {
             "color": "#2a3f5f"
            },
            "error_y": {
             "color": "#2a3f5f"
            },
            "marker": {
             "line": {
              "color": "#E5ECF6",
              "width": 0.5
             },
             "pattern": {
              "fillmode": "overlay",
              "size": 10,
              "solidity": 0.2
             }
            },
            "type": "bar"
           }
          ],
          "barpolar": [
           {
            "marker": {
             "line": {
              "color": "#E5ECF6",
              "width": 0.5
             },
             "pattern": {
              "fillmode": "overlay",
              "size": 10,
              "solidity": 0.2
             }
            },
            "type": "barpolar"
           }
          ],
          "carpet": [
           {
            "aaxis": {
             "endlinecolor": "#2a3f5f",
             "gridcolor": "white",
             "linecolor": "white",
             "minorgridcolor": "white",
             "startlinecolor": "#2a3f5f"
            },
            "baxis": {
             "endlinecolor": "#2a3f5f",
             "gridcolor": "white",
             "linecolor": "white",
             "minorgridcolor": "white",
             "startlinecolor": "#2a3f5f"
            },
            "type": "carpet"
           }
          ],
          "choropleth": [
           {
            "colorbar": {
             "outlinewidth": 0,
             "ticks": ""
            },
            "type": "choropleth"
           }
          ],
          "contour": [
           {
            "colorbar": {
             "outlinewidth": 0,
             "ticks": ""
            },
            "colorscale": [
             [
              0,
              "#0d0887"
             ],
             [
              0.1111111111111111,
              "#46039f"
             ],
             [
              0.2222222222222222,
              "#7201a8"
             ],
             [
              0.3333333333333333,
              "#9c179e"
             ],
             [
              0.4444444444444444,
              "#bd3786"
             ],
             [
              0.5555555555555556,
              "#d8576b"
             ],
             [
              0.6666666666666666,
              "#ed7953"
             ],
             [
              0.7777777777777778,
              "#fb9f3a"
             ],
             [
              0.8888888888888888,
              "#fdca26"
             ],
             [
              1,
              "#f0f921"
             ]
            ],
            "type": "contour"
           }
          ],
          "contourcarpet": [
           {
            "colorbar": {
             "outlinewidth": 0,
             "ticks": ""
            },
            "type": "contourcarpet"
           }
          ],
          "heatmap": [
           {
            "colorbar": {
             "outlinewidth": 0,
             "ticks": ""
            },
            "colorscale": [
             [
              0,
              "#0d0887"
             ],
             [
              0.1111111111111111,
              "#46039f"
             ],
             [
              0.2222222222222222,
              "#7201a8"
             ],
             [
              0.3333333333333333,
              "#9c179e"
             ],
             [
              0.4444444444444444,
              "#bd3786"
             ],
             [
              0.5555555555555556,
              "#d8576b"
             ],
             [
              0.6666666666666666,
              "#ed7953"
             ],
             [
              0.7777777777777778,
              "#fb9f3a"
             ],
             [
              0.8888888888888888,
              "#fdca26"
             ],
             [
              1,
              "#f0f921"
             ]
            ],
            "type": "heatmap"
           }
          ],
          "histogram": [
           {
            "marker": {
             "pattern": {
              "fillmode": "overlay",
              "size": 10,
              "solidity": 0.2
             }
            },
            "type": "histogram"
           }
          ],
          "histogram2d": [
           {
            "colorbar": {
             "outlinewidth": 0,
             "ticks": ""
            },
            "colorscale": [
             [
              0,
              "#0d0887"
             ],
             [
              0.1111111111111111,
              "#46039f"
             ],
             [
              0.2222222222222222,
              "#7201a8"
             ],
             [
              0.3333333333333333,
              "#9c179e"
             ],
             [
              0.4444444444444444,
              "#bd3786"
             ],
             [
              0.5555555555555556,
              "#d8576b"
             ],
             [
              0.6666666666666666,
              "#ed7953"
             ],
             [
              0.7777777777777778,
              "#fb9f3a"
             ],
             [
              0.8888888888888888,
              "#fdca26"
             ],
             [
              1,
              "#f0f921"
             ]
            ],
            "type": "histogram2d"
           }
          ],
          "histogram2dcontour": [
           {
            "colorbar": {
             "outlinewidth": 0,
             "ticks": ""
            },
            "colorscale": [
             [
              0,
              "#0d0887"
             ],
             [
              0.1111111111111111,
              "#46039f"
             ],
             [
              0.2222222222222222,
              "#7201a8"
             ],
             [
              0.3333333333333333,
              "#9c179e"
             ],
             [
              0.4444444444444444,
              "#bd3786"
             ],
             [
              0.5555555555555556,
              "#d8576b"
             ],
             [
              0.6666666666666666,
              "#ed7953"
             ],
             [
              0.7777777777777778,
              "#fb9f3a"
             ],
             [
              0.8888888888888888,
              "#fdca26"
             ],
             [
              1,
              "#f0f921"
             ]
            ],
            "type": "histogram2dcontour"
           }
          ],
          "mesh3d": [
           {
            "colorbar": {
             "outlinewidth": 0,
             "ticks": ""
            },
            "type": "mesh3d"
           }
          ],
          "parcoords": [
           {
            "line": {
             "colorbar": {
              "outlinewidth": 0,
              "ticks": ""
             }
            },
            "type": "parcoords"
           }
          ],
          "pie": [
           {
            "automargin": true,
            "type": "pie"
           }
          ],
          "scatter": [
           {
            "fillpattern": {
             "fillmode": "overlay",
             "size": 10,
             "solidity": 0.2
            },
            "type": "scatter"
           }
          ],
          "scatter3d": [
           {
            "line": {
             "colorbar": {
              "outlinewidth": 0,
              "ticks": ""
             }
            },
            "marker": {
             "colorbar": {
              "outlinewidth": 0,
              "ticks": ""
             }
            },
            "type": "scatter3d"
           }
          ],
          "scattercarpet": [
           {
            "marker": {
             "colorbar": {
              "outlinewidth": 0,
              "ticks": ""
             }
            },
            "type": "scattercarpet"
           }
          ],
          "scattergeo": [
           {
            "marker": {
             "colorbar": {
              "outlinewidth": 0,
              "ticks": ""
             }
            },
            "type": "scattergeo"
           }
          ],
          "scattergl": [
           {
            "marker": {
             "colorbar": {
              "outlinewidth": 0,
              "ticks": ""
             }
            },
            "type": "scattergl"
           }
          ],
          "scattermap": [
           {
            "marker": {
             "colorbar": {
              "outlinewidth": 0,
              "ticks": ""
             }
            },
            "type": "scattermap"
           }
          ],
          "scattermapbox": [
           {
            "marker": {
             "colorbar": {
              "outlinewidth": 0,
              "ticks": ""
             }
            },
            "type": "scattermapbox"
           }
          ],
          "scatterpolar": [
           {
            "marker": {
             "colorbar": {
              "outlinewidth": 0,
              "ticks": ""
             }
            },
            "type": "scatterpolar"
           }
          ],
          "scatterpolargl": [
           {
            "marker": {
             "colorbar": {
              "outlinewidth": 0,
              "ticks": ""
             }
            },
            "type": "scatterpolargl"
           }
          ],
          "scatterternary": [
           {
            "marker": {
             "colorbar": {
              "outlinewidth": 0,
              "ticks": ""
             }
            },
            "type": "scatterternary"
           }
          ],
          "surface": [
           {
            "colorbar": {
             "outlinewidth": 0,
             "ticks": ""
            },
            "colorscale": [
             [
              0,
              "#0d0887"
             ],
             [
              0.1111111111111111,
              "#46039f"
             ],
             [
              0.2222222222222222,
              "#7201a8"
             ],
             [
              0.3333333333333333,
              "#9c179e"
             ],
             [
              0.4444444444444444,
              "#bd3786"
             ],
             [
              0.5555555555555556,
              "#d8576b"
             ],
             [
              0.6666666666666666,
              "#ed7953"
             ],
             [
              0.7777777777777778,
              "#fb9f3a"
             ],
             [
              0.8888888888888888,
              "#fdca26"
             ],
             [
              1,
              "#f0f921"
             ]
            ],
            "type": "surface"
           }
          ],
          "table": [
           {
            "cells": {
             "fill": {
              "color": "#EBF0F8"
             },
             "line": {
              "color": "white"
             }
            },
            "header": {
             "fill": {
              "color": "#C8D4E3"
             },
             "line": {
              "color": "white"
             }
            },
            "type": "table"
           }
          ]
         },
         "layout": {
          "annotationdefaults": {
           "arrowcolor": "#2a3f5f",
           "arrowhead": 0,
           "arrowwidth": 1
          },
          "autotypenumbers": "strict",
          "coloraxis": {
           "colorbar": {
            "outlinewidth": 0,
            "ticks": ""
           }
          },
          "colorscale": {
           "diverging": [
            [
             0,
             "#8e0152"
            ],
            [
             0.1,
             "#c51b7d"
            ],
            [
             0.2,
             "#de77ae"
            ],
            [
             0.3,
             "#f1b6da"
            ],
            [
             0.4,
             "#fde0ef"
            ],
            [
             0.5,
             "#f7f7f7"
            ],
            [
             0.6,
             "#e6f5d0"
            ],
            [
             0.7,
             "#b8e186"
            ],
            [
             0.8,
             "#7fbc41"
            ],
            [
             0.9,
             "#4d9221"
            ],
            [
             1,
             "#276419"
            ]
           ],
           "sequential": [
            [
             0,
             "#0d0887"
            ],
            [
             0.1111111111111111,
             "#46039f"
            ],
            [
             0.2222222222222222,
             "#7201a8"
            ],
            [
             0.3333333333333333,
             "#9c179e"
            ],
            [
             0.4444444444444444,
             "#bd3786"
            ],
            [
             0.5555555555555556,
             "#d8576b"
            ],
            [
             0.6666666666666666,
             "#ed7953"
            ],
            [
             0.7777777777777778,
             "#fb9f3a"
            ],
            [
             0.8888888888888888,
             "#fdca26"
            ],
            [
             1,
             "#f0f921"
            ]
           ],
           "sequentialminus": [
            [
             0,
             "#0d0887"
            ],
            [
             0.1111111111111111,
             "#46039f"
            ],
            [
             0.2222222222222222,
             "#7201a8"
            ],
            [
             0.3333333333333333,
             "#9c179e"
            ],
            [
             0.4444444444444444,
             "#bd3786"
            ],
            [
             0.5555555555555556,
             "#d8576b"
            ],
            [
             0.6666666666666666,
             "#ed7953"
            ],
            [
             0.7777777777777778,
             "#fb9f3a"
            ],
            [
             0.8888888888888888,
             "#fdca26"
            ],
            [
             1,
             "#f0f921"
            ]
           ]
          },
          "colorway": [
           "#636efa",
           "#EF553B",
           "#00cc96",
           "#ab63fa",
           "#FFA15A",
           "#19d3f3",
           "#FF6692",
           "#B6E880",
           "#FF97FF",
           "#FECB52"
          ],
          "font": {
           "color": "#2a3f5f"
          },
          "geo": {
           "bgcolor": "white",
           "lakecolor": "white",
           "landcolor": "#E5ECF6",
           "showlakes": true,
           "showland": true,
           "subunitcolor": "white"
          },
          "hoverlabel": {
           "align": "left"
          },
          "hovermode": "closest",
          "mapbox": {
           "style": "light"
          },
          "paper_bgcolor": "white",
          "plot_bgcolor": "#E5ECF6",
          "polar": {
           "angularaxis": {
            "gridcolor": "white",
            "linecolor": "white",
            "ticks": ""
           },
           "bgcolor": "#E5ECF6",
           "radialaxis": {
            "gridcolor": "white",
            "linecolor": "white",
            "ticks": ""
           }
          },
          "scene": {
           "xaxis": {
            "backgroundcolor": "#E5ECF6",
            "gridcolor": "white",
            "gridwidth": 2,
            "linecolor": "white",
            "showbackground": true,
            "ticks": "",
            "zerolinecolor": "white"
           },
           "yaxis": {
            "backgroundcolor": "#E5ECF6",
            "gridcolor": "white",
            "gridwidth": 2,
            "linecolor": "white",
            "showbackground": true,
            "ticks": "",
            "zerolinecolor": "white"
           },
           "zaxis": {
            "backgroundcolor": "#E5ECF6",
            "gridcolor": "white",
            "gridwidth": 2,
            "linecolor": "white",
            "showbackground": true,
            "ticks": "",
            "zerolinecolor": "white"
           }
          },
          "shapedefaults": {
           "line": {
            "color": "#2a3f5f"
           }
          },
          "ternary": {
           "aaxis": {
            "gridcolor": "white",
            "linecolor": "white",
            "ticks": ""
           },
           "baxis": {
            "gridcolor": "white",
            "linecolor": "white",
            "ticks": ""
           },
           "bgcolor": "#E5ECF6",
           "caxis": {
            "gridcolor": "white",
            "linecolor": "white",
            "ticks": ""
           }
          },
          "title": {
           "x": 0.05
          },
          "xaxis": {
           "automargin": true,
           "gridcolor": "white",
           "linecolor": "white",
           "ticks": "",
           "title": {
            "standoff": 15
           },
           "zerolinecolor": "white",
           "zerolinewidth": 2
          },
          "yaxis": {
           "automargin": true,
           "gridcolor": "white",
           "linecolor": "white",
           "ticks": "",
           "title": {
            "standoff": 15
           },
           "zerolinecolor": "white",
           "zerolinewidth": 2
          }
         }
        },
        "xaxis": {
         "anchor": "y",
         "domain": [
          0,
          1
         ],
         "title": {
          "text": "modification"
         }
        },
        "yaxis": {
         "anchor": "x",
         "domain": [
          0,
          1
         ],
         "title": {
          "text": "probability density"
         }
        }
       }
      }
     },
     "metadata": {},
     "output_type": "display_data"
    }
   ],
   "source": [
    "import plotly.express as px\n",
    "\n",
    "fig = px.histogram(group, x=\"modification\", histnorm=\"probability density\", nbins=20)\n",
    "fig.update_layout(bargap=0.2)\n",
    "fig.show()"
   ]
  },
  {
   "cell_type": "code",
   "execution_count": 19,
   "id": "1f5979ee",
   "metadata": {},
   "outputs": [],
   "source": [
    "#%pip install SPARQLWrapper"
   ]
  },
  {
   "cell_type": "code",
   "execution_count": 20,
   "id": "b7b23cea",
   "metadata": {},
   "outputs": [],
   "source": [
    "import sys\n",
    "from SPARQLWrapper import SPARQLWrapper, JSON\n",
    "\n",
    "endpoint_url = \"https://query.wikidata.org/sparql\"\n",
    "\n",
    "query = \"\"\"SELECT ?heritagesite ?label ?coordinates {\n",
    "  ?heritagesite wdt:P1435 wd:Q9259;\n",
    "        wdt:P17 wd:Q142;\n",
    "        rdfs:label ?label;\n",
    "        wdt:P625 ?coordinates.\n",
    "        FILTER (lang(?label)=\"en\")\n",
    "}\n",
    "LIMIT 100\n",
    "\"\"\"\n",
    "\n",
    "\n",
    "def get_results(endpoint_url, query):\n",
    "    user_agent = \"WDQS-example Python/%s.%s\" % (\n",
    "        sys.version_info[0],\n",
    "        sys.version_info[1],\n",
    "    )\n",
    "    sparql = SPARQLWrapper(endpoint_url, agent=user_agent)\n",
    "    sparql.setQuery(query)\n",
    "    sparql.setReturnFormat(JSON)\n",
    "    return sparql.query().convert()\n",
    "\n",
    "\n",
    "results = get_results(endpoint_url, query)\n",
    "\n",
    "array = []\n",
    "for result in results[\"results\"][\"bindings\"]:\n",
    "    array.append(\n",
    "        [\n",
    "            result[\"heritagesite\"][\"value\"],\n",
    "            result[\"label\"][\"value\"],\n",
    "            result[\"coordinates\"][\"value\"],\n",
    "        ]\n",
    "    )"
   ]
  },
  {
   "cell_type": "code",
   "execution_count": 21,
   "id": "4fc39186",
   "metadata": {},
   "outputs": [],
   "source": [
    "#%pip install shapely\n",
    "#%pip install geopandas"
   ]
  },
  {
   "cell_type": "code",
   "execution_count": 22,
   "id": "8748b229-f144-47dd-8b90-8cc2057878b7",
   "metadata": {},
   "outputs": [],
   "source": [
    "#%pip install geopandas\n",
    "\n",
    "from shapely import wkt\n",
    "import geopandas as gp\n",
    "\n",
    "dataframe = pd.DataFrame(array, columns=[\"ID\", \"label\", \"coordinates\"])\n",
    "dataframe[\"coordinates\"] = dataframe[\"coordinates\"].apply(wkt.loads)\n",
    "\n",
    "geodataframe = gp.GeoDataFrame(dataframe, geometry=\"coordinates\")"
   ]
  },
  {
   "cell_type": "code",
   "execution_count": 23,
   "id": "10bcb32c-72d7-4bcb-a605-4f3067db0155",
   "metadata": {},
   "outputs": [
    {
     "data": {
      "text/plain": [
       "[['http://www.wikidata.org/entity/Q8399',\n",
       "  'Vieux Lyon',\n",
       "  'Point(4.828056 45.763056)']]"
      ]
     },
     "execution_count": 23,
     "metadata": {},
     "output_type": "execute_result"
    }
   ],
   "source": [
    "array[:1]"
   ]
  },
  {
   "cell_type": "code",
   "execution_count": 36,
   "id": "754c0311-aa99-47d3-a8c7-e063d4f7f268",
   "metadata": {},
   "outputs": [
    {
     "data": {
      "text/plain": [
       "ID               object\n",
       "label            object\n",
       "coordinates    geometry\n",
       "dtype: object"
      ]
     },
     "execution_count": 36,
     "metadata": {},
     "output_type": "execute_result"
    }
   ],
   "source": [
    "geodataframe.dtypes"
   ]
  },
  {
   "cell_type": "code",
   "execution_count": null,
   "id": "aa4d480f-5a43-4a35-a4d9-e9ac73ab0199",
   "metadata": {},
   "outputs": [
    {
     "name": "stdout",
     "output_type": "stream",
     "text": [
      "Collecting folium\n",
      "  Using cached folium-0.19.5-py2.py3-none-any.whl.metadata (4.1 kB)\n",
      "Collecting branca>=0.6.0 (from folium)\n",
      "  Using cached branca-0.8.1-py3-none-any.whl.metadata (1.5 kB)\n",
      "Collecting jinja2>=2.9 (from folium)\n",
      "  Using cached jinja2-3.1.6-py3-none-any.whl.metadata (2.9 kB)\n",
      "Requirement already satisfied: numpy in c:\\python311\\lib\\site-packages (from folium) (2.1.1)\n",
      "Collecting requests (from folium)\n",
      "  Using cached requests-2.32.3-py3-none-any.whl.metadata (4.6 kB)\n",
      "Requirement already satisfied: xyzservices in c:\\python311\\lib\\site-packages (from folium) (2025.4.0)\n",
      "Requirement already satisfied: MarkupSafe>=2.0 in c:\\python311\\lib\\site-packages (from jinja2>=2.9->folium) (3.0.2)\n",
      "Requirement already satisfied: charset-normalizer<4,>=2 in c:\\python311\\lib\\site-packages (from requests->folium) (3.4.2)\n",
      "Requirement already satisfied: idna<4,>=2.5 in c:\\python311\\lib\\site-packages (from requests->folium) (3.10)\n",
      "Requirement already satisfied: urllib3<3,>=1.21.1 in c:\\python311\\lib\\site-packages (from requests->folium) (2.4.0)\n",
      "Requirement already satisfied: certifi>=2017.4.17 in c:\\python311\\lib\\site-packages (from requests->folium) (2025.4.26)\n",
      "Using cached folium-0.19.5-py2.py3-none-any.whl (110 kB)\n",
      "Using cached branca-0.8.1-py3-none-any.whl (26 kB)\n",
      "Using cached jinja2-3.1.6-py3-none-any.whl (134 kB)\n",
      "Using cached requests-2.32.3-py3-none-any.whl (64 kB)\n",
      "Installing collected packages: requests, jinja2, branca, folium\n",
      "Successfully installed branca-0.8.1 folium-0.19.5 jinja2-3.1.6 requests-2.32.3\n",
      "Note: you may need to restart the kernel to use updated packages.\n"
     ]
    }
   ],
   "source": [
    "#%pip install folium\n",
    "import folium\n",
    "\n",
    "map = folium.Map(location=[45.1093, 2.6753], zoom_start=6)\n",
    "geo_df_list = [[point.xy[1][0], point.xy[0][0]] for point in geodataframe.geometry]"
   ]
  },
  {
   "cell_type": "code",
   "execution_count": 26,
   "id": "968919b2-f854-4c30-9ac5-e50fe8c5a116",
   "metadata": {},
   "outputs": [
    {
     "data": {
      "text/html": [
       "<div style=\"width:100%;\"><div style=\"position:relative;width:100%;height:0;padding-bottom:60%;\"><span style=\"color:#565656\">Make this Notebook Trusted to load map: File -> Trust Notebook</span><iframe srcdoc=\"&lt;!DOCTYPE html&gt;\n",
       "&lt;html&gt;\n",
       "&lt;head&gt;\n",
       "    \n",
       "    &lt;meta http-equiv=&quot;content-type&quot; content=&quot;text/html; charset=UTF-8&quot; /&gt;\n",
       "    \n",
       "        &lt;script&gt;\n",
       "            L_NO_TOUCH = false;\n",
       "            L_DISABLE_3D = false;\n",
       "        &lt;/script&gt;\n",
       "    \n",
       "    &lt;style&gt;html, body {width: 100%;height: 100%;margin: 0;padding: 0;}&lt;/style&gt;\n",
       "    &lt;style&gt;#map {position:absolute;top:0;bottom:0;right:0;left:0;}&lt;/style&gt;\n",
       "    &lt;script src=&quot;https://cdn.jsdelivr.net/npm/leaflet@1.9.3/dist/leaflet.js&quot;&gt;&lt;/script&gt;\n",
       "    &lt;script src=&quot;https://code.jquery.com/jquery-3.7.1.min.js&quot;&gt;&lt;/script&gt;\n",
       "    &lt;script src=&quot;https://cdn.jsdelivr.net/npm/bootstrap@5.2.2/dist/js/bootstrap.bundle.min.js&quot;&gt;&lt;/script&gt;\n",
       "    &lt;script src=&quot;https://cdnjs.cloudflare.com/ajax/libs/Leaflet.awesome-markers/2.0.2/leaflet.awesome-markers.js&quot;&gt;&lt;/script&gt;\n",
       "    &lt;link rel=&quot;stylesheet&quot; href=&quot;https://cdn.jsdelivr.net/npm/leaflet@1.9.3/dist/leaflet.css&quot;/&gt;\n",
       "    &lt;link rel=&quot;stylesheet&quot; href=&quot;https://cdn.jsdelivr.net/npm/bootstrap@5.2.2/dist/css/bootstrap.min.css&quot;/&gt;\n",
       "    &lt;link rel=&quot;stylesheet&quot; href=&quot;https://netdna.bootstrapcdn.com/bootstrap/3.0.0/css/bootstrap-glyphicons.css&quot;/&gt;\n",
       "    &lt;link rel=&quot;stylesheet&quot; href=&quot;https://cdn.jsdelivr.net/npm/@fortawesome/fontawesome-free@6.2.0/css/all.min.css&quot;/&gt;\n",
       "    &lt;link rel=&quot;stylesheet&quot; href=&quot;https://cdnjs.cloudflare.com/ajax/libs/Leaflet.awesome-markers/2.0.2/leaflet.awesome-markers.css&quot;/&gt;\n",
       "    &lt;link rel=&quot;stylesheet&quot; href=&quot;https://cdn.jsdelivr.net/gh/python-visualization/folium/folium/templates/leaflet.awesome.rotate.min.css&quot;/&gt;\n",
       "    \n",
       "            &lt;meta name=&quot;viewport&quot; content=&quot;width=device-width,\n",
       "                initial-scale=1.0, maximum-scale=1.0, user-scalable=no&quot; /&gt;\n",
       "            &lt;style&gt;\n",
       "                #map_39b30f824f1c1c5b43bfbee761251e52 {\n",
       "                    position: relative;\n",
       "                    width: 100.0%;\n",
       "                    height: 100.0%;\n",
       "                    left: 0.0%;\n",
       "                    top: 0.0%;\n",
       "                }\n",
       "                .leaflet-container { font-size: 1rem; }\n",
       "            &lt;/style&gt;\n",
       "        \n",
       "&lt;/head&gt;\n",
       "&lt;body&gt;\n",
       "    \n",
       "    \n",
       "            &lt;div class=&quot;folium-map&quot; id=&quot;map_39b30f824f1c1c5b43bfbee761251e52&quot; &gt;&lt;/div&gt;\n",
       "        \n",
       "&lt;/body&gt;\n",
       "&lt;script&gt;\n",
       "    \n",
       "    \n",
       "            var map_39b30f824f1c1c5b43bfbee761251e52 = L.map(\n",
       "                &quot;map_39b30f824f1c1c5b43bfbee761251e52&quot;,\n",
       "                {\n",
       "                    center: [45.1093, 2.6753],\n",
       "                    crs: L.CRS.EPSG3857,\n",
       "                    ...{\n",
       "  &quot;zoom&quot;: 6,\n",
       "  &quot;zoomControl&quot;: true,\n",
       "  &quot;preferCanvas&quot;: false,\n",
       "}\n",
       "\n",
       "                }\n",
       "            );\n",
       "\n",
       "            \n",
       "\n",
       "        \n",
       "    \n",
       "            var tile_layer_58f2667db8cb1c074d9d65f062bc4cb9 = L.tileLayer(\n",
       "                &quot;https://tile.openstreetmap.org/{z}/{x}/{y}.png&quot;,\n",
       "                {\n",
       "  &quot;minZoom&quot;: 0,\n",
       "  &quot;maxZoom&quot;: 19,\n",
       "  &quot;maxNativeZoom&quot;: 19,\n",
       "  &quot;noWrap&quot;: false,\n",
       "  &quot;attribution&quot;: &quot;\\u0026copy; \\u003ca href=\\&quot;https://www.openstreetmap.org/copyright\\&quot;\\u003eOpenStreetMap\\u003c/a\\u003e contributors&quot;,\n",
       "  &quot;subdomains&quot;: &quot;abc&quot;,\n",
       "  &quot;detectRetina&quot;: false,\n",
       "  &quot;tms&quot;: false,\n",
       "  &quot;opacity&quot;: 1,\n",
       "}\n",
       "\n",
       "            );\n",
       "        \n",
       "    \n",
       "            tile_layer_58f2667db8cb1c074d9d65f062bc4cb9.addTo(map_39b30f824f1c1c5b43bfbee761251e52);\n",
       "        \n",
       "    \n",
       "            var marker_26367877c7636c89d5a47c05bc343c0d = L.marker(\n",
       "                [45.763056, 4.828056],\n",
       "                {\n",
       "}\n",
       "            ).addTo(map_39b30f824f1c1c5b43bfbee761251e52);\n",
       "        \n",
       "    \n",
       "            var icon_0c522339a836ec4f5fd8e940c862d709 = L.AwesomeMarkers.icon(\n",
       "                {\n",
       "  &quot;markerColor&quot;: &quot;green&quot;,\n",
       "  &quot;iconColor&quot;: &quot;white&quot;,\n",
       "  &quot;icon&quot;: &quot;info-sign&quot;,\n",
       "  &quot;prefix&quot;: &quot;glyphicon&quot;,\n",
       "  &quot;extraClasses&quot;: &quot;fa-rotate-0&quot;,\n",
       "}\n",
       "            );\n",
       "        \n",
       "    \n",
       "        var popup_55af93482c4f8da6da4806f52298b0cf = L.popup({\n",
       "  &quot;maxWidth&quot;: &quot;100%&quot;,\n",
       "});\n",
       "\n",
       "        \n",
       "            \n",
       "                var html_00d0c48e0b468d62749683aedc05ab1a = $(`&lt;div id=&quot;html_00d0c48e0b468d62749683aedc05ab1a&quot; style=&quot;width: 100.0%; height: 100.0%;&quot;&gt;Wikidata: &lt;a target=&#x27;_blank&#x27; href=&#x27;http://www.wikidata.org/entity/Q8399&#x27;&gt;Vieux Lyon&lt;/div&gt;`)[0];\n",
       "                popup_55af93482c4f8da6da4806f52298b0cf.setContent(html_00d0c48e0b468d62749683aedc05ab1a);\n",
       "            \n",
       "        \n",
       "\n",
       "        marker_26367877c7636c89d5a47c05bc343c0d.bindPopup(popup_55af93482c4f8da6da4806f52298b0cf)\n",
       "        ;\n",
       "\n",
       "        \n",
       "    \n",
       "    \n",
       "                marker_26367877c7636c89d5a47c05bc343c0d.setIcon(icon_0c522339a836ec4f5fd8e940c862d709);\n",
       "            \n",
       "    \n",
       "            var marker_09cf05332fe3828911d79eba06e358c6 = L.marker(\n",
       "                [45.0575, 1.17],\n",
       "                {\n",
       "}\n",
       "            ).addTo(map_39b30f824f1c1c5b43bfbee761251e52);\n",
       "        \n",
       "    \n",
       "            var icon_37cac970db077729a079434ead26f2ed = L.AwesomeMarkers.icon(\n",
       "                {\n",
       "  &quot;markerColor&quot;: &quot;green&quot;,\n",
       "  &quot;iconColor&quot;: &quot;white&quot;,\n",
       "  &quot;icon&quot;: &quot;info-sign&quot;,\n",
       "  &quot;prefix&quot;: &quot;glyphicon&quot;,\n",
       "  &quot;extraClasses&quot;: &quot;fa-rotate-0&quot;,\n",
       "}\n",
       "            );\n",
       "        \n",
       "    \n",
       "        var popup_97e7fe300a6cb134f13222988108dfa2 = L.popup({\n",
       "  &quot;maxWidth&quot;: &quot;100%&quot;,\n",
       "});\n",
       "\n",
       "        \n",
       "            \n",
       "                var html_c98589a734a83d20f068adfe9e9bccfc = $(`&lt;div id=&quot;html_c98589a734a83d20f068adfe9e9bccfc&quot; style=&quot;width: 100.0%; height: 100.0%;&quot;&gt;Wikidata: &lt;a target=&#x27;_blank&#x27; href=&#x27;http://www.wikidata.org/entity/Q463159&#x27;&gt;Prehistoric Sites and Decorated Caves of the Vézère Valley&lt;/div&gt;`)[0];\n",
       "                popup_97e7fe300a6cb134f13222988108dfa2.setContent(html_c98589a734a83d20f068adfe9e9bccfc);\n",
       "            \n",
       "        \n",
       "\n",
       "        marker_09cf05332fe3828911d79eba06e358c6.bindPopup(popup_97e7fe300a6cb134f13222988108dfa2)\n",
       "        ;\n",
       "\n",
       "        \n",
       "    \n",
       "    \n",
       "                marker_09cf05332fe3828911d79eba06e358c6.setIcon(icon_37cac970db077729a079434ead26f2ed);\n",
       "            \n",
       "    \n",
       "            var marker_af2ed1ba414a8deb9487d2cab42722b6 = L.marker(\n",
       "                [47.639661, 4.389327],\n",
       "                {\n",
       "}\n",
       "            ).addTo(map_39b30f824f1c1c5b43bfbee761251e52);\n",
       "        \n",
       "    \n",
       "            var icon_40df0d0c81d537aaf43ffffb684cd672 = L.AwesomeMarkers.icon(\n",
       "                {\n",
       "  &quot;markerColor&quot;: &quot;green&quot;,\n",
       "  &quot;iconColor&quot;: &quot;white&quot;,\n",
       "  &quot;icon&quot;: &quot;info-sign&quot;,\n",
       "  &quot;prefix&quot;: &quot;glyphicon&quot;,\n",
       "  &quot;extraClasses&quot;: &quot;fa-rotate-0&quot;,\n",
       "}\n",
       "            );\n",
       "        \n",
       "    \n",
       "        var popup_75ae4ee32780084638169e2b9a4e8c49 = L.popup({\n",
       "  &quot;maxWidth&quot;: &quot;100%&quot;,\n",
       "});\n",
       "\n",
       "        \n",
       "            \n",
       "                var html_528877f91dc059542d244dbe97e27f51 = $(`&lt;div id=&quot;html_528877f91dc059542d244dbe97e27f51&quot; style=&quot;width: 100.0%; height: 100.0%;&quot;&gt;Wikidata: &lt;a target=&#x27;_blank&#x27; href=&#x27;http://www.wikidata.org/entity/Q464918&#x27;&gt;Abbey of Fontenay&lt;/div&gt;`)[0];\n",
       "                popup_75ae4ee32780084638169e2b9a4e8c49.setContent(html_528877f91dc059542d244dbe97e27f51);\n",
       "            \n",
       "        \n",
       "\n",
       "        marker_af2ed1ba414a8deb9487d2cab42722b6.bindPopup(popup_75ae4ee32780084638169e2b9a4e8c49)\n",
       "        ;\n",
       "\n",
       "        \n",
       "    \n",
       "    \n",
       "                marker_af2ed1ba414a8deb9487d2cab42722b6.setIcon(icon_40df0d0c81d537aaf43ffffb684cd672);\n",
       "            \n",
       "    \n",
       "            var marker_c6b0d5835ab9ed2b9abc9deb84697b35 = L.marker(\n",
       "                [43.953888888, 4.805],\n",
       "                {\n",
       "}\n",
       "            ).addTo(map_39b30f824f1c1c5b43bfbee761251e52);\n",
       "        \n",
       "    \n",
       "            var icon_00d6155bdb698d11754eb8ff54af3207 = L.AwesomeMarkers.icon(\n",
       "                {\n",
       "  &quot;markerColor&quot;: &quot;green&quot;,\n",
       "  &quot;iconColor&quot;: &quot;white&quot;,\n",
       "  &quot;icon&quot;: &quot;info-sign&quot;,\n",
       "  &quot;prefix&quot;: &quot;glyphicon&quot;,\n",
       "  &quot;extraClasses&quot;: &quot;fa-rotate-0&quot;,\n",
       "}\n",
       "            );\n",
       "        \n",
       "    \n",
       "        var popup_47ba7f3f103e8aa4a83a515c18640d99 = L.popup({\n",
       "  &quot;maxWidth&quot;: &quot;100%&quot;,\n",
       "});\n",
       "\n",
       "        \n",
       "            \n",
       "                var html_403652ef5403f2a881ef328c88fee64e = $(`&lt;div id=&quot;html_403652ef5403f2a881ef328c88fee64e&quot; style=&quot;width: 100.0%; height: 100.0%;&quot;&gt;Wikidata: &lt;a target=&#x27;_blank&#x27; href=&#x27;http://www.wikidata.org/entity/Q284444&#x27;&gt;pont Saint-Bénézet&lt;/div&gt;`)[0];\n",
       "                popup_47ba7f3f103e8aa4a83a515c18640d99.setContent(html_403652ef5403f2a881ef328c88fee64e);\n",
       "            \n",
       "        \n",
       "\n",
       "        marker_c6b0d5835ab9ed2b9abc9deb84697b35.bindPopup(popup_47ba7f3f103e8aa4a83a515c18640d99)\n",
       "        ;\n",
       "\n",
       "        \n",
       "    \n",
       "    \n",
       "                marker_c6b0d5835ab9ed2b9abc9deb84697b35.setIcon(icon_00d6155bdb698d11754eb8ff54af3207);\n",
       "            \n",
       "    \n",
       "            var marker_c873d25bccc8f5c4479a5df3e52096e6 = L.marker(\n",
       "                [44.3881219, 4.4161408],\n",
       "                {\n",
       "}\n",
       "            ).addTo(map_39b30f824f1c1c5b43bfbee761251e52);\n",
       "        \n",
       "    \n",
       "            var icon_7be16d057e0757c0a4e5529dcaa63446 = L.AwesomeMarkers.icon(\n",
       "                {\n",
       "  &quot;markerColor&quot;: &quot;green&quot;,\n",
       "  &quot;iconColor&quot;: &quot;white&quot;,\n",
       "  &quot;icon&quot;: &quot;info-sign&quot;,\n",
       "  &quot;prefix&quot;: &quot;glyphicon&quot;,\n",
       "  &quot;extraClasses&quot;: &quot;fa-rotate-0&quot;,\n",
       "}\n",
       "            );\n",
       "        \n",
       "    \n",
       "        var popup_0c47ce508b950cdde1cc87cee8af2a85 = L.popup({\n",
       "  &quot;maxWidth&quot;: &quot;100%&quot;,\n",
       "});\n",
       "\n",
       "        \n",
       "            \n",
       "                var html_10cf1e9b19c009a032ed2b2fe6566ab3 = $(`&lt;div id=&quot;html_10cf1e9b19c009a032ed2b2fe6566ab3&quot; style=&quot;width: 100.0%; height: 100.0%;&quot;&gt;Wikidata: &lt;a target=&#x27;_blank&#x27; href=&#x27;http://www.wikidata.org/entity/Q374096&#x27;&gt;Chauvet Cave&lt;/div&gt;`)[0];\n",
       "                popup_0c47ce508b950cdde1cc87cee8af2a85.setContent(html_10cf1e9b19c009a032ed2b2fe6566ab3);\n",
       "            \n",
       "        \n",
       "\n",
       "        marker_c873d25bccc8f5c4479a5df3e52096e6.bindPopup(popup_0c47ce508b950cdde1cc87cee8af2a85)\n",
       "        ;\n",
       "\n",
       "        \n",
       "    \n",
       "    \n",
       "                marker_c873d25bccc8f5c4479a5df3e52096e6.setIcon(icon_7be16d057e0757c0a4e5529dcaa63446);\n",
       "            \n",
       "    \n",
       "            var marker_9b4639f33967b5a64a2570ec272cc117 = L.marker(\n",
       "                [43.206439, 2.363788],\n",
       "                {\n",
       "}\n",
       "            ).addTo(map_39b30f824f1c1c5b43bfbee761251e52);\n",
       "        \n",
       "    \n",
       "            var icon_4038bd30e5902db99e9b4774fbf985e3 = L.AwesomeMarkers.icon(\n",
       "                {\n",
       "  &quot;markerColor&quot;: &quot;green&quot;,\n",
       "  &quot;iconColor&quot;: &quot;white&quot;,\n",
       "  &quot;icon&quot;: &quot;info-sign&quot;,\n",
       "  &quot;prefix&quot;: &quot;glyphicon&quot;,\n",
       "  &quot;extraClasses&quot;: &quot;fa-rotate-0&quot;,\n",
       "}\n",
       "            );\n",
       "        \n",
       "    \n",
       "        var popup_24fb7b506733f5fe40b3e1573d46ed02 = L.popup({\n",
       "  &quot;maxWidth&quot;: &quot;100%&quot;,\n",
       "});\n",
       "\n",
       "        \n",
       "            \n",
       "                var html_28f2fe7776f1d12f37f1ff93986c404d = $(`&lt;div id=&quot;html_28f2fe7776f1d12f37f1ff93986c404d&quot; style=&quot;width: 100.0%; height: 100.0%;&quot;&gt;Wikidata: &lt;a target=&#x27;_blank&#x27; href=&#x27;http://www.wikidata.org/entity/Q389269&#x27;&gt;Cité de Carcassonne&lt;/div&gt;`)[0];\n",
       "                popup_24fb7b506733f5fe40b3e1573d46ed02.setContent(html_28f2fe7776f1d12f37f1ff93986c404d);\n",
       "            \n",
       "        \n",
       "\n",
       "        marker_9b4639f33967b5a64a2570ec272cc117.bindPopup(popup_24fb7b506733f5fe40b3e1573d46ed02)\n",
       "        ;\n",
       "\n",
       "        \n",
       "    \n",
       "    \n",
       "                marker_9b4639f33967b5a64a2570ec272cc117.setIcon(icon_4038bd30e5902db99e9b4774fbf985e3);\n",
       "            \n",
       "    \n",
       "            var marker_5954b59297b27a0fc63e73cf0535bc3f = L.marker(\n",
       "                [48.804722222, 2.120277777],\n",
       "                {\n",
       "}\n",
       "            ).addTo(map_39b30f824f1c1c5b43bfbee761251e52);\n",
       "        \n",
       "    \n",
       "            var icon_24eff1c5e9a590e5ca71d18c948aae46 = L.AwesomeMarkers.icon(\n",
       "                {\n",
       "  &quot;markerColor&quot;: &quot;green&quot;,\n",
       "  &quot;iconColor&quot;: &quot;white&quot;,\n",
       "  &quot;icon&quot;: &quot;info-sign&quot;,\n",
       "  &quot;prefix&quot;: &quot;glyphicon&quot;,\n",
       "  &quot;extraClasses&quot;: &quot;fa-rotate-0&quot;,\n",
       "}\n",
       "            );\n",
       "        \n",
       "    \n",
       "        var popup_5e727a47c5540421d9b29a661a2b7558 = L.popup({\n",
       "  &quot;maxWidth&quot;: &quot;100%&quot;,\n",
       "});\n",
       "\n",
       "        \n",
       "            \n",
       "                var html_5d541f4af2b191fdcb2160de7211c51f = $(`&lt;div id=&quot;html_5d541f4af2b191fdcb2160de7211c51f&quot; style=&quot;width: 100.0%; height: 100.0%;&quot;&gt;Wikidata: &lt;a target=&#x27;_blank&#x27; href=&#x27;http://www.wikidata.org/entity/Q2946&#x27;&gt;Palace of Versailles&lt;/div&gt;`)[0];\n",
       "                popup_5e727a47c5540421d9b29a661a2b7558.setContent(html_5d541f4af2b191fdcb2160de7211c51f);\n",
       "            \n",
       "        \n",
       "\n",
       "        marker_5954b59297b27a0fc63e73cf0535bc3f.bindPopup(popup_5e727a47c5540421d9b29a661a2b7558)\n",
       "        ;\n",
       "\n",
       "        \n",
       "    \n",
       "    \n",
       "                marker_5954b59297b27a0fc63e73cf0535bc3f.setIcon(icon_24eff1c5e9a590e5ca71d18c948aae46);\n",
       "            \n",
       "    \n",
       "            var marker_69796551ddaf9a0561218f998a9ad696 = L.marker(\n",
       "                [50.072950076, 2.648119738],\n",
       "                {\n",
       "}\n",
       "            ).addTo(map_39b30f824f1c1c5b43bfbee761251e52);\n",
       "        \n",
       "    \n",
       "            var icon_a5a16b90784f470bd2f1d4447751490f = L.AwesomeMarkers.icon(\n",
       "                {\n",
       "  &quot;markerColor&quot;: &quot;green&quot;,\n",
       "  &quot;iconColor&quot;: &quot;white&quot;,\n",
       "  &quot;icon&quot;: &quot;info-sign&quot;,\n",
       "  &quot;prefix&quot;: &quot;glyphicon&quot;,\n",
       "  &quot;extraClasses&quot;: &quot;fa-rotate-0&quot;,\n",
       "}\n",
       "            );\n",
       "        \n",
       "    \n",
       "        var popup_e98767687e690df0378d390ce2967f44 = L.popup({\n",
       "  &quot;maxWidth&quot;: &quot;100%&quot;,\n",
       "});\n",
       "\n",
       "        \n",
       "            \n",
       "                var html_3973eec2ad7db68d489c9191cfba8df0 = $(`&lt;div id=&quot;html_3973eec2ad7db68d489c9191cfba8df0&quot; style=&quot;width: 100.0%; height: 100.0%;&quot;&gt;Wikidata: &lt;a target=&#x27;_blank&#x27; href=&#x27;http://www.wikidata.org/entity/Q122784272&#x27;&gt;29th Division Memorial&lt;/div&gt;`)[0];\n",
       "                popup_e98767687e690df0378d390ce2967f44.setContent(html_3973eec2ad7db68d489c9191cfba8df0);\n",
       "            \n",
       "        \n",
       "\n",
       "        marker_69796551ddaf9a0561218f998a9ad696.bindPopup(popup_e98767687e690df0378d390ce2967f44)\n",
       "        ;\n",
       "\n",
       "        \n",
       "    \n",
       "    \n",
       "                marker_69796551ddaf9a0561218f998a9ad696.setIcon(icon_a5a16b90784f470bd2f1d4447751490f);\n",
       "            \n",
       "    \n",
       "            var marker_2d92686a39631a41741dc962c37a843d = L.marker(\n",
       "                [48.160194444, 7.126944444],\n",
       "                {\n",
       "}\n",
       "            ).addTo(map_39b30f824f1c1c5b43bfbee761251e52);\n",
       "        \n",
       "    \n",
       "            var icon_c8f57638b2a72a37b5797988d7c780dd = L.AwesomeMarkers.icon(\n",
       "                {\n",
       "  &quot;markerColor&quot;: &quot;green&quot;,\n",
       "  &quot;iconColor&quot;: &quot;white&quot;,\n",
       "  &quot;icon&quot;: &quot;info-sign&quot;,\n",
       "  &quot;prefix&quot;: &quot;glyphicon&quot;,\n",
       "  &quot;extraClasses&quot;: &quot;fa-rotate-0&quot;,\n",
       "}\n",
       "            );\n",
       "        \n",
       "    \n",
       "        var popup_4023f78b823445c45d029cf3d0b11488 = L.popup({\n",
       "  &quot;maxWidth&quot;: &quot;100%&quot;,\n",
       "});\n",
       "\n",
       "        \n",
       "            \n",
       "                var html_5edec3cf0e10bbf58fd9d31ba5e7e831 = $(`&lt;div id=&quot;html_5edec3cf0e10bbf58fd9d31ba5e7e831&quot; style=&quot;width: 100.0%; height: 100.0%;&quot;&gt;Wikidata: &lt;a target=&#x27;_blank&#x27; href=&#x27;http://www.wikidata.org/entity/Q122808656&#x27;&gt;Kahm Cemetery&lt;/div&gt;`)[0];\n",
       "                popup_4023f78b823445c45d029cf3d0b11488.setContent(html_5edec3cf0e10bbf58fd9d31ba5e7e831);\n",
       "            \n",
       "        \n",
       "\n",
       "        marker_2d92686a39631a41741dc962c37a843d.bindPopup(popup_4023f78b823445c45d029cf3d0b11488)\n",
       "        ;\n",
       "\n",
       "        \n",
       "    \n",
       "    \n",
       "                marker_2d92686a39631a41741dc962c37a843d.setIcon(icon_c8f57638b2a72a37b5797988d7c780dd);\n",
       "            \n",
       "    \n",
       "            var marker_e041f3b44c9b002d6c867014b9887bc9 = L.marker(\n",
       "                [48.038966176, 7.059401739],\n",
       "                {\n",
       "}\n",
       "            ).addTo(map_39b30f824f1c1c5b43bfbee761251e52);\n",
       "        \n",
       "    \n",
       "            var icon_a4193afaf06b00b469122f0de30bb878 = L.AwesomeMarkers.icon(\n",
       "                {\n",
       "  &quot;markerColor&quot;: &quot;green&quot;,\n",
       "  &quot;iconColor&quot;: &quot;white&quot;,\n",
       "  &quot;icon&quot;: &quot;info-sign&quot;,\n",
       "  &quot;prefix&quot;: &quot;glyphicon&quot;,\n",
       "  &quot;extraClasses&quot;: &quot;fa-rotate-0&quot;,\n",
       "}\n",
       "            );\n",
       "        \n",
       "    \n",
       "        var popup_de0f0aa14e940ce3fc0ed6e36335aa5b = L.popup({\n",
       "  &quot;maxWidth&quot;: &quot;100%&quot;,\n",
       "});\n",
       "\n",
       "        \n",
       "            \n",
       "                var html_491e60c8aceb6f92308793ff3780ea2b = $(`&lt;div id=&quot;html_491e60c8aceb6f92308793ff3780ea2b&quot; style=&quot;width: 100.0%; height: 100.0%;&quot;&gt;Wikidata: &lt;a target=&#x27;_blank&#x27; href=&#x27;http://www.wikidata.org/entity/Q122808695&#x27;&gt;Germania Military Cemetery&lt;/div&gt;`)[0];\n",
       "                popup_de0f0aa14e940ce3fc0ed6e36335aa5b.setContent(html_491e60c8aceb6f92308793ff3780ea2b);\n",
       "            \n",
       "        \n",
       "\n",
       "        marker_e041f3b44c9b002d6c867014b9887bc9.bindPopup(popup_de0f0aa14e940ce3fc0ed6e36335aa5b)\n",
       "        ;\n",
       "\n",
       "        \n",
       "    \n",
       "    \n",
       "                marker_e041f3b44c9b002d6c867014b9887bc9.setIcon(icon_a4193afaf06b00b469122f0de30bb878);\n",
       "            \n",
       "    \n",
       "            var marker_6a6db87a3f7e81717ac77e3c3610aa4c = L.marker(\n",
       "                [48.504166666, 6.5075],\n",
       "                {\n",
       "}\n",
       "            ).addTo(map_39b30f824f1c1c5b43bfbee761251e52);\n",
       "        \n",
       "    \n",
       "            var icon_e2455f8982f38555c23c394aff589215 = L.AwesomeMarkers.icon(\n",
       "                {\n",
       "  &quot;markerColor&quot;: &quot;green&quot;,\n",
       "  &quot;iconColor&quot;: &quot;white&quot;,\n",
       "  &quot;icon&quot;: &quot;info-sign&quot;,\n",
       "  &quot;prefix&quot;: &quot;glyphicon&quot;,\n",
       "  &quot;extraClasses&quot;: &quot;fa-rotate-0&quot;,\n",
       "}\n",
       "            );\n",
       "        \n",
       "    \n",
       "        var popup_807429fc3462b05b46a455d8ae652725 = L.popup({\n",
       "  &quot;maxWidth&quot;: &quot;100%&quot;,\n",
       "});\n",
       "\n",
       "        \n",
       "            \n",
       "                var html_31400504ee6f5dbc559257dd75e93ef6 = $(`&lt;div id=&quot;html_31400504ee6f5dbc559257dd75e93ef6&quot; style=&quot;width: 100.0%; height: 100.0%;&quot;&gt;Wikidata: &lt;a target=&#x27;_blank&#x27; href=&#x27;http://www.wikidata.org/entity/Q122819132&#x27;&gt;Gerbéviller Cemetery of Civilian Victims&lt;/div&gt;`)[0];\n",
       "                popup_807429fc3462b05b46a455d8ae652725.setContent(html_31400504ee6f5dbc559257dd75e93ef6);\n",
       "            \n",
       "        \n",
       "\n",
       "        marker_6a6db87a3f7e81717ac77e3c3610aa4c.bindPopup(popup_807429fc3462b05b46a455d8ae652725)\n",
       "        ;\n",
       "\n",
       "        \n",
       "    \n",
       "    \n",
       "                marker_6a6db87a3f7e81717ac77e3c3610aa4c.setIcon(icon_e2455f8982f38555c23c394aff589215);\n",
       "            \n",
       "    \n",
       "            var marker_dcd059d53ea13cee87a96221c8d76962 = L.marker(\n",
       "                [49.208861111, 5.428166666],\n",
       "                {\n",
       "}\n",
       "            ).addTo(map_39b30f824f1c1c5b43bfbee761251e52);\n",
       "        \n",
       "    \n",
       "            var icon_424e097238fdd9bdd2c18defafaf2529 = L.AwesomeMarkers.icon(\n",
       "                {\n",
       "  &quot;markerColor&quot;: &quot;green&quot;,\n",
       "  &quot;iconColor&quot;: &quot;white&quot;,\n",
       "  &quot;icon&quot;: &quot;info-sign&quot;,\n",
       "  &quot;prefix&quot;: &quot;glyphicon&quot;,\n",
       "  &quot;extraClasses&quot;: &quot;fa-rotate-0&quot;,\n",
       "}\n",
       "            );\n",
       "        \n",
       "    \n",
       "        var popup_2009579fdbe2664f76ef673455196635 = L.popup({\n",
       "  &quot;maxWidth&quot;: &quot;100%&quot;,\n",
       "});\n",
       "\n",
       "        \n",
       "            \n",
       "                var html_8b254e1fb6b84a34292d17529bc71776 = $(`&lt;div id=&quot;html_8b254e1fb6b84a34292d17529bc71776&quot; style=&quot;width: 100.0%; height: 100.0%;&quot;&gt;Wikidata: &lt;a target=&#x27;_blank&#x27; href=&#x27;http://www.wikidata.org/entity/Q122842228&#x27;&gt;Muslim Monument of Douaumont&lt;/div&gt;`)[0];\n",
       "                popup_2009579fdbe2664f76ef673455196635.setContent(html_8b254e1fb6b84a34292d17529bc71776);\n",
       "            \n",
       "        \n",
       "\n",
       "        marker_dcd059d53ea13cee87a96221c8d76962.bindPopup(popup_2009579fdbe2664f76ef673455196635)\n",
       "        ;\n",
       "\n",
       "        \n",
       "    \n",
       "    \n",
       "                marker_dcd059d53ea13cee87a96221c8d76962.setIcon(icon_424e097238fdd9bdd2c18defafaf2529);\n",
       "            \n",
       "    \n",
       "            var marker_a2fba929a72ea2a2b61fddf9b0c687cf = L.marker(\n",
       "                [49.19693, 5.4298],\n",
       "                {\n",
       "}\n",
       "            ).addTo(map_39b30f824f1c1c5b43bfbee761251e52);\n",
       "        \n",
       "    \n",
       "            var icon_c138b90f3cb05f595831d4bc181f6a0f = L.AwesomeMarkers.icon(\n",
       "                {\n",
       "  &quot;markerColor&quot;: &quot;green&quot;,\n",
       "  &quot;iconColor&quot;: &quot;white&quot;,\n",
       "  &quot;icon&quot;: &quot;info-sign&quot;,\n",
       "  &quot;prefix&quot;: &quot;glyphicon&quot;,\n",
       "  &quot;extraClasses&quot;: &quot;fa-rotate-0&quot;,\n",
       "}\n",
       "            );\n",
       "        \n",
       "    \n",
       "        var popup_92cae47a2a9b3c597e33ca7dcc8b3c54 = L.popup({\n",
       "  &quot;maxWidth&quot;: &quot;100%&quot;,\n",
       "});\n",
       "\n",
       "        \n",
       "            \n",
       "                var html_ad012849a0c0c5d11d35257c8b5d1ff6 = $(`&lt;div id=&quot;html_ad012849a0c0c5d11d35257c8b5d1ff6&quot; style=&quot;width: 100.0%; height: 100.0%;&quot;&gt;Wikidata: &lt;a target=&#x27;_blank&#x27; href=&#x27;http://www.wikidata.org/entity/Q122878257&#x27;&gt;Monument of the Executed at Fleury-devant-Douaumont&lt;/div&gt;`)[0];\n",
       "                popup_92cae47a2a9b3c597e33ca7dcc8b3c54.setContent(html_ad012849a0c0c5d11d35257c8b5d1ff6);\n",
       "            \n",
       "        \n",
       "\n",
       "        marker_a2fba929a72ea2a2b61fddf9b0c687cf.bindPopup(popup_92cae47a2a9b3c597e33ca7dcc8b3c54)\n",
       "        ;\n",
       "\n",
       "        \n",
       "    \n",
       "    \n",
       "                marker_a2fba929a72ea2a2b61fddf9b0c687cf.setIcon(icon_c138b90f3cb05f595831d4bc181f6a0f);\n",
       "            \n",
       "    \n",
       "            var marker_eb665ea65a726be46b25144d801905a9 = L.marker(\n",
       "                [45.77939, 2.96511],\n",
       "                {\n",
       "}\n",
       "            ).addTo(map_39b30f824f1c1c5b43bfbee761251e52);\n",
       "        \n",
       "    \n",
       "            var icon_2d34cffd24877eb740348c9e7918c7cd = L.AwesomeMarkers.icon(\n",
       "                {\n",
       "  &quot;markerColor&quot;: &quot;green&quot;,\n",
       "  &quot;iconColor&quot;: &quot;white&quot;,\n",
       "  &quot;icon&quot;: &quot;info-sign&quot;,\n",
       "  &quot;prefix&quot;: &quot;glyphicon&quot;,\n",
       "  &quot;extraClasses&quot;: &quot;fa-rotate-0&quot;,\n",
       "}\n",
       "            );\n",
       "        \n",
       "    \n",
       "        var popup_58b49c617473205a2721146f2a79dff2 = L.popup({\n",
       "  &quot;maxWidth&quot;: &quot;100%&quot;,\n",
       "});\n",
       "\n",
       "        \n",
       "            \n",
       "                var html_c583d54529c66a3475e5614e75fc3926 = $(`&lt;div id=&quot;html_c583d54529c66a3475e5614e75fc3926&quot; style=&quot;width: 100.0%; height: 100.0%;&quot;&gt;Wikidata: &lt;a target=&#x27;_blank&#x27; href=&#x27;http://www.wikidata.org/entity/Q64832437&#x27;&gt;Chaîne des Puys - Limagne fault tectonic arena&lt;/div&gt;`)[0];\n",
       "                popup_58b49c617473205a2721146f2a79dff2.setContent(html_c583d54529c66a3475e5614e75fc3926);\n",
       "            \n",
       "        \n",
       "\n",
       "        marker_eb665ea65a726be46b25144d801905a9.bindPopup(popup_58b49c617473205a2721146f2a79dff2)\n",
       "        ;\n",
       "\n",
       "        \n",
       "    \n",
       "    \n",
       "                marker_eb665ea65a726be46b25144d801905a9.setIcon(icon_2d34cffd24877eb740348c9e7918c7cd);\n",
       "            \n",
       "    \n",
       "            var marker_230668d88d6f7f2aa5dfe90d82748054 = L.marker(\n",
       "                [14.7582, -61.0731],\n",
       "                {\n",
       "}\n",
       "            ).addTo(map_39b30f824f1c1c5b43bfbee761251e52);\n",
       "        \n",
       "    \n",
       "            var icon_921d6854b1a9fa015c137ced58177097 = L.AwesomeMarkers.icon(\n",
       "                {\n",
       "  &quot;markerColor&quot;: &quot;green&quot;,\n",
       "  &quot;iconColor&quot;: &quot;white&quot;,\n",
       "  &quot;icon&quot;: &quot;info-sign&quot;,\n",
       "  &quot;prefix&quot;: &quot;glyphicon&quot;,\n",
       "  &quot;extraClasses&quot;: &quot;fa-rotate-0&quot;,\n",
       "}\n",
       "            );\n",
       "        \n",
       "    \n",
       "        var popup_2ebd59d133dd97fc678219fa91f6f63b = L.popup({\n",
       "  &quot;maxWidth&quot;: &quot;100%&quot;,\n",
       "});\n",
       "\n",
       "        \n",
       "            \n",
       "                var html_9f6b6dc66b91e0791ca608c2a6208fe3 = $(`&lt;div id=&quot;html_9f6b6dc66b91e0791ca608c2a6208fe3&quot; style=&quot;width: 100.0%; height: 100.0%;&quot;&gt;Wikidata: &lt;a target=&#x27;_blank&#x27; href=&#x27;http://www.wikidata.org/entity/Q64842970&#x27;&gt;Volcanoes and Forests of Mount Pelée and the Pitons of Northern Martinique&lt;/div&gt;`)[0];\n",
       "                popup_2ebd59d133dd97fc678219fa91f6f63b.setContent(html_9f6b6dc66b91e0791ca608c2a6208fe3);\n",
       "            \n",
       "        \n",
       "\n",
       "        marker_230668d88d6f7f2aa5dfe90d82748054.bindPopup(popup_2ebd59d133dd97fc678219fa91f6f63b)\n",
       "        ;\n",
       "\n",
       "        \n",
       "    \n",
       "    \n",
       "                marker_230668d88d6f7f2aa5dfe90d82748054.setIcon(icon_921d6854b1a9fa015c137ced58177097);\n",
       "            \n",
       "    \n",
       "            var marker_cca6f62b6d7c91cc89337cefd824ce72 = L.marker(\n",
       "                [45.752778, 5.838056],\n",
       "                {\n",
       "}\n",
       "            ).addTo(map_39b30f824f1c1c5b43bfbee761251e52);\n",
       "        \n",
       "    \n",
       "            var icon_1a38df921ec8741383497516b3e1fe85 = L.AwesomeMarkers.icon(\n",
       "                {\n",
       "  &quot;markerColor&quot;: &quot;green&quot;,\n",
       "  &quot;iconColor&quot;: &quot;white&quot;,\n",
       "  &quot;icon&quot;: &quot;info-sign&quot;,\n",
       "  &quot;prefix&quot;: &quot;glyphicon&quot;,\n",
       "  &quot;extraClasses&quot;: &quot;fa-rotate-0&quot;,\n",
       "}\n",
       "            );\n",
       "        \n",
       "    \n",
       "        var popup_d06da649c7bc9588ca5cb0dcb41b24b5 = L.popup({\n",
       "  &quot;maxWidth&quot;: &quot;100%&quot;,\n",
       "});\n",
       "\n",
       "        \n",
       "            \n",
       "                var html_01e32b8341ca901cf32712e8992bbc18 = $(`&lt;div id=&quot;html_01e32b8341ca901cf32712e8992bbc18&quot; style=&quot;width: 100.0%; height: 100.0%;&quot;&gt;Wikidata: &lt;a target=&#x27;_blank&#x27; href=&#x27;http://www.wikidata.org/entity/Q63524&#x27;&gt;Hautecombe Abbey&lt;/div&gt;`)[0];\n",
       "                popup_d06da649c7bc9588ca5cb0dcb41b24b5.setContent(html_01e32b8341ca901cf32712e8992bbc18);\n",
       "            \n",
       "        \n",
       "\n",
       "        marker_cca6f62b6d7c91cc89337cefd824ce72.bindPopup(popup_d06da649c7bc9588ca5cb0dcb41b24b5)\n",
       "        ;\n",
       "\n",
       "        \n",
       "    \n",
       "    \n",
       "                marker_cca6f62b6d7c91cc89337cefd824ce72.setIcon(icon_1a38df921ec8741383497516b3e1fe85);\n",
       "            \n",
       "    \n",
       "            var marker_c411c7225b9a90854085c35cbf2e6d57 = L.marker(\n",
       "                [49.89457, 2.3021],\n",
       "                {\n",
       "}\n",
       "            ).addTo(map_39b30f824f1c1c5b43bfbee761251e52);\n",
       "        \n",
       "    \n",
       "            var icon_a02482fe1a81e8bd36112b458d02ba23 = L.AwesomeMarkers.icon(\n",
       "                {\n",
       "  &quot;markerColor&quot;: &quot;green&quot;,\n",
       "  &quot;iconColor&quot;: &quot;white&quot;,\n",
       "  &quot;icon&quot;: &quot;info-sign&quot;,\n",
       "  &quot;prefix&quot;: &quot;glyphicon&quot;,\n",
       "  &quot;extraClasses&quot;: &quot;fa-rotate-0&quot;,\n",
       "}\n",
       "            );\n",
       "        \n",
       "    \n",
       "        var popup_79bb2c8d8839035da043a2daf998eeec = L.popup({\n",
       "  &quot;maxWidth&quot;: &quot;100%&quot;,\n",
       "});\n",
       "\n",
       "        \n",
       "            \n",
       "                var html_6276852774f15a4eaf40bd0e4f2c5364 = $(`&lt;div id=&quot;html_6276852774f15a4eaf40bd0e4f2c5364&quot; style=&quot;width: 100.0%; height: 100.0%;&quot;&gt;Wikidata: &lt;a target=&#x27;_blank&#x27; href=&#x27;http://www.wikidata.org/entity/Q106934&#x27;&gt;Notre-Dame d&#x27;Amiens&lt;/div&gt;`)[0];\n",
       "                popup_79bb2c8d8839035da043a2daf998eeec.setContent(html_6276852774f15a4eaf40bd0e4f2c5364);\n",
       "            \n",
       "        \n",
       "\n",
       "        marker_c411c7225b9a90854085c35cbf2e6d57.bindPopup(popup_79bb2c8d8839035da043a2daf998eeec)\n",
       "        ;\n",
       "\n",
       "        \n",
       "    \n",
       "    \n",
       "                marker_c411c7225b9a90854085c35cbf2e6d57.setIcon(icon_a02482fe1a81e8bd36112b458d02ba23);\n",
       "            \n",
       "    \n",
       "            var marker_a829a53115c2f8675cb176519494f090 = L.marker(\n",
       "                [49.0, 15.0],\n",
       "                {\n",
       "}\n",
       "            ).addTo(map_39b30f824f1c1c5b43bfbee761251e52);\n",
       "        \n",
       "    \n",
       "            var icon_c8f2fb5d54caa1bc2540a202f57ef3f1 = L.AwesomeMarkers.icon(\n",
       "                {\n",
       "  &quot;markerColor&quot;: &quot;green&quot;,\n",
       "  &quot;iconColor&quot;: &quot;white&quot;,\n",
       "  &quot;icon&quot;: &quot;info-sign&quot;,\n",
       "  &quot;prefix&quot;: &quot;glyphicon&quot;,\n",
       "  &quot;extraClasses&quot;: &quot;fa-rotate-0&quot;,\n",
       "}\n",
       "            );\n",
       "        \n",
       "    \n",
       "        var popup_d33d7b56c5c669a70a9e560f1cfbdb58 = L.popup({\n",
       "  &quot;maxWidth&quot;: &quot;100%&quot;,\n",
       "});\n",
       "\n",
       "        \n",
       "            \n",
       "                var html_fd448771004fdafb1e0a8f79982b5997 = $(`&lt;div id=&quot;html_fd448771004fdafb1e0a8f79982b5997&quot; style=&quot;width: 100.0%; height: 100.0%;&quot;&gt;Wikidata: &lt;a target=&#x27;_blank&#x27; href=&#x27;http://www.wikidata.org/entity/Q156011&#x27;&gt;Ancient and Primeval Beech Forests of the Carpathians and Other Regions of Europe&lt;/div&gt;`)[0];\n",
       "                popup_d33d7b56c5c669a70a9e560f1cfbdb58.setContent(html_fd448771004fdafb1e0a8f79982b5997);\n",
       "            \n",
       "        \n",
       "\n",
       "        marker_a829a53115c2f8675cb176519494f090.bindPopup(popup_d33d7b56c5c669a70a9e560f1cfbdb58)\n",
       "        ;\n",
       "\n",
       "        \n",
       "    \n",
       "    \n",
       "                marker_a829a53115c2f8675cb176519494f090.setIcon(icon_c8f2fb5d54caa1bc2540a202f57ef3f1);\n",
       "            \n",
       "    \n",
       "            var marker_87c489cc38c898a46ea1c0c1fb9b3211 = L.marker(\n",
       "                [43.701694444, 7.272305555],\n",
       "                {\n",
       "}\n",
       "            ).addTo(map_39b30f824f1c1c5b43bfbee761251e52);\n",
       "        \n",
       "    \n",
       "            var icon_ff8aa4e9cc75d99c01034504b535224d = L.AwesomeMarkers.icon(\n",
       "                {\n",
       "  &quot;markerColor&quot;: &quot;green&quot;,\n",
       "  &quot;iconColor&quot;: &quot;white&quot;,\n",
       "  &quot;icon&quot;: &quot;info-sign&quot;,\n",
       "  &quot;prefix&quot;: &quot;glyphicon&quot;,\n",
       "  &quot;extraClasses&quot;: &quot;fa-rotate-0&quot;,\n",
       "}\n",
       "            );\n",
       "        \n",
       "    \n",
       "        var popup_f8c0cf6d3ea60ae1392495067cc8895f = L.popup({\n",
       "  &quot;maxWidth&quot;: &quot;100%&quot;,\n",
       "});\n",
       "\n",
       "        \n",
       "            \n",
       "                var html_e456d6024ae4913aa8257ff931d6c086 = $(`&lt;div id=&quot;html_e456d6024ae4913aa8257ff931d6c086&quot; style=&quot;width: 100.0%; height: 100.0%;&quot;&gt;Wikidata: &lt;a target=&#x27;_blank&#x27; href=&#x27;http://www.wikidata.org/entity/Q108094935&#x27;&gt;Nice, Winter Resort Town of the Riviera&lt;/div&gt;`)[0];\n",
       "                popup_f8c0cf6d3ea60ae1392495067cc8895f.setContent(html_e456d6024ae4913aa8257ff931d6c086);\n",
       "            \n",
       "        \n",
       "\n",
       "        marker_87c489cc38c898a46ea1c0c1fb9b3211.bindPopup(popup_f8c0cf6d3ea60ae1392495067cc8895f)\n",
       "        ;\n",
       "\n",
       "        \n",
       "    \n",
       "    \n",
       "                marker_87c489cc38c898a46ea1c0c1fb9b3211.setIcon(icon_ff8aa4e9cc75d99c01034504b535224d);\n",
       "            \n",
       "    \n",
       "            var marker_0d78eaee1f41ce3b2a5e4445d21c07b3 = L.marker(\n",
       "                [48.7865, 3.7754],\n",
       "                {\n",
       "}\n",
       "            ).addTo(map_39b30f824f1c1c5b43bfbee761251e52);\n",
       "        \n",
       "    \n",
       "            var icon_b8178c9a9f215c8387c099cbba19cabc = L.AwesomeMarkers.icon(\n",
       "                {\n",
       "  &quot;markerColor&quot;: &quot;green&quot;,\n",
       "  &quot;iconColor&quot;: &quot;white&quot;,\n",
       "  &quot;icon&quot;: &quot;info-sign&quot;,\n",
       "  &quot;prefix&quot;: &quot;glyphicon&quot;,\n",
       "  &quot;extraClasses&quot;: &quot;fa-rotate-0&quot;,\n",
       "}\n",
       "            );\n",
       "        \n",
       "    \n",
       "        var popup_2902f7fc66375830847ac756dd60ed39 = L.popup({\n",
       "  &quot;maxWidth&quot;: &quot;100%&quot;,\n",
       "});\n",
       "\n",
       "        \n",
       "            \n",
       "                var html_9a8bb4425e137a2991b2c28b69a5bd6b = $(`&lt;div id=&quot;html_9a8bb4425e137a2991b2c28b69a5bd6b&quot; style=&quot;width: 100.0%; height: 100.0%;&quot;&gt;Wikidata: &lt;a target=&#x27;_blank&#x27; href=&#x27;http://www.wikidata.org/entity/Q110350440&#x27;&gt;Cemetery of Mondement-Montgivroux&lt;/div&gt;`)[0];\n",
       "                popup_2902f7fc66375830847ac756dd60ed39.setContent(html_9a8bb4425e137a2991b2c28b69a5bd6b);\n",
       "            \n",
       "        \n",
       "\n",
       "        marker_0d78eaee1f41ce3b2a5e4445d21c07b3.bindPopup(popup_2902f7fc66375830847ac756dd60ed39)\n",
       "        ;\n",
       "\n",
       "        \n",
       "    \n",
       "    \n",
       "                marker_0d78eaee1f41ce3b2a5e4445d21c07b3.setIcon(icon_b8178c9a9f215c8387c099cbba19cabc);\n",
       "            \n",
       "    \n",
       "            var marker_007c8c045b291f7a33d7bafde5ddae1c = L.marker(\n",
       "                [49.9978, 2.91095],\n",
       "                {\n",
       "}\n",
       "            ).addTo(map_39b30f824f1c1c5b43bfbee761251e52);\n",
       "        \n",
       "    \n",
       "            var icon_676cd120da53298000dbe81ac464f893 = L.AwesomeMarkers.icon(\n",
       "                {\n",
       "  &quot;markerColor&quot;: &quot;green&quot;,\n",
       "  &quot;iconColor&quot;: &quot;white&quot;,\n",
       "  &quot;icon&quot;: &quot;info-sign&quot;,\n",
       "  &quot;prefix&quot;: &quot;glyphicon&quot;,\n",
       "  &quot;extraClasses&quot;: &quot;fa-rotate-0&quot;,\n",
       "}\n",
       "            );\n",
       "        \n",
       "    \n",
       "        var popup_4b0d30a0e758171e4b9910e04c4f6019 = L.popup({\n",
       "  &quot;maxWidth&quot;: &quot;100%&quot;,\n",
       "});\n",
       "\n",
       "        \n",
       "            \n",
       "                var html_fdd22d8649767a4940bd3df2fc1e62fd = $(`&lt;div id=&quot;html_fdd22d8649767a4940bd3df2fc1e62fd&quot; style=&quot;width: 100.0%; height: 100.0%;&quot;&gt;Wikidata: &lt;a target=&#x27;_blank&#x27; href=&#x27;http://www.wikidata.org/entity/Q60346358&#x27;&gt;Rancourt Memorial Chapel&lt;/div&gt;`)[0];\n",
       "                popup_4b0d30a0e758171e4b9910e04c4f6019.setContent(html_fdd22d8649767a4940bd3df2fc1e62fd);\n",
       "            \n",
       "        \n",
       "\n",
       "        marker_007c8c045b291f7a33d7bafde5ddae1c.bindPopup(popup_4b0d30a0e758171e4b9910e04c4f6019)\n",
       "        ;\n",
       "\n",
       "        \n",
       "    \n",
       "    \n",
       "                marker_007c8c045b291f7a33d7bafde5ddae1c.setIcon(icon_676cd120da53298000dbe81ac464f893);\n",
       "            \n",
       "    \n",
       "            var marker_86c8e418eadbf2f3fd443f7c8d9bf674 = L.marker(\n",
       "                [49.19371, 4.36805],\n",
       "                {\n",
       "}\n",
       "            ).addTo(map_39b30f824f1c1c5b43bfbee761251e52);\n",
       "        \n",
       "    \n",
       "            var icon_84f69da3ca9ecaa7d6ff94d94cd25c2a = L.AwesomeMarkers.icon(\n",
       "                {\n",
       "  &quot;markerColor&quot;: &quot;green&quot;,\n",
       "  &quot;iconColor&quot;: &quot;white&quot;,\n",
       "  &quot;icon&quot;: &quot;info-sign&quot;,\n",
       "  &quot;prefix&quot;: &quot;glyphicon&quot;,\n",
       "  &quot;extraClasses&quot;: &quot;fa-rotate-0&quot;,\n",
       "}\n",
       "            );\n",
       "        \n",
       "    \n",
       "        var popup_00dfa45f4bc3c2e60ca88e360bd60bbc = L.popup({\n",
       "  &quot;maxWidth&quot;: &quot;100%&quot;,\n",
       "});\n",
       "\n",
       "        \n",
       "            \n",
       "                var html_6ff7bf23e7d8bfd9dcba3614df316c99 = $(`&lt;div id=&quot;html_6ff7bf23e7d8bfd9dcba3614df316c99&quot; style=&quot;width: 100.0%; height: 100.0%;&quot;&gt;Wikidata: &lt;a target=&#x27;_blank&#x27; href=&#x27;http://www.wikidata.org/entity/Q61744168&#x27;&gt;Bois du Puits cemetery&lt;/div&gt;`)[0];\n",
       "                popup_00dfa45f4bc3c2e60ca88e360bd60bbc.setContent(html_6ff7bf23e7d8bfd9dcba3614df316c99);\n",
       "            \n",
       "        \n",
       "\n",
       "        marker_86c8e418eadbf2f3fd443f7c8d9bf674.bindPopup(popup_00dfa45f4bc3c2e60ca88e360bd60bbc)\n",
       "        ;\n",
       "\n",
       "        \n",
       "    \n",
       "    \n",
       "                marker_86c8e418eadbf2f3fd443f7c8d9bf674.setIcon(icon_84f69da3ca9ecaa7d6ff94d94cd25c2a);\n",
       "            \n",
       "    \n",
       "            var marker_b5954e4486c9a68c03c28670aa498e7f = L.marker(\n",
       "                [50.07391, 2.64837],\n",
       "                {\n",
       "}\n",
       "            ).addTo(map_39b30f824f1c1c5b43bfbee761251e52);\n",
       "        \n",
       "    \n",
       "            var icon_550b19537fb82cffc81ae21d568afb24 = L.AwesomeMarkers.icon(\n",
       "                {\n",
       "  &quot;markerColor&quot;: &quot;green&quot;,\n",
       "  &quot;iconColor&quot;: &quot;white&quot;,\n",
       "  &quot;icon&quot;: &quot;info-sign&quot;,\n",
       "  &quot;prefix&quot;: &quot;glyphicon&quot;,\n",
       "  &quot;extraClasses&quot;: &quot;fa-rotate-0&quot;,\n",
       "}\n",
       "            );\n",
       "        \n",
       "    \n",
       "        var popup_226cd73daff7b9204c92f80e7fae3e8b = L.popup({\n",
       "  &quot;maxWidth&quot;: &quot;100%&quot;,\n",
       "});\n",
       "\n",
       "        \n",
       "            \n",
       "                var html_cfa805d1dc8fe9e414b0a62653b4df12 = $(`&lt;div id=&quot;html_cfa805d1dc8fe9e414b0a62653b4df12&quot; style=&quot;width: 100.0%; height: 100.0%;&quot;&gt;Wikidata: &lt;a target=&#x27;_blank&#x27; href=&#x27;http://www.wikidata.org/entity/Q63077309&#x27;&gt;Beaumont-Hamel Newfoundland Memorial Park&lt;/div&gt;`)[0];\n",
       "                popup_226cd73daff7b9204c92f80e7fae3e8b.setContent(html_cfa805d1dc8fe9e414b0a62653b4df12);\n",
       "            \n",
       "        \n",
       "\n",
       "        marker_b5954e4486c9a68c03c28670aa498e7f.bindPopup(popup_226cd73daff7b9204c92f80e7fae3e8b)\n",
       "        ;\n",
       "\n",
       "        \n",
       "    \n",
       "    \n",
       "                marker_b5954e4486c9a68c03c28670aa498e7f.setIcon(icon_550b19537fb82cffc81ae21d568afb24);\n",
       "            \n",
       "    \n",
       "            var marker_87f6250a3de957624c18f6c3c82f1f6f = L.marker(\n",
       "                [47.466388888, 3.748333333],\n",
       "                {\n",
       "}\n",
       "            ).addTo(map_39b30f824f1c1c5b43bfbee761251e52);\n",
       "        \n",
       "    \n",
       "            var icon_b24d61676003bb5bde868642e476a602 = L.AwesomeMarkers.icon(\n",
       "                {\n",
       "  &quot;markerColor&quot;: &quot;green&quot;,\n",
       "  &quot;iconColor&quot;: &quot;white&quot;,\n",
       "  &quot;icon&quot;: &quot;info-sign&quot;,\n",
       "  &quot;prefix&quot;: &quot;glyphicon&quot;,\n",
       "  &quot;extraClasses&quot;: &quot;fa-rotate-0&quot;,\n",
       "}\n",
       "            );\n",
       "        \n",
       "    \n",
       "        var popup_55181efe7dcd5c46285cd8135c4a0495 = L.popup({\n",
       "  &quot;maxWidth&quot;: &quot;100%&quot;,\n",
       "});\n",
       "\n",
       "        \n",
       "            \n",
       "                var html_5d26fec4c771c41c7785bad17595caff = $(`&lt;div id=&quot;html_5d26fec4c771c41c7785bad17595caff&quot; style=&quot;width: 100.0%; height: 100.0%;&quot;&gt;Wikidata: &lt;a target=&#x27;_blank&#x27; href=&#x27;http://www.wikidata.org/entity/Q64401449&#x27;&gt;Vézelay, Church and Hill&lt;/div&gt;`)[0];\n",
       "                popup_55181efe7dcd5c46285cd8135c4a0495.setContent(html_5d26fec4c771c41c7785bad17595caff);\n",
       "            \n",
       "        \n",
       "\n",
       "        marker_87f6250a3de957624c18f6c3c82f1f6f.bindPopup(popup_55181efe7dcd5c46285cd8135c4a0495)\n",
       "        ;\n",
       "\n",
       "        \n",
       "    \n",
       "    \n",
       "                marker_87f6250a3de957624c18f6c3c82f1f6f.setIcon(icon_b24d61676003bb5bde868642e476a602);\n",
       "            \n",
       "    \n",
       "            var marker_6d652d9aba051749c82d985f7654f780 = L.marker(\n",
       "                [49.216667, 5.438889],\n",
       "                {\n",
       "}\n",
       "            ).addTo(map_39b30f824f1c1c5b43bfbee761251e52);\n",
       "        \n",
       "    \n",
       "            var icon_73d0f45ff206e52d7a98b9c0461e83ce = L.AwesomeMarkers.icon(\n",
       "                {\n",
       "  &quot;markerColor&quot;: &quot;green&quot;,\n",
       "  &quot;iconColor&quot;: &quot;white&quot;,\n",
       "  &quot;icon&quot;: &quot;info-sign&quot;,\n",
       "  &quot;prefix&quot;: &quot;glyphicon&quot;,\n",
       "  &quot;extraClasses&quot;: &quot;fa-rotate-0&quot;,\n",
       "}\n",
       "            );\n",
       "        \n",
       "    \n",
       "        var popup_a17e13109dca6b95a0f814181e88600c = L.popup({\n",
       "  &quot;maxWidth&quot;: &quot;100%&quot;,\n",
       "});\n",
       "\n",
       "        \n",
       "            \n",
       "                var html_4b6841669db2c3f5b02fec683e9bd9bc = $(`&lt;div id=&quot;html_4b6841669db2c3f5b02fec683e9bd9bc&quot; style=&quot;width: 100.0%; height: 100.0%;&quot;&gt;Wikidata: &lt;a target=&#x27;_blank&#x27; href=&#x27;http://www.wikidata.org/entity/Q186536&#x27;&gt;Fort Douaumont&lt;/div&gt;`)[0];\n",
       "                popup_a17e13109dca6b95a0f814181e88600c.setContent(html_4b6841669db2c3f5b02fec683e9bd9bc);\n",
       "            \n",
       "        \n",
       "\n",
       "        marker_6d652d9aba051749c82d985f7654f780.bindPopup(popup_a17e13109dca6b95a0f814181e88600c)\n",
       "        ;\n",
       "\n",
       "        \n",
       "    \n",
       "    \n",
       "                marker_6d652d9aba051749c82d985f7654f780.setIcon(icon_73d0f45ff206e52d7a98b9c0461e83ce);\n",
       "            \n",
       "    \n",
       "            var marker_0bbb534276c0f38a6ea5904f216ff3c2 = L.marker(\n",
       "                [43.9473, 4.5355],\n",
       "                {\n",
       "}\n",
       "            ).addTo(map_39b30f824f1c1c5b43bfbee761251e52);\n",
       "        \n",
       "    \n",
       "            var icon_7f60d118c52b5122259176fb4f7f7167 = L.AwesomeMarkers.icon(\n",
       "                {\n",
       "  &quot;markerColor&quot;: &quot;green&quot;,\n",
       "  &quot;iconColor&quot;: &quot;white&quot;,\n",
       "  &quot;icon&quot;: &quot;info-sign&quot;,\n",
       "  &quot;prefix&quot;: &quot;glyphicon&quot;,\n",
       "  &quot;extraClasses&quot;: &quot;fa-rotate-0&quot;,\n",
       "}\n",
       "            );\n",
       "        \n",
       "    \n",
       "        var popup_36d6d1badbbdb67b515e35cb0653b4ad = L.popup({\n",
       "  &quot;maxWidth&quot;: &quot;100%&quot;,\n",
       "});\n",
       "\n",
       "        \n",
       "            \n",
       "                var html_a3e8158c35232f500473be0cbbab3dd1 = $(`&lt;div id=&quot;html_a3e8158c35232f500473be0cbbab3dd1&quot; style=&quot;width: 100.0%; height: 100.0%;&quot;&gt;Wikidata: &lt;a target=&#x27;_blank&#x27; href=&#x27;http://www.wikidata.org/entity/Q189764&#x27;&gt;Pont du Gard&lt;/div&gt;`)[0];\n",
       "                popup_36d6d1badbbdb67b515e35cb0653b4ad.setContent(html_a3e8158c35232f500473be0cbbab3dd1);\n",
       "            \n",
       "        \n",
       "\n",
       "        marker_0bbb534276c0f38a6ea5904f216ff3c2.bindPopup(popup_36d6d1badbbdb67b515e35cb0653b4ad)\n",
       "        ;\n",
       "\n",
       "        \n",
       "    \n",
       "    \n",
       "                marker_0bbb534276c0f38a6ea5904f216ff3c2.setIcon(icon_7f60d118c52b5122259176fb4f7f7167);\n",
       "            \n",
       "    \n",
       "            var marker_1bcba961773f2405f7303949b6917d4f = L.marker(\n",
       "                [45.5863198, -1.1733254],\n",
       "                {\n",
       "}\n",
       "            ).addTo(map_39b30f824f1c1c5b43bfbee761251e52);\n",
       "        \n",
       "    \n",
       "            var icon_1a0b8ab8e69b0c8047cabe5b65e5ae00 = L.AwesomeMarkers.icon(\n",
       "                {\n",
       "  &quot;markerColor&quot;: &quot;green&quot;,\n",
       "  &quot;iconColor&quot;: &quot;white&quot;,\n",
       "  &quot;icon&quot;: &quot;info-sign&quot;,\n",
       "  &quot;prefix&quot;: &quot;glyphicon&quot;,\n",
       "  &quot;extraClasses&quot;: &quot;fa-rotate-0&quot;,\n",
       "}\n",
       "            );\n",
       "        \n",
       "    \n",
       "        var popup_ea41eb8ed1ab4ac2612e6d9a7e9b7c42 = L.popup({\n",
       "  &quot;maxWidth&quot;: &quot;100%&quot;,\n",
       "});\n",
       "\n",
       "        \n",
       "            \n",
       "                var html_8790ea549682d670618b29f9f9328a92 = $(`&lt;div id=&quot;html_8790ea549682d670618b29f9f9328a92&quot; style=&quot;width: 100.0%; height: 100.0%;&quot;&gt;Wikidata: &lt;a target=&#x27;_blank&#x27; href=&#x27;http://www.wikidata.org/entity/Q199234&#x27;&gt;Cordouan Lighthouse&lt;/div&gt;`)[0];\n",
       "                popup_ea41eb8ed1ab4ac2612e6d9a7e9b7c42.setContent(html_8790ea549682d670618b29f9f9328a92);\n",
       "            \n",
       "        \n",
       "\n",
       "        marker_1bcba961773f2405f7303949b6917d4f.bindPopup(popup_ea41eb8ed1ab4ac2612e6d9a7e9b7c42)\n",
       "        ;\n",
       "\n",
       "        \n",
       "    \n",
       "    \n",
       "                marker_1bcba961773f2405f7303949b6917d4f.setIcon(icon_1a0b8ab8e69b0c8047cabe5b65e5ae00);\n",
       "            \n",
       "    \n",
       "            var marker_b549cf3252a4ca931adf630a9399ef8b = L.marker(\n",
       "                [50.4625, 3.54611],\n",
       "                {\n",
       "}\n",
       "            ).addTo(map_39b30f824f1c1c5b43bfbee761251e52);\n",
       "        \n",
       "    \n",
       "            var icon_7b2ddd2e57a69abd940c3cd972016627 = L.AwesomeMarkers.icon(\n",
       "                {\n",
       "  &quot;markerColor&quot;: &quot;green&quot;,\n",
       "  &quot;iconColor&quot;: &quot;white&quot;,\n",
       "  &quot;icon&quot;: &quot;info-sign&quot;,\n",
       "  &quot;prefix&quot;: &quot;glyphicon&quot;,\n",
       "  &quot;extraClasses&quot;: &quot;fa-rotate-0&quot;,\n",
       "}\n",
       "            );\n",
       "        \n",
       "    \n",
       "        var popup_ca731d5b4a2ccc33d69f60b16513325e = L.popup({\n",
       "  &quot;maxWidth&quot;: &quot;100%&quot;,\n",
       "});\n",
       "\n",
       "        \n",
       "            \n",
       "                var html_3c7de27849ba12a0a4c76010a146db31 = $(`&lt;div id=&quot;html_3c7de27849ba12a0a4c76010a146db31&quot; style=&quot;width: 100.0%; height: 100.0%;&quot;&gt;Wikidata: &lt;a target=&#x27;_blank&#x27; href=&#x27;http://www.wikidata.org/entity/Q392215&#x27;&gt;northern French coal mining region&lt;/div&gt;`)[0];\n",
       "                popup_ca731d5b4a2ccc33d69f60b16513325e.setContent(html_3c7de27849ba12a0a4c76010a146db31);\n",
       "            \n",
       "        \n",
       "\n",
       "        marker_b549cf3252a4ca931adf630a9399ef8b.bindPopup(popup_ca731d5b4a2ccc33d69f60b16513325e)\n",
       "        ;\n",
       "\n",
       "        \n",
       "    \n",
       "    \n",
       "                marker_b549cf3252a4ca931adf630a9399ef8b.setIcon(icon_7b2ddd2e57a69abd940c3cd972016627);\n",
       "            \n",
       "    \n",
       "            var marker_2fccafe7759f4ebb03b77d4d5651ee33 = L.marker(\n",
       "                [48.78658, 3.77552],\n",
       "                {\n",
       "}\n",
       "            ).addTo(map_39b30f824f1c1c5b43bfbee761251e52);\n",
       "        \n",
       "    \n",
       "            var icon_fcd32e61c630257cbafff24d0e1d135c = L.AwesomeMarkers.icon(\n",
       "                {\n",
       "  &quot;markerColor&quot;: &quot;green&quot;,\n",
       "  &quot;iconColor&quot;: &quot;white&quot;,\n",
       "  &quot;icon&quot;: &quot;info-sign&quot;,\n",
       "  &quot;prefix&quot;: &quot;glyphicon&quot;,\n",
       "  &quot;extraClasses&quot;: &quot;fa-rotate-0&quot;,\n",
       "}\n",
       "            );\n",
       "        \n",
       "    \n",
       "        var popup_7e1dd055836939d9ad05f173d11bd009 = L.popup({\n",
       "  &quot;maxWidth&quot;: &quot;100%&quot;,\n",
       "});\n",
       "\n",
       "        \n",
       "            \n",
       "                var html_654a80a52a5125d46557a67623683bce = $(`&lt;div id=&quot;html_654a80a52a5125d46557a67623683bce&quot; style=&quot;width: 100.0%; height: 100.0%;&quot;&gt;Wikidata: &lt;a target=&#x27;_blank&#x27; href=&#x27;http://www.wikidata.org/entity/Q41780872&#x27;&gt;Chapel of Mondement-Montgivroux&lt;/div&gt;`)[0];\n",
       "                popup_7e1dd055836939d9ad05f173d11bd009.setContent(html_654a80a52a5125d46557a67623683bce);\n",
       "            \n",
       "        \n",
       "\n",
       "        marker_2fccafe7759f4ebb03b77d4d5651ee33.bindPopup(popup_7e1dd055836939d9ad05f173d11bd009)\n",
       "        ;\n",
       "\n",
       "        \n",
       "    \n",
       "    \n",
       "                marker_2fccafe7759f4ebb03b77d4d5651ee33.setIcon(icon_fcd32e61c630257cbafff24d0e1d135c);\n",
       "            \n",
       "    \n",
       "            var marker_c3c605473afbd598853b6a58698230ea = L.marker(\n",
       "                [49.28, 5.2973],\n",
       "                {\n",
       "}\n",
       "            ).addTo(map_39b30f824f1c1c5b43bfbee761251e52);\n",
       "        \n",
       "    \n",
       "            var icon_cd8281b55691fdc84680d096f7ae8aa8 = L.AwesomeMarkers.icon(\n",
       "                {\n",
       "  &quot;markerColor&quot;: &quot;green&quot;,\n",
       "  &quot;iconColor&quot;: &quot;white&quot;,\n",
       "  &quot;icon&quot;: &quot;info-sign&quot;,\n",
       "  &quot;prefix&quot;: &quot;glyphicon&quot;,\n",
       "  &quot;extraClasses&quot;: &quot;fa-rotate-0&quot;,\n",
       "}\n",
       "            );\n",
       "        \n",
       "    \n",
       "        var popup_b76760943c54c003b0feb398440f46ff = L.popup({\n",
       "  &quot;maxWidth&quot;: &quot;100%&quot;,\n",
       "});\n",
       "\n",
       "        \n",
       "            \n",
       "                var html_682d8e31ac973c41fc40571dc1b2114b = $(`&lt;div id=&quot;html_682d8e31ac973c41fc40571dc1b2114b&quot; style=&quot;width: 100.0%; height: 100.0%;&quot;&gt;Wikidata: &lt;a target=&#x27;_blank&#x27; href=&#x27;http://www.wikidata.org/entity/Q51426068&#x27;&gt;Consenvoye German military cemetery&lt;/div&gt;`)[0];\n",
       "                popup_b76760943c54c003b0feb398440f46ff.setContent(html_682d8e31ac973c41fc40571dc1b2114b);\n",
       "            \n",
       "        \n",
       "\n",
       "        marker_c3c605473afbd598853b6a58698230ea.bindPopup(popup_b76760943c54c003b0feb398440f46ff)\n",
       "        ;\n",
       "\n",
       "        \n",
       "    \n",
       "    \n",
       "                marker_c3c605473afbd598853b6a58698230ea.setIcon(icon_cd8281b55691fdc84680d096f7ae8aa8);\n",
       "            \n",
       "    \n",
       "            var marker_57eec4b59a0e0d9d2dc7323585abf1fd = L.marker(\n",
       "                [48.877666666, 5.608444444],\n",
       "                {\n",
       "}\n",
       "            ).addTo(map_39b30f824f1c1c5b43bfbee761251e52);\n",
       "        \n",
       "    \n",
       "            var icon_e2b2d2f915fac1bd7c3f478f05ad28d7 = L.AwesomeMarkers.icon(\n",
       "                {\n",
       "  &quot;markerColor&quot;: &quot;green&quot;,\n",
       "  &quot;iconColor&quot;: &quot;white&quot;,\n",
       "  &quot;icon&quot;: &quot;info-sign&quot;,\n",
       "  &quot;prefix&quot;: &quot;glyphicon&quot;,\n",
       "  &quot;extraClasses&quot;: &quot;fa-rotate-0&quot;,\n",
       "}\n",
       "            );\n",
       "        \n",
       "    \n",
       "        var popup_c352c1fea93c275efc66ad62f10c3917 = L.popup({\n",
       "  &quot;maxWidth&quot;: &quot;100%&quot;,\n",
       "});\n",
       "\n",
       "        \n",
       "            \n",
       "                var html_404ec4b3f73ee5dfe7688589f6edfe45 = $(`&lt;div id=&quot;html_404ec4b3f73ee5dfe7688589f6edfe45&quot; style=&quot;width: 100.0%; height: 100.0%;&quot;&gt;Wikidata: &lt;a target=&#x27;_blank&#x27; href=&#x27;http://www.wikidata.org/entity/Q51619032&#x27;&gt;St. Mihiel German military cemetery&lt;/div&gt;`)[0];\n",
       "                popup_c352c1fea93c275efc66ad62f10c3917.setContent(html_404ec4b3f73ee5dfe7688589f6edfe45);\n",
       "            \n",
       "        \n",
       "\n",
       "        marker_57eec4b59a0e0d9d2dc7323585abf1fd.bindPopup(popup_c352c1fea93c275efc66ad62f10c3917)\n",
       "        ;\n",
       "\n",
       "        \n",
       "    \n",
       "    \n",
       "                marker_57eec4b59a0e0d9d2dc7323585abf1fd.setIcon(icon_e2b2d2f915fac1bd7c3f478f05ad28d7);\n",
       "            \n",
       "    \n",
       "            var marker_36c52633b242b1ffe14651f2f8f6416b = L.marker(\n",
       "                [47.956313, 7.215799],\n",
       "                {\n",
       "}\n",
       "            ).addTo(map_39b30f824f1c1c5b43bfbee761251e52);\n",
       "        \n",
       "    \n",
       "            var icon_02bd7e45bbd6d0f5de0120b4f1d38832 = L.AwesomeMarkers.icon(\n",
       "                {\n",
       "  &quot;markerColor&quot;: &quot;green&quot;,\n",
       "  &quot;iconColor&quot;: &quot;white&quot;,\n",
       "  &quot;icon&quot;: &quot;info-sign&quot;,\n",
       "  &quot;prefix&quot;: &quot;glyphicon&quot;,\n",
       "  &quot;extraClasses&quot;: &quot;fa-rotate-0&quot;,\n",
       "}\n",
       "            );\n",
       "        \n",
       "    \n",
       "        var popup_9f18e2b67940446128414a9330dd030c = L.popup({\n",
       "  &quot;maxWidth&quot;: &quot;100%&quot;,\n",
       "});\n",
       "\n",
       "        \n",
       "            \n",
       "                var html_c1654449da5bb59fb8bd3835cc983ea6 = $(`&lt;div id=&quot;html_c1654449da5bb59fb8bd3835cc983ea6&quot; style=&quot;width: 100.0%; height: 100.0%;&quot;&gt;Wikidata: &lt;a target=&#x27;_blank&#x27; href=&#x27;http://www.wikidata.org/entity/Q52989504&#x27;&gt;Romanian Military Cemetery of Soultzmatt&lt;/div&gt;`)[0];\n",
       "                popup_9f18e2b67940446128414a9330dd030c.setContent(html_c1654449da5bb59fb8bd3835cc983ea6);\n",
       "            \n",
       "        \n",
       "\n",
       "        marker_36c52633b242b1ffe14651f2f8f6416b.bindPopup(popup_9f18e2b67940446128414a9330dd030c)\n",
       "        ;\n",
       "\n",
       "        \n",
       "    \n",
       "    \n",
       "                marker_36c52633b242b1ffe14651f2f8f6416b.setIcon(icon_02bd7e45bbd6d0f5de0120b4f1d38832);\n",
       "            \n",
       "    \n",
       "            var marker_1f05ff45d65cf93001d6d7578500389a = L.marker(\n",
       "                [47.21375, 0.07497],\n",
       "                {\n",
       "}\n",
       "            ).addTo(map_39b30f824f1c1c5b43bfbee761251e52);\n",
       "        \n",
       "    \n",
       "            var icon_140638925aa210be7d8e24b0c2976f53 = L.AwesomeMarkers.icon(\n",
       "                {\n",
       "  &quot;markerColor&quot;: &quot;green&quot;,\n",
       "  &quot;iconColor&quot;: &quot;white&quot;,\n",
       "  &quot;icon&quot;: &quot;info-sign&quot;,\n",
       "  &quot;prefix&quot;: &quot;glyphicon&quot;,\n",
       "  &quot;extraClasses&quot;: &quot;fa-rotate-0&quot;,\n",
       "}\n",
       "            );\n",
       "        \n",
       "    \n",
       "        var popup_8f0d3b16e2d00f241381e97c0ff59770 = L.popup({\n",
       "  &quot;maxWidth&quot;: &quot;100%&quot;,\n",
       "});\n",
       "\n",
       "        \n",
       "            \n",
       "                var html_d1dd8acdc09bacf6b47f1a95254fd8d2 = $(`&lt;div id=&quot;html_d1dd8acdc09bacf6b47f1a95254fd8d2&quot; style=&quot;width: 100.0%; height: 100.0%;&quot;&gt;Wikidata: &lt;a target=&#x27;_blank&#x27; href=&#x27;http://www.wikidata.org/entity/Q54806811&#x27;&gt;Confluence Beach&lt;/div&gt;`)[0];\n",
       "                popup_8f0d3b16e2d00f241381e97c0ff59770.setContent(html_d1dd8acdc09bacf6b47f1a95254fd8d2);\n",
       "            \n",
       "        \n",
       "\n",
       "        marker_1f05ff45d65cf93001d6d7578500389a.bindPopup(popup_8f0d3b16e2d00f241381e97c0ff59770)\n",
       "        ;\n",
       "\n",
       "        \n",
       "    \n",
       "    \n",
       "                marker_1f05ff45d65cf93001d6d7578500389a.setIcon(icon_140638925aa210be7d8e24b0c2976f53);\n",
       "            \n",
       "    \n",
       "            var marker_e6e009d4e435a3eb5f5cfa9eb55ae91d = L.marker(\n",
       "                [48.58444, 7.74889],\n",
       "                {\n",
       "}\n",
       "            ).addTo(map_39b30f824f1c1c5b43bfbee761251e52);\n",
       "        \n",
       "    \n",
       "            var icon_97c02199f2332cec21efc95c7e8616f6 = L.AwesomeMarkers.icon(\n",
       "                {\n",
       "  &quot;markerColor&quot;: &quot;green&quot;,\n",
       "  &quot;iconColor&quot;: &quot;white&quot;,\n",
       "  &quot;icon&quot;: &quot;info-sign&quot;,\n",
       "  &quot;prefix&quot;: &quot;glyphicon&quot;,\n",
       "  &quot;extraClasses&quot;: &quot;fa-rotate-0&quot;,\n",
       "}\n",
       "            );\n",
       "        \n",
       "    \n",
       "        var popup_083804c09dbf42d49c6c554d785ac9bf = L.popup({\n",
       "  &quot;maxWidth&quot;: &quot;100%&quot;,\n",
       "});\n",
       "\n",
       "        \n",
       "            \n",
       "                var html_45e25afd015ccaf8da185b511605c7d0 = $(`&lt;div id=&quot;html_45e25afd015ccaf8da185b511605c7d0&quot; style=&quot;width: 100.0%; height: 100.0%;&quot;&gt;Wikidata: &lt;a target=&#x27;_blank&#x27; href=&#x27;http://www.wikidata.org/entity/Q55523908&#x27;&gt;Strasbourg: from Grande-île to Neustadt, a European urban scene&lt;/div&gt;`)[0];\n",
       "                popup_083804c09dbf42d49c6c554d785ac9bf.setContent(html_45e25afd015ccaf8da185b511605c7d0);\n",
       "            \n",
       "        \n",
       "\n",
       "        marker_e6e009d4e435a3eb5f5cfa9eb55ae91d.bindPopup(popup_083804c09dbf42d49c6c554d785ac9bf)\n",
       "        ;\n",
       "\n",
       "        \n",
       "    \n",
       "    \n",
       "                marker_e6e009d4e435a3eb5f5cfa9eb55ae91d.setIcon(icon_97c02199f2332cec21efc95c7e8616f6);\n",
       "            \n",
       "    \n",
       "            var marker_fd53978f52ad773fbb0532d78a5f80eb = L.marker(\n",
       "                [50.17831, 3.26208],\n",
       "                {\n",
       "}\n",
       "            ).addTo(map_39b30f824f1c1c5b43bfbee761251e52);\n",
       "        \n",
       "    \n",
       "            var icon_0bbdd6a281b035a5f46c1381eed91b0e = L.AwesomeMarkers.icon(\n",
       "                {\n",
       "  &quot;markerColor&quot;: &quot;green&quot;,\n",
       "  &quot;iconColor&quot;: &quot;white&quot;,\n",
       "  &quot;icon&quot;: &quot;info-sign&quot;,\n",
       "  &quot;prefix&quot;: &quot;glyphicon&quot;,\n",
       "  &quot;extraClasses&quot;: &quot;fa-rotate-0&quot;,\n",
       "}\n",
       "            );\n",
       "        \n",
       "    \n",
       "        var popup_a36c353108f63c48212bc52e5371aa44 = L.popup({\n",
       "  &quot;maxWidth&quot;: &quot;100%&quot;,\n",
       "});\n",
       "\n",
       "        \n",
       "            \n",
       "                var html_6b7b22bf04ac4c9e1e913ff13f89b0ae = $(`&lt;div id=&quot;html_6b7b22bf04ac4c9e1e913ff13f89b0ae&quot; style=&quot;width: 100.0%; height: 100.0%;&quot;&gt;Wikidata: &lt;a target=&#x27;_blank&#x27; href=&#x27;http://www.wikidata.org/entity/Q55596340&#x27;&gt;Cambrai German military cemetery&lt;/div&gt;`)[0];\n",
       "                popup_a36c353108f63c48212bc52e5371aa44.setContent(html_6b7b22bf04ac4c9e1e913ff13f89b0ae);\n",
       "            \n",
       "        \n",
       "\n",
       "        marker_fd53978f52ad773fbb0532d78a5f80eb.bindPopup(popup_a36c353108f63c48212bc52e5371aa44)\n",
       "        ;\n",
       "\n",
       "        \n",
       "    \n",
       "    \n",
       "                marker_fd53978f52ad773fbb0532d78a5f80eb.setIcon(icon_0bbdd6a281b035a5f46c1381eed91b0e);\n",
       "            \n",
       "    \n",
       "            var marker_33567ba6f22ba5c44ed416e5c03ce6cf = L.marker(\n",
       "                [49.189138888, 4.994083333],\n",
       "                {\n",
       "}\n",
       "            ).addTo(map_39b30f824f1c1c5b43bfbee761251e52);\n",
       "        \n",
       "    \n",
       "            var icon_94745b28e7aa58e2d7f70d3364c93d72 = L.AwesomeMarkers.icon(\n",
       "                {\n",
       "  &quot;markerColor&quot;: &quot;green&quot;,\n",
       "  &quot;iconColor&quot;: &quot;white&quot;,\n",
       "  &quot;icon&quot;: &quot;info-sign&quot;,\n",
       "  &quot;prefix&quot;: &quot;glyphicon&quot;,\n",
       "  &quot;extraClasses&quot;: &quot;fa-rotate-0&quot;,\n",
       "}\n",
       "            );\n",
       "        \n",
       "    \n",
       "        var popup_8cf356ef7cc8b573da6598c098fc48f1 = L.popup({\n",
       "  &quot;maxWidth&quot;: &quot;100%&quot;,\n",
       "});\n",
       "\n",
       "        \n",
       "            \n",
       "                var html_6a333d15696f5bf4b8d88077b6454c07 = $(`&lt;div id=&quot;html_6a333d15696f5bf4b8d88077b6454c07&quot; style=&quot;width: 100.0%; height: 100.0%;&quot;&gt;Wikidata: &lt;a target=&#x27;_blank&#x27; href=&#x27;http://www.wikidata.org/entity/Q55598898&#x27;&gt;Haute-Chevauchée ossuary&lt;/div&gt;`)[0];\n",
       "                popup_8cf356ef7cc8b573da6598c098fc48f1.setContent(html_6a333d15696f5bf4b8d88077b6454c07);\n",
       "            \n",
       "        \n",
       "\n",
       "        marker_33567ba6f22ba5c44ed416e5c03ce6cf.bindPopup(popup_8cf356ef7cc8b573da6598c098fc48f1)\n",
       "        ;\n",
       "\n",
       "        \n",
       "    \n",
       "    \n",
       "                marker_33567ba6f22ba5c44ed416e5c03ce6cf.setIcon(icon_94745b28e7aa58e2d7f70d3364c93d72);\n",
       "            \n",
       "    \n",
       "            var marker_8da643856eb67355d64ef95d7707b945 = L.marker(\n",
       "                [46.468414, 6.829336],\n",
       "                {\n",
       "}\n",
       "            ).addTo(map_39b30f824f1c1c5b43bfbee761251e52);\n",
       "        \n",
       "    \n",
       "            var icon_192a0b4fafbb264a6ff75dba1dde910e = L.AwesomeMarkers.icon(\n",
       "                {\n",
       "  &quot;markerColor&quot;: &quot;green&quot;,\n",
       "  &quot;iconColor&quot;: &quot;white&quot;,\n",
       "  &quot;icon&quot;: &quot;info-sign&quot;,\n",
       "  &quot;prefix&quot;: &quot;glyphicon&quot;,\n",
       "  &quot;extraClasses&quot;: &quot;fa-rotate-0&quot;,\n",
       "}\n",
       "            );\n",
       "        \n",
       "    \n",
       "        var popup_0a4ba0788590deb1c2ca8835dee574a8 = L.popup({\n",
       "  &quot;maxWidth&quot;: &quot;100%&quot;,\n",
       "});\n",
       "\n",
       "        \n",
       "            \n",
       "                var html_468aa472378457ba960fb2d52c16aa09 = $(`&lt;div id=&quot;html_468aa472378457ba960fb2d52c16aa09&quot; style=&quot;width: 100.0%; height: 100.0%;&quot;&gt;Wikidata: &lt;a target=&#x27;_blank&#x27; href=&#x27;http://www.wikidata.org/entity/Q55619850&#x27;&gt;The Architectural Work of Le Corbusier&lt;/div&gt;`)[0];\n",
       "                popup_0a4ba0788590deb1c2ca8835dee574a8.setContent(html_468aa472378457ba960fb2d52c16aa09);\n",
       "            \n",
       "        \n",
       "\n",
       "        marker_8da643856eb67355d64ef95d7707b945.bindPopup(popup_0a4ba0788590deb1c2ca8835dee574a8)\n",
       "        ;\n",
       "\n",
       "        \n",
       "    \n",
       "    \n",
       "                marker_8da643856eb67355d64ef95d7707b945.setIcon(icon_192a0b4fafbb264a6ff75dba1dde910e);\n",
       "            \n",
       "    \n",
       "            var marker_d812e17f5111c99a5ac8c8cb48e4b900 = L.marker(\n",
       "                [49.701635, 4.843142],\n",
       "                {\n",
       "}\n",
       "            ).addTo(map_39b30f824f1c1c5b43bfbee761251e52);\n",
       "        \n",
       "    \n",
       "            var icon_6606968beaacba81507d32221402b32c = L.AwesomeMarkers.icon(\n",
       "                {\n",
       "  &quot;markerColor&quot;: &quot;green&quot;,\n",
       "  &quot;iconColor&quot;: &quot;white&quot;,\n",
       "  &quot;icon&quot;: &quot;info-sign&quot;,\n",
       "  &quot;prefix&quot;: &quot;glyphicon&quot;,\n",
       "  &quot;extraClasses&quot;: &quot;fa-rotate-0&quot;,\n",
       "}\n",
       "            );\n",
       "        \n",
       "    \n",
       "        var popup_a95d5b00f1f958460fd5c09025219d45 = L.popup({\n",
       "  &quot;maxWidth&quot;: &quot;100%&quot;,\n",
       "});\n",
       "\n",
       "        \n",
       "            \n",
       "                var html_749a96d4a5f6f413ebdb6868a09473b5 = $(`&lt;div id=&quot;html_749a96d4a5f6f413ebdb6868a09473b5&quot; style=&quot;width: 100.0%; height: 100.0%;&quot;&gt;Wikidata: &lt;a target=&#x27;_blank&#x27; href=&#x27;http://www.wikidata.org/entity/Q56599670&#x27;&gt;Vrigne-Meuse Cemetery plot for deceased of November 11, 1918&lt;/div&gt;`)[0];\n",
       "                popup_a95d5b00f1f958460fd5c09025219d45.setContent(html_749a96d4a5f6f413ebdb6868a09473b5);\n",
       "            \n",
       "        \n",
       "\n",
       "        marker_d812e17f5111c99a5ac8c8cb48e4b900.bindPopup(popup_a95d5b00f1f958460fd5c09025219d45)\n",
       "        ;\n",
       "\n",
       "        \n",
       "    \n",
       "    \n",
       "                marker_d812e17f5111c99a5ac8c8cb48e4b900.setIcon(icon_6606968beaacba81507d32221402b32c);\n",
       "            \n",
       "    \n",
       "            var marker_0f31c6ede8d93bd33007de700bcba90f = L.marker(\n",
       "                [49.71167, 4.94208],\n",
       "                {\n",
       "}\n",
       "            ).addTo(map_39b30f824f1c1c5b43bfbee761251e52);\n",
       "        \n",
       "    \n",
       "            var icon_b8767d32c62b7d90a6897309f348b06c = L.AwesomeMarkers.icon(\n",
       "                {\n",
       "  &quot;markerColor&quot;: &quot;green&quot;,\n",
       "  &quot;iconColor&quot;: &quot;white&quot;,\n",
       "  &quot;icon&quot;: &quot;info-sign&quot;,\n",
       "  &quot;prefix&quot;: &quot;glyphicon&quot;,\n",
       "  &quot;extraClasses&quot;: &quot;fa-rotate-0&quot;,\n",
       "}\n",
       "            );\n",
       "        \n",
       "    \n",
       "        var popup_cdc5fd987b0bbbbcfbaf9c5d8f25b814 = L.popup({\n",
       "  &quot;maxWidth&quot;: &quot;100%&quot;,\n",
       "});\n",
       "\n",
       "        \n",
       "            \n",
       "                var html_1dfc4b41c2518d416b6285139721cfe1 = $(`&lt;div id=&quot;html_1dfc4b41c2518d416b6285139721cfe1&quot; style=&quot;width: 100.0%; height: 100.0%;&quot;&gt;Wikidata: &lt;a target=&#x27;_blank&#x27; href=&#x27;http://www.wikidata.org/entity/Q56599715&#x27;&gt;German Monument in Saint-Charles Cemetery&lt;/div&gt;`)[0];\n",
       "                popup_cdc5fd987b0bbbbcfbaf9c5d8f25b814.setContent(html_1dfc4b41c2518d416b6285139721cfe1);\n",
       "            \n",
       "        \n",
       "\n",
       "        marker_0f31c6ede8d93bd33007de700bcba90f.bindPopup(popup_cdc5fd987b0bbbbcfbaf9c5d8f25b814)\n",
       "        ;\n",
       "\n",
       "        \n",
       "    \n",
       "    \n",
       "                marker_0f31c6ede8d93bd33007de700bcba90f.setIcon(icon_b8767d32c62b7d90a6897309f348b06c);\n",
       "            \n",
       "    \n",
       "            var marker_64330ee28aa173868032ad3649682dcc = L.marker(\n",
       "                [49.20689555, 5.424454807],\n",
       "                {\n",
       "}\n",
       "            ).addTo(map_39b30f824f1c1c5b43bfbee761251e52);\n",
       "        \n",
       "    \n",
       "            var icon_86158a8e482d337366378414de86eb07 = L.AwesomeMarkers.icon(\n",
       "                {\n",
       "  &quot;markerColor&quot;: &quot;green&quot;,\n",
       "  &quot;iconColor&quot;: &quot;white&quot;,\n",
       "  &quot;icon&quot;: &quot;info-sign&quot;,\n",
       "  &quot;prefix&quot;: &quot;glyphicon&quot;,\n",
       "  &quot;extraClasses&quot;: &quot;fa-rotate-0&quot;,\n",
       "}\n",
       "            );\n",
       "        \n",
       "    \n",
       "        var popup_3862dba3beeb945b017e7ea0f0038eaf = L.popup({\n",
       "  &quot;maxWidth&quot;: &quot;100%&quot;,\n",
       "});\n",
       "\n",
       "        \n",
       "            \n",
       "                var html_1fe82a56a46cfd6bb657f85e285c62c9 = $(`&lt;div id=&quot;html_1fe82a56a46cfd6bb657f85e285c62c9&quot; style=&quot;width: 100.0%; height: 100.0%;&quot;&gt;Wikidata: &lt;a target=&#x27;_blank&#x27; href=&#x27;http://www.wikidata.org/entity/Q56718530&#x27;&gt;Fleury-devant-Douaumont National Cemetery&lt;/div&gt;`)[0];\n",
       "                popup_3862dba3beeb945b017e7ea0f0038eaf.setContent(html_1fe82a56a46cfd6bb657f85e285c62c9);\n",
       "            \n",
       "        \n",
       "\n",
       "        marker_64330ee28aa173868032ad3649682dcc.bindPopup(popup_3862dba3beeb945b017e7ea0f0038eaf)\n",
       "        ;\n",
       "\n",
       "        \n",
       "    \n",
       "    \n",
       "                marker_64330ee28aa173868032ad3649682dcc.setIcon(icon_86158a8e482d337366378414de86eb07);\n",
       "            \n",
       "    \n",
       "            var marker_7676ae0dd4be561db9a57ff159ee2d84 = L.marker(\n",
       "                [47.8526, 7.17285],\n",
       "                {\n",
       "}\n",
       "            ).addTo(map_39b30f824f1c1c5b43bfbee761251e52);\n",
       "        \n",
       "    \n",
       "            var icon_b79e85c2ed5af104a59c4b45cd2290a7 = L.AwesomeMarkers.icon(\n",
       "                {\n",
       "  &quot;markerColor&quot;: &quot;green&quot;,\n",
       "  &quot;iconColor&quot;: &quot;white&quot;,\n",
       "  &quot;icon&quot;: &quot;info-sign&quot;,\n",
       "  &quot;prefix&quot;: &quot;glyphicon&quot;,\n",
       "  &quot;extraClasses&quot;: &quot;fa-rotate-0&quot;,\n",
       "}\n",
       "            );\n",
       "        \n",
       "    \n",
       "        var popup_a6cc91e7ed228d35958026aeb9b6d52c = L.popup({\n",
       "  &quot;maxWidth&quot;: &quot;100%&quot;,\n",
       "});\n",
       "\n",
       "        \n",
       "            \n",
       "                var html_e3d4a3db9b91b9ef2eec903b35fba0dd = $(`&lt;div id=&quot;html_e3d4a3db9b91b9ef2eec903b35fba0dd&quot; style=&quot;width: 100.0%; height: 100.0%;&quot;&gt;Wikidata: &lt;a target=&#x27;_blank&#x27; href=&#x27;http://www.wikidata.org/entity/Q59281347&#x27;&gt;Cemetery of the Uhlans&lt;/div&gt;`)[0];\n",
       "                popup_a6cc91e7ed228d35958026aeb9b6d52c.setContent(html_e3d4a3db9b91b9ef2eec903b35fba0dd);\n",
       "            \n",
       "        \n",
       "\n",
       "        marker_7676ae0dd4be561db9a57ff159ee2d84.bindPopup(popup_a6cc91e7ed228d35958026aeb9b6d52c)\n",
       "        ;\n",
       "\n",
       "        \n",
       "    \n",
       "    \n",
       "                marker_7676ae0dd4be561db9a57ff159ee2d84.setIcon(icon_b79e85c2ed5af104a59c4b45cd2290a7);\n",
       "            \n",
       "    \n",
       "            var marker_57f2aad64748ffb8080d4788d62653fa = L.marker(\n",
       "                [48.079027777, 7.144055555],\n",
       "                {\n",
       "}\n",
       "            ).addTo(map_39b30f824f1c1c5b43bfbee761251e52);\n",
       "        \n",
       "    \n",
       "            var icon_27a7afbd4b56a3266b5f79e373562870 = L.AwesomeMarkers.icon(\n",
       "                {\n",
       "  &quot;markerColor&quot;: &quot;green&quot;,\n",
       "  &quot;iconColor&quot;: &quot;white&quot;,\n",
       "  &quot;icon&quot;: &quot;info-sign&quot;,\n",
       "  &quot;prefix&quot;: &quot;glyphicon&quot;,\n",
       "  &quot;extraClasses&quot;: &quot;fa-rotate-0&quot;,\n",
       "}\n",
       "            );\n",
       "        \n",
       "    \n",
       "        var popup_e0351764eec887daae8b5d28d335c1b5 = L.popup({\n",
       "  &quot;maxWidth&quot;: &quot;100%&quot;,\n",
       "});\n",
       "\n",
       "        \n",
       "            \n",
       "                var html_e743d9e991dc08cbf38dbf0020aa3409 = $(`&lt;div id=&quot;html_e743d9e991dc08cbf38dbf0020aa3409&quot; style=&quot;width: 100.0%; height: 100.0%;&quot;&gt;Wikidata: &lt;a target=&#x27;_blank&#x27; href=&#x27;http://www.wikidata.org/entity/Q59297166&#x27;&gt;Hohrod German war cemetery&lt;/div&gt;`)[0];\n",
       "                popup_e0351764eec887daae8b5d28d335c1b5.setContent(html_e743d9e991dc08cbf38dbf0020aa3409);\n",
       "            \n",
       "        \n",
       "\n",
       "        marker_57f2aad64748ffb8080d4788d62653fa.bindPopup(popup_e0351764eec887daae8b5d28d335c1b5)\n",
       "        ;\n",
       "\n",
       "        \n",
       "    \n",
       "    \n",
       "                marker_57f2aad64748ffb8080d4788d62653fa.setIcon(icon_27a7afbd4b56a3266b5f79e373562870);\n",
       "            \n",
       "    \n",
       "            var marker_bcf844a6645aa7a9285022a7cc213753 = L.marker(\n",
       "                [48.512796, 7.165281],\n",
       "                {\n",
       "}\n",
       "            ).addTo(map_39b30f824f1c1c5b43bfbee761251e52);\n",
       "        \n",
       "    \n",
       "            var icon_3179fe1c8f8183350a9bf4629de7936a = L.AwesomeMarkers.icon(\n",
       "                {\n",
       "  &quot;markerColor&quot;: &quot;green&quot;,\n",
       "  &quot;iconColor&quot;: &quot;white&quot;,\n",
       "  &quot;icon&quot;: &quot;info-sign&quot;,\n",
       "  &quot;prefix&quot;: &quot;glyphicon&quot;,\n",
       "  &quot;extraClasses&quot;: &quot;fa-rotate-0&quot;,\n",
       "}\n",
       "            );\n",
       "        \n",
       "    \n",
       "        var popup_19444ce0682039f1887ee05be83ec407 = L.popup({\n",
       "  &quot;maxWidth&quot;: &quot;100%&quot;,\n",
       "});\n",
       "\n",
       "        \n",
       "            \n",
       "                var html_4bc043321b81651d0d68508b5c531150 = $(`&lt;div id=&quot;html_4bc043321b81651d0d68508b5c531150&quot; style=&quot;width: 100.0%; height: 100.0%;&quot;&gt;Wikidata: &lt;a target=&#x27;_blank&#x27; href=&#x27;http://www.wikidata.org/entity/Q59310530&#x27;&gt;Memorial stones and tombs of Petit Donon&lt;/div&gt;`)[0];\n",
       "                popup_19444ce0682039f1887ee05be83ec407.setContent(html_4bc043321b81651d0d68508b5c531150);\n",
       "            \n",
       "        \n",
       "\n",
       "        marker_bcf844a6645aa7a9285022a7cc213753.bindPopup(popup_19444ce0682039f1887ee05be83ec407)\n",
       "        ;\n",
       "\n",
       "        \n",
       "    \n",
       "    \n",
       "                marker_bcf844a6645aa7a9285022a7cc213753.setIcon(icon_3179fe1c8f8183350a9bf4629de7936a);\n",
       "            \n",
       "    \n",
       "            var marker_bcaa130d475bb03a729a577d4c09e159 = L.marker(\n",
       "                [49.256472222, 4.967472222],\n",
       "                {\n",
       "}\n",
       "            ).addTo(map_39b30f824f1c1c5b43bfbee761251e52);\n",
       "        \n",
       "    \n",
       "            var icon_b2fc1c68f5c7b2f0fd98d5b3dd9bfce7 = L.AwesomeMarkers.icon(\n",
       "                {\n",
       "  &quot;markerColor&quot;: &quot;green&quot;,\n",
       "  &quot;iconColor&quot;: &quot;white&quot;,\n",
       "  &quot;icon&quot;: &quot;info-sign&quot;,\n",
       "  &quot;prefix&quot;: &quot;glyphicon&quot;,\n",
       "  &quot;extraClasses&quot;: &quot;fa-rotate-0&quot;,\n",
       "}\n",
       "            );\n",
       "        \n",
       "    \n",
       "        var popup_968976cf7f342dc499d68f998dff7310 = L.popup({\n",
       "  &quot;maxWidth&quot;: &quot;100%&quot;,\n",
       "});\n",
       "\n",
       "        \n",
       "            \n",
       "                var html_283bff1115ddcd741f8e97e7570d3edf = $(`&lt;div id=&quot;html_283bff1115ddcd741f8e97e7570d3edf&quot; style=&quot;width: 100.0%; height: 100.0%;&quot;&gt;Wikidata: &lt;a target=&#x27;_blank&#x27; href=&#x27;http://www.wikidata.org/entity/Q59592141&#x27;&gt;Apremont German military cemetery&lt;/div&gt;`)[0];\n",
       "                popup_968976cf7f342dc499d68f998dff7310.setContent(html_283bff1115ddcd741f8e97e7570d3edf);\n",
       "            \n",
       "        \n",
       "\n",
       "        marker_bcaa130d475bb03a729a577d4c09e159.bindPopup(popup_968976cf7f342dc499d68f998dff7310)\n",
       "        ;\n",
       "\n",
       "        \n",
       "    \n",
       "    \n",
       "                marker_bcaa130d475bb03a729a577d4c09e159.setIcon(icon_b2fc1c68f5c7b2f0fd98d5b3dd9bfce7);\n",
       "            \n",
       "    \n",
       "            var marker_17d60653655a968e678a2ba4ed181ac2 = L.marker(\n",
       "                [49.189083333, 4.535944444],\n",
       "                {\n",
       "}\n",
       "            ).addTo(map_39b30f824f1c1c5b43bfbee761251e52);\n",
       "        \n",
       "    \n",
       "            var icon_bf1689966a41e0609a2ca21bc3caa8e3 = L.AwesomeMarkers.icon(\n",
       "                {\n",
       "  &quot;markerColor&quot;: &quot;green&quot;,\n",
       "  &quot;iconColor&quot;: &quot;white&quot;,\n",
       "  &quot;icon&quot;: &quot;info-sign&quot;,\n",
       "  &quot;prefix&quot;: &quot;glyphicon&quot;,\n",
       "  &quot;extraClasses&quot;: &quot;fa-rotate-0&quot;,\n",
       "}\n",
       "            );\n",
       "        \n",
       "    \n",
       "        var popup_bd9d0257b20eef4f2d481d35fcc8964f = L.popup({\n",
       "  &quot;maxWidth&quot;: &quot;100%&quot;,\n",
       "});\n",
       "\n",
       "        \n",
       "            \n",
       "                var html_a14540b5d79a2556a00dc4ca6f9d426f = $(`&lt;div id=&quot;html_a14540b5d79a2556a00dc4ca6f9d426f&quot; style=&quot;width: 100.0%; height: 100.0%;&quot;&gt;Wikidata: &lt;a target=&#x27;_blank&#x27; href=&#x27;http://www.wikidata.org/entity/Q59594168&#x27;&gt;Souain German military cemetery&lt;/div&gt;`)[0];\n",
       "                popup_bd9d0257b20eef4f2d481d35fcc8964f.setContent(html_a14540b5d79a2556a00dc4ca6f9d426f);\n",
       "            \n",
       "        \n",
       "\n",
       "        marker_17d60653655a968e678a2ba4ed181ac2.bindPopup(popup_bd9d0257b20eef4f2d481d35fcc8964f)\n",
       "        ;\n",
       "\n",
       "        \n",
       "    \n",
       "    \n",
       "                marker_17d60653655a968e678a2ba4ed181ac2.setIcon(icon_bf1689966a41e0609a2ca21bc3caa8e3);\n",
       "            \n",
       "    \n",
       "            var marker_5fa33a2b40cfd216e55727f7e141bca8 = L.marker(\n",
       "                [49.397205, 4.727118],\n",
       "                {\n",
       "}\n",
       "            ).addTo(map_39b30f824f1c1c5b43bfbee761251e52);\n",
       "        \n",
       "    \n",
       "            var icon_6484dda33470ec71a18157187d036f4f = L.AwesomeMarkers.icon(\n",
       "                {\n",
       "  &quot;markerColor&quot;: &quot;green&quot;,\n",
       "  &quot;iconColor&quot;: &quot;white&quot;,\n",
       "  &quot;icon&quot;: &quot;info-sign&quot;,\n",
       "  &quot;prefix&quot;: &quot;glyphicon&quot;,\n",
       "  &quot;extraClasses&quot;: &quot;fa-rotate-0&quot;,\n",
       "}\n",
       "            );\n",
       "        \n",
       "    \n",
       "        var popup_6ffbd829bc7d3f5f010ca205a24b5add = L.popup({\n",
       "  &quot;maxWidth&quot;: &quot;100%&quot;,\n",
       "});\n",
       "\n",
       "        \n",
       "            \n",
       "                var html_d82cfd9c744ec15fdeaee0824208d04f = $(`&lt;div id=&quot;html_d82cfd9c744ec15fdeaee0824208d04f&quot; style=&quot;width: 100.0%; height: 100.0%;&quot;&gt;Wikidata: &lt;a target=&#x27;_blank&#x27; href=&#x27;http://www.wikidata.org/entity/Q59616773&#x27;&gt;German section of the Chestres  military cemetery&lt;/div&gt;`)[0];\n",
       "                popup_6ffbd829bc7d3f5f010ca205a24b5add.setContent(html_d82cfd9c744ec15fdeaee0824208d04f);\n",
       "            \n",
       "        \n",
       "\n",
       "        marker_5fa33a2b40cfd216e55727f7e141bca8.bindPopup(popup_6ffbd829bc7d3f5f010ca205a24b5add)\n",
       "        ;\n",
       "\n",
       "        \n",
       "    \n",
       "    \n",
       "                marker_5fa33a2b40cfd216e55727f7e141bca8.setIcon(icon_6484dda33470ec71a18157187d036f4f);\n",
       "            \n",
       "    \n",
       "            var marker_c6bf5607471b095003cbd4ebb2f99dd1 = L.marker(\n",
       "                [49.42315, 5.70492],\n",
       "                {\n",
       "}\n",
       "            ).addTo(map_39b30f824f1c1c5b43bfbee761251e52);\n",
       "        \n",
       "    \n",
       "            var icon_ac80b3337c91d837e5715bb4e0681c6c = L.AwesomeMarkers.icon(\n",
       "                {\n",
       "  &quot;markerColor&quot;: &quot;green&quot;,\n",
       "  &quot;iconColor&quot;: &quot;white&quot;,\n",
       "  &quot;icon&quot;: &quot;info-sign&quot;,\n",
       "  &quot;prefix&quot;: &quot;glyphicon&quot;,\n",
       "  &quot;extraClasses&quot;: &quot;fa-rotate-0&quot;,\n",
       "}\n",
       "            );\n",
       "        \n",
       "    \n",
       "        var popup_56690d343084e0685021b785e99255b8 = L.popup({\n",
       "  &quot;maxWidth&quot;: &quot;100%&quot;,\n",
       "});\n",
       "\n",
       "        \n",
       "            \n",
       "                var html_950d8199141c9af2befdc201104800aa = $(`&lt;div id=&quot;html_950d8199141c9af2befdc201104800aa&quot; style=&quot;width: 100.0%; height: 100.0%;&quot;&gt;Wikidata: &lt;a target=&#x27;_blank&#x27; href=&#x27;http://www.wikidata.org/entity/Q59618084&#x27;&gt;Pierrepont German military cemetery&lt;/div&gt;`)[0];\n",
       "                popup_56690d343084e0685021b785e99255b8.setContent(html_950d8199141c9af2befdc201104800aa);\n",
       "            \n",
       "        \n",
       "\n",
       "        marker_c6bf5607471b095003cbd4ebb2f99dd1.bindPopup(popup_56690d343084e0685021b785e99255b8)\n",
       "        ;\n",
       "\n",
       "        \n",
       "    \n",
       "    \n",
       "                marker_c6bf5607471b095003cbd4ebb2f99dd1.setIcon(icon_ac80b3337c91d837e5715bb4e0681c6c);\n",
       "            \n",
       "    \n",
       "            var marker_38acb36ed174b2986ba3043abc3e7321 = L.marker(\n",
       "                [48.691666666, 6.711138888],\n",
       "                {\n",
       "}\n",
       "            ).addTo(map_39b30f824f1c1c5b43bfbee761251e52);\n",
       "        \n",
       "    \n",
       "            var icon_c8076c3f31ba79188ebd8c796a88f3ab = L.AwesomeMarkers.icon(\n",
       "                {\n",
       "  &quot;markerColor&quot;: &quot;green&quot;,\n",
       "  &quot;iconColor&quot;: &quot;white&quot;,\n",
       "  &quot;icon&quot;: &quot;info-sign&quot;,\n",
       "  &quot;prefix&quot;: &quot;glyphicon&quot;,\n",
       "  &quot;extraClasses&quot;: &quot;fa-rotate-0&quot;,\n",
       "}\n",
       "            );\n",
       "        \n",
       "    \n",
       "        var popup_efcfd9f123b44a7ebfefbd302f17babb = L.popup({\n",
       "  &quot;maxWidth&quot;: &quot;100%&quot;,\n",
       "});\n",
       "\n",
       "        \n",
       "            \n",
       "                var html_f6256d7967e60d596035b01bc29e6db7 = $(`&lt;div id=&quot;html_f6256d7967e60d596035b01bc29e6db7&quot; style=&quot;width: 100.0%; height: 100.0%;&quot;&gt;Wikidata: &lt;a target=&#x27;_blank&#x27; href=&#x27;http://www.wikidata.org/entity/Q60042743&#x27;&gt;Lagarde German military cemetery&lt;/div&gt;`)[0];\n",
       "                popup_efcfd9f123b44a7ebfefbd302f17babb.setContent(html_f6256d7967e60d596035b01bc29e6db7);\n",
       "            \n",
       "        \n",
       "\n",
       "        marker_38acb36ed174b2986ba3043abc3e7321.bindPopup(popup_efcfd9f123b44a7ebfefbd302f17babb)\n",
       "        ;\n",
       "\n",
       "        \n",
       "    \n",
       "    \n",
       "                marker_38acb36ed174b2986ba3043abc3e7321.setIcon(icon_c8076c3f31ba79188ebd8c796a88f3ab);\n",
       "            \n",
       "    \n",
       "            var marker_c70d416d9e3bcdb835da04443c8d3849 = L.marker(\n",
       "                [49.568583333, 2.885083333],\n",
       "                {\n",
       "}\n",
       "            ).addTo(map_39b30f824f1c1c5b43bfbee761251e52);\n",
       "        \n",
       "    \n",
       "            var icon_3d61cbf8701f71db4cd52cadf93ce286 = L.AwesomeMarkers.icon(\n",
       "                {\n",
       "  &quot;markerColor&quot;: &quot;green&quot;,\n",
       "  &quot;iconColor&quot;: &quot;white&quot;,\n",
       "  &quot;icon&quot;: &quot;info-sign&quot;,\n",
       "  &quot;prefix&quot;: &quot;glyphicon&quot;,\n",
       "  &quot;extraClasses&quot;: &quot;fa-rotate-0&quot;,\n",
       "}\n",
       "            );\n",
       "        \n",
       "    \n",
       "        var popup_9504b552e9ac963b245900a93161f8ec = L.popup({\n",
       "  &quot;maxWidth&quot;: &quot;100%&quot;,\n",
       "});\n",
       "\n",
       "        \n",
       "            \n",
       "                var html_93364afee53ef5ac3948597163cdd75a = $(`&lt;div id=&quot;html_93364afee53ef5ac3948597163cdd75a&quot; style=&quot;width: 100.0%; height: 100.0%;&quot;&gt;Wikidata: &lt;a target=&#x27;_blank&#x27; href=&#x27;http://www.wikidata.org/entity/Q60162677&#x27;&gt;Thiescourt German military cemetery&lt;/div&gt;`)[0];\n",
       "                popup_9504b552e9ac963b245900a93161f8ec.setContent(html_93364afee53ef5ac3948597163cdd75a);\n",
       "            \n",
       "        \n",
       "\n",
       "        marker_c70d416d9e3bcdb835da04443c8d3849.bindPopup(popup_9504b552e9ac963b245900a93161f8ec)\n",
       "        ;\n",
       "\n",
       "        \n",
       "    \n",
       "    \n",
       "                marker_c70d416d9e3bcdb835da04443c8d3849.setIcon(icon_3d61cbf8701f71db4cd52cadf93ce286);\n",
       "            \n",
       "    \n",
       "            var marker_b9a9382c3e965bd69be48103342d725e = L.marker(\n",
       "                [49.848333333, 3.262611111],\n",
       "                {\n",
       "}\n",
       "            ).addTo(map_39b30f824f1c1c5b43bfbee761251e52);\n",
       "        \n",
       "    \n",
       "            var icon_fa9e0d8d569a2a714ce02d9109f18095 = L.AwesomeMarkers.icon(\n",
       "                {\n",
       "  &quot;markerColor&quot;: &quot;green&quot;,\n",
       "  &quot;iconColor&quot;: &quot;white&quot;,\n",
       "  &quot;icon&quot;: &quot;info-sign&quot;,\n",
       "  &quot;prefix&quot;: &quot;glyphicon&quot;,\n",
       "  &quot;extraClasses&quot;: &quot;fa-rotate-0&quot;,\n",
       "}\n",
       "            );\n",
       "        \n",
       "    \n",
       "        var popup_9170070387b2867f74550ebced95ed25 = L.popup({\n",
       "  &quot;maxWidth&quot;: &quot;100%&quot;,\n",
       "});\n",
       "\n",
       "        \n",
       "            \n",
       "                var html_aeade6cb1ed115578fc72fa1867f95e2 = $(`&lt;div id=&quot;html_aeade6cb1ed115578fc72fa1867f95e2&quot; style=&quot;width: 100.0%; height: 100.0%;&quot;&gt;Wikidata: &lt;a target=&#x27;_blank&#x27; href=&#x27;http://www.wikidata.org/entity/Q60221092&#x27;&gt;Saint-Quentin Franco-German Monument&lt;/div&gt;`)[0];\n",
       "                popup_9170070387b2867f74550ebced95ed25.setContent(html_aeade6cb1ed115578fc72fa1867f95e2);\n",
       "            \n",
       "        \n",
       "\n",
       "        marker_b9a9382c3e965bd69be48103342d725e.bindPopup(popup_9170070387b2867f74550ebced95ed25)\n",
       "        ;\n",
       "\n",
       "        \n",
       "    \n",
       "    \n",
       "                marker_b9a9382c3e965bd69be48103342d725e.setIcon(icon_fa9e0d8d569a2a714ce02d9109f18095);\n",
       "            \n",
       "    \n",
       "            var marker_4ace7ccd96f3a0759f5ecb83f8cbb8c8 = L.marker(\n",
       "                [48.402222222, 2.700555555],\n",
       "                {\n",
       "}\n",
       "            ).addTo(map_39b30f824f1c1c5b43bfbee761251e52);\n",
       "        \n",
       "    \n",
       "            var icon_f1c588aa5a9e040aadca08d87c330052 = L.AwesomeMarkers.icon(\n",
       "                {\n",
       "  &quot;markerColor&quot;: &quot;green&quot;,\n",
       "  &quot;iconColor&quot;: &quot;white&quot;,\n",
       "  &quot;icon&quot;: &quot;info-sign&quot;,\n",
       "  &quot;prefix&quot;: &quot;glyphicon&quot;,\n",
       "  &quot;extraClasses&quot;: &quot;fa-rotate-0&quot;,\n",
       "}\n",
       "            );\n",
       "        \n",
       "    \n",
       "        var popup_f96dd2e547aa12e2870502b388861da8 = L.popup({\n",
       "  &quot;maxWidth&quot;: &quot;100%&quot;,\n",
       "});\n",
       "\n",
       "        \n",
       "            \n",
       "                var html_849afc67d0ea0d3505cbf237f34669c7 = $(`&lt;div id=&quot;html_849afc67d0ea0d3505cbf237f34669c7&quot; style=&quot;width: 100.0%; height: 100.0%;&quot;&gt;Wikidata: &lt;a target=&#x27;_blank&#x27; href=&#x27;http://www.wikidata.org/entity/Q201428&#x27;&gt;Palace of Fontainebleau&lt;/div&gt;`)[0];\n",
       "                popup_f96dd2e547aa12e2870502b388861da8.setContent(html_849afc67d0ea0d3505cbf237f34669c7);\n",
       "            \n",
       "        \n",
       "\n",
       "        marker_4ace7ccd96f3a0759f5ecb83f8cbb8c8.bindPopup(popup_f96dd2e547aa12e2870502b388861da8)\n",
       "        ;\n",
       "\n",
       "        \n",
       "    \n",
       "    \n",
       "                marker_4ace7ccd96f3a0759f5ecb83f8cbb8c8.setIcon(icon_f1c588aa5a9e040aadca08d87c330052);\n",
       "            \n",
       "    \n",
       "            var marker_a40d68ddee345545597351211f14397f = L.marker(\n",
       "                [43.61111111, 1.41833333],\n",
       "                {\n",
       "}\n",
       "            ).addTo(map_39b30f824f1c1c5b43bfbee761251e52);\n",
       "        \n",
       "    \n",
       "            var icon_dead353e418f7711b313b96543f4584c = L.AwesomeMarkers.icon(\n",
       "                {\n",
       "  &quot;markerColor&quot;: &quot;green&quot;,\n",
       "  &quot;iconColor&quot;: &quot;white&quot;,\n",
       "  &quot;icon&quot;: &quot;info-sign&quot;,\n",
       "  &quot;prefix&quot;: &quot;glyphicon&quot;,\n",
       "  &quot;extraClasses&quot;: &quot;fa-rotate-0&quot;,\n",
       "}\n",
       "            );\n",
       "        \n",
       "    \n",
       "        var popup_fb3b905d8c9200fa2655eae8fe062fea = L.popup({\n",
       "  &quot;maxWidth&quot;: &quot;100%&quot;,\n",
       "});\n",
       "\n",
       "        \n",
       "            \n",
       "                var html_b16f7472e7f8664a90c3ac04b9d6f25b = $(`&lt;div id=&quot;html_b16f7472e7f8664a90c3ac04b9d6f25b&quot; style=&quot;width: 100.0%; height: 100.0%;&quot;&gt;Wikidata: &lt;a target=&#x27;_blank&#x27; href=&#x27;http://www.wikidata.org/entity/Q202494&#x27;&gt;Canal du Midi&lt;/div&gt;`)[0];\n",
       "                popup_fb3b905d8c9200fa2655eae8fe062fea.setContent(html_b16f7472e7f8664a90c3ac04b9d6f25b);\n",
       "            \n",
       "        \n",
       "\n",
       "        marker_a40d68ddee345545597351211f14397f.bindPopup(popup_fb3b905d8c9200fa2655eae8fe062fea)\n",
       "        ;\n",
       "\n",
       "        \n",
       "    \n",
       "    \n",
       "                marker_a40d68ddee345545597351211f14397f.setIcon(icon_dead353e418f7711b313b96543f4584c);\n",
       "            \n",
       "    \n",
       "            var marker_c94e44a584eb73f17ab99ba3030f1586 = L.marker(\n",
       "                [-9.0, -139.5],\n",
       "                {\n",
       "}\n",
       "            ).addTo(map_39b30f824f1c1c5b43bfbee761251e52);\n",
       "        \n",
       "    \n",
       "            var icon_3d9e480e4a66111a187e193bf74ad147 = L.AwesomeMarkers.icon(\n",
       "                {\n",
       "  &quot;markerColor&quot;: &quot;green&quot;,\n",
       "  &quot;iconColor&quot;: &quot;white&quot;,\n",
       "  &quot;icon&quot;: &quot;info-sign&quot;,\n",
       "  &quot;prefix&quot;: &quot;glyphicon&quot;,\n",
       "  &quot;extraClasses&quot;: &quot;fa-rotate-0&quot;,\n",
       "}\n",
       "            );\n",
       "        \n",
       "    \n",
       "        var popup_a7573ba7e917fe597da3d8d0c384129f = L.popup({\n",
       "  &quot;maxWidth&quot;: &quot;100%&quot;,\n",
       "});\n",
       "\n",
       "        \n",
       "            \n",
       "                var html_e78cb8bd3e9ce151b97abc7931eaacf7 = $(`&lt;div id=&quot;html_e78cb8bd3e9ce151b97abc7931eaacf7&quot; style=&quot;width: 100.0%; height: 100.0%;&quot;&gt;Wikidata: &lt;a target=&#x27;_blank&#x27; href=&#x27;http://www.wikidata.org/entity/Q172697&#x27;&gt;Marquesas Islands&lt;/div&gt;`)[0];\n",
       "                popup_a7573ba7e917fe597da3d8d0c384129f.setContent(html_e78cb8bd3e9ce151b97abc7931eaacf7);\n",
       "            \n",
       "        \n",
       "\n",
       "        marker_c94e44a584eb73f17ab99ba3030f1586.bindPopup(popup_a7573ba7e917fe597da3d8d0c384129f)\n",
       "        ;\n",
       "\n",
       "        \n",
       "    \n",
       "    \n",
       "                marker_c94e44a584eb73f17ab99ba3030f1586.setIcon(icon_3d9e480e4a66111a187e193bf74ad147);\n",
       "            \n",
       "    \n",
       "            var marker_5910e44bd34c3989ab6caf81b02267b9 = L.marker(\n",
       "                [47.616111111, 1.517222222],\n",
       "                {\n",
       "}\n",
       "            ).addTo(map_39b30f824f1c1c5b43bfbee761251e52);\n",
       "        \n",
       "    \n",
       "            var icon_1bc30f946e4e462b4c506a4551affd6d = L.AwesomeMarkers.icon(\n",
       "                {\n",
       "  &quot;markerColor&quot;: &quot;green&quot;,\n",
       "  &quot;iconColor&quot;: &quot;white&quot;,\n",
       "  &quot;icon&quot;: &quot;info-sign&quot;,\n",
       "  &quot;prefix&quot;: &quot;glyphicon&quot;,\n",
       "  &quot;extraClasses&quot;: &quot;fa-rotate-0&quot;,\n",
       "}\n",
       "            );\n",
       "        \n",
       "    \n",
       "        var popup_3ff1f8c8abcbeed947c4a989b0a0284b = L.popup({\n",
       "  &quot;maxWidth&quot;: &quot;100%&quot;,\n",
       "});\n",
       "\n",
       "        \n",
       "            \n",
       "                var html_1b0a5a3d631c1bf9fa6ac4007e7fba99 = $(`&lt;div id=&quot;html_1b0a5a3d631c1bf9fa6ac4007e7fba99&quot; style=&quot;width: 100.0%; height: 100.0%;&quot;&gt;Wikidata: &lt;a target=&#x27;_blank&#x27; href=&#x27;http://www.wikidata.org/entity/Q205367&#x27;&gt;Château de Chambord&lt;/div&gt;`)[0];\n",
       "                popup_3ff1f8c8abcbeed947c4a989b0a0284b.setContent(html_1b0a5a3d631c1bf9fa6ac4007e7fba99);\n",
       "            \n",
       "        \n",
       "\n",
       "        marker_5910e44bd34c3989ab6caf81b02267b9.bindPopup(popup_3ff1f8c8abcbeed947c4a989b0a0284b)\n",
       "        ;\n",
       "\n",
       "        \n",
       "    \n",
       "    \n",
       "                marker_5910e44bd34c3989ab6caf81b02267b9.setIcon(icon_1bc30f946e4e462b4c506a4551affd6d);\n",
       "            \n",
       "    \n",
       "            var marker_1ea3703f9d40ebb2129f256f783f62d0 = L.marker(\n",
       "                [48.447777777, 1.487777777],\n",
       "                {\n",
       "}\n",
       "            ).addTo(map_39b30f824f1c1c5b43bfbee761251e52);\n",
       "        \n",
       "    \n",
       "            var icon_b1ade0bdc0ef1eeda3888663336dd773 = L.AwesomeMarkers.icon(\n",
       "                {\n",
       "  &quot;markerColor&quot;: &quot;green&quot;,\n",
       "  &quot;iconColor&quot;: &quot;white&quot;,\n",
       "  &quot;icon&quot;: &quot;info-sign&quot;,\n",
       "  &quot;prefix&quot;: &quot;glyphicon&quot;,\n",
       "  &quot;extraClasses&quot;: &quot;fa-rotate-0&quot;,\n",
       "}\n",
       "            );\n",
       "        \n",
       "    \n",
       "        var popup_a22047f5cc857df378d05ea70b2e9cad = L.popup({\n",
       "  &quot;maxWidth&quot;: &quot;100%&quot;,\n",
       "});\n",
       "\n",
       "        \n",
       "            \n",
       "                var html_ea733f0cdc1d56fd3fa3db6774b6829a = $(`&lt;div id=&quot;html_ea733f0cdc1d56fd3fa3db6774b6829a&quot; style=&quot;width: 100.0%; height: 100.0%;&quot;&gt;Wikidata: &lt;a target=&#x27;_blank&#x27; href=&#x27;http://www.wikidata.org/entity/Q180274&#x27;&gt;Notre-Dame de Chartres&lt;/div&gt;`)[0];\n",
       "                popup_a22047f5cc857df378d05ea70b2e9cad.setContent(html_ea733f0cdc1d56fd3fa3db6774b6829a);\n",
       "            \n",
       "        \n",
       "\n",
       "        marker_1ea3703f9d40ebb2129f256f783f62d0.bindPopup(popup_a22047f5cc857df378d05ea70b2e9cad)\n",
       "        ;\n",
       "\n",
       "        \n",
       "    \n",
       "    \n",
       "                marker_1ea3703f9d40ebb2129f256f783f62d0.setIcon(icon_b1ade0bdc0ef1eeda3888663336dd773);\n",
       "            \n",
       "    \n",
       "            var marker_f00e55d2e713e85952f906f59a64e867 = L.marker(\n",
       "                [47.08222, 2.39917],\n",
       "                {\n",
       "}\n",
       "            ).addTo(map_39b30f824f1c1c5b43bfbee761251e52);\n",
       "        \n",
       "    \n",
       "            var icon_e219f2e056fef1e0024b9b9bef4fa9f5 = L.AwesomeMarkers.icon(\n",
       "                {\n",
       "  &quot;markerColor&quot;: &quot;green&quot;,\n",
       "  &quot;iconColor&quot;: &quot;white&quot;,\n",
       "  &quot;icon&quot;: &quot;info-sign&quot;,\n",
       "  &quot;prefix&quot;: &quot;glyphicon&quot;,\n",
       "  &quot;extraClasses&quot;: &quot;fa-rotate-0&quot;,\n",
       "}\n",
       "            );\n",
       "        \n",
       "    \n",
       "        var popup_c62b520307c08729d62ef4686f0e15d0 = L.popup({\n",
       "  &quot;maxWidth&quot;: &quot;100%&quot;,\n",
       "});\n",
       "\n",
       "        \n",
       "            \n",
       "                var html_fbb873cda83e81e2c7b59cf3f00d8d7a = $(`&lt;div id=&quot;html_fbb873cda83e81e2c7b59cf3f00d8d7a&quot; style=&quot;width: 100.0%; height: 100.0%;&quot;&gt;Wikidata: &lt;a target=&#x27;_blank&#x27; href=&#x27;http://www.wikidata.org/entity/Q207985&#x27;&gt;Bourges Cathedral&lt;/div&gt;`)[0];\n",
       "                popup_c62b520307c08729d62ef4686f0e15d0.setContent(html_fbb873cda83e81e2c7b59cf3f00d8d7a);\n",
       "            \n",
       "        \n",
       "\n",
       "        marker_f00e55d2e713e85952f906f59a64e867.bindPopup(popup_c62b520307c08729d62ef4686f0e15d0)\n",
       "        ;\n",
       "\n",
       "        \n",
       "    \n",
       "    \n",
       "                marker_f00e55d2e713e85952f906f59a64e867.setIcon(icon_e219f2e056fef1e0024b9b9bef4fa9f5);\n",
       "            \n",
       "    \n",
       "            var marker_e03c15a456d443bddeb61eb7e88c54de = L.marker(\n",
       "                [50.607772, 2.851058],\n",
       "                {\n",
       "}\n",
       "            ).addTo(map_39b30f824f1c1c5b43bfbee761251e52);\n",
       "        \n",
       "    \n",
       "            var icon_342c1544237f5ef00e7663fd781b0bad = L.AwesomeMarkers.icon(\n",
       "                {\n",
       "  &quot;markerColor&quot;: &quot;green&quot;,\n",
       "  &quot;iconColor&quot;: &quot;white&quot;,\n",
       "  &quot;icon&quot;: &quot;info-sign&quot;,\n",
       "  &quot;prefix&quot;: &quot;glyphicon&quot;,\n",
       "  &quot;extraClasses&quot;: &quot;fa-rotate-0&quot;,\n",
       "}\n",
       "            );\n",
       "        \n",
       "    \n",
       "        var popup_d20ca6244ca4cf1e275219276b5bc8ca = L.popup({\n",
       "  &quot;maxWidth&quot;: &quot;100%&quot;,\n",
       "});\n",
       "\n",
       "        \n",
       "            \n",
       "                var html_a8e015696e20b0c806a13a4bf51b849a = $(`&lt;div id=&quot;html_a8e015696e20b0c806a13a4bf51b849a&quot; style=&quot;width: 100.0%; height: 100.0%;&quot;&gt;Wikidata: &lt;a target=&#x27;_blank&#x27; href=&#x27;http://www.wikidata.org/entity/Q1469828&#x27;&gt;Fromelles (Pheasant Wood) Military Cemetery&lt;/div&gt;`)[0];\n",
       "                popup_d20ca6244ca4cf1e275219276b5bc8ca.setContent(html_a8e015696e20b0c806a13a4bf51b849a);\n",
       "            \n",
       "        \n",
       "\n",
       "        marker_e03c15a456d443bddeb61eb7e88c54de.bindPopup(popup_d20ca6244ca4cf1e275219276b5bc8ca)\n",
       "        ;\n",
       "\n",
       "        \n",
       "    \n",
       "    \n",
       "                marker_e03c15a456d443bddeb61eb7e88c54de.setIcon(icon_342c1544237f5ef00e7663fd781b0bad);\n",
       "            \n",
       "    \n",
       "            var marker_978966c4238c8b1c6ab3724bd680e35c = L.marker(\n",
       "                [46.56477, 0.86597],\n",
       "                {\n",
       "}\n",
       "            ).addTo(map_39b30f824f1c1c5b43bfbee761251e52);\n",
       "        \n",
       "    \n",
       "            var icon_1ff759316deccaf2dc468e226ef6dc11 = L.AwesomeMarkers.icon(\n",
       "                {\n",
       "  &quot;markerColor&quot;: &quot;green&quot;,\n",
       "  &quot;iconColor&quot;: &quot;white&quot;,\n",
       "  &quot;icon&quot;: &quot;info-sign&quot;,\n",
       "  &quot;prefix&quot;: &quot;glyphicon&quot;,\n",
       "  &quot;extraClasses&quot;: &quot;fa-rotate-0&quot;,\n",
       "}\n",
       "            );\n",
       "        \n",
       "    \n",
       "        var popup_1ffbe5d51c7190bceac27902ca0aa35a = L.popup({\n",
       "  &quot;maxWidth&quot;: &quot;100%&quot;,\n",
       "});\n",
       "\n",
       "        \n",
       "            \n",
       "                var html_375c27b559a6fd1b94cc5f2f938fb09e = $(`&lt;div id=&quot;html_375c27b559a6fd1b94cc5f2f938fb09e&quot; style=&quot;width: 100.0%; height: 100.0%;&quot;&gt;Wikidata: &lt;a target=&#x27;_blank&#x27; href=&#x27;http://www.wikidata.org/entity/Q1774129&#x27;&gt;Abbey Church of Saint-Savin-sur-Gartempe&lt;/div&gt;`)[0];\n",
       "                popup_1ffbe5d51c7190bceac27902ca0aa35a.setContent(html_375c27b559a6fd1b94cc5f2f938fb09e);\n",
       "            \n",
       "        \n",
       "\n",
       "        marker_978966c4238c8b1c6ab3724bd680e35c.bindPopup(popup_1ffbe5d51c7190bceac27902ca0aa35a)\n",
       "        ;\n",
       "\n",
       "        \n",
       "    \n",
       "    \n",
       "                marker_978966c4238c8b1c6ab3724bd680e35c.setIcon(icon_1ff759316deccaf2dc468e226ef6dc11);\n",
       "            \n",
       "    \n",
       "            var marker_9b5daa3efb0c0f021a1ec1efefd73b75 = L.marker(\n",
       "                [43.9283, 2.1425],\n",
       "                {\n",
       "}\n",
       "            ).addTo(map_39b30f824f1c1c5b43bfbee761251e52);\n",
       "        \n",
       "    \n",
       "            var icon_e69fc6091d50534ea79c592691004719 = L.AwesomeMarkers.icon(\n",
       "                {\n",
       "  &quot;markerColor&quot;: &quot;green&quot;,\n",
       "  &quot;iconColor&quot;: &quot;white&quot;,\n",
       "  &quot;icon&quot;: &quot;info-sign&quot;,\n",
       "  &quot;prefix&quot;: &quot;glyphicon&quot;,\n",
       "  &quot;extraClasses&quot;: &quot;fa-rotate-0&quot;,\n",
       "}\n",
       "            );\n",
       "        \n",
       "    \n",
       "        var popup_881e41f1382dfe7486c595039749cf53 = L.popup({\n",
       "  &quot;maxWidth&quot;: &quot;100%&quot;,\n",
       "});\n",
       "\n",
       "        \n",
       "            \n",
       "                var html_5eaf6109445d3a240e7d4ccb62e78f58 = $(`&lt;div id=&quot;html_5eaf6109445d3a240e7d4ccb62e78f58&quot; style=&quot;width: 100.0%; height: 100.0%;&quot;&gt;Wikidata: &lt;a target=&#x27;_blank&#x27; href=&#x27;http://www.wikidata.org/entity/Q1778266&#x27;&gt;Episcopal City of Albi&lt;/div&gt;`)[0];\n",
       "                popup_881e41f1382dfe7486c595039749cf53.setContent(html_5eaf6109445d3a240e7d4ccb62e78f58);\n",
       "            \n",
       "        \n",
       "\n",
       "        marker_9b5daa3efb0c0f021a1ec1efefd73b75.bindPopup(popup_881e41f1382dfe7486c595039749cf53)\n",
       "        ;\n",
       "\n",
       "        \n",
       "    \n",
       "    \n",
       "                marker_9b5daa3efb0c0f021a1ec1efefd73b75.setIcon(icon_e69fc6091d50534ea79c592691004719);\n",
       "            \n",
       "    \n",
       "            var marker_363898b3b6a6ef368f958645899b899e = L.marker(\n",
       "                [50.342222222, 2.754166666],\n",
       "                {\n",
       "}\n",
       "            ).addTo(map_39b30f824f1c1c5b43bfbee761251e52);\n",
       "        \n",
       "    \n",
       "            var icon_6d03185b4d4b8efaf828abbc993b3b2e = L.AwesomeMarkers.icon(\n",
       "                {\n",
       "  &quot;markerColor&quot;: &quot;green&quot;,\n",
       "  &quot;iconColor&quot;: &quot;white&quot;,\n",
       "  &quot;icon&quot;: &quot;info-sign&quot;,\n",
       "  &quot;prefix&quot;: &quot;glyphicon&quot;,\n",
       "  &quot;extraClasses&quot;: &quot;fa-rotate-0&quot;,\n",
       "}\n",
       "            );\n",
       "        \n",
       "    \n",
       "        var popup_102ef8d997d1e302d9e63339e5275bca = L.popup({\n",
       "  &quot;maxWidth&quot;: &quot;100%&quot;,\n",
       "});\n",
       "\n",
       "        \n",
       "            \n",
       "                var html_ccf9c9656674ce03f30e6343fd165a6f = $(`&lt;div id=&quot;html_ccf9c9656674ce03f30e6343fd165a6f&quot; style=&quot;width: 100.0%; height: 100.0%;&quot;&gt;Wikidata: &lt;a target=&#x27;_blank&#x27; href=&#x27;http://www.wikidata.org/entity/Q1850310&#x27;&gt;Neuville-St Vaast German war cemetery&lt;/div&gt;`)[0];\n",
       "                popup_102ef8d997d1e302d9e63339e5275bca.setContent(html_ccf9c9656674ce03f30e6343fd165a6f);\n",
       "            \n",
       "        \n",
       "\n",
       "        marker_363898b3b6a6ef368f958645899b899e.bindPopup(popup_102ef8d997d1e302d9e63339e5275bca)\n",
       "        ;\n",
       "\n",
       "        \n",
       "    \n",
       "    \n",
       "                marker_363898b3b6a6ef368f958645899b899e.setIcon(icon_6d03185b4d4b8efaf828abbc993b3b2e);\n",
       "            \n",
       "    \n",
       "            var marker_24e9590451aed879966e27c94a41ee2f = L.marker(\n",
       "                [50.136666666, 3.015277777],\n",
       "                {\n",
       "}\n",
       "            ).addTo(map_39b30f824f1c1c5b43bfbee761251e52);\n",
       "        \n",
       "    \n",
       "            var icon_4a17ac9a038fabe26341f1d64b3582be = L.AwesomeMarkers.icon(\n",
       "                {\n",
       "  &quot;markerColor&quot;: &quot;green&quot;,\n",
       "  &quot;iconColor&quot;: &quot;white&quot;,\n",
       "  &quot;icon&quot;: &quot;info-sign&quot;,\n",
       "  &quot;prefix&quot;: &quot;glyphicon&quot;,\n",
       "  &quot;extraClasses&quot;: &quot;fa-rotate-0&quot;,\n",
       "}\n",
       "            );\n",
       "        \n",
       "    \n",
       "        var popup_bbf42299065047f363c5a138aa918879 = L.popup({\n",
       "  &quot;maxWidth&quot;: &quot;100%&quot;,\n",
       "});\n",
       "\n",
       "        \n",
       "            \n",
       "                var html_ef2899bcc685f77aed6c1afc24297a0d = $(`&lt;div id=&quot;html_ef2899bcc685f77aed6c1afc24297a0d&quot; style=&quot;width: 100.0%; height: 100.0%;&quot;&gt;Wikidata: &lt;a target=&#x27;_blank&#x27; href=&#x27;http://www.wikidata.org/entity/Q1854219&#x27;&gt;Cambrai Memorial to the Missing&lt;/div&gt;`)[0];\n",
       "                popup_bbf42299065047f363c5a138aa918879.setContent(html_ef2899bcc685f77aed6c1afc24297a0d);\n",
       "            \n",
       "        \n",
       "\n",
       "        marker_24e9590451aed879966e27c94a41ee2f.bindPopup(popup_bbf42299065047f363c5a138aa918879)\n",
       "        ;\n",
       "\n",
       "        \n",
       "    \n",
       "    \n",
       "                marker_24e9590451aed879966e27c94a41ee2f.setIcon(icon_4a17ac9a038fabe26341f1d64b3582be);\n",
       "            \n",
       "    \n",
       "            var marker_d8dd7af2a9bcb3f9162db94122162329 = L.marker(\n",
       "                [50.050555555, 2.685833333],\n",
       "                {\n",
       "}\n",
       "            ).addTo(map_39b30f824f1c1c5b43bfbee761251e52);\n",
       "        \n",
       "    \n",
       "            var icon_6a23c845a6577e156eb73dda83d35416 = L.AwesomeMarkers.icon(\n",
       "                {\n",
       "  &quot;markerColor&quot;: &quot;green&quot;,\n",
       "  &quot;iconColor&quot;: &quot;white&quot;,\n",
       "  &quot;icon&quot;: &quot;info-sign&quot;,\n",
       "  &quot;prefix&quot;: &quot;glyphicon&quot;,\n",
       "  &quot;extraClasses&quot;: &quot;fa-rotate-0&quot;,\n",
       "}\n",
       "            );\n",
       "        \n",
       "    \n",
       "        var popup_b3ef7311dc7849463cf4c0e08495d9da = L.popup({\n",
       "  &quot;maxWidth&quot;: &quot;100%&quot;,\n",
       "});\n",
       "\n",
       "        \n",
       "            \n",
       "                var html_399190f8998e38ff3db534500ecd26be = $(`&lt;div id=&quot;html_399190f8998e38ff3db534500ecd26be&quot; style=&quot;width: 100.0%; height: 100.0%;&quot;&gt;Wikidata: &lt;a target=&#x27;_blank&#x27; href=&#x27;http://www.wikidata.org/entity/Q1861419&#x27;&gt;Thiepval Memorial&lt;/div&gt;`)[0];\n",
       "                popup_b3ef7311dc7849463cf4c0e08495d9da.setContent(html_399190f8998e38ff3db534500ecd26be);\n",
       "            \n",
       "        \n",
       "\n",
       "        marker_d8dd7af2a9bcb3f9162db94122162329.bindPopup(popup_b3ef7311dc7849463cf4c0e08495d9da)\n",
       "        ;\n",
       "\n",
       "        \n",
       "    \n",
       "    \n",
       "                marker_d8dd7af2a9bcb3f9162db94122162329.setIcon(icon_6a23c845a6577e156eb73dda83d35416);\n",
       "            \n",
       "    \n",
       "            var marker_ce70b33b3f7a9b8b42ab1f8b17b3bd69 = L.marker(\n",
       "                [50.377291, 2.764133],\n",
       "                {\n",
       "}\n",
       "            ).addTo(map_39b30f824f1c1c5b43bfbee761251e52);\n",
       "        \n",
       "    \n",
       "            var icon_4f4c35e2f13392452e2eb94a4142a8c3 = L.AwesomeMarkers.icon(\n",
       "                {\n",
       "  &quot;markerColor&quot;: &quot;green&quot;,\n",
       "  &quot;iconColor&quot;: &quot;white&quot;,\n",
       "  &quot;icon&quot;: &quot;info-sign&quot;,\n",
       "  &quot;prefix&quot;: &quot;glyphicon&quot;,\n",
       "  &quot;extraClasses&quot;: &quot;fa-rotate-0&quot;,\n",
       "}\n",
       "            );\n",
       "        \n",
       "    \n",
       "        var popup_9d6614bb804af027a56a7ec830447c83 = L.popup({\n",
       "  &quot;maxWidth&quot;: &quot;100%&quot;,\n",
       "});\n",
       "\n",
       "        \n",
       "            \n",
       "                var html_f922b0186793cb410803cb0ca3c847c2 = $(`&lt;div id=&quot;html_f922b0186793cb410803cb0ca3c847c2&quot; style=&quot;width: 100.0%; height: 100.0%;&quot;&gt;Wikidata: &lt;a target=&#x27;_blank&#x27; href=&#x27;http://www.wikidata.org/entity/Q1874283&#x27;&gt;Canadian Cemetery No. 2&lt;/div&gt;`)[0];\n",
       "                popup_9d6614bb804af027a56a7ec830447c83.setContent(html_f922b0186793cb410803cb0ca3c847c2);\n",
       "            \n",
       "        \n",
       "\n",
       "        marker_ce70b33b3f7a9b8b42ab1f8b17b3bd69.bindPopup(popup_9d6614bb804af027a56a7ec830447c83)\n",
       "        ;\n",
       "\n",
       "        \n",
       "    \n",
       "    \n",
       "                marker_ce70b33b3f7a9b8b42ab1f8b17b3bd69.setIcon(icon_4f4c35e2f13392452e2eb94a4142a8c3);\n",
       "            \n",
       "    \n",
       "            var marker_76da2134759fa39e9e9684af663af3cf = L.marker(\n",
       "                [50.255843, 3.632891],\n",
       "                {\n",
       "}\n",
       "            ).addTo(map_39b30f824f1c1c5b43bfbee761251e52);\n",
       "        \n",
       "    \n",
       "            var icon_9a258237edbc79213d0c7bf639ede685 = L.AwesomeMarkers.icon(\n",
       "                {\n",
       "  &quot;markerColor&quot;: &quot;green&quot;,\n",
       "  &quot;iconColor&quot;: &quot;white&quot;,\n",
       "  &quot;icon&quot;: &quot;info-sign&quot;,\n",
       "  &quot;prefix&quot;: &quot;glyphicon&quot;,\n",
       "  &quot;extraClasses&quot;: &quot;fa-rotate-0&quot;,\n",
       "}\n",
       "            );\n",
       "        \n",
       "    \n",
       "        var popup_719365de668f216984ed123ca74f1b9e = L.popup({\n",
       "  &quot;maxWidth&quot;: &quot;100%&quot;,\n",
       "});\n",
       "\n",
       "        \n",
       "            \n",
       "                var html_182da76013eb2c532ecd575ae34936b6 = $(`&lt;div id=&quot;html_182da76013eb2c532ecd575ae34936b6&quot; style=&quot;width: 100.0%; height: 100.0%;&quot;&gt;Wikidata: &lt;a target=&#x27;_blank&#x27; href=&#x27;http://www.wikidata.org/entity/Q1878989&#x27;&gt;Le Quesnoy Communal Cemetery Extension&lt;/div&gt;`)[0];\n",
       "                popup_719365de668f216984ed123ca74f1b9e.setContent(html_182da76013eb2c532ecd575ae34936b6);\n",
       "            \n",
       "        \n",
       "\n",
       "        marker_76da2134759fa39e9e9684af663af3cf.bindPopup(popup_719365de668f216984ed123ca74f1b9e)\n",
       "        ;\n",
       "\n",
       "        \n",
       "    \n",
       "    \n",
       "                marker_76da2134759fa39e9e9684af663af3cf.setIcon(icon_9a258237edbc79213d0c7bf639ede685);\n",
       "            \n",
       "    \n",
       "            var marker_558e5edb289e778436d25dd6dfa4617f = L.marker(\n",
       "                [50.61957, 2.83367],\n",
       "                {\n",
       "}\n",
       "            ).addTo(map_39b30f824f1c1c5b43bfbee761251e52);\n",
       "        \n",
       "    \n",
       "            var icon_9044004c4d7a5f0e05a66c88d118f5ce = L.AwesomeMarkers.icon(\n",
       "                {\n",
       "  &quot;markerColor&quot;: &quot;green&quot;,\n",
       "  &quot;iconColor&quot;: &quot;white&quot;,\n",
       "  &quot;icon&quot;: &quot;info-sign&quot;,\n",
       "  &quot;prefix&quot;: &quot;glyphicon&quot;,\n",
       "  &quot;extraClasses&quot;: &quot;fa-rotate-0&quot;,\n",
       "}\n",
       "            );\n",
       "        \n",
       "    \n",
       "        var popup_55db57bcc2cc125b6d347c7634284c97 = L.popup({\n",
       "  &quot;maxWidth&quot;: &quot;100%&quot;,\n",
       "});\n",
       "\n",
       "        \n",
       "            \n",
       "                var html_97962e6098949b90d4f5aed0b386b758 = $(`&lt;div id=&quot;html_97962e6098949b90d4f5aed0b386b758&quot; style=&quot;width: 100.0%; height: 100.0%;&quot;&gt;Wikidata: &lt;a target=&#x27;_blank&#x27; href=&#x27;http://www.wikidata.org/entity/Q2040499&#x27;&gt;V.C. Corner Australian Cemetery and Memorial&lt;/div&gt;`)[0];\n",
       "                popup_55db57bcc2cc125b6d347c7634284c97.setContent(html_97962e6098949b90d4f5aed0b386b758);\n",
       "            \n",
       "        \n",
       "\n",
       "        marker_558e5edb289e778436d25dd6dfa4617f.bindPopup(popup_55db57bcc2cc125b6d347c7634284c97)\n",
       "        ;\n",
       "\n",
       "        \n",
       "    \n",
       "    \n",
       "                marker_558e5edb289e778436d25dd6dfa4617f.setIcon(icon_9044004c4d7a5f0e05a66c88d118f5ce);\n",
       "            \n",
       "    \n",
       "            var marker_f734e315f84bf7ce24df2a313f4a74b9 = L.marker(\n",
       "                [48.956983333, 5.853066666],\n",
       "                {\n",
       "}\n",
       "            ).addTo(map_39b30f824f1c1c5b43bfbee761251e52);\n",
       "        \n",
       "    \n",
       "            var icon_8d96d6ff464cdf90915209ce972df049 = L.AwesomeMarkers.icon(\n",
       "                {\n",
       "  &quot;markerColor&quot;: &quot;green&quot;,\n",
       "  &quot;iconColor&quot;: &quot;white&quot;,\n",
       "  &quot;icon&quot;: &quot;info-sign&quot;,\n",
       "  &quot;prefix&quot;: &quot;glyphicon&quot;,\n",
       "  &quot;extraClasses&quot;: &quot;fa-rotate-0&quot;,\n",
       "}\n",
       "            );\n",
       "        \n",
       "    \n",
       "        var popup_fe0873addbb02278534e84b42970300b = L.popup({\n",
       "  &quot;maxWidth&quot;: &quot;100%&quot;,\n",
       "});\n",
       "\n",
       "        \n",
       "            \n",
       "                var html_8f29893393bbf93cf2ab6063bd118a8f = $(`&lt;div id=&quot;html_8f29893393bbf93cf2ab6063bd118a8f&quot; style=&quot;width: 100.0%; height: 100.0%;&quot;&gt;Wikidata: &lt;a target=&#x27;_blank&#x27; href=&#x27;http://www.wikidata.org/entity/Q647265&#x27;&gt;St. Mihiel American Cemetery and Memorial&lt;/div&gt;`)[0];\n",
       "                popup_fe0873addbb02278534e84b42970300b.setContent(html_8f29893393bbf93cf2ab6063bd118a8f);\n",
       "            \n",
       "        \n",
       "\n",
       "        marker_f734e315f84bf7ce24df2a313f4a74b9.bindPopup(popup_fe0873addbb02278534e84b42970300b)\n",
       "        ;\n",
       "\n",
       "        \n",
       "    \n",
       "    \n",
       "                marker_f734e315f84bf7ce24df2a313f4a74b9.setIcon(icon_8d96d6ff464cdf90915209ce972df049);\n",
       "            \n",
       "    \n",
       "            var marker_ff5e0b42abb50dd130b8e4214790182b = L.marker(\n",
       "                [43.838194, 4.356111],\n",
       "                {\n",
       "}\n",
       "            ).addTo(map_39b30f824f1c1c5b43bfbee761251e52);\n",
       "        \n",
       "    \n",
       "            var icon_077981da6b3389a6ee3524150dc539bd = L.AwesomeMarkers.icon(\n",
       "                {\n",
       "  &quot;markerColor&quot;: &quot;green&quot;,\n",
       "  &quot;iconColor&quot;: &quot;white&quot;,\n",
       "  &quot;icon&quot;: &quot;info-sign&quot;,\n",
       "  &quot;prefix&quot;: &quot;glyphicon&quot;,\n",
       "  &quot;extraClasses&quot;: &quot;fa-rotate-0&quot;,\n",
       "}\n",
       "            );\n",
       "        \n",
       "    \n",
       "        var popup_d2f81ec73dc629b992fd34c0529dbe80 = L.popup({\n",
       "  &quot;maxWidth&quot;: &quot;100%&quot;,\n",
       "});\n",
       "\n",
       "        \n",
       "            \n",
       "                var html_5dd11ec44b56190a3c0f935a96d82c1c = $(`&lt;div id=&quot;html_5dd11ec44b56190a3c0f935a96d82c1c&quot; style=&quot;width: 100.0%; height: 100.0%;&quot;&gt;Wikidata: &lt;a target=&#x27;_blank&#x27; href=&#x27;http://www.wikidata.org/entity/Q677659&#x27;&gt;Maison Carrée&lt;/div&gt;`)[0];\n",
       "                popup_d2f81ec73dc629b992fd34c0529dbe80.setContent(html_5dd11ec44b56190a3c0f935a96d82c1c);\n",
       "            \n",
       "        \n",
       "\n",
       "        marker_ff5e0b42abb50dd130b8e4214790182b.bindPopup(popup_d2f81ec73dc629b992fd34c0529dbe80)\n",
       "        ;\n",
       "\n",
       "        \n",
       "    \n",
       "    \n",
       "                marker_ff5e0b42abb50dd130b8e4214790182b.setIcon(icon_077981da6b3389a6ee3524150dc539bd);\n",
       "            \n",
       "    \n",
       "            var marker_8b6d88e99241576c85e9beb4bc328e31 = L.marker(\n",
       "                [49.20826, 5.423671],\n",
       "                {\n",
       "}\n",
       "            ).addTo(map_39b30f824f1c1c5b43bfbee761251e52);\n",
       "        \n",
       "    \n",
       "            var icon_e4a9ce8a49e9455b8eaeeaff71c3fa5a = L.AwesomeMarkers.icon(\n",
       "                {\n",
       "  &quot;markerColor&quot;: &quot;green&quot;,\n",
       "  &quot;iconColor&quot;: &quot;white&quot;,\n",
       "  &quot;icon&quot;: &quot;info-sign&quot;,\n",
       "  &quot;prefix&quot;: &quot;glyphicon&quot;,\n",
       "  &quot;extraClasses&quot;: &quot;fa-rotate-0&quot;,\n",
       "}\n",
       "            );\n",
       "        \n",
       "    \n",
       "        var popup_96a75fb7144a6e2847b6cf2ab0a97155 = L.popup({\n",
       "  &quot;maxWidth&quot;: &quot;100%&quot;,\n",
       "});\n",
       "\n",
       "        \n",
       "            \n",
       "                var html_16155a3ecd6e3ae456288300866d4bbb = $(`&lt;div id=&quot;html_16155a3ecd6e3ae456288300866d4bbb&quot; style=&quot;width: 100.0%; height: 100.0%;&quot;&gt;Wikidata: &lt;a target=&#x27;_blank&#x27; href=&#x27;http://www.wikidata.org/entity/Q705054&#x27;&gt;Douaumont ossuary&lt;/div&gt;`)[0];\n",
       "                popup_96a75fb7144a6e2847b6cf2ab0a97155.setContent(html_16155a3ecd6e3ae456288300866d4bbb);\n",
       "            \n",
       "        \n",
       "\n",
       "        marker_8b6d88e99241576c85e9beb4bc328e31.bindPopup(popup_96a75fb7144a6e2847b6cf2ab0a97155)\n",
       "        ;\n",
       "\n",
       "        \n",
       "    \n",
       "    \n",
       "                marker_8b6d88e99241576c85e9beb4bc328e31.setIcon(icon_e4a9ce8a49e9455b8eaeeaff71c3fa5a);\n",
       "            \n",
       "    \n",
       "            var marker_0f7eb9e8f0aaa3a80fc64770ad5dd118 = L.marker(\n",
       "                [46.566111111, 0.863611111],\n",
       "                {\n",
       "}\n",
       "            ).addTo(map_39b30f824f1c1c5b43bfbee761251e52);\n",
       "        \n",
       "    \n",
       "            var icon_87a28cd1a14cc451146e26158ab1e840 = L.AwesomeMarkers.icon(\n",
       "                {\n",
       "  &quot;markerColor&quot;: &quot;green&quot;,\n",
       "  &quot;iconColor&quot;: &quot;white&quot;,\n",
       "  &quot;icon&quot;: &quot;info-sign&quot;,\n",
       "  &quot;prefix&quot;: &quot;glyphicon&quot;,\n",
       "  &quot;extraClasses&quot;: &quot;fa-rotate-0&quot;,\n",
       "}\n",
       "            );\n",
       "        \n",
       "    \n",
       "        var popup_d389e39c6d15e937039490273c1165ec = L.popup({\n",
       "  &quot;maxWidth&quot;: &quot;100%&quot;,\n",
       "});\n",
       "\n",
       "        \n",
       "            \n",
       "                var html_896af5734e34b8d62f6831bdbef48591 = $(`&lt;div id=&quot;html_896af5734e34b8d62f6831bdbef48591&quot; style=&quot;width: 100.0%; height: 100.0%;&quot;&gt;Wikidata: &lt;a target=&#x27;_blank&#x27; href=&#x27;http://www.wikidata.org/entity/Q738657&#x27;&gt;Saint-Savin&lt;/div&gt;`)[0];\n",
       "                popup_d389e39c6d15e937039490273c1165ec.setContent(html_896af5734e34b8d62f6831bdbef48591);\n",
       "            \n",
       "        \n",
       "\n",
       "        marker_0f7eb9e8f0aaa3a80fc64770ad5dd118.bindPopup(popup_d389e39c6d15e937039490273c1165ec)\n",
       "        ;\n",
       "\n",
       "        \n",
       "    \n",
       "    \n",
       "                marker_0f7eb9e8f0aaa3a80fc64770ad5dd118.setIcon(icon_87a28cd1a14cc451146e26158ab1e840);\n",
       "            \n",
       "    \n",
       "            var marker_5fd1ecd196a99a27fb9157fc50b806d4 = L.marker(\n",
       "                [49.886238, 2.5082],\n",
       "                {\n",
       "}\n",
       "            ).addTo(map_39b30f824f1c1c5b43bfbee761251e52);\n",
       "        \n",
       "    \n",
       "            var icon_c4b07767133f8558a33e26d875dc12d3 = L.AwesomeMarkers.icon(\n",
       "                {\n",
       "  &quot;markerColor&quot;: &quot;green&quot;,\n",
       "  &quot;iconColor&quot;: &quot;white&quot;,\n",
       "  &quot;icon&quot;: &quot;info-sign&quot;,\n",
       "  &quot;prefix&quot;: &quot;glyphicon&quot;,\n",
       "  &quot;extraClasses&quot;: &quot;fa-rotate-0&quot;,\n",
       "}\n",
       "            );\n",
       "        \n",
       "    \n",
       "        var popup_8dfe56154751fde6d3cb3b81e0fbb3b7 = L.popup({\n",
       "  &quot;maxWidth&quot;: &quot;100%&quot;,\n",
       "});\n",
       "\n",
       "        \n",
       "            \n",
       "                var html_ba5f7191d2f9f408a3baac307a075c67 = $(`&lt;div id=&quot;html_ba5f7191d2f9f408a3baac307a075c67&quot; style=&quot;width: 100.0%; height: 100.0%;&quot;&gt;Wikidata: &lt;a target=&#x27;_blank&#x27; href=&#x27;http://www.wikidata.org/entity/Q2065958&#x27;&gt;Villers-Bretonneux Military Cemetery&lt;/div&gt;`)[0];\n",
       "                popup_8dfe56154751fde6d3cb3b81e0fbb3b7.setContent(html_ba5f7191d2f9f408a3baac307a075c67);\n",
       "            \n",
       "        \n",
       "\n",
       "        marker_5fd1ecd196a99a27fb9157fc50b806d4.bindPopup(popup_8dfe56154751fde6d3cb3b81e0fbb3b7)\n",
       "        ;\n",
       "\n",
       "        \n",
       "    \n",
       "    \n",
       "                marker_5fd1ecd196a99a27fb9157fc50b806d4.setIcon(icon_c4b07767133f8558a33e26d875dc12d3);\n",
       "            \n",
       "    \n",
       "            var marker_c8c727328194d5c49ca57a199b9d66d4 = L.marker(\n",
       "                [50.186239, 1.722842],\n",
       "                {\n",
       "}\n",
       "            ).addTo(map_39b30f824f1c1c5b43bfbee761251e52);\n",
       "        \n",
       "    \n",
       "            var icon_191973b2e02e3e754ef420e7f6f603e2 = L.AwesomeMarkers.icon(\n",
       "                {\n",
       "  &quot;markerColor&quot;: &quot;green&quot;,\n",
       "  &quot;iconColor&quot;: &quot;white&quot;,\n",
       "  &quot;icon&quot;: &quot;info-sign&quot;,\n",
       "  &quot;prefix&quot;: &quot;glyphicon&quot;,\n",
       "  &quot;extraClasses&quot;: &quot;fa-rotate-0&quot;,\n",
       "}\n",
       "            );\n",
       "        \n",
       "    \n",
       "        var popup_32bf64afaa67663263b8f4000c9b437d = L.popup({\n",
       "  &quot;maxWidth&quot;: &quot;100%&quot;,\n",
       "});\n",
       "\n",
       "        \n",
       "            \n",
       "                var html_58e4bb93f0638864fbf7b1c540c9355e = $(`&lt;div id=&quot;html_58e4bb93f0638864fbf7b1c540c9355e&quot; style=&quot;width: 100.0%; height: 100.0%;&quot;&gt;Wikidata: &lt;a target=&#x27;_blank&#x27; href=&#x27;http://www.wikidata.org/entity/Q2135937&#x27;&gt;Noyelles-sur-Mer Chinese Cemetery&lt;/div&gt;`)[0];\n",
       "                popup_32bf64afaa67663263b8f4000c9b437d.setContent(html_58e4bb93f0638864fbf7b1c540c9355e);\n",
       "            \n",
       "        \n",
       "\n",
       "        marker_c8c727328194d5c49ca57a199b9d66d4.bindPopup(popup_32bf64afaa67663263b8f4000c9b437d)\n",
       "        ;\n",
       "\n",
       "        \n",
       "    \n",
       "    \n",
       "                marker_c8c727328194d5c49ca57a199b9d66d4.setIcon(icon_191973b2e02e3e754ef420e7f6f603e2);\n",
       "            \n",
       "    \n",
       "            var marker_a07aea67485564050dd1a2a21a2a0ab6 = L.marker(\n",
       "                [50.061188, 2.683248],\n",
       "                {\n",
       "}\n",
       "            ).addTo(map_39b30f824f1c1c5b43bfbee761251e52);\n",
       "        \n",
       "    \n",
       "            var icon_a7ba6ad23671df0579154983889fdf5c = L.AwesomeMarkers.icon(\n",
       "                {\n",
       "  &quot;markerColor&quot;: &quot;green&quot;,\n",
       "  &quot;iconColor&quot;: &quot;white&quot;,\n",
       "  &quot;icon&quot;: &quot;info-sign&quot;,\n",
       "  &quot;prefix&quot;: &quot;glyphicon&quot;,\n",
       "  &quot;extraClasses&quot;: &quot;fa-rotate-0&quot;,\n",
       "}\n",
       "            );\n",
       "        \n",
       "    \n",
       "        var popup_01b23ef210a3902f7046b454a4320db8 = L.popup({\n",
       "  &quot;maxWidth&quot;: &quot;100%&quot;,\n",
       "});\n",
       "\n",
       "        \n",
       "            \n",
       "                var html_99e881a8d104ae74766c023a2be1783e = $(`&lt;div id=&quot;html_99e881a8d104ae74766c023a2be1783e&quot; style=&quot;width: 100.0%; height: 100.0%;&quot;&gt;Wikidata: &lt;a target=&#x27;_blank&#x27; href=&#x27;http://www.wikidata.org/entity/Q2167127&#x27;&gt;Mill Road Cemetery&lt;/div&gt;`)[0];\n",
       "                popup_01b23ef210a3902f7046b454a4320db8.setContent(html_99e881a8d104ae74766c023a2be1783e);\n",
       "            \n",
       "        \n",
       "\n",
       "        marker_a07aea67485564050dd1a2a21a2a0ab6.bindPopup(popup_01b23ef210a3902f7046b454a4320db8)\n",
       "        ;\n",
       "\n",
       "        \n",
       "    \n",
       "    \n",
       "                marker_a07aea67485564050dd1a2a21a2a0ab6.setIcon(icon_a7ba6ad23671df0579154983889fdf5c);\n",
       "            \n",
       "    \n",
       "            var marker_26e346e1db8af9f1bd6fb65aca7bdbe7 = L.marker(\n",
       "                [50.460067, 2.771216],\n",
       "                {\n",
       "}\n",
       "            ).addTo(map_39b30f824f1c1c5b43bfbee761251e52);\n",
       "        \n",
       "    \n",
       "            var icon_e56487556cbd5f2d8121d89df43f2401 = L.AwesomeMarkers.icon(\n",
       "                {\n",
       "  &quot;markerColor&quot;: &quot;green&quot;,\n",
       "  &quot;iconColor&quot;: &quot;white&quot;,\n",
       "  &quot;icon&quot;: &quot;info-sign&quot;,\n",
       "  &quot;prefix&quot;: &quot;glyphicon&quot;,\n",
       "  &quot;extraClasses&quot;: &quot;fa-rotate-0&quot;,\n",
       "}\n",
       "            );\n",
       "        \n",
       "    \n",
       "        var popup_c4b2859b649ef3092e9fd66f80596209 = L.popup({\n",
       "  &quot;maxWidth&quot;: &quot;100%&quot;,\n",
       "});\n",
       "\n",
       "        \n",
       "            \n",
       "                var html_dcf364827fb0bc7888ad287a974a959d = $(`&lt;div id=&quot;html_dcf364827fb0bc7888ad287a974a959d&quot; style=&quot;width: 100.0%; height: 100.0%;&quot;&gt;Wikidata: &lt;a target=&#x27;_blank&#x27; href=&#x27;http://www.wikidata.org/entity/Q2170407&#x27;&gt;Dud Corner Cemetery&lt;/div&gt;`)[0];\n",
       "                popup_c4b2859b649ef3092e9fd66f80596209.setContent(html_dcf364827fb0bc7888ad287a974a959d);\n",
       "            \n",
       "        \n",
       "\n",
       "        marker_26e346e1db8af9f1bd6fb65aca7bdbe7.bindPopup(popup_c4b2859b649ef3092e9fd66f80596209)\n",
       "        ;\n",
       "\n",
       "        \n",
       "    \n",
       "    \n",
       "                marker_26e346e1db8af9f1bd6fb65aca7bdbe7.setIcon(icon_e56487556cbd5f2d8121d89df43f2401);\n",
       "            \n",
       "    \n",
       "            var marker_c142976b1cd64c5c39c9cf5c71c9793a = L.marker(\n",
       "                [49.334167, 5.093333],\n",
       "                {\n",
       "}\n",
       "            ).addTo(map_39b30f824f1c1c5b43bfbee761251e52);\n",
       "        \n",
       "    \n",
       "            var icon_f8ca292b4e949009db42859bfa812e31 = L.AwesomeMarkers.icon(\n",
       "                {\n",
       "  &quot;markerColor&quot;: &quot;green&quot;,\n",
       "  &quot;iconColor&quot;: &quot;white&quot;,\n",
       "  &quot;icon&quot;: &quot;info-sign&quot;,\n",
       "  &quot;prefix&quot;: &quot;glyphicon&quot;,\n",
       "  &quot;extraClasses&quot;: &quot;fa-rotate-0&quot;,\n",
       "}\n",
       "            );\n",
       "        \n",
       "    \n",
       "        var popup_9fc94d887912dead671c6b2c5c6cdcc2 = L.popup({\n",
       "  &quot;maxWidth&quot;: &quot;100%&quot;,\n",
       "});\n",
       "\n",
       "        \n",
       "            \n",
       "                var html_6b4a09d152edac3552bed111326251b4 = $(`&lt;div id=&quot;html_6b4a09d152edac3552bed111326251b4&quot; style=&quot;width: 100.0%; height: 100.0%;&quot;&gt;Wikidata: &lt;a target=&#x27;_blank&#x27; href=&#x27;http://www.wikidata.org/entity/Q2215301&#x27;&gt;Meuse-Argonne American Cemetery&lt;/div&gt;`)[0];\n",
       "                popup_9fc94d887912dead671c6b2c5c6cdcc2.setContent(html_6b4a09d152edac3552bed111326251b4);\n",
       "            \n",
       "        \n",
       "\n",
       "        marker_c142976b1cd64c5c39c9cf5c71c9793a.bindPopup(popup_9fc94d887912dead671c6b2c5c6cdcc2)\n",
       "        ;\n",
       "\n",
       "        \n",
       "    \n",
       "    \n",
       "                marker_c142976b1cd64c5c39c9cf5c71c9793a.setIcon(icon_f8ca292b4e949009db42859bfa812e31);\n",
       "            \n",
       "    \n",
       "            var marker_e0ef58204a29e09788a882f210bde193 = L.marker(\n",
       "                [48.85, 2.35889],\n",
       "                {\n",
       "}\n",
       "            ).addTo(map_39b30f824f1c1c5b43bfbee761251e52);\n",
       "        \n",
       "    \n",
       "            var icon_927c30849232bfb1e6e3fa4dc55a9905 = L.AwesomeMarkers.icon(\n",
       "                {\n",
       "  &quot;markerColor&quot;: &quot;green&quot;,\n",
       "  &quot;iconColor&quot;: &quot;white&quot;,\n",
       "  &quot;icon&quot;: &quot;info-sign&quot;,\n",
       "  &quot;prefix&quot;: &quot;glyphicon&quot;,\n",
       "  &quot;extraClasses&quot;: &quot;fa-rotate-0&quot;,\n",
       "}\n",
       "            );\n",
       "        \n",
       "    \n",
       "        var popup_3b0203efda86eae9ff20a22e8a012263 = L.popup({\n",
       "  &quot;maxWidth&quot;: &quot;100%&quot;,\n",
       "});\n",
       "\n",
       "        \n",
       "            \n",
       "                var html_5704c995c8ae013dfcd0cf87b2d8e521 = $(`&lt;div id=&quot;html_5704c995c8ae013dfcd0cf87b2d8e521&quot; style=&quot;width: 100.0%; height: 100.0%;&quot;&gt;Wikidata: &lt;a target=&#x27;_blank&#x27; href=&#x27;http://www.wikidata.org/entity/Q2233532&#x27;&gt;banks of the Seine&lt;/div&gt;`)[0];\n",
       "                popup_3b0203efda86eae9ff20a22e8a012263.setContent(html_5704c995c8ae013dfcd0cf87b2d8e521);\n",
       "            \n",
       "        \n",
       "\n",
       "        marker_e0ef58204a29e09788a882f210bde193.bindPopup(popup_3b0203efda86eae9ff20a22e8a012263)\n",
       "        ;\n",
       "\n",
       "        \n",
       "    \n",
       "    \n",
       "                marker_e0ef58204a29e09788a882f210bde193.setIcon(icon_927c30849232bfb1e6e3fa4dc55a9905);\n",
       "            \n",
       "    \n",
       "            var marker_8b4e8418a4fd2cf03896b054e640178f = L.marker(\n",
       "                [44.838888888, -0.572222222],\n",
       "                {\n",
       "}\n",
       "            ).addTo(map_39b30f824f1c1c5b43bfbee761251e52);\n",
       "        \n",
       "    \n",
       "            var icon_9c599fe86e3b8bda12c5100b7fad8d84 = L.AwesomeMarkers.icon(\n",
       "                {\n",
       "  &quot;markerColor&quot;: &quot;green&quot;,\n",
       "  &quot;iconColor&quot;: &quot;white&quot;,\n",
       "  &quot;icon&quot;: &quot;info-sign&quot;,\n",
       "  &quot;prefix&quot;: &quot;glyphicon&quot;,\n",
       "  &quot;extraClasses&quot;: &quot;fa-rotate-0&quot;,\n",
       "}\n",
       "            );\n",
       "        \n",
       "    \n",
       "        var popup_1937ae8f63045bf392a5dfcc670d941e = L.popup({\n",
       "  &quot;maxWidth&quot;: &quot;100%&quot;,\n",
       "});\n",
       "\n",
       "        \n",
       "            \n",
       "                var html_2cfde313c1e50b8ed70a9c4be2991134 = $(`&lt;div id=&quot;html_2cfde313c1e50b8ed70a9c4be2991134&quot; style=&quot;width: 100.0%; height: 100.0%;&quot;&gt;Wikidata: &lt;a target=&#x27;_blank&#x27; href=&#x27;http://www.wikidata.org/entity/Q2249113&#x27;&gt;port of the Moon&lt;/div&gt;`)[0];\n",
       "                popup_1937ae8f63045bf392a5dfcc670d941e.setContent(html_2cfde313c1e50b8ed70a9c4be2991134);\n",
       "            \n",
       "        \n",
       "\n",
       "        marker_8b4e8418a4fd2cf03896b054e640178f.bindPopup(popup_1937ae8f63045bf392a5dfcc670d941e)\n",
       "        ;\n",
       "\n",
       "        \n",
       "    \n",
       "    \n",
       "                marker_8b4e8418a4fd2cf03896b054e640178f.setIcon(icon_9c599fe86e3b8bda12c5100b7fad8d84);\n",
       "            \n",
       "    \n",
       "            var marker_b7bbfd667a04dd7aa69206a7cf2aaa11 = L.marker(\n",
       "                [50.179304, 3.262198],\n",
       "                {\n",
       "}\n",
       "            ).addTo(map_39b30f824f1c1c5b43bfbee761251e52);\n",
       "        \n",
       "    \n",
       "            var icon_8c1d5bc74c91bb91202cb6e57dffe7b1 = L.AwesomeMarkers.icon(\n",
       "                {\n",
       "  &quot;markerColor&quot;: &quot;green&quot;,\n",
       "  &quot;iconColor&quot;: &quot;white&quot;,\n",
       "  &quot;icon&quot;: &quot;info-sign&quot;,\n",
       "  &quot;prefix&quot;: &quot;glyphicon&quot;,\n",
       "  &quot;extraClasses&quot;: &quot;fa-rotate-0&quot;,\n",
       "}\n",
       "            );\n",
       "        \n",
       "    \n",
       "        var popup_b104d1c20876ae402c406b799fc185c6 = L.popup({\n",
       "  &quot;maxWidth&quot;: &quot;100%&quot;,\n",
       "});\n",
       "\n",
       "        \n",
       "            \n",
       "                var html_8b81a76fd74e9b2fbfed29b1d19dff56 = $(`&lt;div id=&quot;html_8b81a76fd74e9b2fbfed29b1d19dff56&quot; style=&quot;width: 100.0%; height: 100.0%;&quot;&gt;Wikidata: &lt;a target=&#x27;_blank&#x27; href=&#x27;http://www.wikidata.org/entity/Q2289403&#x27;&gt;Cambrai East Military Cemetery&lt;/div&gt;`)[0];\n",
       "                popup_b104d1c20876ae402c406b799fc185c6.setContent(html_8b81a76fd74e9b2fbfed29b1d19dff56);\n",
       "            \n",
       "        \n",
       "\n",
       "        marker_b7bbfd667a04dd7aa69206a7cf2aaa11.bindPopup(popup_b104d1c20876ae402c406b799fc185c6)\n",
       "        ;\n",
       "\n",
       "        \n",
       "    \n",
       "    \n",
       "                marker_b7bbfd667a04dd7aa69206a7cf2aaa11.setIcon(icon_8c1d5bc74c91bb91202cb6e57dffe7b1);\n",
       "            \n",
       "    \n",
       "            var marker_905a0c9c24106d5c77d152b163dcf71f = L.marker(\n",
       "                [50.291804, 4.018529],\n",
       "                {\n",
       "}\n",
       "            ).addTo(map_39b30f824f1c1c5b43bfbee761251e52);\n",
       "        \n",
       "    \n",
       "            var icon_b4cad7c0f1cdbaa816468152e30cb04c = L.AwesomeMarkers.icon(\n",
       "                {\n",
       "  &quot;markerColor&quot;: &quot;green&quot;,\n",
       "  &quot;iconColor&quot;: &quot;white&quot;,\n",
       "  &quot;icon&quot;: &quot;info-sign&quot;,\n",
       "  &quot;prefix&quot;: &quot;glyphicon&quot;,\n",
       "  &quot;extraClasses&quot;: &quot;fa-rotate-0&quot;,\n",
       "}\n",
       "            );\n",
       "        \n",
       "    \n",
       "        var popup_97dbb70487a1706a66171320849ba003 = L.popup({\n",
       "  &quot;maxWidth&quot;: &quot;100%&quot;,\n",
       "});\n",
       "\n",
       "        \n",
       "            \n",
       "                var html_af656f1e4da081dc02fab0dac242adaf = $(`&lt;div id=&quot;html_af656f1e4da081dc02fab0dac242adaf&quot; style=&quot;width: 100.0%; height: 100.0%;&quot;&gt;Wikidata: &lt;a target=&#x27;_blank&#x27; href=&#x27;http://www.wikidata.org/entity/Q2292418&#x27;&gt;Assevent French-German War Cemetery&lt;/div&gt;`)[0];\n",
       "                popup_97dbb70487a1706a66171320849ba003.setContent(html_af656f1e4da081dc02fab0dac242adaf);\n",
       "            \n",
       "        \n",
       "\n",
       "        marker_905a0c9c24106d5c77d152b163dcf71f.bindPopup(popup_97dbb70487a1706a66171320849ba003)\n",
       "        ;\n",
       "\n",
       "        \n",
       "    \n",
       "    \n",
       "                marker_905a0c9c24106d5c77d152b163dcf71f.setIcon(icon_b4cad7c0f1cdbaa816468152e30cb04c);\n",
       "            \n",
       "    \n",
       "            var marker_6c5c04406d5ec7d43e6efd368e25e8ed = L.marker(\n",
       "                [50.37583, 2.76472],\n",
       "                {\n",
       "}\n",
       "            ).addTo(map_39b30f824f1c1c5b43bfbee761251e52);\n",
       "        \n",
       "    \n",
       "            var icon_28768121787bf193e379a44c72714118 = L.AwesomeMarkers.icon(\n",
       "                {\n",
       "  &quot;markerColor&quot;: &quot;green&quot;,\n",
       "  &quot;iconColor&quot;: &quot;white&quot;,\n",
       "  &quot;icon&quot;: &quot;info-sign&quot;,\n",
       "  &quot;prefix&quot;: &quot;glyphicon&quot;,\n",
       "  &quot;extraClasses&quot;: &quot;fa-rotate-0&quot;,\n",
       "}\n",
       "            );\n",
       "        \n",
       "    \n",
       "        var popup_bda6c1f92f7a7ab3f88c2d92d71d09c6 = L.popup({\n",
       "  &quot;maxWidth&quot;: &quot;100%&quot;,\n",
       "});\n",
       "\n",
       "        \n",
       "            \n",
       "                var html_975f7f4a803a68fa4cd17fc12a10e8c1 = $(`&lt;div id=&quot;html_975f7f4a803a68fa4cd17fc12a10e8c1&quot; style=&quot;width: 100.0%; height: 100.0%;&quot;&gt;Wikidata: &lt;a target=&#x27;_blank&#x27; href=&#x27;http://www.wikidata.org/entity/Q2331354&#x27;&gt;Givenchy Road Canadian Cemetery&lt;/div&gt;`)[0];\n",
       "                popup_bda6c1f92f7a7ab3f88c2d92d71d09c6.setContent(html_975f7f4a803a68fa4cd17fc12a10e8c1);\n",
       "            \n",
       "        \n",
       "\n",
       "        marker_6c5c04406d5ec7d43e6efd368e25e8ed.bindPopup(popup_bda6c1f92f7a7ab3f88c2d92d71d09c6)\n",
       "        ;\n",
       "\n",
       "        \n",
       "    \n",
       "    \n",
       "                marker_6c5c04406d5ec7d43e6efd368e25e8ed.setIcon(icon_28768121787bf193e379a44c72714118);\n",
       "            \n",
       "    \n",
       "            var marker_b7c8eef71c31cec8bf672e1298a72aa3 = L.marker(\n",
       "                [48.808056, 2.108333],\n",
       "                {\n",
       "}\n",
       "            ).addTo(map_39b30f824f1c1c5b43bfbee761251e52);\n",
       "        \n",
       "    \n",
       "            var icon_d760f15f0444741c5387761faf20f9dc = L.AwesomeMarkers.icon(\n",
       "                {\n",
       "  &quot;markerColor&quot;: &quot;green&quot;,\n",
       "  &quot;iconColor&quot;: &quot;white&quot;,\n",
       "  &quot;icon&quot;: &quot;info-sign&quot;,\n",
       "  &quot;prefix&quot;: &quot;glyphicon&quot;,\n",
       "  &quot;extraClasses&quot;: &quot;fa-rotate-0&quot;,\n",
       "}\n",
       "            );\n",
       "        \n",
       "    \n",
       "        var popup_cf28570d942889fd58a8e0185972b6c1 = L.popup({\n",
       "  &quot;maxWidth&quot;: &quot;100%&quot;,\n",
       "});\n",
       "\n",
       "        \n",
       "            \n",
       "                var html_a0924af29e0e21cdc5c42c16bc972187 = $(`&lt;div id=&quot;html_a0924af29e0e21cdc5c42c16bc972187&quot; style=&quot;width: 100.0%; height: 100.0%;&quot;&gt;Wikidata: &lt;a target=&#x27;_blank&#x27; href=&#x27;http://www.wikidata.org/entity/Q2340684&#x27;&gt;Park of Versailles&lt;/div&gt;`)[0];\n",
       "                popup_cf28570d942889fd58a8e0185972b6c1.setContent(html_a0924af29e0e21cdc5c42c16bc972187);\n",
       "            \n",
       "        \n",
       "\n",
       "        marker_b7c8eef71c31cec8bf672e1298a72aa3.bindPopup(popup_cf28570d942889fd58a8e0185972b6c1)\n",
       "        ;\n",
       "\n",
       "        \n",
       "    \n",
       "    \n",
       "                marker_b7c8eef71c31cec8bf672e1298a72aa3.setIcon(icon_d760f15f0444741c5387761faf20f9dc);\n",
       "            \n",
       "    \n",
       "            var marker_2ef8c9714369e19663c50e9d987295e8 = L.marker(\n",
       "                [50.635266, 3.514842],\n",
       "                {\n",
       "}\n",
       "            ).addTo(map_39b30f824f1c1c5b43bfbee761251e52);\n",
       "        \n",
       "    \n",
       "            var icon_7a37117dcb4893bdcfcde29d2bd93ba8 = L.AwesomeMarkers.icon(\n",
       "                {\n",
       "  &quot;markerColor&quot;: &quot;green&quot;,\n",
       "  &quot;iconColor&quot;: &quot;white&quot;,\n",
       "  &quot;icon&quot;: &quot;info-sign&quot;,\n",
       "  &quot;prefix&quot;: &quot;glyphicon&quot;,\n",
       "  &quot;extraClasses&quot;: &quot;fa-rotate-0&quot;,\n",
       "}\n",
       "            );\n",
       "        \n",
       "    \n",
       "        var popup_8fe6622c8c92d4dd43c85ec7c4961d0b = L.popup({\n",
       "  &quot;maxWidth&quot;: &quot;100%&quot;,\n",
       "});\n",
       "\n",
       "        \n",
       "            \n",
       "                var html_493c93659968d077517d686070b4653a = $(`&lt;div id=&quot;html_493c93659968d077517d686070b4653a&quot; style=&quot;width: 100.0%; height: 100.0%;&quot;&gt;Wikidata: &lt;a target=&#x27;_blank&#x27; href=&#x27;http://www.wikidata.org/entity/Q750675&#x27;&gt;Belfries of Belgium and France&lt;/div&gt;`)[0];\n",
       "                popup_8fe6622c8c92d4dd43c85ec7c4961d0b.setContent(html_493c93659968d077517d686070b4653a);\n",
       "            \n",
       "        \n",
       "\n",
       "        marker_2ef8c9714369e19663c50e9d987295e8.bindPopup(popup_8fe6622c8c92d4dd43c85ec7c4961d0b)\n",
       "        ;\n",
       "\n",
       "        \n",
       "    \n",
       "    \n",
       "                marker_2ef8c9714369e19663c50e9d987295e8.setIcon(icon_7a37117dcb4893bdcfcde29d2bd93ba8);\n",
       "            \n",
       "    \n",
       "            var marker_4f17b057983b34ce13c4d4b1accb2e62 = L.marker(\n",
       "                [50.073838, 2.648229],\n",
       "                {\n",
       "}\n",
       "            ).addTo(map_39b30f824f1c1c5b43bfbee761251e52);\n",
       "        \n",
       "    \n",
       "            var icon_79d80964014eb0e9e2d316e4b787486e = L.AwesomeMarkers.icon(\n",
       "                {\n",
       "  &quot;markerColor&quot;: &quot;green&quot;,\n",
       "  &quot;iconColor&quot;: &quot;white&quot;,\n",
       "  &quot;icon&quot;: &quot;info-sign&quot;,\n",
       "  &quot;prefix&quot;: &quot;glyphicon&quot;,\n",
       "  &quot;extraClasses&quot;: &quot;fa-rotate-0&quot;,\n",
       "}\n",
       "            );\n",
       "        \n",
       "    \n",
       "        var popup_2c8037d73f93d0a83f48a7a846d63d00 = L.popup({\n",
       "  &quot;maxWidth&quot;: &quot;100%&quot;,\n",
       "});\n",
       "\n",
       "        \n",
       "            \n",
       "                var html_26b2d88efaef306e1979c41e48c4e8c7 = $(`&lt;div id=&quot;html_26b2d88efaef306e1979c41e48c4e8c7&quot; style=&quot;width: 100.0%; height: 100.0%;&quot;&gt;Wikidata: &lt;a target=&#x27;_blank&#x27; href=&#x27;http://www.wikidata.org/entity/Q813418&#x27;&gt;Beaumont-Hamel Newfoundland Memorial&lt;/div&gt;`)[0];\n",
       "                popup_2c8037d73f93d0a83f48a7a846d63d00.setContent(html_26b2d88efaef306e1979c41e48c4e8c7);\n",
       "            \n",
       "        \n",
       "\n",
       "        marker_4f17b057983b34ce13c4d4b1accb2e62.bindPopup(popup_2c8037d73f93d0a83f48a7a846d63d00)\n",
       "        ;\n",
       "\n",
       "        \n",
       "    \n",
       "    \n",
       "                marker_4f17b057983b34ce13c4d4b1accb2e62.setIcon(icon_79d80964014eb0e9e2d316e4b787486e);\n",
       "            \n",
       "    \n",
       "            var marker_979f5b1d5e4666b42c76326f6647db5b = L.marker(\n",
       "                [50.2825, 2.75888889],\n",
       "                {\n",
       "}\n",
       "            ).addTo(map_39b30f824f1c1c5b43bfbee761251e52);\n",
       "        \n",
       "    \n",
       "            var icon_6cf5cd1c4c28c58aed2ed912360b2825 = L.AwesomeMarkers.icon(\n",
       "                {\n",
       "  &quot;markerColor&quot;: &quot;green&quot;,\n",
       "  &quot;iconColor&quot;: &quot;white&quot;,\n",
       "  &quot;icon&quot;: &quot;info-sign&quot;,\n",
       "  &quot;prefix&quot;: &quot;glyphicon&quot;,\n",
       "  &quot;extraClasses&quot;: &quot;fa-rotate-0&quot;,\n",
       "}\n",
       "            );\n",
       "        \n",
       "    \n",
       "        var popup_0bbeeb52d56c14183b8b32484621bac8 = L.popup({\n",
       "  &quot;maxWidth&quot;: &quot;100%&quot;,\n",
       "});\n",
       "\n",
       "        \n",
       "            \n",
       "                var html_b8c28e1cec048fb2d4267c805b022ea4 = $(`&lt;div id=&quot;html_b8c28e1cec048fb2d4267c805b022ea4&quot; style=&quot;width: 100.0%; height: 100.0%;&quot;&gt;Wikidata: &lt;a target=&#x27;_blank&#x27; href=&#x27;http://www.wikidata.org/entity/Q833781&#x27;&gt;Fortifications of Vauban&lt;/div&gt;`)[0];\n",
       "                popup_0bbeeb52d56c14183b8b32484621bac8.setContent(html_b8c28e1cec048fb2d4267c805b022ea4);\n",
       "            \n",
       "        \n",
       "\n",
       "        marker_979f5b1d5e4666b42c76326f6647db5b.bindPopup(popup_0bbeeb52d56c14183b8b32484621bac8)\n",
       "        ;\n",
       "\n",
       "        \n",
       "    \n",
       "    \n",
       "                marker_979f5b1d5e4666b42c76326f6647db5b.setIcon(icon_6cf5cd1c4c28c58aed2ed912360b2825);\n",
       "            \n",
       "    \n",
       "            var marker_06b3ad63bf86023527c551bc61f53b81 = L.marker(\n",
       "                [44.837619444, -0.576555555],\n",
       "                {\n",
       "}\n",
       "            ).addTo(map_39b30f824f1c1c5b43bfbee761251e52);\n",
       "        \n",
       "    \n",
       "            var icon_1cebaf75bd6267a13a45303a6d6ee19f = L.AwesomeMarkers.icon(\n",
       "                {\n",
       "  &quot;markerColor&quot;: &quot;green&quot;,\n",
       "  &quot;iconColor&quot;: &quot;white&quot;,\n",
       "  &quot;icon&quot;: &quot;info-sign&quot;,\n",
       "  &quot;prefix&quot;: &quot;glyphicon&quot;,\n",
       "  &quot;extraClasses&quot;: &quot;fa-rotate-0&quot;,\n",
       "}\n",
       "            );\n",
       "        \n",
       "    \n",
       "        var popup_b35f086a02127dbb808b321a24b99505 = L.popup({\n",
       "  &quot;maxWidth&quot;: &quot;100%&quot;,\n",
       "});\n",
       "\n",
       "        \n",
       "            \n",
       "                var html_987327c04d03c814db2216b98081e68a = $(`&lt;div id=&quot;html_987327c04d03c814db2216b98081e68a&quot; style=&quot;width: 100.0%; height: 100.0%;&quot;&gt;Wikidata: &lt;a target=&#x27;_blank&#x27; href=&#x27;http://www.wikidata.org/entity/Q954262&#x27;&gt;Tour Pey-Berland&lt;/div&gt;`)[0];\n",
       "                popup_b35f086a02127dbb808b321a24b99505.setContent(html_987327c04d03c814db2216b98081e68a);\n",
       "            \n",
       "        \n",
       "\n",
       "        marker_06b3ad63bf86023527c551bc61f53b81.bindPopup(popup_b35f086a02127dbb808b321a24b99505)\n",
       "        ;\n",
       "\n",
       "        \n",
       "    \n",
       "    \n",
       "                marker_06b3ad63bf86023527c551bc61f53b81.setIcon(icon_1cebaf75bd6267a13a45303a6d6ee19f);\n",
       "            \n",
       "    \n",
       "            var marker_adbb1e89420bca9faee5263ee9549010 = L.marker(\n",
       "                [43.677638888, 4.630694444],\n",
       "                {\n",
       "}\n",
       "            ).addTo(map_39b30f824f1c1c5b43bfbee761251e52);\n",
       "        \n",
       "    \n",
       "            var icon_2a0ce865d63292f0dc473586c1b36247 = L.AwesomeMarkers.icon(\n",
       "                {\n",
       "  &quot;markerColor&quot;: &quot;green&quot;,\n",
       "  &quot;iconColor&quot;: &quot;white&quot;,\n",
       "  &quot;icon&quot;: &quot;info-sign&quot;,\n",
       "  &quot;prefix&quot;: &quot;glyphicon&quot;,\n",
       "  &quot;extraClasses&quot;: &quot;fa-rotate-0&quot;,\n",
       "}\n",
       "            );\n",
       "        \n",
       "    \n",
       "        var popup_c71149d8978c5a27627775aa04d76a7d = L.popup({\n",
       "  &quot;maxWidth&quot;: &quot;100%&quot;,\n",
       "});\n",
       "\n",
       "        \n",
       "            \n",
       "                var html_a5e12d14ec9c90ac4db9a1c6ebffe016 = $(`&lt;div id=&quot;html_a5e12d14ec9c90ac4db9a1c6ebffe016&quot; style=&quot;width: 100.0%; height: 100.0%;&quot;&gt;Wikidata: &lt;a target=&#x27;_blank&#x27; href=&#x27;http://www.wikidata.org/entity/Q1279597&#x27;&gt;Arles, Roman and Romanesque Monuments&lt;/div&gt;`)[0];\n",
       "                popup_c71149d8978c5a27627775aa04d76a7d.setContent(html_a5e12d14ec9c90ac4db9a1c6ebffe016);\n",
       "            \n",
       "        \n",
       "\n",
       "        marker_adbb1e89420bca9faee5263ee9549010.bindPopup(popup_c71149d8978c5a27627775aa04d76a7d)\n",
       "        ;\n",
       "\n",
       "        \n",
       "    \n",
       "    \n",
       "                marker_adbb1e89420bca9faee5263ee9549010.setIcon(icon_2a0ce865d63292f0dc473586c1b36247);\n",
       "            \n",
       "    \n",
       "            var marker_884e33c386395da2b69415f0b69165cb = L.marker(\n",
       "                [-20.411944444, 164.566388888],\n",
       "                {\n",
       "}\n",
       "            ).addTo(map_39b30f824f1c1c5b43bfbee761251e52);\n",
       "        \n",
       "    \n",
       "            var icon_b338f88a992961c49b28c1ba36d739d6 = L.AwesomeMarkers.icon(\n",
       "                {\n",
       "  &quot;markerColor&quot;: &quot;green&quot;,\n",
       "  &quot;iconColor&quot;: &quot;white&quot;,\n",
       "  &quot;icon&quot;: &quot;info-sign&quot;,\n",
       "  &quot;prefix&quot;: &quot;glyphicon&quot;,\n",
       "  &quot;extraClasses&quot;: &quot;fa-rotate-0&quot;,\n",
       "}\n",
       "            );\n",
       "        \n",
       "    \n",
       "        var popup_3694a6cc4a12be7835a8c4315948df4a = L.popup({\n",
       "  &quot;maxWidth&quot;: &quot;100%&quot;,\n",
       "});\n",
       "\n",
       "        \n",
       "            \n",
       "                var html_68e410d82fec8bfe266cf734b0f76944 = $(`&lt;div id=&quot;html_68e410d82fec8bfe266cf734b0f76944&quot; style=&quot;width: 100.0%; height: 100.0%;&quot;&gt;Wikidata: &lt;a target=&#x27;_blank&#x27; href=&#x27;http://www.wikidata.org/entity/Q1330981&#x27;&gt;New Caledonia Barrier Reef&lt;/div&gt;`)[0];\n",
       "                popup_3694a6cc4a12be7835a8c4315948df4a.setContent(html_68e410d82fec8bfe266cf734b0f76944);\n",
       "            \n",
       "        \n",
       "\n",
       "        marker_884e33c386395da2b69415f0b69165cb.bindPopup(popup_3694a6cc4a12be7835a8c4315948df4a)\n",
       "        ;\n",
       "\n",
       "        \n",
       "    \n",
       "    \n",
       "                marker_884e33c386395da2b69415f0b69165cb.setIcon(icon_b338f88a992961c49b28c1ba36d739d6);\n",
       "            \n",
       "    \n",
       "            var marker_5e0aa9f5b0fe020e81e591b9fcddb710 = L.marker(\n",
       "                [50.2867, 2.76057],\n",
       "                {\n",
       "}\n",
       "            ).addTo(map_39b30f824f1c1c5b43bfbee761251e52);\n",
       "        \n",
       "    \n",
       "            var icon_c7b149dfa47a12fbf483e75c0043ceb2 = L.AwesomeMarkers.icon(\n",
       "                {\n",
       "  &quot;markerColor&quot;: &quot;green&quot;,\n",
       "  &quot;iconColor&quot;: &quot;white&quot;,\n",
       "  &quot;icon&quot;: &quot;info-sign&quot;,\n",
       "  &quot;prefix&quot;: &quot;glyphicon&quot;,\n",
       "  &quot;extraClasses&quot;: &quot;fa-rotate-0&quot;,\n",
       "}\n",
       "            );\n",
       "        \n",
       "    \n",
       "        var popup_916686db8309bf093e228b969af59d84 = L.popup({\n",
       "  &quot;maxWidth&quot;: &quot;100%&quot;,\n",
       "});\n",
       "\n",
       "        \n",
       "            \n",
       "                var html_f3d7c715efdf88503db82bdbfb3140c7 = $(`&lt;div id=&quot;html_f3d7c715efdf88503db82bdbfb3140c7&quot; style=&quot;width: 100.0%; height: 100.0%;&quot;&gt;Wikidata: &lt;a target=&#x27;_blank&#x27; href=&#x27;http://www.wikidata.org/entity/Q2353463&#x27;&gt;Faubourg d&#x27;Amiens Cemetery&lt;/div&gt;`)[0];\n",
       "                popup_916686db8309bf093e228b969af59d84.setContent(html_f3d7c715efdf88503db82bdbfb3140c7);\n",
       "            \n",
       "        \n",
       "\n",
       "        marker_5e0aa9f5b0fe020e81e591b9fcddb710.bindPopup(popup_916686db8309bf093e228b969af59d84)\n",
       "        ;\n",
       "\n",
       "        \n",
       "    \n",
       "    \n",
       "                marker_5e0aa9f5b0fe020e81e591b9fcddb710.setIcon(icon_c7b149dfa47a12fbf483e75c0043ceb2);\n",
       "            \n",
       "    \n",
       "            var marker_29729a265ed7b279793ae2c1a622741f = L.marker(\n",
       "                [50.024482, 2.812678],\n",
       "                {\n",
       "}\n",
       "            ).addTo(map_39b30f824f1c1c5b43bfbee761251e52);\n",
       "        \n",
       "    \n",
       "            var icon_bc20ec55673e55e02f6658efa25b4015 = L.AwesomeMarkers.icon(\n",
       "                {\n",
       "  &quot;markerColor&quot;: &quot;green&quot;,\n",
       "  &quot;iconColor&quot;: &quot;white&quot;,\n",
       "  &quot;icon&quot;: &quot;info-sign&quot;,\n",
       "  &quot;prefix&quot;: &quot;glyphicon&quot;,\n",
       "  &quot;extraClasses&quot;: &quot;fa-rotate-0&quot;,\n",
       "}\n",
       "            );\n",
       "        \n",
       "    \n",
       "        var popup_f12716375543a54ed2a5791d17a0a3dd = L.popup({\n",
       "  &quot;maxWidth&quot;: &quot;100%&quot;,\n",
       "});\n",
       "\n",
       "        \n",
       "            \n",
       "                var html_08b71f481001f4a8e80ed340b166f062 = $(`&lt;div id=&quot;html_08b71f481001f4a8e80ed340b166f062&quot; style=&quot;width: 100.0%; height: 100.0%;&quot;&gt;Wikidata: &lt;a target=&#x27;_blank&#x27; href=&#x27;http://www.wikidata.org/entity/Q2374137&#x27;&gt;Delville Wood South African National Memorial&lt;/div&gt;`)[0];\n",
       "                popup_f12716375543a54ed2a5791d17a0a3dd.setContent(html_08b71f481001f4a8e80ed340b166f062);\n",
       "            \n",
       "        \n",
       "\n",
       "        marker_29729a265ed7b279793ae2c1a622741f.bindPopup(popup_f12716375543a54ed2a5791d17a0a3dd)\n",
       "        ;\n",
       "\n",
       "        \n",
       "    \n",
       "    \n",
       "                marker_29729a265ed7b279793ae2c1a622741f.setIcon(icon_bc20ec55673e55e02f6658efa25b4015);\n",
       "            \n",
       "    \n",
       "            var marker_f94054f6932efa4b882f0948f9f81232 = L.marker(\n",
       "                [50.460853, 2.77177],\n",
       "                {\n",
       "}\n",
       "            ).addTo(map_39b30f824f1c1c5b43bfbee761251e52);\n",
       "        \n",
       "    \n",
       "            var icon_2c7f64af28e308f8fb8c28008dffc032 = L.AwesomeMarkers.icon(\n",
       "                {\n",
       "  &quot;markerColor&quot;: &quot;green&quot;,\n",
       "  &quot;iconColor&quot;: &quot;white&quot;,\n",
       "  &quot;icon&quot;: &quot;info-sign&quot;,\n",
       "  &quot;prefix&quot;: &quot;glyphicon&quot;,\n",
       "  &quot;extraClasses&quot;: &quot;fa-rotate-0&quot;,\n",
       "}\n",
       "            );\n",
       "        \n",
       "    \n",
       "        var popup_aa11b7fe306a62abbd56a273d9a1f85e = L.popup({\n",
       "  &quot;maxWidth&quot;: &quot;100%&quot;,\n",
       "});\n",
       "\n",
       "        \n",
       "            \n",
       "                var html_a7f7c0d21d933d4459b25ba7bb87fb3a = $(`&lt;div id=&quot;html_a7f7c0d21d933d4459b25ba7bb87fb3a&quot; style=&quot;width: 100.0%; height: 100.0%;&quot;&gt;Wikidata: &lt;a target=&#x27;_blank&#x27; href=&#x27;http://www.wikidata.org/entity/Q2478266&#x27;&gt;Loos Memorial&lt;/div&gt;`)[0];\n",
       "                popup_aa11b7fe306a62abbd56a273d9a1f85e.setContent(html_a7f7c0d21d933d4459b25ba7bb87fb3a);\n",
       "            \n",
       "        \n",
       "\n",
       "        marker_f94054f6932efa4b882f0948f9f81232.bindPopup(popup_aa11b7fe306a62abbd56a273d9a1f85e)\n",
       "        ;\n",
       "\n",
       "        \n",
       "    \n",
       "    \n",
       "                marker_f94054f6932efa4b882f0948f9f81232.setIcon(icon_2c7f64af28e308f8fb8c28008dffc032);\n",
       "            \n",
       "    \n",
       "            var marker_22432d2e3407af488f37a14ef1be0014 = L.marker(\n",
       "                [50.350612, 2.74881],\n",
       "                {\n",
       "}\n",
       "            ).addTo(map_39b30f824f1c1c5b43bfbee761251e52);\n",
       "        \n",
       "    \n",
       "            var icon_88dce41d00b68e8c7f1c1a3286a084af = L.AwesomeMarkers.icon(\n",
       "                {\n",
       "  &quot;markerColor&quot;: &quot;green&quot;,\n",
       "  &quot;iconColor&quot;: &quot;white&quot;,\n",
       "  &quot;icon&quot;: &quot;info-sign&quot;,\n",
       "  &quot;prefix&quot;: &quot;glyphicon&quot;,\n",
       "  &quot;extraClasses&quot;: &quot;fa-rotate-0&quot;,\n",
       "}\n",
       "            );\n",
       "        \n",
       "    \n",
       "        var popup_ba0c3fc60b02ace5769930294140b8dc = L.popup({\n",
       "  &quot;maxWidth&quot;: &quot;100%&quot;,\n",
       "});\n",
       "\n",
       "        \n",
       "            \n",
       "                var html_bf5b748860923939691571697d89928b = $(`&lt;div id=&quot;html_bf5b748860923939691571697d89928b&quot; style=&quot;width: 100.0%; height: 100.0%;&quot;&gt;Wikidata: &lt;a target=&#x27;_blank&#x27; href=&#x27;http://www.wikidata.org/entity/Q2482169&#x27;&gt;La Targette British Cemetery&lt;/div&gt;`)[0];\n",
       "                popup_ba0c3fc60b02ace5769930294140b8dc.setContent(html_bf5b748860923939691571697d89928b);\n",
       "            \n",
       "        \n",
       "\n",
       "        marker_22432d2e3407af488f37a14ef1be0014.bindPopup(popup_ba0c3fc60b02ace5769930294140b8dc)\n",
       "        ;\n",
       "\n",
       "        \n",
       "    \n",
       "    \n",
       "                marker_22432d2e3407af488f37a14ef1be0014.setIcon(icon_88dce41d00b68e8c7f1c1a3286a084af);\n",
       "            \n",
       "    \n",
       "            var marker_19044e17352eeb43455fc69e2c6767ed = L.marker(\n",
       "                [50.089299, 2.50374],\n",
       "                {\n",
       "}\n",
       "            ).addTo(map_39b30f824f1c1c5b43bfbee761251e52);\n",
       "        \n",
       "    \n",
       "            var icon_8fe16c891172578cfbe2dd8e246efa8d = L.AwesomeMarkers.icon(\n",
       "                {\n",
       "  &quot;markerColor&quot;: &quot;green&quot;,\n",
       "  &quot;iconColor&quot;: &quot;white&quot;,\n",
       "  &quot;icon&quot;: &quot;info-sign&quot;,\n",
       "  &quot;prefix&quot;: &quot;glyphicon&quot;,\n",
       "  &quot;extraClasses&quot;: &quot;fa-rotate-0&quot;,\n",
       "}\n",
       "            );\n",
       "        \n",
       "    \n",
       "        var popup_6dc964eeff4ee7ad521469dd5c2ffe25 = L.popup({\n",
       "  &quot;maxWidth&quot;: &quot;100%&quot;,\n",
       "});\n",
       "\n",
       "        \n",
       "            \n",
       "                var html_ddaa9c83de6e6ccc0ab9ec36c2d073b8 = $(`&lt;div id=&quot;html_ddaa9c83de6e6ccc0ab9ec36c2d073b8&quot; style=&quot;width: 100.0%; height: 100.0%;&quot;&gt;Wikidata: &lt;a target=&#x27;_blank&#x27; href=&#x27;http://www.wikidata.org/entity/Q2518785&#x27;&gt;Louvencourt Military Cemetery&lt;/div&gt;`)[0];\n",
       "                popup_6dc964eeff4ee7ad521469dd5c2ffe25.setContent(html_ddaa9c83de6e6ccc0ab9ec36c2d073b8);\n",
       "            \n",
       "        \n",
       "\n",
       "        marker_19044e17352eeb43455fc69e2c6767ed.bindPopup(popup_6dc964eeff4ee7ad521469dd5c2ffe25)\n",
       "        ;\n",
       "\n",
       "        \n",
       "    \n",
       "    \n",
       "                marker_19044e17352eeb43455fc69e2c6767ed.setIcon(icon_8fe16c891172578cfbe2dd8e246efa8d);\n",
       "            \n",
       "    \n",
       "            var marker_b9f013162ca5232f67b1a7c638be6e9f = L.marker(\n",
       "                [49.887008, 2.51291],\n",
       "                {\n",
       "}\n",
       "            ).addTo(map_39b30f824f1c1c5b43bfbee761251e52);\n",
       "        \n",
       "    \n",
       "            var icon_5899ec6ada2516c3b7c97ac715516b48 = L.AwesomeMarkers.icon(\n",
       "                {\n",
       "  &quot;markerColor&quot;: &quot;green&quot;,\n",
       "  &quot;iconColor&quot;: &quot;white&quot;,\n",
       "  &quot;icon&quot;: &quot;info-sign&quot;,\n",
       "  &quot;prefix&quot;: &quot;glyphicon&quot;,\n",
       "  &quot;extraClasses&quot;: &quot;fa-rotate-0&quot;,\n",
       "}\n",
       "            );\n",
       "        \n",
       "    \n",
       "        var popup_2fe45f591d43551ff11daa294a0dc777 = L.popup({\n",
       "  &quot;maxWidth&quot;: &quot;100%&quot;,\n",
       "});\n",
       "\n",
       "        \n",
       "            \n",
       "                var html_ffddad43c33705f0e5e2c73113edbfff = $(`&lt;div id=&quot;html_ffddad43c33705f0e5e2c73113edbfff&quot; style=&quot;width: 100.0%; height: 100.0%;&quot;&gt;Wikidata: &lt;a target=&#x27;_blank&#x27; href=&#x27;http://www.wikidata.org/entity/Q2544355&#x27;&gt;Villers–Bretonneux Australian National Memorial&lt;/div&gt;`)[0];\n",
       "                popup_2fe45f591d43551ff11daa294a0dc777.setContent(html_ffddad43c33705f0e5e2c73113edbfff);\n",
       "            \n",
       "        \n",
       "\n",
       "        marker_b9f013162ca5232f67b1a7c638be6e9f.bindPopup(popup_2fe45f591d43551ff11daa294a0dc777)\n",
       "        ;\n",
       "\n",
       "        \n",
       "    \n",
       "    \n",
       "                marker_b9f013162ca5232f67b1a7c638be6e9f.setIcon(icon_5899ec6ada2516c3b7c97ac715516b48);\n",
       "            \n",
       "    \n",
       "            var marker_d7148d98360f1785d9751ef36e2feaa8 = L.marker(\n",
       "                [50.379444444, 2.773611111],\n",
       "                {\n",
       "}\n",
       "            ).addTo(map_39b30f824f1c1c5b43bfbee761251e52);\n",
       "        \n",
       "    \n",
       "            var icon_88e9c9db5e9de37a5241776a89358737 = L.AwesomeMarkers.icon(\n",
       "                {\n",
       "  &quot;markerColor&quot;: &quot;green&quot;,\n",
       "  &quot;iconColor&quot;: &quot;white&quot;,\n",
       "  &quot;icon&quot;: &quot;info-sign&quot;,\n",
       "  &quot;prefix&quot;: &quot;glyphicon&quot;,\n",
       "  &quot;extraClasses&quot;: &quot;fa-rotate-0&quot;,\n",
       "}\n",
       "            );\n",
       "        \n",
       "    \n",
       "        var popup_1cb956f8f6cf7acd07d43030a2703c20 = L.popup({\n",
       "  &quot;maxWidth&quot;: &quot;100%&quot;,\n",
       "});\n",
       "\n",
       "        \n",
       "            \n",
       "                var html_11705a2859b1d55b84a12b79c18dc069 = $(`&lt;div id=&quot;html_11705a2859b1d55b84a12b79c18dc069&quot; style=&quot;width: 100.0%; height: 100.0%;&quot;&gt;Wikidata: &lt;a target=&#x27;_blank&#x27; href=&#x27;http://www.wikidata.org/entity/Q2561040&#x27;&gt;Canadian National Vimy Memorial&lt;/div&gt;`)[0];\n",
       "                popup_1cb956f8f6cf7acd07d43030a2703c20.setContent(html_11705a2859b1d55b84a12b79c18dc069);\n",
       "            \n",
       "        \n",
       "\n",
       "        marker_d7148d98360f1785d9751ef36e2feaa8.bindPopup(popup_1cb956f8f6cf7acd07d43030a2703c20)\n",
       "        ;\n",
       "\n",
       "        \n",
       "    \n",
       "    \n",
       "                marker_d7148d98360f1785d9751ef36e2feaa8.setIcon(icon_88e9c9db5e9de37a5241776a89358737);\n",
       "            \n",
       "    \n",
       "            var marker_9b344c039f2493575f10fd74a8392fd2 = L.marker(\n",
       "                [50.186076, 1.722666],\n",
       "                {\n",
       "}\n",
       "            ).addTo(map_39b30f824f1c1c5b43bfbee761251e52);\n",
       "        \n",
       "    \n",
       "            var icon_de31f2599c6a405a5baefb33d6760fdf = L.AwesomeMarkers.icon(\n",
       "                {\n",
       "  &quot;markerColor&quot;: &quot;green&quot;,\n",
       "  &quot;iconColor&quot;: &quot;white&quot;,\n",
       "  &quot;icon&quot;: &quot;info-sign&quot;,\n",
       "  &quot;prefix&quot;: &quot;glyphicon&quot;,\n",
       "  &quot;extraClasses&quot;: &quot;fa-rotate-0&quot;,\n",
       "}\n",
       "            );\n",
       "        \n",
       "    \n",
       "        var popup_4b2a7db1cdb5ad7627b600925be42eca = L.popup({\n",
       "  &quot;maxWidth&quot;: &quot;100%&quot;,\n",
       "});\n",
       "\n",
       "        \n",
       "            \n",
       "                var html_f7250e29fed655af0f5c4101dcee22b2 = $(`&lt;div id=&quot;html_f7250e29fed655af0f5c4101dcee22b2&quot; style=&quot;width: 100.0%; height: 100.0%;&quot;&gt;Wikidata: &lt;a target=&#x27;_blank&#x27; href=&#x27;http://www.wikidata.org/entity/Q2566225&#x27;&gt;Noyelles-sur-Mer Chinese Memorial&lt;/div&gt;`)[0];\n",
       "                popup_4b2a7db1cdb5ad7627b600925be42eca.setContent(html_f7250e29fed655af0f5c4101dcee22b2);\n",
       "            \n",
       "        \n",
       "\n",
       "        marker_9b344c039f2493575f10fd74a8392fd2.bindPopup(popup_4b2a7db1cdb5ad7627b600925be42eca)\n",
       "        ;\n",
       "\n",
       "        \n",
       "    \n",
       "    \n",
       "                marker_9b344c039f2493575f10fd74a8392fd2.setIcon(icon_de31f2599c6a405a5baefb33d6760fdf);\n",
       "            \n",
       "    \n",
       "            var marker_22a2cbbff0b68c3118d35ee8e7b97f1d = L.marker(\n",
       "                [50.0239, 2.81277],\n",
       "                {\n",
       "}\n",
       "            ).addTo(map_39b30f824f1c1c5b43bfbee761251e52);\n",
       "        \n",
       "    \n",
       "            var icon_ebaa44f4c2bb77edfc858827f4d082d9 = L.AwesomeMarkers.icon(\n",
       "                {\n",
       "  &quot;markerColor&quot;: &quot;green&quot;,\n",
       "  &quot;iconColor&quot;: &quot;white&quot;,\n",
       "  &quot;icon&quot;: &quot;info-sign&quot;,\n",
       "  &quot;prefix&quot;: &quot;glyphicon&quot;,\n",
       "  &quot;extraClasses&quot;: &quot;fa-rotate-0&quot;,\n",
       "}\n",
       "            );\n",
       "        \n",
       "    \n",
       "        var popup_a8999c01fbd9559b153c48d244a68e25 = L.popup({\n",
       "  &quot;maxWidth&quot;: &quot;100%&quot;,\n",
       "});\n",
       "\n",
       "        \n",
       "            \n",
       "                var html_cabe4e80a6c0d41df147888ea48e69fc = $(`&lt;div id=&quot;html_cabe4e80a6c0d41df147888ea48e69fc&quot; style=&quot;width: 100.0%; height: 100.0%;&quot;&gt;Wikidata: &lt;a target=&#x27;_blank&#x27; href=&#x27;http://www.wikidata.org/entity/Q2618490&#x27;&gt;Delville Wood Cemetery&lt;/div&gt;`)[0];\n",
       "                popup_a8999c01fbd9559b153c48d244a68e25.setContent(html_cabe4e80a6c0d41df147888ea48e69fc);\n",
       "            \n",
       "        \n",
       "\n",
       "        marker_22a2cbbff0b68c3118d35ee8e7b97f1d.bindPopup(popup_a8999c01fbd9559b153c48d244a68e25)\n",
       "        ;\n",
       "\n",
       "        \n",
       "    \n",
       "    \n",
       "                marker_22a2cbbff0b68c3118d35ee8e7b97f1d.setIcon(icon_ebaa44f4c2bb77edfc858827f4d082d9);\n",
       "            \n",
       "    \n",
       "            var marker_526577b1b6351a2454ad53443c270fcd = L.marker(\n",
       "                [49.99815, 2.90985],\n",
       "                {\n",
       "}\n",
       "            ).addTo(map_39b30f824f1c1c5b43bfbee761251e52);\n",
       "        \n",
       "    \n",
       "            var icon_17a18e937330cd68a6a30891a39b76e8 = L.AwesomeMarkers.icon(\n",
       "                {\n",
       "  &quot;markerColor&quot;: &quot;green&quot;,\n",
       "  &quot;iconColor&quot;: &quot;white&quot;,\n",
       "  &quot;icon&quot;: &quot;info-sign&quot;,\n",
       "  &quot;prefix&quot;: &quot;glyphicon&quot;,\n",
       "  &quot;extraClasses&quot;: &quot;fa-rotate-0&quot;,\n",
       "}\n",
       "            );\n",
       "        \n",
       "    \n",
       "        var popup_116ddae50c5940dc83c1132bfebc5561 = L.popup({\n",
       "  &quot;maxWidth&quot;: &quot;100%&quot;,\n",
       "});\n",
       "\n",
       "        \n",
       "            \n",
       "                var html_e513dc185602815f1421f60ad2784ecd = $(`&lt;div id=&quot;html_e513dc185602815f1421f60ad2784ecd&quot; style=&quot;width: 100.0%; height: 100.0%;&quot;&gt;Wikidata: &lt;a target=&#x27;_blank&#x27; href=&#x27;http://www.wikidata.org/entity/Q2658699&#x27;&gt;Rancourt Military Cemetery&lt;/div&gt;`)[0];\n",
       "                popup_116ddae50c5940dc83c1132bfebc5561.setContent(html_e513dc185602815f1421f60ad2784ecd);\n",
       "            \n",
       "        \n",
       "\n",
       "        marker_526577b1b6351a2454ad53443c270fcd.bindPopup(popup_116ddae50c5940dc83c1132bfebc5561)\n",
       "        ;\n",
       "\n",
       "        \n",
       "    \n",
       "    \n",
       "                marker_526577b1b6351a2454ad53443c270fcd.setIcon(icon_17a18e937330cd68a6a30891a39b76e8);\n",
       "            \n",
       "    \n",
       "            var marker_f2d9bdd08f6449eca6eca995a19770aa = L.marker(\n",
       "                [50.286989, 2.760418],\n",
       "                {\n",
       "}\n",
       "            ).addTo(map_39b30f824f1c1c5b43bfbee761251e52);\n",
       "        \n",
       "    \n",
       "            var icon_1ea3b35558653296b78db2d7a9f4f4be = L.AwesomeMarkers.icon(\n",
       "                {\n",
       "  &quot;markerColor&quot;: &quot;green&quot;,\n",
       "  &quot;iconColor&quot;: &quot;white&quot;,\n",
       "  &quot;icon&quot;: &quot;info-sign&quot;,\n",
       "  &quot;prefix&quot;: &quot;glyphicon&quot;,\n",
       "  &quot;extraClasses&quot;: &quot;fa-rotate-0&quot;,\n",
       "}\n",
       "            );\n",
       "        \n",
       "    \n",
       "        var popup_0067302f7eff32c1e1165faccdec0d3f = L.popup({\n",
       "  &quot;maxWidth&quot;: &quot;100%&quot;,\n",
       "});\n",
       "\n",
       "        \n",
       "            \n",
       "                var html_5edacf2be7877c4756dab20ffe79ef59 = $(`&lt;div id=&quot;html_5edacf2be7877c4756dab20ffe79ef59&quot; style=&quot;width: 100.0%; height: 100.0%;&quot;&gt;Wikidata: &lt;a target=&#x27;_blank&#x27; href=&#x27;http://www.wikidata.org/entity/Q2674251&#x27;&gt;Arras Flying Services Memorial&lt;/div&gt;`)[0];\n",
       "                popup_0067302f7eff32c1e1165faccdec0d3f.setContent(html_5edacf2be7877c4756dab20ffe79ef59);\n",
       "            \n",
       "        \n",
       "\n",
       "        marker_f2d9bdd08f6449eca6eca995a19770aa.bindPopup(popup_0067302f7eff32c1e1165faccdec0d3f)\n",
       "        ;\n",
       "\n",
       "        \n",
       "    \n",
       "    \n",
       "                marker_f2d9bdd08f6449eca6eca995a19770aa.setIcon(icon_1ea3b35558653296b78db2d7a9f4f4be);\n",
       "            \n",
       "    \n",
       "            var marker_8601cd4e1cda3183a9884ba084a817c3 = L.marker(\n",
       "                [-21.0994, 55.48],\n",
       "                {\n",
       "}\n",
       "            ).addTo(map_39b30f824f1c1c5b43bfbee761251e52);\n",
       "        \n",
       "    \n",
       "            var icon_4ed7e05b8df444bd9e5afafaabfe22de = L.AwesomeMarkers.icon(\n",
       "                {\n",
       "  &quot;markerColor&quot;: &quot;green&quot;,\n",
       "  &quot;iconColor&quot;: &quot;white&quot;,\n",
       "  &quot;icon&quot;: &quot;info-sign&quot;,\n",
       "  &quot;prefix&quot;: &quot;glyphicon&quot;,\n",
       "  &quot;extraClasses&quot;: &quot;fa-rotate-0&quot;,\n",
       "}\n",
       "            );\n",
       "        \n",
       "    \n",
       "        var popup_7b01b060e34e98e31b75f12ed167e53c = L.popup({\n",
       "  &quot;maxWidth&quot;: &quot;100%&quot;,\n",
       "});\n",
       "\n",
       "        \n",
       "            \n",
       "                var html_88aad2d160eba5e4038b161e1fbdee0f = $(`&lt;div id=&quot;html_88aad2d160eba5e4038b161e1fbdee0f&quot; style=&quot;width: 100.0%; height: 100.0%;&quot;&gt;Wikidata: &lt;a target=&#x27;_blank&#x27; href=&#x27;http://www.wikidata.org/entity/Q2710055&#x27;&gt;Pitons, cirques and remparts of Reunion Island&lt;/div&gt;`)[0];\n",
       "                popup_7b01b060e34e98e31b75f12ed167e53c.setContent(html_88aad2d160eba5e4038b161e1fbdee0f);\n",
       "            \n",
       "        \n",
       "\n",
       "        marker_8601cd4e1cda3183a9884ba084a817c3.bindPopup(popup_7b01b060e34e98e31b75f12ed167e53c)\n",
       "        ;\n",
       "\n",
       "        \n",
       "    \n",
       "    \n",
       "                marker_8601cd4e1cda3183a9884ba084a817c3.setIcon(icon_4ed7e05b8df444bd9e5afafaabfe22de);\n",
       "            \n",
       "    \n",
       "            var marker_44bd141b43718fdf4a3e0e56c508fab3 = L.marker(\n",
       "                [50.286982, 2.760652],\n",
       "                {\n",
       "}\n",
       "            ).addTo(map_39b30f824f1c1c5b43bfbee761251e52);\n",
       "        \n",
       "    \n",
       "            var icon_2cfa365e5723ac5ce773711ed8d36c23 = L.AwesomeMarkers.icon(\n",
       "                {\n",
       "  &quot;markerColor&quot;: &quot;green&quot;,\n",
       "  &quot;iconColor&quot;: &quot;white&quot;,\n",
       "  &quot;icon&quot;: &quot;info-sign&quot;,\n",
       "  &quot;prefix&quot;: &quot;glyphicon&quot;,\n",
       "  &quot;extraClasses&quot;: &quot;fa-rotate-0&quot;,\n",
       "}\n",
       "            );\n",
       "        \n",
       "    \n",
       "        var popup_912439ee98f1a55f5f59d8a50c2d1509 = L.popup({\n",
       "  &quot;maxWidth&quot;: &quot;100%&quot;,\n",
       "});\n",
       "\n",
       "        \n",
       "            \n",
       "                var html_d2bcfb29f456bcb1b6bea0967c876939 = $(`&lt;div id=&quot;html_d2bcfb29f456bcb1b6bea0967c876939&quot; style=&quot;width: 100.0%; height: 100.0%;&quot;&gt;Wikidata: &lt;a target=&#x27;_blank&#x27; href=&#x27;http://www.wikidata.org/entity/Q2782982&#x27;&gt;Arras Memorial&lt;/div&gt;`)[0];\n",
       "                popup_912439ee98f1a55f5f59d8a50c2d1509.setContent(html_d2bcfb29f456bcb1b6bea0967c876939);\n",
       "            \n",
       "        \n",
       "\n",
       "        marker_44bd141b43718fdf4a3e0e56c508fab3.bindPopup(popup_912439ee98f1a55f5f59d8a50c2d1509)\n",
       "        ;\n",
       "\n",
       "        \n",
       "    \n",
       "    \n",
       "                marker_44bd141b43718fdf4a3e0e56c508fab3.setIcon(icon_2cfa365e5723ac5ce773711ed8d36c23);\n",
       "            \n",
       "    \n",
       "            var marker_005be96ae9df6f025e8a36e89a18375d = L.marker(\n",
       "                [47.21629, 0.06218],\n",
       "                {\n",
       "}\n",
       "            ).addTo(map_39b30f824f1c1c5b43bfbee761251e52);\n",
       "        \n",
       "    \n",
       "            var icon_08263d1ca96021aab4fe5321dcf00618 = L.AwesomeMarkers.icon(\n",
       "                {\n",
       "  &quot;markerColor&quot;: &quot;green&quot;,\n",
       "  &quot;iconColor&quot;: &quot;white&quot;,\n",
       "  &quot;icon&quot;: &quot;info-sign&quot;,\n",
       "  &quot;prefix&quot;: &quot;glyphicon&quot;,\n",
       "  &quot;extraClasses&quot;: &quot;fa-rotate-0&quot;,\n",
       "}\n",
       "            );\n",
       "        \n",
       "    \n",
       "        var popup_81da4259a348c0c7ce2a4a9f2761c115 = L.popup({\n",
       "  &quot;maxWidth&quot;: &quot;100%&quot;,\n",
       "});\n",
       "\n",
       "        \n",
       "            \n",
       "                var html_8d7c0644479b7cd677629de92b7d24d8 = $(`&lt;div id=&quot;html_8d7c0644479b7cd677629de92b7d24d8&quot; style=&quot;width: 100.0%; height: 100.0%;&quot;&gt;Wikidata: &lt;a target=&#x27;_blank&#x27; href=&#x27;http://www.wikidata.org/entity/Q2789507&#x27;&gt;The Loire Valley between Sully-sur-Loire and Chalonnes&lt;/div&gt;`)[0];\n",
       "                popup_81da4259a348c0c7ce2a4a9f2761c115.setContent(html_8d7c0644479b7cd677629de92b7d24d8);\n",
       "            \n",
       "        \n",
       "\n",
       "        marker_005be96ae9df6f025e8a36e89a18375d.bindPopup(popup_81da4259a348c0c7ce2a4a9f2761c115)\n",
       "        ;\n",
       "\n",
       "        \n",
       "    \n",
       "    \n",
       "                marker_005be96ae9df6f025e8a36e89a18375d.setIcon(icon_08263d1ca96021aab4fe5321dcf00618);\n",
       "            \n",
       "&lt;/script&gt;\n",
       "&lt;/html&gt;\" style=\"position:absolute;width:100%;height:100%;left:0;top:0;border:none !important;\" allowfullscreen webkitallowfullscreen mozallowfullscreen></iframe></div></div>"
      ],
      "text/plain": [
       "<folium.folium.Map at 0x169892b4090>"
      ]
     },
     "execution_count": 26,
     "metadata": {},
     "output_type": "execute_result"
    }
   ],
   "source": [
    "i = 0\n",
    "for coordinates in geo_df_list:\n",
    "    map.add_child(\n",
    "        folium.Marker(\n",
    "            location=coordinates,\n",
    "            icon=folium.Icon(color=\"green\"),\n",
    "            popup=\"Wikidata: <a target='_blank' href='\"\n",
    "            + str(geodataframe.ID[i])\n",
    "            + \"'>\"\n",
    "            + str(geodataframe.label[i]),\n",
    "        )\n",
    "    )\n",
    "    i = i + 1\n",
    "\n",
    "map"
   ]
  },
  {
   "cell_type": "code",
   "execution_count": null,
   "id": "44de8dde-35bd-41da-8b9a-208b4e99d303",
   "metadata": {},
   "outputs": [],
   "source": []
  }
 ],
 "metadata": {
  "kernelspec": {
   "display_name": "Python 3",
   "language": "python",
   "name": "python3"
  },
  "language_info": {
   "codemirror_mode": {
    "name": "ipython",
    "version": 3
   },
   "file_extension": ".py",
   "mimetype": "text/x-python",
   "name": "python",
   "nbconvert_exporter": "python",
   "pygments_lexer": "ipython3",
   "version": "3.11.9"
  },
  "toc-autonumbering": true,
  "toc-showmarkdowntxt": true
 },
 "nbformat": 4,
 "nbformat_minor": 5
}
