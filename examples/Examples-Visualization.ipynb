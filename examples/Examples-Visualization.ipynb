{
 "cells": [
  {
   "cell_type": "code",
   "execution_count": 2,
   "id": "eb959427",
   "metadata": {},
   "outputs": [],
   "source": [
    "import urllib.request\n",
    "import json\n",
    "import pandas as pd\n",
    "\n",
    "propertyid = \"Property:P856\"\n",
    "url = (\n",
    "    \"https://www.wikidata.org/w/api.php?action=query&prop=revisions&titles=\"\n",
    "    + propertyid\n",
    "    + \"&rvprop=timestamp|comment|ids&rvlimit=500&format=json\"\n",
    ")\n",
    "response = urllib.request.urlopen(url)\n",
    "responsedata = json.loads(response.read().decode(\"utf-8\"))"
   ]
  },
  {
   "cell_type": "code",
   "execution_count": 3,
   "id": "448ded27",
   "metadata": {},
   "outputs": [
    {
     "name": "stdout",
     "output_type": "stream",
     "text": [
      "dict_keys(['revid', 'parentid', 'timestamp', 'comment'])\n"
     ]
    }
   ],
   "source": [
    "array = []\n",
    "\n",
    "for data in responsedata[\"query\"][\"pages\"]:\n",
    "    for revision in responsedata[\"query\"][\"pages\"][data][\"revisions\"]:\n",
    "        print(revision.keys())\n",
    "        break"
   ]
  },
  {
   "cell_type": "code",
   "execution_count": 4,
   "id": "c3b5ad42-bc2f-488d-9c83-f576a437155b",
   "metadata": {},
   "outputs": [
    {
     "data": {
      "text/plain": [
       "dict_keys(['revid', 'parentid', 'timestamp', 'comment'])"
      ]
     },
     "execution_count": 4,
     "metadata": {},
     "output_type": "execute_result"
    }
   ],
   "source": [
    "result = list(responsedata[\"query\"][\"pages\"].values())[0]\n",
    "revisions = result[\"revisions\"]\n",
    "revision = result[\"revisions\"][0].keys()\n",
    "revision"
   ]
  },
  {
   "cell_type": "code",
   "execution_count": 5,
   "id": "04087b61",
   "metadata": {},
   "outputs": [],
   "source": [
    "array = []\n",
    "\n",
    "for revision in revisions:\n",
    "    array.append([revision[\"timestamp\"], revision[\"comment\"]])"
   ]
  },
  {
   "cell_type": "code",
   "execution_count": 6,
   "id": "d30e6fa3",
   "metadata": {},
   "outputs": [
    {
     "data": {
      "text/plain": [
       "[['2025-05-10T11:51:46Z',\n",
       "  '/* wbsetclaim-update:2||1|2 */ [[Property:P2302]]: [[Q21502404]]']]"
      ]
     },
     "execution_count": 6,
     "metadata": {},
     "output_type": "execute_result"
    }
   ],
   "source": [
    "array[:1]"
   ]
  },
  {
   "cell_type": "code",
   "execution_count": 7,
   "id": "f4aafcfa",
   "metadata": {},
   "outputs": [
    {
     "data": {
      "application/vnd.microsoft.datawrangler.viewer.v0+json": {
       "columns": [
        {
         "name": "index",
         "rawType": "int64",
         "type": "integer"
        },
        {
         "name": "timestamp",
         "rawType": "datetime64[ns]",
         "type": "datetime"
        },
        {
         "name": "modification",
         "rawType": "object",
         "type": "string"
        }
       ],
       "conversionMethod": "pd.DataFrame",
       "ref": "b3617847-6d38-49eb-934c-54d52c261de6",
       "rows": [
        [
         "0",
         "2025-05-10 00:00:00",
         "/* wbsetclaim-update:2||1|2 */ [[Property:P2302]]: [[Q21502404]]"
        ],
        [
         "1",
         "2025-05-10 00:00:00",
         "/* wbsetclaim-update:2||1|2 */ [[Property:P2302]]: [[Q21502404]]"
        ],
        [
         "2",
         "2025-05-07 00:00:00",
         "/* wbsetclaim-update:2||1|2 */ [[Property:P2302]]: [[Q21502404]]"
        ],
        [
         "3",
         "2025-05-07 00:00:00",
         "/* wbsetclaim-update:2||1|5 */ [[Property:P2302]]: [[Q21502404]]"
        ],
        [
         "4",
         "2025-05-07 00:00:00",
         "/* wbsetclaim-update:2||1|3 */ [[Property:P2302]]: [[Q21502404]]"
        ],
        [
         "5",
         "2025-05-07 00:00:00",
         "/* wbsetclaim-update:2||1|3 */ [[Property:P2302]]: [[Q21502404]]"
        ],
        [
         "6",
         "2025-05-07 00:00:00",
         "/* wbsetclaim-update:2||1|9 */ [[Property:P2302]]: [[Q21502404]]"
        ],
        [
         "7",
         "2025-05-07 00:00:00",
         "/* wbsetclaim-update:2||1|6 */ [[Property:P2302]]: [[Q21502404]]"
        ],
        [
         "8",
         "2025-05-07 00:00:00",
         "/* wbsetclaim-update:2||1|9 */ [[Property:P2302]]: [[Q52060874]]"
        ],
        [
         "9",
         "2025-05-07 00:00:00",
         "/* undo:0||2345687272|Gymnicus */"
        ],
        [
         "10",
         "2025-05-07 00:00:00",
         "/* wbsetclaim-update:2||1|227 */ [[Property:P2302]]: [[Q21502410]]"
        ],
        [
         "11",
         "2025-05-07 00:00:00",
         "/* restore:0||2344805336|Этот месяц */"
        ],
        [
         "12",
         "2025-05-07 00:00:00",
         "/* wbsetaliases-update:15|de */ Webseite, Internetauftritt, URL, Webadresse, Internetadresse, Webpräsenz, offizielle Webseite, Website, Homepage, offizielle Homepage, Website (offiziell), Webseite (offiziell), Site (offiziell), Seite (offiziell), offizielle Website"
        ],
        [
         "13",
         "2025-05-07 00:00:00",
         "/* wbsetlabel-set:1|de */ Internetseite"
        ],
        [
         "14",
         "2025-05-05 00:00:00",
         "/* wbremoveclaims-remove:1| */ [[Property:P1629]]: [[Q11439]]"
        ],
        [
         "15",
         "2025-05-05 00:00:00",
         "/* wbremoveclaims-remove:1| */ [[Property:P1552]]: [[Q29509043]]"
        ],
        [
         "16",
         "2025-05-04 00:00:00",
         "/* wbsetlabel-set:1|tly */ rəsmi sajt"
        ],
        [
         "17",
         "2025-04-20 00:00:00",
         "/* wbsetclaim-update:2||1|9 */ [[Property:P2302]]: [[Q21502410]]"
        ],
        [
         "18",
         "2025-04-20 00:00:00",
         "/* wbsetclaim-update:2||1|9 */ [[Property:P2302]]: [[Q21502410]]"
        ],
        [
         "19",
         "2025-04-20 00:00:00",
         "/* wbsetlabel-add:1|ami */ no kapolongan a calay"
        ],
        [
         "20",
         "2025-04-17 00:00:00",
         "/* wbsetdescription-set:1|tok */ lipu li tan ijo ni li toki e ona"
        ],
        [
         "21",
         "2025-03-22 00:00:00",
         "/* wbsetclaim-update:2||1|10 */ [[Property:P2302]]: [[Q21502410]]"
        ],
        [
         "22",
         "2025-03-22 00:00:00",
         "/* wbsetclaim-update:2||1|10 */ [[Property:P2302]]: [[Q21502410]]"
        ],
        [
         "23",
         "2025-03-21 00:00:00",
         "/* wbsetclaim-update:2||1|10 */ [[Property:P2302]]: [[Q21502410]]"
        ],
        [
         "24",
         "2025-03-21 00:00:00",
         "/* wbsetclaim-update:2||1|10 */ [[Property:P2302]]: [[Q21502410]]"
        ],
        [
         "25",
         "2025-03-18 00:00:00",
         "/* wbsetaliases-add:1|mk */ мрежно место"
        ],
        [
         "26",
         "2025-03-16 00:00:00",
         "/* wbsetclaim-update:2||1|10 */ [[Property:P2302]]: [[Q21502410]]"
        ],
        [
         "27",
         "2025-03-16 00:00:00",
         "/* wbsetclaim-update:2||1|10 */ [[Property:P2302]]: [[Q21502410]]"
        ],
        [
         "28",
         "2025-03-16 00:00:00",
         "/* wbsetclaim-update:2||1|10 */ [[Property:P2302]]: [[Q21502410]]"
        ],
        [
         "29",
         "2025-03-13 00:00:00",
         "/* wbsetclaim-create:2||1 */ [[Property:P1855]]: [[Q383541]]"
        ],
        [
         "30",
         "2025-03-02 00:00:00",
         "/* wbsetdescription-set:1|hu */ az elem hivatalos weboldalának URL-je (jelenlegi vagy korábbi); ha változik a hivatalos weboldal, add hozzá az újat is preferált ranggal"
        ],
        [
         "31",
         "2025-02-19 00:00:00",
         "/* wbsetclaim-update:2||1|10 */ [[Property:P2302]]: [[Q21502410]]"
        ],
        [
         "32",
         "2025-02-11 00:00:00",
         "/* wbsetaliases-remove:1|en-gb */ official homepage"
        ],
        [
         "33",
         "2025-02-11 00:00:00",
         "/* wbsetaliases-remove:9|en-ca */ website, home page, web site, official web site, official url, url, homepage, official page, web address"
        ],
        [
         "34",
         "2025-02-11 00:00:00",
         "/* wbsetdescription-remove:1|en-gb */ URL of the official homepage of an item (current or former) [if the homepage changes, add an additional statement with preferred rank. Do not remove the former URL]"
        ],
        [
         "35",
         "2025-02-11 00:00:00",
         "/* wbsetdescription-remove:1|en-ca */ URL of the official homepage of the item"
        ],
        [
         "36",
         "2025-02-11 00:00:00",
         "/* wbsetlabel-remove:1|en-ca */ official website"
        ],
        [
         "37",
         "2025-02-11 00:00:00",
         "/* wbsetlabel-remove:1|en-gb */ official website"
        ],
        [
         "38",
         "2025-01-31 00:00:00",
         "/* wbsetclaim-update:2||1|10 */ [[Property:P2302]]: [[Q21502410]]"
        ],
        [
         "39",
         "2025-01-02 00:00:00",
         "/* wbsetaliases-add:1|mk */ официјално мрежно место"
        ],
        [
         "40",
         "2024-12-30 00:00:00",
         "/* wbsetclaim-create:2||1 */ [[Property:P2559]]: Para sitios WMF activos, utiliza P4174."
        ],
        [
         "41",
         "2024-12-30 00:00:00",
         "/* wbsetclaim-update:2||1 */ [[Property:P2559]]: Si una página oficial cambia, agrega una declaración adicional con la clasificación \"preferida\". No elimines la URL anterior."
        ],
        [
         "42",
         "2024-12-30 00:00:00",
         "/* wbsetclaim-update:2||1 */ [[Property:P2559]]: Si cambia una página de inicio oficial, agrega una declaración adicional con la clasificación \"preferida\". No elimines la URL anterior."
        ],
        [
         "43",
         "2024-12-30 00:00:00",
         "/* wbsetaliases-add:2|tok */ lipu ona pi ma ilo, lipu linluwi"
        ],
        [
         "44",
         "2024-12-30 00:00:00",
         "/* wbsetdescription-set:1|tok */ lipu li tan ijo ni li toki taso ala e ona"
        ],
        [
         "45",
         "2024-12-30 00:00:00",
         "/* wbsetlabel-set:1|tok */ lipu pi ma ilo"
        ],
        [
         "46",
         "2024-12-24 00:00:00",
         "/* wbsetclaim-create:2||1 */ [[Property:P1659]]: [[Property:P8934]]"
        ],
        [
         "47",
         "2024-12-24 00:00:00",
         "/* wbsetclaim-create:2||1 */ [[Property:P1659]]: [[Property:P4290]]"
        ],
        [
         "48",
         "2024-12-24 00:00:00",
         "/* wbsetclaim-create:2||1 */ [[Property:P1659]]: [[Property:P9549]]"
        ],
        [
         "49",
         "2024-12-24 00:00:00",
         "/* wbsetclaim-create:2||1 */ [[Property:P1659]]: [[Property:P2078]]"
        ]
       ],
       "shape": {
        "columns": 2,
        "rows": 500
       }
      },
      "text/html": [
       "<div>\n",
       "<style scoped>\n",
       "    .dataframe tbody tr th:only-of-type {\n",
       "        vertical-align: middle;\n",
       "    }\n",
       "\n",
       "    .dataframe tbody tr th {\n",
       "        vertical-align: top;\n",
       "    }\n",
       "\n",
       "    .dataframe thead th {\n",
       "        text-align: right;\n",
       "    }\n",
       "</style>\n",
       "<table border=\"1\" class=\"dataframe\">\n",
       "  <thead>\n",
       "    <tr style=\"text-align: right;\">\n",
       "      <th></th>\n",
       "      <th>timestamp</th>\n",
       "      <th>modification</th>\n",
       "    </tr>\n",
       "  </thead>\n",
       "  <tbody>\n",
       "    <tr>\n",
       "      <th>0</th>\n",
       "      <td>2025-05-10</td>\n",
       "      <td>/* wbsetclaim-update:2||1|2 */ [[Property:P230...</td>\n",
       "    </tr>\n",
       "    <tr>\n",
       "      <th>1</th>\n",
       "      <td>2025-05-10</td>\n",
       "      <td>/* wbsetclaim-update:2||1|2 */ [[Property:P230...</td>\n",
       "    </tr>\n",
       "    <tr>\n",
       "      <th>2</th>\n",
       "      <td>2025-05-07</td>\n",
       "      <td>/* wbsetclaim-update:2||1|2 */ [[Property:P230...</td>\n",
       "    </tr>\n",
       "    <tr>\n",
       "      <th>3</th>\n",
       "      <td>2025-05-07</td>\n",
       "      <td>/* wbsetclaim-update:2||1|5 */ [[Property:P230...</td>\n",
       "    </tr>\n",
       "    <tr>\n",
       "      <th>4</th>\n",
       "      <td>2025-05-07</td>\n",
       "      <td>/* wbsetclaim-update:2||1|3 */ [[Property:P230...</td>\n",
       "    </tr>\n",
       "    <tr>\n",
       "      <th>...</th>\n",
       "      <td>...</td>\n",
       "      <td>...</td>\n",
       "    </tr>\n",
       "    <tr>\n",
       "      <th>495</th>\n",
       "      <td>2021-03-26</td>\n",
       "      <td>/* wbsetaliases-add:3|bs */ službeni sajt, zva...</td>\n",
       "    </tr>\n",
       "    <tr>\n",
       "      <th>496</th>\n",
       "      <td>2021-03-26</td>\n",
       "      <td>/* wbsetdescription-add:1|bs */ URL zvanične p...</td>\n",
       "    </tr>\n",
       "    <tr>\n",
       "      <th>497</th>\n",
       "      <td>2021-03-26</td>\n",
       "      <td>/* wbsetlabel-set:1|bs */ zvanični sajt</td>\n",
       "    </tr>\n",
       "    <tr>\n",
       "      <th>498</th>\n",
       "      <td>2021-03-10</td>\n",
       "      <td>/* wbsetclaim-update:2||1|2 */ [[Property:P230...</td>\n",
       "    </tr>\n",
       "    <tr>\n",
       "      <th>499</th>\n",
       "      <td>2021-03-10</td>\n",
       "      <td>/* wbsetclaim-update:2||1|2 */ [[Property:P230...</td>\n",
       "    </tr>\n",
       "  </tbody>\n",
       "</table>\n",
       "<p>500 rows × 2 columns</p>\n",
       "</div>"
      ],
      "text/plain": [
       "     timestamp                                       modification\n",
       "0   2025-05-10  /* wbsetclaim-update:2||1|2 */ [[Property:P230...\n",
       "1   2025-05-10  /* wbsetclaim-update:2||1|2 */ [[Property:P230...\n",
       "2   2025-05-07  /* wbsetclaim-update:2||1|2 */ [[Property:P230...\n",
       "3   2025-05-07  /* wbsetclaim-update:2||1|5 */ [[Property:P230...\n",
       "4   2025-05-07  /* wbsetclaim-update:2||1|3 */ [[Property:P230...\n",
       "..         ...                                                ...\n",
       "495 2021-03-26  /* wbsetaliases-add:3|bs */ službeni sajt, zva...\n",
       "496 2021-03-26  /* wbsetdescription-add:1|bs */ URL zvanične p...\n",
       "497 2021-03-26            /* wbsetlabel-set:1|bs */ zvanični sajt\n",
       "498 2021-03-10  /* wbsetclaim-update:2||1|2 */ [[Property:P230...\n",
       "499 2021-03-10  /* wbsetclaim-update:2||1|2 */ [[Property:P230...\n",
       "\n",
       "[500 rows x 2 columns]"
      ]
     },
     "execution_count": 7,
     "metadata": {},
     "output_type": "execute_result"
    }
   ],
   "source": [
    "dataframe = pd.DataFrame(array, columns=[\"timestamp\", \"modification\"])\n",
    "dataframe['timestamp'] = pd.to_datetime(dataframe['timestamp'], format='%Y-%m-%dT%H:%M:%SZ')\n",
    "dataframe = dataframe.astype(\n",
    "    dtype={\"modification\": \"<U1000\"}\n",
    ")\n",
    "\n",
    "dataframe[\"timestamp\"] = pd.to_datetime(\n",
    "    dataframe[\"timestamp\"],\n",
    "    format=\"%d/%m/%Y\",\n",
    "    unit=\"D\",\n",
    "    errors=\"raise\",\n",
    ").dt.normalize()\n",
    "dataframe"
   ]
  },
  {
   "cell_type": "code",
   "execution_count": 8,
   "id": "023886eb",
   "metadata": {},
   "outputs": [
    {
     "data": {
      "application/vnd.microsoft.datawrangler.viewer.v0+json": {
       "columns": [
        {
         "name": "index",
         "rawType": "int64",
         "type": "integer"
        },
        {
         "name": "timestamp",
         "rawType": "datetime64[ns]",
         "type": "datetime"
        },
        {
         "name": "modification",
         "rawType": "int64",
         "type": "integer"
        }
       ],
       "conversionMethod": "pd.DataFrame",
       "ref": "7b5a65c3-c021-4c31-8e5f-96204f077ad0",
       "rows": [
        [
         "0",
         "2021-03-10 00:00:00",
         "2"
        ],
        [
         "1",
         "2021-03-26 00:00:00",
         "3"
        ],
        [
         "2",
         "2021-03-30 00:00:00",
         "1"
        ],
        [
         "3",
         "2021-04-03 00:00:00",
         "2"
        ],
        [
         "4",
         "2021-04-08 00:00:00",
         "1"
        ],
        [
         "5",
         "2021-04-09 00:00:00",
         "2"
        ],
        [
         "6",
         "2021-04-13 00:00:00",
         "1"
        ],
        [
         "7",
         "2021-04-27 00:00:00",
         "1"
        ],
        [
         "8",
         "2021-05-01 00:00:00",
         "1"
        ],
        [
         "9",
         "2021-05-10 00:00:00",
         "1"
        ],
        [
         "10",
         "2021-05-14 00:00:00",
         "1"
        ],
        [
         "11",
         "2021-05-16 00:00:00",
         "3"
        ],
        [
         "12",
         "2021-05-23 00:00:00",
         "2"
        ],
        [
         "13",
         "2021-05-24 00:00:00",
         "1"
        ],
        [
         "14",
         "2021-06-22 00:00:00",
         "1"
        ],
        [
         "15",
         "2021-07-08 00:00:00",
         "3"
        ],
        [
         "16",
         "2021-07-10 00:00:00",
         "3"
        ],
        [
         "17",
         "2021-07-16 00:00:00",
         "4"
        ],
        [
         "18",
         "2021-07-20 00:00:00",
         "8"
        ],
        [
         "19",
         "2021-07-29 00:00:00",
         "1"
        ],
        [
         "20",
         "2021-07-31 00:00:00",
         "1"
        ],
        [
         "21",
         "2021-08-09 00:00:00",
         "2"
        ],
        [
         "22",
         "2021-08-11 00:00:00",
         "4"
        ],
        [
         "23",
         "2021-08-16 00:00:00",
         "22"
        ],
        [
         "24",
         "2021-08-18 00:00:00",
         "1"
        ],
        [
         "25",
         "2021-08-22 00:00:00",
         "1"
        ],
        [
         "26",
         "2021-08-28 00:00:00",
         "1"
        ],
        [
         "27",
         "2021-09-27 00:00:00",
         "1"
        ],
        [
         "28",
         "2021-10-11 00:00:00",
         "1"
        ],
        [
         "29",
         "2021-10-12 00:00:00",
         "1"
        ],
        [
         "30",
         "2021-10-28 00:00:00",
         "2"
        ],
        [
         "31",
         "2021-10-31 00:00:00",
         "1"
        ],
        [
         "32",
         "2021-11-10 00:00:00",
         "1"
        ],
        [
         "33",
         "2021-11-16 00:00:00",
         "1"
        ],
        [
         "34",
         "2021-11-19 00:00:00",
         "1"
        ],
        [
         "35",
         "2021-11-25 00:00:00",
         "1"
        ],
        [
         "36",
         "2021-12-15 00:00:00",
         "13"
        ],
        [
         "37",
         "2021-12-16 00:00:00",
         "2"
        ],
        [
         "38",
         "2021-12-22 00:00:00",
         "3"
        ],
        [
         "39",
         "2021-12-24 00:00:00",
         "1"
        ],
        [
         "40",
         "2021-12-30 00:00:00",
         "2"
        ],
        [
         "41",
         "2022-01-01 00:00:00",
         "1"
        ],
        [
         "42",
         "2022-01-10 00:00:00",
         "2"
        ],
        [
         "43",
         "2022-01-24 00:00:00",
         "2"
        ],
        [
         "44",
         "2022-01-31 00:00:00",
         "1"
        ],
        [
         "45",
         "2022-02-01 00:00:00",
         "2"
        ],
        [
         "46",
         "2022-02-08 00:00:00",
         "1"
        ],
        [
         "47",
         "2022-02-10 00:00:00",
         "1"
        ],
        [
         "48",
         "2022-02-16 00:00:00",
         "1"
        ],
        [
         "49",
         "2022-02-27 00:00:00",
         "1"
        ]
       ],
       "shape": {
        "columns": 2,
        "rows": 230
       }
      },
      "text/html": [
       "<div>\n",
       "<style scoped>\n",
       "    .dataframe tbody tr th:only-of-type {\n",
       "        vertical-align: middle;\n",
       "    }\n",
       "\n",
       "    .dataframe tbody tr th {\n",
       "        vertical-align: top;\n",
       "    }\n",
       "\n",
       "    .dataframe thead th {\n",
       "        text-align: right;\n",
       "    }\n",
       "</style>\n",
       "<table border=\"1\" class=\"dataframe\">\n",
       "  <thead>\n",
       "    <tr style=\"text-align: right;\">\n",
       "      <th></th>\n",
       "      <th>timestamp</th>\n",
       "      <th>modification</th>\n",
       "    </tr>\n",
       "  </thead>\n",
       "  <tbody>\n",
       "    <tr>\n",
       "      <th>0</th>\n",
       "      <td>2021-03-10</td>\n",
       "      <td>2</td>\n",
       "    </tr>\n",
       "    <tr>\n",
       "      <th>1</th>\n",
       "      <td>2021-03-26</td>\n",
       "      <td>3</td>\n",
       "    </tr>\n",
       "    <tr>\n",
       "      <th>2</th>\n",
       "      <td>2021-03-30</td>\n",
       "      <td>1</td>\n",
       "    </tr>\n",
       "    <tr>\n",
       "      <th>3</th>\n",
       "      <td>2021-04-03</td>\n",
       "      <td>2</td>\n",
       "    </tr>\n",
       "    <tr>\n",
       "      <th>4</th>\n",
       "      <td>2021-04-08</td>\n",
       "      <td>1</td>\n",
       "    </tr>\n",
       "    <tr>\n",
       "      <th>...</th>\n",
       "      <td>...</td>\n",
       "      <td>...</td>\n",
       "    </tr>\n",
       "    <tr>\n",
       "      <th>225</th>\n",
       "      <td>2025-04-20</td>\n",
       "      <td>3</td>\n",
       "    </tr>\n",
       "    <tr>\n",
       "      <th>226</th>\n",
       "      <td>2025-05-04</td>\n",
       "      <td>1</td>\n",
       "    </tr>\n",
       "    <tr>\n",
       "      <th>227</th>\n",
       "      <td>2025-05-05</td>\n",
       "      <td>2</td>\n",
       "    </tr>\n",
       "    <tr>\n",
       "      <th>228</th>\n",
       "      <td>2025-05-07</td>\n",
       "      <td>12</td>\n",
       "    </tr>\n",
       "    <tr>\n",
       "      <th>229</th>\n",
       "      <td>2025-05-10</td>\n",
       "      <td>2</td>\n",
       "    </tr>\n",
       "  </tbody>\n",
       "</table>\n",
       "<p>230 rows × 2 columns</p>\n",
       "</div>"
      ],
      "text/plain": [
       "     timestamp  modification\n",
       "0   2021-03-10             2\n",
       "1   2021-03-26             3\n",
       "2   2021-03-30             1\n",
       "3   2021-04-03             2\n",
       "4   2021-04-08             1\n",
       "..         ...           ...\n",
       "225 2025-04-20             3\n",
       "226 2025-05-04             1\n",
       "227 2025-05-05             2\n",
       "228 2025-05-07            12\n",
       "229 2025-05-10             2\n",
       "\n",
       "[230 rows x 2 columns]"
      ]
     },
     "execution_count": 8,
     "metadata": {},
     "output_type": "execute_result"
    }
   ],
   "source": [
    "group = dataframe.groupby(\"timestamp\").agg(\"count\").reset_index()\n",
    "group"
   ]
  },
  {
   "cell_type": "code",
   "execution_count": 9,
   "id": "bf0219c3",
   "metadata": {},
   "outputs": [
    {
     "data": {
      "application/vnd.microsoft.datawrangler.viewer.v0+json": {
       "columns": [
        {
         "name": "index",
         "rawType": "object",
         "type": "string"
        },
        {
         "name": "timestamp",
         "rawType": "object",
         "type": "unknown"
        },
        {
         "name": "modification",
         "rawType": "float64",
         "type": "float"
        }
       ],
       "conversionMethod": "pd.DataFrame",
       "ref": "82d7bf81-831c-437f-9d1b-092420f008df",
       "rows": [
        [
         "count",
         "230",
         "230.0"
        ],
        [
         "mean",
         "2023-04-13 10:51:07.826086912",
         "2.1739130434782608"
        ],
        [
         "min",
         "2021-03-10 00:00:00",
         "1.0"
        ],
        [
         "25%",
         "2022-06-04 12:00:00",
         "1.0"
        ],
        [
         "50%",
         "2023-03-02 12:00:00",
         "1.0"
        ],
        [
         "75%",
         "2024-03-16 18:00:00",
         "2.0"
        ],
        [
         "max",
         "2025-05-10 00:00:00",
         "64.0"
        ],
        [
         "std",
         null,
         "4.586406475577341"
        ]
       ],
       "shape": {
        "columns": 2,
        "rows": 8
       }
      },
      "text/html": [
       "<div>\n",
       "<style scoped>\n",
       "    .dataframe tbody tr th:only-of-type {\n",
       "        vertical-align: middle;\n",
       "    }\n",
       "\n",
       "    .dataframe tbody tr th {\n",
       "        vertical-align: top;\n",
       "    }\n",
       "\n",
       "    .dataframe thead th {\n",
       "        text-align: right;\n",
       "    }\n",
       "</style>\n",
       "<table border=\"1\" class=\"dataframe\">\n",
       "  <thead>\n",
       "    <tr style=\"text-align: right;\">\n",
       "      <th></th>\n",
       "      <th>timestamp</th>\n",
       "      <th>modification</th>\n",
       "    </tr>\n",
       "  </thead>\n",
       "  <tbody>\n",
       "    <tr>\n",
       "      <th>count</th>\n",
       "      <td>230</td>\n",
       "      <td>230.000000</td>\n",
       "    </tr>\n",
       "    <tr>\n",
       "      <th>mean</th>\n",
       "      <td>2023-04-13 10:51:07.826086912</td>\n",
       "      <td>2.173913</td>\n",
       "    </tr>\n",
       "    <tr>\n",
       "      <th>min</th>\n",
       "      <td>2021-03-10 00:00:00</td>\n",
       "      <td>1.000000</td>\n",
       "    </tr>\n",
       "    <tr>\n",
       "      <th>25%</th>\n",
       "      <td>2022-06-04 12:00:00</td>\n",
       "      <td>1.000000</td>\n",
       "    </tr>\n",
       "    <tr>\n",
       "      <th>50%</th>\n",
       "      <td>2023-03-02 12:00:00</td>\n",
       "      <td>1.000000</td>\n",
       "    </tr>\n",
       "    <tr>\n",
       "      <th>75%</th>\n",
       "      <td>2024-03-16 18:00:00</td>\n",
       "      <td>2.000000</td>\n",
       "    </tr>\n",
       "    <tr>\n",
       "      <th>max</th>\n",
       "      <td>2025-05-10 00:00:00</td>\n",
       "      <td>64.000000</td>\n",
       "    </tr>\n",
       "    <tr>\n",
       "      <th>std</th>\n",
       "      <td>NaN</td>\n",
       "      <td>4.586406</td>\n",
       "    </tr>\n",
       "  </tbody>\n",
       "</table>\n",
       "</div>"
      ],
      "text/plain": [
       "                           timestamp  modification\n",
       "count                            230    230.000000\n",
       "mean   2023-04-13 10:51:07.826086912      2.173913\n",
       "min              2021-03-10 00:00:00      1.000000\n",
       "25%              2022-06-04 12:00:00      1.000000\n",
       "50%              2023-03-02 12:00:00      1.000000\n",
       "75%              2024-03-16 18:00:00      2.000000\n",
       "max              2025-05-10 00:00:00     64.000000\n",
       "std                              NaN      4.586406"
      ]
     },
     "execution_count": 9,
     "metadata": {},
     "output_type": "execute_result"
    }
   ],
   "source": [
    "group.describe()"
   ]
  },
  {
   "cell_type": "code",
   "execution_count": 10,
   "id": "2ac71c5d",
   "metadata": {},
   "outputs": [
    {
     "data": {
      "text/plain": [
       "timestamp       datetime64[ns]\n",
       "modification             int64\n",
       "dtype: object"
      ]
     },
     "execution_count": 10,
     "metadata": {},
     "output_type": "execute_result"
    }
   ],
   "source": [
    "group.dtypes"
   ]
  },
  {
   "cell_type": "code",
   "execution_count": 11,
   "id": "1a3b9b00",
   "metadata": {},
   "outputs": [
    {
     "data": {
      "text/plain": [
       "np.int64(64)"
      ]
     },
     "execution_count": 11,
     "metadata": {},
     "output_type": "execute_result"
    }
   ],
   "source": [
    "group.modification.max()"
   ]
  },
  {
   "cell_type": "code",
   "execution_count": 12,
   "id": "c3aa6857",
   "metadata": {},
   "outputs": [
    {
     "data": {
      "text/plain": [
       "np.int64(1)"
      ]
     },
     "execution_count": 12,
     "metadata": {},
     "output_type": "execute_result"
    }
   ],
   "source": [
    "group.modification.min()"
   ]
  },
  {
   "cell_type": "code",
   "execution_count": null,
   "id": "46afd8e8",
   "metadata": {},
   "outputs": [
    {
     "name": "stdout",
     "output_type": "stream",
     "text": [
      "Collecting calplot\n",
      "  Downloading calplot-0.1.7.5.tar.gz (132 kB)\n",
      "     ---------------------------------------- 0.0/132.3 kB ? eta -:--:--\n",
      "     --- ------------------------------------ 10.2/132.3 kB ? eta -:--:--\n",
      "     ----- ------------------------------- 20.5/132.3 kB 330.3 kB/s eta 0:00:01\n",
      "     ----------- ------------------------- 41.0/132.3 kB 330.3 kB/s eta 0:00:01\n",
      "     ----------------- ------------------- 61.4/132.3 kB 365.7 kB/s eta 0:00:01\n",
      "     ------------------------- ----------- 92.2/132.3 kB 438.1 kB/s eta 0:00:01\n",
      "     ------------------------------------ 132.3/132.3 kB 521.5 kB/s eta 0:00:00\n",
      "  Installing build dependencies: started\n",
      "  Installing build dependencies: finished with status 'done'\n",
      "  Getting requirements to build wheel: started\n",
      "  Getting requirements to build wheel: finished with status 'done'\n",
      "  Preparing metadata (pyproject.toml): started\n",
      "  Preparing metadata (pyproject.toml): finished with status 'done'\n",
      "Requirement already satisfied: matplotlib in c:\\python311\\lib\\site-packages (from calplot) (3.10.1)\n",
      "Requirement already satisfied: numpy in c:\\python311\\lib\\site-packages (from calplot) (2.1.1)\n",
      "Requirement already satisfied: pandas>=1 in c:\\python311\\lib\\site-packages (from calplot) (2.2.3)\n",
      "Requirement already satisfied: python-dateutil>=2.8.2 in c:\\users\\mlecj\\appdata\\roaming\\python\\python311\\site-packages (from pandas>=1->calplot) (2.9.0.post0)\n",
      "Requirement already satisfied: pytz>=2020.1 in c:\\python311\\lib\\site-packages (from pandas>=1->calplot) (2024.2)\n",
      "Requirement already satisfied: tzdata>=2022.7 in c:\\python311\\lib\\site-packages (from pandas>=1->calplot) (2024.2)\n",
      "Requirement already satisfied: contourpy>=1.0.1 in c:\\python311\\lib\\site-packages (from matplotlib->calplot) (1.3.1)\n",
      "Requirement already satisfied: cycler>=0.10 in c:\\python311\\lib\\site-packages (from matplotlib->calplot) (0.12.1)\n",
      "Requirement already satisfied: fonttools>=4.22.0 in c:\\python311\\lib\\site-packages (from matplotlib->calplot) (4.56.0)\n",
      "Requirement already satisfied: kiwisolver>=1.3.1 in c:\\python311\\lib\\site-packages (from matplotlib->calplot) (1.4.8)\n",
      "Requirement already satisfied: packaging>=20.0 in c:\\users\\mlecj\\appdata\\roaming\\python\\python311\\site-packages (from matplotlib->calplot) (24.0)\n",
      "Requirement already satisfied: pillow>=8 in c:\\python311\\lib\\site-packages (from matplotlib->calplot) (11.1.0)\n",
      "Requirement already satisfied: pyparsing>=2.3.1 in c:\\python311\\lib\\site-packages (from matplotlib->calplot) (3.2.1)\n",
      "Requirement already satisfied: six>=1.5 in c:\\users\\mlecj\\appdata\\roaming\\python\\python311\\site-packages (from python-dateutil>=2.8.2->pandas>=1->calplot) (1.16.0)\n",
      "Building wheels for collected packages: calplot\n",
      "  Building wheel for calplot (pyproject.toml): started\n",
      "  Building wheel for calplot (pyproject.toml): finished with status 'done'\n",
      "  Created wheel for calplot: filename=calplot-0.1.7.5-py3-none-any.whl size=8243 sha256=46e655328476003475bb30283354b580d24c6a84e61983b75e6fee82c456dd10\n",
      "  Stored in directory: c:\\users\\mlecj\\appdata\\local\\pip\\cache\\wheels\\ab\\5c\\33\\640389f9acbdab163ff290853439440627fffe75abab4347ad\n",
      "Successfully built calplot\n",
      "Installing collected packages: calplot\n",
      "Successfully installed calplot-0.1.7.5\n",
      "Note: you may need to restart the kernel to use updated packages.\n"
     ]
    }
   ],
   "source": [
    "#%pip install calplot"
   ]
  },
  {
   "cell_type": "code",
   "execution_count": 17,
   "id": "54ea33ad-ec86-4509-a055-832d184e0aed",
   "metadata": {},
   "outputs": [
    {
     "name": "stderr",
     "output_type": "stream",
     "text": [
      "findfont: Font family 'Helvetica' not found.\n",
      "findfont: Font family 'Helvetica' not found.\n",
      "findfont: Font family 'Helvetica' not found.\n",
      "findfont: Font family 'Helvetica' not found.\n",
      "findfont: Font family 'Helvetica' not found.\n",
      "findfont: Font family 'Helvetica' not found.\n"
     ]
    },
    {
     "data": {
      "text/plain": [
       "(<Figure size 1250x850 with 6 Axes>,\n",
       " array([<Axes: ylabel='2021'>, <Axes: ylabel='2022'>,\n",
       "        <Axes: ylabel='2023'>, <Axes: ylabel='2024'>,\n",
       "        <Axes: ylabel='2025'>], dtype=object))"
      ]
     },
     "execution_count": 17,
     "metadata": {},
     "output_type": "execute_result"
    },
    {
     "name": "stderr",
     "output_type": "stream",
     "text": [
      "findfont: Font family 'Helvetica' not found.\n",
      "findfont: Font family 'Helvetica' not found.\n",
      "findfont: Font family 'Helvetica' not found.\n",
      "findfont: Font family 'Helvetica' not found.\n",
      "findfont: Font family 'Helvetica' not found.\n",
      "findfont: Font family 'Helvetica' not found.\n",
      "findfont: Font family 'Helvetica' not found.\n",
      "findfont: Font family 'Helvetica' not found.\n",
      "findfont: Font family 'Helvetica' not found.\n",
      "findfont: Font family 'Helvetica' not found.\n",
      "findfont: Font family 'Helvetica' not found.\n",
      "findfont: Font family 'Helvetica' not found.\n",
      "findfont: Font family 'Helvetica' not found.\n",
      "findfont: Font family 'Helvetica' not found.\n",
      "findfont: Font family 'Helvetica' not found.\n",
      "findfont: Font family 'Helvetica' not found.\n"
     ]
    },
    {
     "data": {
      "image/png": "[encoded data removed]",
      "text/plain": [
       "<Figure size 1250x850 with 6 Axes>"
      ]
     },
     "metadata": {},
     "output_type": "display_data"
    }
   ],
   "source": [
    "import calplot\n",
    "\n",
    "days = group[\"timestamp\"]\n",
    "\n",
    "events = pd.Series(list(group[\"modification\"]), index=days)\n",
    "calplot.calplot(\n",
    "    events,\n",
    "    cmap=\"YlGn\",\n",
    "    yearlabel_kws={\"color\": \"black\"},\n",
    "    linewidth=0,\n",
    "    suptitle=\"Number of modifications per day (last 500)\",\n",
    ")"
   ]
  },
  {
   "cell_type": "code",
   "execution_count": null,
   "id": "1af2be56",
   "metadata": {},
   "outputs": [
    {
     "name": "stdout",
     "output_type": "stream",
     "text": [
      "Collecting plotlyNote: you may need to restart the kernel to use updated packages.\n",
      "\n",
      "  Downloading plotly-6.0.1-py3-none-any.whl.metadata (6.7 kB)\n",
      "Collecting narwhals>=1.15.1 (from plotly)\n",
      "  Downloading narwhals-1.39.0-py3-none-any.whl.metadata (11 kB)\n",
      "Requirement already satisfied: packaging in c:\\users\\mlecj\\appdata\\roaming\\python\\python311\\site-packages (from plotly) (24.0)\n",
      "Downloading plotly-6.0.1-py3-none-any.whl (14.8 MB)\n",
      "   ---------------------------------------- 0.0/14.8 MB ? eta -:--:--\n",
      "   ---------------------------------------- 0.0/14.8 MB ? eta -:--:--\n",
      "   ---------------------------------------- 0.1/14.8 MB 812.7 kB/s eta 0:00:19\n",
      "   ---------------------------------------- 0.2/14.8 MB 1.5 MB/s eta 0:00:10\n",
      "    --------------------------------------- 0.3/14.8 MB 1.9 MB/s eta 0:00:08\n",
      "   - -------------------------------------- 0.5/14.8 MB 2.2 MB/s eta 0:00:07\n",
      "   - -------------------------------------- 0.5/14.8 MB 2.0 MB/s eta 0:00:07\n",
      "   - -------------------------------------- 0.6/14.8 MB 2.1 MB/s eta 0:00:07\n",
      "   - -------------------------------------- 0.7/14.8 MB 2.0 MB/s eta 0:00:08\n",
      "   -- ------------------------------------- 0.8/14.8 MB 2.0 MB/s eta 0:00:07\n",
      "   -- ------------------------------------- 0.9/14.8 MB 2.1 MB/s eta 0:00:07\n",
      "   -- ------------------------------------- 1.0/14.8 MB 2.2 MB/s eta 0:00:07\n",
      "   --- ------------------------------------ 1.1/14.8 MB 2.1 MB/s eta 0:00:07\n",
      "   --- ------------------------------------ 1.2/14.8 MB 2.1 MB/s eta 0:00:07\n",
      "   --- ------------------------------------ 1.2/14.8 MB 2.0 MB/s eta 0:00:07\n",
      "   --- ------------------------------------ 1.3/14.8 MB 2.0 MB/s eta 0:00:07\n",
      "   --- ------------------------------------ 1.5/14.8 MB 2.1 MB/s eta 0:00:07\n",
      "   ---- ----------------------------------- 1.6/14.8 MB 2.1 MB/s eta 0:00:07\n",
      "   ---- ----------------------------------- 1.6/14.8 MB 2.0 MB/s eta 0:00:07\n",
      "   ---- ----------------------------------- 1.8/14.8 MB 2.1 MB/s eta 0:00:07\n",
      "   ----- ---------------------------------- 1.9/14.8 MB 2.1 MB/s eta 0:00:07\n",
      "   ----- ---------------------------------- 2.0/14.8 MB 2.1 MB/s eta 0:00:07\n",
      "   ----- ---------------------------------- 2.1/14.8 MB 2.1 MB/s eta 0:00:06\n",
      "   ----- ---------------------------------- 2.2/14.8 MB 2.1 MB/s eta 0:00:06\n",
      "   ------ --------------------------------- 2.3/14.8 MB 2.2 MB/s eta 0:00:06\n",
      "   ------ --------------------------------- 2.5/14.8 MB 2.2 MB/s eta 0:00:06\n",
      "   ------ --------------------------------- 2.6/14.8 MB 2.2 MB/s eta 0:00:06\n",
      "   ------- -------------------------------- 2.7/14.8 MB 2.2 MB/s eta 0:00:06\n",
      "   ------- -------------------------------- 2.8/14.8 MB 2.2 MB/s eta 0:00:06\n",
      "   ------- -------------------------------- 2.9/14.8 MB 2.2 MB/s eta 0:00:06\n",
      "   -------- ------------------------------- 3.0/14.8 MB 2.2 MB/s eta 0:00:06\n",
      "   -------- ------------------------------- 3.1/14.8 MB 2.2 MB/s eta 0:00:06\n",
      "   -------- ------------------------------- 3.1/14.8 MB 2.2 MB/s eta 0:00:06\n",
      "   -------- ------------------------------- 3.2/14.8 MB 2.1 MB/s eta 0:00:06\n",
      "   -------- ------------------------------- 3.3/14.8 MB 2.1 MB/s eta 0:00:06\n",
      "   --------- ------------------------------ 3.4/14.8 MB 2.1 MB/s eta 0:00:06\n",
      "   --------- ------------------------------ 3.5/14.8 MB 2.2 MB/s eta 0:00:06\n",
      "   --------- ------------------------------ 3.7/14.8 MB 2.2 MB/s eta 0:00:06\n",
      "   ---------- ----------------------------- 3.8/14.8 MB 2.2 MB/s eta 0:00:06\n",
      "   ---------- ----------------------------- 3.9/14.8 MB 2.2 MB/s eta 0:00:05\n",
      "   ---------- ----------------------------- 4.0/14.8 MB 2.2 MB/s eta 0:00:05\n",
      "   ----------- ---------------------------- 4.1/14.8 MB 2.2 MB/s eta 0:00:05\n",
      "   ----------- ---------------------------- 4.3/14.8 MB 2.2 MB/s eta 0:00:05\n",
      "   ----------- ---------------------------- 4.4/14.8 MB 2.2 MB/s eta 0:00:05\n",
      "   ------------ --------------------------- 4.5/14.8 MB 2.2 MB/s eta 0:00:05\n",
      "   ------------ --------------------------- 4.6/14.8 MB 2.2 MB/s eta 0:00:05\n",
      "   ------------ --------------------------- 4.7/14.8 MB 2.2 MB/s eta 0:00:05\n",
      "   ------------ --------------------------- 4.7/14.8 MB 2.2 MB/s eta 0:00:05\n",
      "   ------------ --------------------------- 4.8/14.8 MB 2.2 MB/s eta 0:00:05\n",
      "   ------------- -------------------------- 4.9/14.8 MB 2.2 MB/s eta 0:00:05\n",
      "   ------------- -------------------------- 5.0/14.8 MB 2.2 MB/s eta 0:00:05\n",
      "   ------------- -------------------------- 5.1/14.8 MB 2.2 MB/s eta 0:00:05\n",
      "   -------------- ------------------------- 5.3/14.8 MB 2.2 MB/s eta 0:00:05\n",
      "   -------------- ------------------------- 5.4/14.8 MB 2.2 MB/s eta 0:00:05\n",
      "   -------------- ------------------------- 5.5/14.8 MB 2.2 MB/s eta 0:00:05\n",
      "   --------------- ------------------------ 5.6/14.8 MB 2.2 MB/s eta 0:00:05\n",
      "   --------------- ------------------------ 5.7/14.8 MB 2.2 MB/s eta 0:00:05\n",
      "   --------------- ------------------------ 5.8/14.8 MB 2.2 MB/s eta 0:00:05\n",
      "   ---------------- ----------------------- 5.9/14.8 MB 2.2 MB/s eta 0:00:04\n",
      "   ---------------- ----------------------- 6.1/14.8 MB 2.2 MB/s eta 0:00:04\n",
      "   ---------------- ----------------------- 6.2/14.8 MB 2.3 MB/s eta 0:00:04\n",
      "   ---------------- ----------------------- 6.3/14.8 MB 2.3 MB/s eta 0:00:04\n",
      "   ----------------- ---------------------- 6.4/14.8 MB 2.3 MB/s eta 0:00:04\n",
      "   ----------------- ---------------------- 6.5/14.8 MB 2.3 MB/s eta 0:00:04\n",
      "   ----------------- ---------------------- 6.6/14.8 MB 2.3 MB/s eta 0:00:04\n",
      "   ------------------ --------------------- 6.7/14.8 MB 2.3 MB/s eta 0:00:04\n",
      "   ------------------ --------------------- 6.8/14.8 MB 2.3 MB/s eta 0:00:04\n",
      "   ------------------ --------------------- 7.0/14.8 MB 2.3 MB/s eta 0:00:04\n",
      "   ------------------- -------------------- 7.1/14.8 MB 2.3 MB/s eta 0:00:04\n",
      "   ------------------- -------------------- 7.2/14.8 MB 2.3 MB/s eta 0:00:04\n",
      "   ------------------- -------------------- 7.3/14.8 MB 2.3 MB/s eta 0:00:04\n",
      "   -------------------- ------------------- 7.4/14.8 MB 2.3 MB/s eta 0:00:04\n",
      "   -------------------- ------------------- 7.5/14.8 MB 2.3 MB/s eta 0:00:04\n",
      "   -------------------- ------------------- 7.6/14.8 MB 2.3 MB/s eta 0:00:04\n",
      "   -------------------- ------------------- 7.7/14.8 MB 2.3 MB/s eta 0:00:04\n",
      "   -------------------- ------------------- 7.8/14.8 MB 2.3 MB/s eta 0:00:04\n",
      "   --------------------- ------------------ 7.8/14.8 MB 2.2 MB/s eta 0:00:04\n",
      "   --------------------- ------------------ 7.9/14.8 MB 2.3 MB/s eta 0:00:04\n",
      "   --------------------- ------------------ 8.0/14.8 MB 2.3 MB/s eta 0:00:03\n",
      "   ---------------------- ----------------- 8.2/14.8 MB 2.3 MB/s eta 0:00:03\n",
      "   ---------------------- ----------------- 8.3/14.8 MB 2.3 MB/s eta 0:00:03\n",
      "   ---------------------- ----------------- 8.5/14.8 MB 2.3 MB/s eta 0:00:03\n",
      "   ----------------------- ---------------- 8.7/14.8 MB 2.3 MB/s eta 0:00:03\n",
      "   ----------------------- ---------------- 8.8/14.8 MB 2.3 MB/s eta 0:00:03\n",
      "   ------------------------ --------------- 8.9/14.8 MB 2.3 MB/s eta 0:00:03\n",
      "   ------------------------ --------------- 9.0/14.8 MB 2.3 MB/s eta 0:00:03\n",
      "   ------------------------ --------------- 9.1/14.8 MB 2.3 MB/s eta 0:00:03\n",
      "   ------------------------ --------------- 9.2/14.8 MB 2.3 MB/s eta 0:00:03\n",
      "   ------------------------- -------------- 9.3/14.8 MB 2.3 MB/s eta 0:00:03\n",
      "   ------------------------- -------------- 9.5/14.8 MB 2.3 MB/s eta 0:00:03\n",
      "   ------------------------- -------------- 9.6/14.8 MB 2.3 MB/s eta 0:00:03\n",
      "   -------------------------- ------------- 9.7/14.8 MB 2.3 MB/s eta 0:00:03\n",
      "   -------------------------- ------------- 9.8/14.8 MB 2.3 MB/s eta 0:00:03\n",
      "   -------------------------- ------------- 9.9/14.8 MB 2.3 MB/s eta 0:00:03\n",
      "   --------------------------- ------------ 10.0/14.8 MB 2.3 MB/s eta 0:00:03\n",
      "   --------------------------- ------------ 10.1/14.8 MB 2.3 MB/s eta 0:00:03\n",
      "   --------------------------- ------------ 10.3/14.8 MB 2.3 MB/s eta 0:00:02\n",
      "   ---------------------------- ----------- 10.4/14.8 MB 2.3 MB/s eta 0:00:02\n",
      "   ---------------------------- ----------- 10.5/14.8 MB 2.3 MB/s eta 0:00:02\n",
      "   ---------------------------- ----------- 10.6/14.8 MB 2.3 MB/s eta 0:00:02\n",
      "   ---------------------------- ----------- 10.7/14.8 MB 2.3 MB/s eta 0:00:02\n",
      "   ----------------------------- ---------- 10.8/14.8 MB 2.3 MB/s eta 0:00:02\n",
      "   ----------------------------- ---------- 10.9/14.8 MB 2.3 MB/s eta 0:00:02\n",
      "   ----------------------------- ---------- 11.0/14.8 MB 2.3 MB/s eta 0:00:02\n",
      "   ----------------------------- ---------- 11.1/14.8 MB 2.3 MB/s eta 0:00:02\n",
      "   ------------------------------ --------- 11.2/14.8 MB 2.3 MB/s eta 0:00:02\n",
      "   ------------------------------ --------- 11.4/14.8 MB 2.3 MB/s eta 0:00:02\n",
      "   ------------------------------- -------- 11.5/14.8 MB 2.4 MB/s eta 0:00:02\n",
      "   ------------------------------- -------- 11.6/14.8 MB 2.4 MB/s eta 0:00:02\n",
      "   ------------------------------- -------- 11.7/14.8 MB 2.4 MB/s eta 0:00:02\n",
      "   ------------------------------- -------- 11.8/14.8 MB 2.4 MB/s eta 0:00:02\n",
      "   -------------------------------- ------- 12.0/14.8 MB 2.4 MB/s eta 0:00:02\n",
      "   -------------------------------- ------- 12.1/14.8 MB 2.4 MB/s eta 0:00:02\n",
      "   --------------------------------- ------ 12.2/14.8 MB 2.4 MB/s eta 0:00:02\n",
      "   --------------------------------- ------ 12.3/14.8 MB 2.4 MB/s eta 0:00:02\n",
      "   --------------------------------- ------ 12.4/14.8 MB 2.4 MB/s eta 0:00:02\n",
      "   --------------------------------- ------ 12.5/14.8 MB 2.4 MB/s eta 0:00:01\n",
      "   --------------------------------- ------ 12.6/14.8 MB 2.4 MB/s eta 0:00:01\n",
      "   ---------------------------------- ----- 12.7/14.8 MB 2.4 MB/s eta 0:00:01\n",
      "   ---------------------------------- ----- 12.8/14.8 MB 2.4 MB/s eta 0:00:01\n",
      "   ---------------------------------- ----- 12.9/14.8 MB 2.4 MB/s eta 0:00:01\n",
      "   ----------------------------------- ---- 13.1/14.8 MB 2.4 MB/s eta 0:00:01\n",
      "   ----------------------------------- ---- 13.2/14.8 MB 2.4 MB/s eta 0:00:01\n",
      "   ----------------------------------- ---- 13.3/14.8 MB 2.4 MB/s eta 0:00:01\n",
      "   ------------------------------------ --- 13.4/14.8 MB 2.4 MB/s eta 0:00:01\n",
      "   ------------------------------------ --- 13.5/14.8 MB 2.4 MB/s eta 0:00:01\n",
      "   ------------------------------------ --- 13.7/14.8 MB 2.4 MB/s eta 0:00:01\n",
      "   ------------------------------------- -- 13.8/14.8 MB 2.4 MB/s eta 0:00:01\n",
      "   ------------------------------------- -- 13.9/14.8 MB 2.4 MB/s eta 0:00:01\n",
      "   ------------------------------------- -- 14.0/14.8 MB 2.4 MB/s eta 0:00:01\n",
      "   -------------------------------------- - 14.1/14.8 MB 2.4 MB/s eta 0:00:01\n",
      "   -------------------------------------- - 14.2/14.8 MB 2.4 MB/s eta 0:00:01\n",
      "   -------------------------------------- - 14.3/14.8 MB 2.4 MB/s eta 0:00:01\n",
      "   ---------------------------------------  14.4/14.8 MB 2.4 MB/s eta 0:00:01\n",
      "   ---------------------------------------  14.6/14.8 MB 2.4 MB/s eta 0:00:01\n",
      "   ---------------------------------------  14.7/14.8 MB 2.4 MB/s eta 0:00:01\n",
      "   ---------------------------------------  14.8/14.8 MB 2.4 MB/s eta 0:00:01\n",
      "   ---------------------------------------  14.8/14.8 MB 2.4 MB/s eta 0:00:01\n",
      "   ---------------------------------------- 14.8/14.8 MB 2.4 MB/s eta 0:00:00\n",
      "Downloading narwhals-1.39.0-py3-none-any.whl (339 kB)\n",
      "   ---------------------------------------- 0.0/339.2 kB ? eta -:--:--\n",
      "   ---------------- ----------------------- 143.4/339.2 kB 4.3 MB/s eta 0:00:01\n",
      "   -------------------------------- ------- 276.5/339.2 kB 3.4 MB/s eta 0:00:01\n",
      "   ---------------------------------------  337.9/339.2 kB 3.0 MB/s eta 0:00:01\n",
      "   ---------------------------------------- 339.2/339.2 kB 2.3 MB/s eta 0:00:00\n",
      "Installing collected packages: narwhals, plotly\n",
      "Successfully installed narwhals-1.39.0 plotly-6.0.1\n"
     ]
    }
   ],
   "source": [
    "#%pip install plotly"
   ]
  },
  {
   "cell_type": "code",
   "execution_count": 23,
   "id": "3dd673a8",
   "metadata": {},
   "outputs": [
    {
     "ename": "ValueError",
     "evalue": "Mime type rendering requires nbformat>=4.2.0 but it is not installed",
     "output_type": "error",
     "traceback": [
      "\u001b[1;31m---------------------------------------------------------------------------\u001b[0m",
      "\u001b[1;31mValueError\u001b[0m                                Traceback (most recent call last)",
      "Cell \u001b[1;32mIn[23], line 13\u001b[0m\n\u001b[0;32m      5\u001b[0m fig \u001b[38;5;241m=\u001b[39m px\u001b[38;5;241m.\u001b[39mhistogram(\n\u001b[0;32m      6\u001b[0m     group,\n\u001b[0;32m      7\u001b[0m     x\u001b[38;5;241m=\u001b[39m\u001b[38;5;124m\"\u001b[39m\u001b[38;5;124mtimestamp\u001b[39m\u001b[38;5;124m\"\u001b[39m,\n\u001b[1;32m   (...)\u001b[0m\n\u001b[0;32m     10\u001b[0m     labels\u001b[38;5;241m=\u001b[39m{\u001b[38;5;124m\"\u001b[39m\u001b[38;5;124mx\u001b[39m\u001b[38;5;124m\"\u001b[39m: \u001b[38;5;124m\"\u001b[39m\u001b[38;5;124mmonth\u001b[39m\u001b[38;5;124m\"\u001b[39m, \u001b[38;5;124m\"\u001b[39m\u001b[38;5;124my\u001b[39m\u001b[38;5;124m\"\u001b[39m: \u001b[38;5;124m\"\u001b[39m\u001b[38;5;124mcount\u001b[39m\u001b[38;5;124m\"\u001b[39m},\n\u001b[0;32m     11\u001b[0m )\n\u001b[0;32m     12\u001b[0m fig\u001b[38;5;241m.\u001b[39mupdate_layout(bargap\u001b[38;5;241m=\u001b[39m\u001b[38;5;241m0.2\u001b[39m)\n\u001b[1;32m---> 13\u001b[0m \u001b[43mfig\u001b[49m\u001b[38;5;241;43m.\u001b[39;49m\u001b[43mshow\u001b[49m\u001b[43m(\u001b[49m\u001b[43m)\u001b[49m\n",
      "File \u001b[1;32mc:\\Python311\\Lib\\site-packages\\plotly\\basedatatypes.py:3414\u001b[0m, in \u001b[0;36mBaseFigure.show\u001b[1;34m(self, *args, **kwargs)\u001b[0m\n\u001b[0;32m   3381\u001b[0m \u001b[38;5;250m\u001b[39m\u001b[38;5;124;03m\"\"\"\u001b[39;00m\n\u001b[0;32m   3382\u001b[0m \u001b[38;5;124;03mShow a figure using either the default renderer(s) or the renderer(s)\u001b[39;00m\n\u001b[0;32m   3383\u001b[0m \u001b[38;5;124;03mspecified by the renderer argument\u001b[39;00m\n\u001b[1;32m   (...)\u001b[0m\n\u001b[0;32m   3410\u001b[0m \u001b[38;5;124;03mNone\u001b[39;00m\n\u001b[0;32m   3411\u001b[0m \u001b[38;5;124;03m\"\"\"\u001b[39;00m\n\u001b[0;32m   3412\u001b[0m \u001b[38;5;28;01mimport\u001b[39;00m \u001b[38;5;21;01mplotly\u001b[39;00m\u001b[38;5;21;01m.\u001b[39;00m\u001b[38;5;21;01mio\u001b[39;00m \u001b[38;5;28;01mas\u001b[39;00m \u001b[38;5;21;01mpio\u001b[39;00m\n\u001b[1;32m-> 3414\u001b[0m \u001b[38;5;28;01mreturn\u001b[39;00m \u001b[43mpio\u001b[49m\u001b[38;5;241;43m.\u001b[39;49m\u001b[43mshow\u001b[49m\u001b[43m(\u001b[49m\u001b[38;5;28;43mself\u001b[39;49m\u001b[43m,\u001b[49m\u001b[43m \u001b[49m\u001b[38;5;241;43m*\u001b[39;49m\u001b[43margs\u001b[49m\u001b[43m,\u001b[49m\u001b[43m \u001b[49m\u001b[38;5;241;43m*\u001b[39;49m\u001b[38;5;241;43m*\u001b[39;49m\u001b[43mkwargs\u001b[49m\u001b[43m)\u001b[49m\n",
      "File \u001b[1;32mc:\\Python311\\Lib\\site-packages\\plotly\\io\\_renderers.py:425\u001b[0m, in \u001b[0;36mshow\u001b[1;34m(fig, renderer, validate, **kwargs)\u001b[0m\n\u001b[0;32m    420\u001b[0m     \u001b[38;5;28;01mraise\u001b[39;00m \u001b[38;5;167;01mValueError\u001b[39;00m(\n\u001b[0;32m    421\u001b[0m         \u001b[38;5;124m\"\u001b[39m\u001b[38;5;124mMime type rendering requires ipython but it is not installed\u001b[39m\u001b[38;5;124m\"\u001b[39m\n\u001b[0;32m    422\u001b[0m     )\n\u001b[0;32m    424\u001b[0m \u001b[38;5;28;01mif\u001b[39;00m \u001b[38;5;129;01mnot\u001b[39;00m nbformat \u001b[38;5;129;01mor\u001b[39;00m Version(nbformat\u001b[38;5;241m.\u001b[39m__version__) \u001b[38;5;241m<\u001b[39m Version(\u001b[38;5;124m\"\u001b[39m\u001b[38;5;124m4.2.0\u001b[39m\u001b[38;5;124m\"\u001b[39m):\n\u001b[1;32m--> 425\u001b[0m     \u001b[38;5;28;01mraise\u001b[39;00m \u001b[38;5;167;01mValueError\u001b[39;00m(\n\u001b[0;32m    426\u001b[0m         \u001b[38;5;124m\"\u001b[39m\u001b[38;5;124mMime type rendering requires nbformat>=4.2.0 but it is not installed\u001b[39m\u001b[38;5;124m\"\u001b[39m\n\u001b[0;32m    427\u001b[0m     )\n\u001b[0;32m    429\u001b[0m display_jupyter_version_warnings()\n\u001b[0;32m    431\u001b[0m ipython_display\u001b[38;5;241m.\u001b[39mdisplay(bundle, raw\u001b[38;5;241m=\u001b[39m\u001b[38;5;28;01mTrue\u001b[39;00m)\n",
      "\u001b[1;31mValueError\u001b[0m: Mime type rendering requires nbformat>=4.2.0 but it is not installed"
     ]
    }
   ],
   "source": [
    "#%pip install nbformat\n",
    "\n",
    "import plotly.express as px\n",
    "\n",
    "fig = px.histogram(\n",
    "    group,\n",
    "    x=\"timestamp\",\n",
    "    y=\"modification\",\n",
    "    nbins=20,\n",
    "    labels={\"x\": \"month\", \"y\": \"count\"},\n",
    ")\n",
    "fig.update_layout(bargap=0.2)\n",
    "fig.show()"
   ]
  },
  {
   "cell_type": "code",
   "execution_count": null,
   "id": "18cd109a",
   "metadata": {},
   "outputs": [],
   "source": [
    "import plotly.express as px\n",
    "\n",
    "fig = px.scatter(\n",
    "    group, x=\"timestamp\", y=\"modification\", labels={\"x\": \"month\", \"y\": \"count\"}\n",
    ")\n",
    "fig.update_layout(bargap=0.2)\n",
    "fig.show()"
   ]
  },
  {
   "cell_type": "code",
   "execution_count": null,
   "id": "ea2b12df",
   "metadata": {},
   "outputs": [],
   "source": [
    "import plotly.express as px\n",
    "\n",
    "fig = px.histogram(group, x=\"modification\", histnorm=\"probability density\", nbins=20)\n",
    "fig.update_layout(bargap=0.2)\n",
    "fig.show()"
   ]
  },
  {
   "cell_type": "code",
   "execution_count": null,
   "id": "b7b23cea",
   "metadata": {},
   "outputs": [],
   "source": [
    "import sys\n",
    "from SPARQLWrapper import SPARQLWrapper, JSON\n",
    "\n",
    "endpoint_url = \"https://query.wikidata.org/sparql\"\n",
    "\n",
    "query = \"\"\"SELECT ?heritagesite ?label ?coordinates {\n",
    "  ?heritagesite wdt:P1435 wd:Q9259;\n",
    "        wdt:P17 wd:Q142;\n",
    "        rdfs:label ?label;\n",
    "        wdt:P625 ?coordinates.\n",
    "        FILTER (lang(?label)=\"en\")\n",
    "}\n",
    "LIMIT 100\n",
    "\"\"\"\n",
    "\n",
    "\n",
    "def get_results(endpoint_url, query):\n",
    "    user_agent = \"WDQS-example Python/%s.%s\" % (\n",
    "        sys.version_info[0],\n",
    "        sys.version_info[1],\n",
    "    )\n",
    "    sparql = SPARQLWrapper(endpoint_url, agent=user_agent)\n",
    "    sparql.setQuery(query)\n",
    "    sparql.setReturnFormat(JSON)\n",
    "    return sparql.query().convert()\n",
    "\n",
    "\n",
    "results = get_results(endpoint_url, query)\n",
    "\n",
    "array = []\n",
    "for result in results[\"results\"][\"bindings\"]:\n",
    "    array.append(\n",
    "        [\n",
    "            result[\"heritagesite\"][\"value\"],\n",
    "            result[\"label\"][\"value\"],\n",
    "            result[\"coordinates\"][\"value\"],\n",
    "        ]\n",
    "    )"
   ]
  },
  {
   "cell_type": "code",
   "execution_count": null,
   "id": "8748b229-f144-47dd-8b90-8cc2057878b7",
   "metadata": {},
   "outputs": [],
   "source": [
    "from shapely import wkt\n",
    "import geopandas as gp\n",
    "\n",
    "dataframe = pd.DataFrame(array, columns=[\"ID\", \"label\", \"coordinates\"])\n",
    "dataframe[\"coordinates\"] = dataframe[\"coordinates\"].apply(wkt.loads)\n",
    "\n",
    "geodataframe = gp.GeoDataFrame(dataframe, geometry=\"coordinates\")"
   ]
  },
  {
   "cell_type": "code",
   "execution_count": null,
   "id": "10bcb32c-72d7-4bcb-a605-4f3067db0155",
   "metadata": {},
   "outputs": [],
   "source": [
    "array[:1]"
   ]
  },
  {
   "cell_type": "code",
   "execution_count": null,
   "id": "754c0311-aa99-47d3-a8c7-e063d4f7f268",
   "metadata": {},
   "outputs": [],
   "source": [
    "geodataframe.dtypes"
   ]
  },
  {
   "cell_type": "code",
   "execution_count": null,
   "id": "aa4d480f-5a43-4a35-a4d9-e9ac73ab0199",
   "metadata": {},
   "outputs": [],
   "source": [
    "import folium\n",
    "\n",
    "map = folium.Map(location=[45.1093, 2.6753], zoom_start=6)\n",
    "geo_df_list = [[point.xy[1][0], point.xy[0][0]] for point in geodataframe.geometry]"
   ]
  },
  {
   "cell_type": "code",
   "execution_count": null,
   "id": "968919b2-f854-4c30-9ac5-e50fe8c5a116",
   "metadata": {},
   "outputs": [],
   "source": [
    "i = 0\n",
    "for coordinates in geo_df_list:\n",
    "    map.add_child(\n",
    "        folium.Marker(\n",
    "            location=coordinates,\n",
    "            icon=folium.Icon(color=\"green\"),\n",
    "            popup=\"Wikidata: <a target='_blank' href='\"\n",
    "            + str(geodataframe.ID[i])\n",
    "            + \"'>\"\n",
    "            + str(geodataframe.label[i]),\n",
    "        )\n",
    "    )\n",
    "    i = i + 1\n",
    "\n",
    "map"
   ]
  },
  {
   "cell_type": "code",
   "execution_count": null,
   "id": "44de8dde-35bd-41da-8b9a-208b4e99d303",
   "metadata": {},
   "outputs": [],
   "source": []
  }
 ],
 "metadata": {
  "kernelspec": {
   "display_name": "Python 3",
   "language": "python",
   "name": "python3"
  },
  "language_info": {
   "codemirror_mode": {
    "name": "ipython",
    "version": 3
   },
   "file_extension": ".py",
   "mimetype": "text/x-python",
   "name": "python",
   "nbconvert_exporter": "python",
   "pygments_lexer": "ipython3",
   "version": "3.11.9"
  },
  "toc-autonumbering": true,
  "toc-showmarkdowntxt": true
 },
 "nbformat": 4,
 "nbformat_minor": 5
}
