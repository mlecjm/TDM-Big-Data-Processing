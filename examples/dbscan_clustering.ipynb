{
 "cells": [
  {
   "cell_type": "code",
   "execution_count": 1,
   "id": "2bab3e6e-bc21-41b5-852d-c41744025267",
   "metadata": {},
   "outputs": [
    {
     "name": "stdout",
     "output_type": "stream",
     "text": [
      "Recommended items:\n",
      "     Color      Category       Size       Type  Cluster\n",
      "12     red  architecture  thumbnail  landscape        3\n",
      "7   yellow  architecture  thumbnail  landscape        3\n"
     ]
    }
   ],
   "source": [
    "from sklearn.cluster import DBSCAN\n",
    "from sklearn.preprocessing import LabelEncoder\n",
    "import pandas as pd\n",
    "\n",
    "# Sample data\n",
    "data = [\n",
    "    [\"green\", \"nature\", \"thumbnail\", \"landscape\"],\n",
    "    [\"blue\", \"architecture\", \"medium\", \"portrait\"],\n",
    "    [\"blue\", \"people\", \"medium\", \"landscape\"],\n",
    "    [\"yellow\", \"nature\", \"medium\", \"portrait\"],\n",
    "    [\"green\", \"nature\", \"thumbnail\", \"landscape\"],\n",
    "    [\"blue\", \"people\", \"medium\", \"landscape\"],\n",
    "    [\"blue\", \"nature\", \"thumbnail\", \"portrait\"],\n",
    "    [\"yellow\", \"architecture\", \"thumbnail\", \"landscape\"],\n",
    "    [\"blue\", \"people\", \"medium\", \"portrait\"],\n",
    "    [\"yellow\", \"nature\", \"medium\", \"landscape\"],\n",
    "    [\"yellow\", \"people\", \"thumbnail\", \"portrait\"],\n",
    "    [\"blue\", \"people\", \"medium\", \"landscape\"],\n",
    "    [\"red\", \"architecture\", \"thumbnail\", \"landscape\"],\n",
    "]\n",
    "\n",
    "# Encode categorical features\n",
    "label_encoders = [LabelEncoder() for _ in range(len(data[0]))]\n",
    "encoded_data = []\n",
    "for i, column in enumerate(zip(*data)):\n",
    "    encoded_data.append(label_encoders[i].fit_transform(column))\n",
    "\n",
    "X = list(zip(*encoded_data))  # Features\n",
    "\n",
    "# Clustering\n",
    "eps = 1  # Epsilon for DBSCAN\n",
    "min_samples = 2  # Minimum samples for DBSCAN\n",
    "clusters = DBSCAN(eps=eps, min_samples=min_samples)\n",
    "labels = clusters.fit_predict(X)\n",
    "\n",
    "# Add cluster labels to the original data\n",
    "data_with_clusters = pd.DataFrame(data, columns=[\"Color\", \"Category\", \"Size\", \"Type\"])\n",
    "data_with_clusters[\"Cluster\"] = labels\n",
    "\n",
    "# Recommendation function\n",
    "def recommend_items(cluster_label, data_with_clusters):\n",
    "    items_in_cluster = data_with_clusters[data_with_clusters[\"Cluster\"] == cluster_label]\n",
    "    recommended_items = items_in_cluster.sample(n=min(3, len(items_in_cluster)))  # Sample up to 3 items from the cluster\n",
    "    return recommended_items\n",
    "\n",
    "# Example usage\n",
    "user_interaction = [\"yellow\", \"architecture\", \"thumbnail\", \"landscape\"]  # Assuming user interacted with this item\n",
    "interaction_index = data.index(user_interaction)\n",
    "cluster = clusters.labels_[interaction_index]\n",
    "recommendations = recommend_items(cluster, data_with_clusters)\n",
    "print(\"Recommended items:\")\n",
    "print(recommendations)\n"
   ]
  },
  {
   "cell_type": "code",
   "execution_count": null,
   "id": "03572b67",
   "metadata": {},
   "outputs": [],
   "source": []
  }
 ],
 "metadata": {
  "kernelspec": {
   "display_name": "Python 3",
   "language": "python",
   "name": "python3"
  },
  "language_info": {
   "codemirror_mode": {
    "name": "ipython",
    "version": 3
   },
   "file_extension": ".py",
   "mimetype": "text/x-python",
   "name": "python",
   "nbconvert_exporter": "python",
   "pygments_lexer": "ipython3",
   "version": "3.11.9"
  }
 },
 "nbformat": 4,
 "nbformat_minor": 5
}
